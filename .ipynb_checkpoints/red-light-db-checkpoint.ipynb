{
 "cells": [
  {
   "cell_type": "markdown",
   "metadata": {},
   "source": [
    "# Imports\n"
   ]
  },
  {
   "cell_type": "code",
   "execution_count": 226,
   "metadata": {},
   "outputs": [],
   "source": [
    "import pandas as pd\n",
    "from sodapy import Socrata\n",
    "\n",
    "\n",
    "from datetime import datetime\n",
    "from modules.myfuncs import *\n",
    "\n",
    "# imported inside modules.myfuncs\n",
    "#import sqlite3\n",
    "#from sqlite3 import Error "
   ]
  },
  {
   "cell_type": "markdown",
   "metadata": {},
   "source": [
    "# Create my database\n",
    " "
   ]
  },
  {
   "cell_type": "code",
   "execution_count": 31,
   "metadata": {},
   "outputs": [
    {
     "name": "stdout",
     "output_type": "stream",
     "text": [
      "sqlite3 version: 2.6.0\n",
      "connected to database/rlc.db\n"
     ]
    }
   ],
   "source": [
    "conn = create_connection('database/rlc.db')  # function from myfuncs file\n",
    "c = conn.cursor()\n",
    "#conn.close()"
   ]
  },
  {
   "cell_type": "markdown",
   "metadata": {},
   "source": [
    "## create sodapy client"
   ]
  },
  {
   "cell_type": "code",
   "execution_count": 32,
   "metadata": {},
   "outputs": [
    {
     "name": "stderr",
     "output_type": "stream",
     "text": [
      "WARNING:root:Requests made without an app_token will be subject to strict throttling limits.\n"
     ]
    }
   ],
   "source": [
    "## referenced example from https://github.com/xmunoz/sodapy/issues/52\n",
    "\n",
    "client = Socrata(\"data.cityofchicago.org\", None)  # starts up my client object\n",
    "data = client.get(\"spqx-js37\", #speed cams are at 'hhkd-xvj4' \n",
    "                     where='violation_date BETWEEN \\'2015-01-01T00:00:00.000\\' AND \\'2020-12-20T00:00:00.000\\'',\n",
    "                     limit=1000,\n",
    "                    )\n",
    "\n"
   ]
  },
  {
   "cell_type": "markdown",
   "metadata": {},
   "source": [
    "# Make db\n",
    "## Make table (all violations, index primary key)\n",
    "Clunky, but I found easiest to go to df, then to db"
   ]
  },
  {
   "cell_type": "code",
   "execution_count": 33,
   "metadata": {},
   "outputs": [
    {
     "data": {
      "text/html": [
       "<div>\n",
       "<style scoped>\n",
       "    .dataframe tbody tr th:only-of-type {\n",
       "        vertical-align: middle;\n",
       "    }\n",
       "\n",
       "    .dataframe tbody tr th {\n",
       "        vertical-align: top;\n",
       "    }\n",
       "\n",
       "    .dataframe thead th {\n",
       "        text-align: right;\n",
       "    }\n",
       "</style>\n",
       "<table border=\"1\" class=\"dataframe\">\n",
       "  <thead>\n",
       "    <tr style=\"text-align: right;\">\n",
       "      <th></th>\n",
       "      <th>intersection</th>\n",
       "      <th>camera_id</th>\n",
       "      <th>address</th>\n",
       "      <th>violation_date</th>\n",
       "      <th>violations</th>\n",
       "      <th>x_coordinate</th>\n",
       "      <th>y_coordinate</th>\n",
       "      <th>latitude</th>\n",
       "      <th>longitude</th>\n",
       "      <th>location</th>\n",
       "    </tr>\n",
       "  </thead>\n",
       "  <tbody>\n",
       "    <tr>\n",
       "      <td>0</td>\n",
       "      <td>31ST ST AND MARTIN LUTHER KING DRIVE</td>\n",
       "      <td>2121</td>\n",
       "      <td>3100 S DR MARTIN L KING</td>\n",
       "      <td>2015-01-01T00:00:00.000</td>\n",
       "      <td>19</td>\n",
       "      <td>NaN</td>\n",
       "      <td>NaN</td>\n",
       "      <td>NaN</td>\n",
       "      <td>NaN</td>\n",
       "      <td>NaN</td>\n",
       "    </tr>\n",
       "    <tr>\n",
       "      <td>1</td>\n",
       "      <td>ASHLAND AND DIVERSEY</td>\n",
       "      <td>1623</td>\n",
       "      <td>1600 W DIVERSEY PARKWA</td>\n",
       "      <td>2015-01-01T00:00:00.000</td>\n",
       "      <td>2</td>\n",
       "      <td>NaN</td>\n",
       "      <td>NaN</td>\n",
       "      <td>NaN</td>\n",
       "      <td>NaN</td>\n",
       "      <td>NaN</td>\n",
       "    </tr>\n",
       "    <tr>\n",
       "      <td>2</td>\n",
       "      <td>IRVING PARK AND LARAMIE</td>\n",
       "      <td>1533</td>\n",
       "      <td>5200 W IRVING PARK ROA</td>\n",
       "      <td>2015-01-01T00:00:00.000</td>\n",
       "      <td>2</td>\n",
       "      <td>NaN</td>\n",
       "      <td>NaN</td>\n",
       "      <td>NaN</td>\n",
       "      <td>NaN</td>\n",
       "      <td>NaN</td>\n",
       "    </tr>\n",
       "    <tr>\n",
       "      <td>3</td>\n",
       "      <td>ELSTON AND IRVING PARK</td>\n",
       "      <td>1503</td>\n",
       "      <td>3700 W IRVING PARK ROA</td>\n",
       "      <td>2015-01-01T00:00:00.000</td>\n",
       "      <td>2</td>\n",
       "      <td>NaN</td>\n",
       "      <td>NaN</td>\n",
       "      <td>NaN</td>\n",
       "      <td>NaN</td>\n",
       "      <td>NaN</td>\n",
       "    </tr>\n",
       "    <tr>\n",
       "      <td>4</td>\n",
       "      <td>IRVING PARK AND KILPATRICK</td>\n",
       "      <td>2764</td>\n",
       "      <td>4700 W IRVING PARK ROA</td>\n",
       "      <td>2015-01-01T00:00:00.000</td>\n",
       "      <td>3</td>\n",
       "      <td>NaN</td>\n",
       "      <td>NaN</td>\n",
       "      <td>NaN</td>\n",
       "      <td>NaN</td>\n",
       "      <td>NaN</td>\n",
       "    </tr>\n",
       "  </tbody>\n",
       "</table>\n",
       "</div>"
      ],
      "text/plain": [
       "                           intersection camera_id                  address  \\\n",
       "0  31ST ST AND MARTIN LUTHER KING DRIVE      2121  3100 S DR MARTIN L KING   \n",
       "1                  ASHLAND AND DIVERSEY      1623   1600 W DIVERSEY PARKWA   \n",
       "2               IRVING PARK AND LARAMIE      1533   5200 W IRVING PARK ROA   \n",
       "3                ELSTON AND IRVING PARK      1503   3700 W IRVING PARK ROA   \n",
       "4            IRVING PARK AND KILPATRICK      2764   4700 W IRVING PARK ROA   \n",
       "\n",
       "            violation_date violations x_coordinate y_coordinate latitude  \\\n",
       "0  2015-01-01T00:00:00.000         19          NaN          NaN      NaN   \n",
       "1  2015-01-01T00:00:00.000          2          NaN          NaN      NaN   \n",
       "2  2015-01-01T00:00:00.000          2          NaN          NaN      NaN   \n",
       "3  2015-01-01T00:00:00.000          2          NaN          NaN      NaN   \n",
       "4  2015-01-01T00:00:00.000          3          NaN          NaN      NaN   \n",
       "\n",
       "  longitude location  \n",
       "0       NaN      NaN  \n",
       "1       NaN      NaN  \n",
       "2       NaN      NaN  \n",
       "3       NaN      NaN  \n",
       "4       NaN      NaN  "
      ]
     },
     "execution_count": 33,
     "metadata": {},
     "output_type": "execute_result"
    }
   ],
   "source": [
    "# Convert to pandas DataFrame\n",
    "results_df = pd.DataFrame.from_records(data)\n",
    "results_df.head()"
   ]
  },
  {
   "cell_type": "code",
   "execution_count": 34,
   "metadata": {},
   "outputs": [
    {
     "name": "stdout",
     "output_type": "stream",
     "text": [
      "<class 'pandas.core.frame.DataFrame'>\n",
      "Int64Index: 999 entries, 0 to 999\n",
      "Data columns (total 12 columns):\n",
      "intersection      999 non-null object\n",
      "camera_id         999 non-null object\n",
      "address           999 non-null object\n",
      "violation_date    999 non-null object\n",
      "violations        999 non-null object\n",
      "x_coordinate      941 non-null float64\n",
      "y_coordinate      941 non-null float64\n",
      "latitude          941 non-null float64\n",
      "longitude         941 non-null float64\n",
      "month             999 non-null object\n",
      "weekday           999 non-null object\n",
      "year              999 non-null object\n",
      "dtypes: float64(4), object(8)\n",
      "memory usage: 101.5+ KB\n"
     ]
    }
   ],
   "source": [
    "# pare down the df to make suitable as db.  Remember only  allowable types TEXT.NUMERIC.INTEGER.REAL.BLOB.\n",
    "valid_cols = results_df.columns[:9]\n",
    "results_df = results_df[valid_cols]\n",
    "results_df = results_df[results_df['camera_id'].notna()]\n",
    "\n",
    "\n",
    "# coerce my data types\n",
    "results_df['camera_id'] = results_df['camera_id'].apply(str)\n",
    "results_df['violations'] = results_df['violations'].apply(str)\n",
    "\n",
    "results_df['x_coordinate'] = results_df['x_coordinate'].apply(float)\n",
    "results_df['y_coordinate'] = results_df['y_coordinate'].apply(float)\n",
    "results_df['latitude'] = results_df['latitude'].apply(float)\n",
    "results_df['longitude'] = results_df['longitude'].apply(float)\n",
    "#results_df['location'] = results_df['location'].apply(str)\n",
    "violation_dates =  pd.to_datetime(results_df['violation_date'])\n",
    "\n",
    "results_df['month'] = violation_dates.apply(lambda x: str(x.month))\n",
    "results_df['weekday'] = violation_dates.apply(lambda x: str(datetime.weekday(x)))\n",
    "results_df['year'] = violation_dates.apply(lambda x: str(x.year))\n",
    "\n",
    "\n",
    "\n",
    "results_df.head()\n",
    "results_df.info()\n",
    "\n"
   ]
  },
  {
   "cell_type": "markdown",
   "metadata": {},
   "source": []
  },
  {
   "cell_type": "code",
   "execution_count": null,
   "metadata": {},
   "outputs": [],
   "source": [
    "\n",
    "\n",
    "\n"
   ]
  },
  {
   "cell_type": "markdown",
   "metadata": {},
   "source": [
    "## write data from query to sqlite db"
   ]
  },
  {
   "cell_type": "code",
   "execution_count": 222,
   "metadata": {},
   "outputs": [
    {
     "name": "stdout",
     "output_type": "stream",
     "text": [
      "CREATE TABLE red_light_violations (intersection text, camera_id int, address text, violation_date numeric, violations int, x_coordinate real, y_coordinate real, latitude real, longitude real, month int, weekday int, year int);\n",
      "fail table red_light_violations already exists\n",
      "(camera_id, violation_date);\n",
      "THIS\n",
      "CREATE UNIQUE INDEX idx ON red_light_violations(camera_id, violation_date);\n"
     ]
    },
    {
     "ename": "IntegrityError",
     "evalue": "UNIQUE constraint failed: red_light_violations.camera_id, red_light_violations.violation_date",
     "output_type": "error",
     "traceback": [
      "\u001b[0;31m---------------------------------------------------------------------------\u001b[0m",
      "\u001b[0;31mIntegrityError\u001b[0m                            Traceback (most recent call last)",
      "\u001b[0;32m<ipython-input-222-5952043457b3>\u001b[0m in \u001b[0;36m<module>\u001b[0;34m\u001b[0m\n\u001b[1;32m     85\u001b[0m \u001b[0;31m##### only do this once ####\u001b[0m\u001b[0;34m\u001b[0m\u001b[0;34m\u001b[0m\u001b[0;34m\u001b[0m\u001b[0m\n\u001b[1;32m     86\u001b[0m \u001b[0mcreate_table\u001b[0m\u001b[0;34m(\u001b[0m\u001b[0mc\u001b[0m\u001b[0;34m,\u001b[0m \u001b[0;34m'red_light_violations'\u001b[0m\u001b[0;34m,\u001b[0m \u001b[0mresults_df\u001b[0m\u001b[0;34m.\u001b[0m\u001b[0mcolumns\u001b[0m\u001b[0;34m,\u001b[0m \u001b[0md_types\u001b[0m\u001b[0;34m)\u001b[0m\u001b[0;34m\u001b[0m\u001b[0;34m\u001b[0m\u001b[0m\n\u001b[0;32m---> 87\u001b[0;31m \u001b[0mset_unique\u001b[0m\u001b[0;34m(\u001b[0m\u001b[0;34m'red_light_violations'\u001b[0m\u001b[0;34m,\u001b[0m \u001b[0;34m(\u001b[0m\u001b[0;34m'camera_id'\u001b[0m\u001b[0;34m,\u001b[0m \u001b[0;34m'violation_date'\u001b[0m\u001b[0;34m)\u001b[0m\u001b[0;34m)\u001b[0m\u001b[0;34m\u001b[0m\u001b[0;34m\u001b[0m\u001b[0m\n\u001b[0m\u001b[1;32m     88\u001b[0m \u001b[0;34m\u001b[0m\u001b[0m\n\u001b[1;32m     89\u001b[0m \u001b[0mconn\u001b[0m\u001b[0;34m.\u001b[0m\u001b[0mcommit\u001b[0m\u001b[0;34m(\u001b[0m\u001b[0;34m)\u001b[0m\u001b[0;34m\u001b[0m\u001b[0;34m\u001b[0m\u001b[0m\n",
      "\u001b[0;32m<ipython-input-222-5952043457b3>\u001b[0m in \u001b[0;36mset_unique\u001b[0;34m(mytable, cols)\u001b[0m\n\u001b[1;32m     44\u001b[0m     \u001b[0mprint\u001b[0m\u001b[0;34m(\u001b[0m\u001b[0msql\u001b[0m\u001b[0;34m)\u001b[0m\u001b[0;34m\u001b[0m\u001b[0;34m\u001b[0m\u001b[0m\n\u001b[1;32m     45\u001b[0m \u001b[0;34m\u001b[0m\u001b[0m\n\u001b[0;32m---> 46\u001b[0;31m     \u001b[0mc\u001b[0m\u001b[0;34m.\u001b[0m\u001b[0mexecute\u001b[0m\u001b[0;34m(\u001b[0m\u001b[0msql\u001b[0m\u001b[0;34m)\u001b[0m\u001b[0;34m\u001b[0m\u001b[0;34m\u001b[0m\u001b[0m\n\u001b[0m\u001b[1;32m     47\u001b[0m     \u001b[0;31m#c.execute('''CREATE UNIQUE INDEX idx ON {}(camera_id, violation_date);'''.format(mytable))\u001b[0m\u001b[0;34m\u001b[0m\u001b[0;34m\u001b[0m\u001b[0;34m\u001b[0m\u001b[0m\n\u001b[1;32m     48\u001b[0m \u001b[0;34m\u001b[0m\u001b[0m\n",
      "\u001b[0;31mIntegrityError\u001b[0m: UNIQUE constraint failed: red_light_violations.camera_id, red_light_violations.violation_date"
     ]
    }
   ],
   "source": [
    "\n",
    "def create_table(c, mytable, cols, d_type, key=None):\n",
    "    '''\n",
    "    Creates a new table \n",
    "    Sets a constraint on db (UNIQUE) so that if you have camera_id and violation_date the same...\n",
    "    '''\n",
    "    # make my columns into sql string compatible\n",
    "    cols=list(cols)\n",
    "    #if key in cols: cols.remove(key)\n",
    "        \n",
    "        \n",
    "    cols_str = \"(\"\n",
    "    for i in range(len(cols)):\n",
    "        cols_str += cols[i] + ' ' + d_type[i] + ', '\n",
    "    else:\n",
    "        cols_str = cols_str[:-2] + ')'\n",
    "    \n",
    "\n",
    "    if key:\n",
    "        #CONSTRAINT constraint_name PRIMARY KEY (pk_col1, pk_col2, ... pk_col_n)\n",
    "        my_sql = '''CREATE TABLE {} {};'''.format(mytable, cols_str)  # insert datatypes for cols\n",
    "        my_sql.replace(key, key + 'PRIMARY KEY')\n",
    "    else:\n",
    "        my_sql = \"CREATE TABLE {} {};\".format(mytable, cols_str)  # insert datatypes for cols\n",
    "\n",
    "    print(my_sql) # just to see what I'm doing\n",
    "\n",
    "    \n",
    "    try:     \n",
    "        c.execute(my_sql) \n",
    "    except Exception as e:\n",
    "        print('fail', e)\n",
    "        \n",
    "        \n",
    "def set_unique(mytable, cols):\n",
    "    sql = '''CREATE UNIQUE INDEX idx ON {}'''.format(mytable)\n",
    "    add_this = ''\n",
    "    for x in cols:\n",
    "        add_this += x + \", \" \n",
    "        \n",
    "    add_this = '(' + add_this[:-2] + ');'\n",
    "    print(add_this)\n",
    "    sql += add_this\n",
    "    print(\"THIS\")\n",
    "    print(sql)\n",
    "    \n",
    "    c.execute(sql)\n",
    "    #c.execute('''CREATE UNIQUE INDEX idx ON {}(camera_id, violation_date);'''.format(mytable))\n",
    "\n",
    "def insert_violation(c, col_names, new_data):\n",
    "    \"\"\"\n",
    "    Create a new task\n",
    "    :param conn:\n",
    "    :param new_data:\n",
    "    :return:\n",
    "    \"\"\"\n",
    "    vals = ('('+'?,'*len(new_data))[:-1]+')'  # (?,?,?...)\n",
    "    #print(vals)\n",
    "    cols = str(tuple([x for x in col_names])).replace(' ', '').replace(\"'\", \"\").replace(',', ', ')\n",
    "    \n",
    "    sql = '''INSERT OR IGNORE INTO red_light_violations{}VALUES{};'''.format(cols, vals)\n",
    "    # example from sql site \n",
    "    # sql = ''' INSERT INTO tasks(name,priority,status_id,project_id,begin_date,end_date)VALUES(?,?,?,?,?,?) '''\n",
    "    \n",
    "    #print(tuple(new_data))\n",
    "    c.execute(sql, new_data)\n",
    "    \n",
    "\n",
    "    return c.lastrowid\n",
    "\n",
    "\n",
    "d_types = ['text', # intersection\n",
    "         'int', # camera_id\n",
    "         'text', # address\n",
    "         'numeric', # violation_date\n",
    "         'int', # violations\n",
    "         'real', # x_coord\n",
    "         'real', # y_coord\n",
    "         'real', # latitude\n",
    "         'real', # longitude\n",
    "         'int', # month\n",
    "         'int', # week\n",
    "         'int', # year\n",
    "          ]\n",
    "\n",
    "##### only do this once ####\n",
    "create_table(c, 'red_light_violations', results_df.columns, d_types)\n",
    "set_unique('red_light_violations', ('camera_id', 'violation_date'))\n",
    "\n",
    "conn.commit()\n",
    "\n",
    "for i in range(len(results_df)):\n",
    "    insert_violation(c, results_df.columns, list(results_df.iloc[i, :]))\n",
    "\n",
    "conn.commit()\n",
    "\n",
    "#c.execute('CREATE TABLE CARS (Brand text, Price number)')   # this is example from sqlite website\n",
    "#c.execute(create_text)\n",
    "#conn.commit()"
   ]
  },
  {
   "cell_type": "code",
   "execution_count": 183,
   "metadata": {},
   "outputs": [
    {
     "data": {
      "text/plain": [
       "intersection         ASHLAND AND DIVERSEY\n",
       "camera_id                            1623\n",
       "address            1600 W DIVERSEY PARKWA\n",
       "violation_date    2015-01-01T00:00:00.000\n",
       "violations                              2\n",
       "x_coordinate                          NaN\n",
       "y_coordinate                          NaN\n",
       "latitude                              NaN\n",
       "longitude                             NaN\n",
       "month                                   1\n",
       "weekday                                 3\n",
       "year                                 2015\n",
       "Name: 1, dtype: object"
      ]
     },
     "execution_count": 183,
     "metadata": {},
     "output_type": "execute_result"
    }
   ],
   "source": [
    "len(results_df.columns)\n",
    "results_df.iloc[1, :]"
   ]
  },
  {
   "cell_type": "code",
   "execution_count": 184,
   "metadata": {},
   "outputs": [
    {
     "name": "stdout",
     "output_type": "stream",
     "text": [
      "[('red_light_violations',)]\n"
     ]
    }
   ],
   "source": [
    "def sql_fetch_tables(c):\n",
    "    c.execute('SELECT name from sqlite_master where type= \"table\"')\n",
    "    print(c.fetchall())\n",
    "\n",
    "sql_fetch_tables(c)  # helper function in myfuncs"
   ]
  },
  {
   "cell_type": "markdown",
   "metadata": {},
   "source": [
    "## Now let's see if our write to db worked as expected"
   ]
  },
  {
   "cell_type": "code",
   "execution_count": 185,
   "metadata": {},
   "outputs": [
    {
     "data": {
      "text/plain": [
       "[('31ST ST AND MARTIN LUTHER KING DRIVE', 2121),\n",
       " ('ASHLAND AND DIVERSEY', 1623),\n",
       " ('IRVING PARK AND LARAMIE', 1533),\n",
       " ('ELSTON AND IRVING PARK', 1503),\n",
       " ('IRVING PARK AND KILPATRICK', 2764),\n",
       " ('IRVING PARK AND CALIFORNIA', 1234),\n",
       " ('HALSTED AND 103RD', 2592),\n",
       " ('JEFFERY AND 79TH', 2662),\n",
       " ('IRVING PARK AND KILPATRICK', 2763),\n",
       " ('VAN BUREN AND WESTERN', 2054)]"
      ]
     },
     "execution_count": 185,
     "metadata": {},
     "output_type": "execute_result"
    }
   ],
   "source": [
    "# definitely have some INTEGER issue.  Had to change to text.  That's no good.\n",
    "c.execute(\"SELECT intersection, camera_id FROM red_light_violations;\").fetchall()[:10]\n",
    "\n"
   ]
  },
  {
   "cell_type": "code",
   "execution_count": 186,
   "metadata": {},
   "outputs": [],
   "source": [
    "#conn.close()"
   ]
  },
  {
   "cell_type": "markdown",
   "metadata": {},
   "source": [
    "# Make table for all cameras (camera_id as primary key)\n",
    "First let's isolate the info we need for this db.  \n",
    "Each entry will be a different camera"
   ]
  },
  {
   "cell_type": "code",
   "execution_count": 187,
   "metadata": {},
   "outputs": [],
   "source": [
    "# I already did this work to pull out the relavant data\n"
   ]
  },
  {
   "cell_type": "code",
   "execution_count": 188,
   "metadata": {},
   "outputs": [],
   "source": [
    "cam_df = results_df.copy()\n",
    "cam_df = cam_df.drop(['violation_date', 'violations', 'month', 'weekday', 'year'], axis=1)\n",
    "\n",
    "cam_df = cam_df.groupby(['camera_id']).max().reset_index()\n"
   ]
  },
  {
   "cell_type": "code",
   "execution_count": 189,
   "metadata": {},
   "outputs": [
    {
     "data": {
      "text/plain": [
       "341"
      ]
     },
     "execution_count": 189,
     "metadata": {},
     "output_type": "execute_result"
    }
   ],
   "source": [
    "len(cam_df.camera_id.unique())"
   ]
  },
  {
   "cell_type": "code",
   "execution_count": 204,
   "metadata": {},
   "outputs": [
    {
     "name": "stdout",
     "output_type": "stream",
     "text": [
      "CREATE TABLE red_light_cameras (camera_id int, intersection text, address text, x_coordinate real, y_coordinate real, latitude real, longitude real);\n",
      "fail table red_light_cameras already exists\n"
     ]
    }
   ],
   "source": [
    "def insert_cam(c, col_names, new_data):\n",
    "    \"\"\"\n",
    "    Create a new task\n",
    "    :param conn:\n",
    "    :param new_data:\n",
    "    :return:\n",
    "    \"\"\"\n",
    "    vals = ('('+'?,'*len(new_data))[:-1]+')'  # (?,?,?...)\n",
    "    #print(vals)\n",
    "    cols = str(tuple([x for x in col_names])).replace(' ', '').replace(\"'\", \"\").replace(',', ', ')\n",
    "    \n",
    "    sql = '''INSERT OR IGNORE INTO red_light_cameras{}VALUES{};'''.format(cols, vals)\n",
    "    # example from sql site \n",
    "    # sql = ''' INSERT INTO tasks(name,priority,status_id,project_id,begin_date,end_date)VALUES(?,?,?,?,?,?) '''\n",
    "    \n",
    "    #print(tuple(new_data))\n",
    "    c.execute(sql, new_data)\n",
    "    \n",
    "\n",
    "    return c.lastrowid\n",
    "\n",
    "\n",
    "d_types = [\n",
    "         'int', # camera_id\n",
    "         'text', # intersection\n",
    "         'text', # address\n",
    "         'real', # x_coord\n",
    "         'real', # y_coord\n",
    "         'real', # latitude\n",
    "         'real', # longitude\n",
    "          ]\n",
    "\n",
    "\n",
    "##### only do this once ####\n",
    "create_table(c, 'red_light_cameras', cam_df.columns, d_types, key='camera_id')\n",
    "conn.commit()\n",
    "\n",
    "for i in range(len(cam_df)):\n",
    "    insert_cam(c, cam_df.columns, list(cam_df.iloc[i, :]))\n",
    "\n",
    "conn.commit()\n",
    "\n",
    "#c.execute('CREATE TABLE CARS (Brand text, Price number)')   # this is example from sqlite website\n",
    "#c.execute(create_text)\n",
    "#conn.commit()"
   ]
  },
  {
   "cell_type": "code",
   "execution_count": 205,
   "metadata": {},
   "outputs": [
    {
     "name": "stdout",
     "output_type": "stream",
     "text": [
      "<class 'pandas.core.frame.DataFrame'>\n",
      "RangeIndex: 341 entries, 0 to 340\n",
      "Data columns (total 7 columns):\n",
      "camera_id       341 non-null object\n",
      "intersection    341 non-null object\n",
      "address         341 non-null object\n",
      "x_coordinate    323 non-null float64\n",
      "y_coordinate    323 non-null float64\n",
      "latitude        323 non-null float64\n",
      "longitude       323 non-null float64\n",
      "dtypes: float64(4), object(3)\n",
      "memory usage: 18.8+ KB\n",
      "[(0, 'camera_id', 'int', 0, None, 0), (1, 'intersection', 'text', 0, None, 0), (2, 'address', 'text', 0, None, 0), (3, 'x_coordinate', 'real', 0, None, 0), (4, 'y_coordinate', 'real', 0, None, 0), (5, 'latitude', 'real', 0, None, 0), (6, 'longitude', 'real', 0, None, 0)]\n"
     ]
    }
   ],
   "source": [
    "cam_df.info()\n",
    "\n",
    "c.execute(\"PRAGMA table_info('red_light_cameras')\")\n",
    "print(c.fetchall())"
   ]
  },
  {
   "cell_type": "code",
   "execution_count": 206,
   "metadata": {},
   "outputs": [
    {
     "data": {
      "text/plain": [
       "[(1002,), (1003,), (1002,), (1003,), (1002,), (1003,)]"
      ]
     },
     "execution_count": 206,
     "metadata": {},
     "output_type": "execute_result"
    }
   ],
   "source": [
    "# definitely have some INTEGER issue.  Had to change to text.  That's no good.\n",
    "cam_df[cam_df['intersection']=='WESTERN AND CERMAK']\n",
    "\n",
    "c.execute('''SELECT camera_id \n",
    "             FROM red_light_cameras\n",
    "             WHERE intersection=='WESTERN AND CERMAK'\n",
    "             ;''').fetchall()[:10]"
   ]
  },
  {
   "cell_type": "code",
   "execution_count": null,
   "metadata": {},
   "outputs": [],
   "source": []
  },
  {
   "cell_type": "code",
   "execution_count": null,
   "metadata": {},
   "outputs": [],
   "source": [
    "\n",
    "print('''\\nCREATE UNIQUE INDEX idx ON {}(camera_id, violation_date);'''.format('red_light_cameras', )) #just to see it!\n"
   ]
  }
 ],
 "metadata": {
  "kernelspec": {
   "display_name": "learn-env",
   "language": "python",
   "name": "learn-env"
  },
  "language_info": {
   "codemirror_mode": {
    "name": "ipython",
    "version": 3
   },
   "file_extension": ".py",
   "mimetype": "text/x-python",
   "name": "python",
   "nbconvert_exporter": "python",
   "pygments_lexer": "ipython3",
   "version": "3.6.9"
  }
 },
 "nbformat": 4,
 "nbformat_minor": 4
}
