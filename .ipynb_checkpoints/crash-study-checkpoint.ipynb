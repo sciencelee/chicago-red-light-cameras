{
 "cells": [
  {
   "cell_type": "markdown",
   "metadata": {},
   "source": [
    "## Imports"
   ]
  },
  {
   "cell_type": "code",
   "execution_count": 72,
   "metadata": {},
   "outputs": [
    {
     "name": "stderr",
     "output_type": "stream",
     "text": [
      "WARNING:root:Requests made without an app_token will be subject to strict throttling limits.\n"
     ]
    }
   ],
   "source": [
    "\n",
    "import pandas as pd\n",
    "from sodapy import Socrata\n",
    "\n",
    "# Unauthenticated client only works with public data sets. Note 'None'\n",
    "# in place of application token, and no username or password:\n",
    "client = Socrata(\"data.cityofchicago.org\", None)\n",
    "\n",
    "# Example authenticated client (needed for non-public datasets):\n",
    "# client = Socrata(data.cityofchicago.org,\n",
    "#                  MyAppToken,\n",
    "#                  userame=\"user@example.com\",\n",
    "#                  password=\"AFakePassword\")\n",
    "\n"
   ]
  },
  {
   "cell_type": "markdown",
   "metadata": {},
   "source": [
    "## Grab preliminary data through query"
   ]
  },
  {
   "cell_type": "code",
   "execution_count": 73,
   "metadata": {},
   "outputs": [],
   "source": [
    "# First 2000 results, returned as JSON from API / converted to Python list of\n",
    "# dictionaries by sodapy.\n",
    "# data website https://data.cityofchicago.org/resource/85ca-t3if.json\n",
    "\n",
    "crash_data = client.get(\"85ca-t3if\", \n",
    "                     #where='violation_date BETWEEN \\'2019-01-01T00:00:00.000\\' AND \\'2019-12-13T00:00:00.000\\'',\n",
    "                     limit=10000,\n",
    "                    )\n",
    "\n",
    "# Convert to pandas DataFrame\n",
    "all_df = pd.DataFrame.from_records(crash_data)"
   ]
  },
  {
   "cell_type": "code",
   "execution_count": 74,
   "metadata": {},
   "outputs": [
    {
     "name": "stdout",
     "output_type": "stream",
     "text": [
      "<class 'pandas.core.frame.DataFrame'>\n",
      "RangeIndex: 10000 entries, 0 to 9999\n",
      "Data columns (total 49 columns):\n",
      "crash_record_id                  10000 non-null object\n",
      "crash_date                       10000 non-null object\n",
      "posted_speed_limit               10000 non-null object\n",
      "traffic_control_device           10000 non-null object\n",
      "device_condition                 10000 non-null object\n",
      "weather_condition                10000 non-null object\n",
      "lighting_condition               10000 non-null object\n",
      "first_crash_type                 10000 non-null object\n",
      "trafficway_type                  10000 non-null object\n",
      "alignment                        10000 non-null object\n",
      "roadway_surface_cond             10000 non-null object\n",
      "road_defect                      10000 non-null object\n",
      "report_type                      9802 non-null object\n",
      "crash_type                       10000 non-null object\n",
      "hit_and_run_i                    3577 non-null object\n",
      "damage                           10000 non-null object\n",
      "date_police_notified             10000 non-null object\n",
      "prim_contributory_cause          10000 non-null object\n",
      "sec_contributory_cause           10000 non-null object\n",
      "street_no                        10000 non-null object\n",
      "street_direction                 10000 non-null object\n",
      "street_name                      10000 non-null object\n",
      "beat_of_occurrence               10000 non-null object\n",
      "num_units                        10000 non-null object\n",
      "most_severe_injury               9967 non-null object\n",
      "injuries_total                   9968 non-null object\n",
      "injuries_fatal                   9968 non-null object\n",
      "injuries_incapacitating          9968 non-null object\n",
      "injuries_non_incapacitating      9968 non-null object\n",
      "injuries_reported_not_evident    9968 non-null object\n",
      "injuries_no_indication           9968 non-null object\n",
      "injuries_unknown                 9968 non-null object\n",
      "crash_hour                       10000 non-null object\n",
      "crash_day_of_week                10000 non-null object\n",
      "crash_month                      10000 non-null object\n",
      "latitude                         9928 non-null object\n",
      "longitude                        9928 non-null object\n",
      "location                         9928 non-null object\n",
      "crash_date_est_i                 757 non-null object\n",
      "intersection_related_i           2588 non-null object\n",
      "statements_taken_i               179 non-null object\n",
      "private_property_i               450 non-null object\n",
      "dooring_i                        19 non-null object\n",
      "photos_taken_i                   110 non-null object\n",
      "work_zone_i                      47 non-null object\n",
      "work_zone_type                   36 non-null object\n",
      "workers_present_i                21 non-null object\n",
      "rd_no                            6777 non-null object\n",
      "lane_cnt                         1 non-null object\n",
      "dtypes: object(49)\n",
      "memory usage: 3.7+ MB\n"
     ]
    }
   ],
   "source": [
    "all_df.info()"
   ]
  },
  {
   "cell_type": "code",
   "execution_count": 75,
   "metadata": {},
   "outputs": [
    {
     "name": "stdout",
     "output_type": "stream",
     "text": [
      "traffic_control_device ['NO CONTROLS' 'TRAFFIC SIGNAL' 'STOP SIGN/FLASHER' 'UNKNOWN' 'OTHER'\n",
      " 'OTHER REG. SIGN' 'PEDESTRIAN CROSSING SIGN' 'RAILROAD CROSSING GATE'\n",
      " 'FLASHING CONTROL SIGNAL' 'OTHER RAILROAD CROSSING' 'YIELD'\n",
      " 'OTHER WARNING SIGN' 'DELINEATORS' 'BICYCLE CROSSING SIGN'\n",
      " 'POLICE/FLAGMAN' 'RR CROSSING SIGN' 'NO PASSING']\n"
     ]
    }
   ],
   "source": [
    "# What's in this data?\n",
    "for col in ['traffic_control_device']:\n",
    "    print(col, all_df[col].unique())"
   ]
  },
  {
   "cell_type": "code",
   "execution_count": 150,
   "metadata": {},
   "outputs": [
    {
     "name": "stdout",
     "output_type": "stream",
     "text": [
      "Total crashes in study: 10000\n",
      "Total crashes at signal: 2920\n",
      "Percent crashes at signal: 29.2%\n"
     ]
    }
   ],
   "source": [
    "# How many were at traffic signals\n",
    "signal_df = all_df[all_df['traffic_control_device']=='TRAFFIC SIGNAL']\n",
    "other_df = all_df[all_df['traffic_control_device']!='TRAFFIC SIGNAL']\n",
    "\n",
    "\n",
    "# how many crashes are at signals?\n",
    "print('Total crashes in study: {}'.format(len(all_df)))\n",
    "print('Total crashes at signal: {}'.format(len(signal_df)))\n",
    "\n",
    "print('Percent crashes at signal: {:.1f}%'.format(len(signal_df)/len(all_df)*100))\n",
    "\n"
   ]
  },
  {
   "cell_type": "code",
   "execution_count": 164,
   "metadata": {},
   "outputs": [
    {
     "name": "stdout",
     "output_type": "stream",
     "text": [
      "CRASH STATS\n",
      "Total crashes in study: 10000\n",
      "Signal crashes: 29.2%\n",
      "----------------------------------------\n",
      "CRASHES NOT AT SIGNAL\n",
      "----------------------------------------\n",
      "Total crashes: 7080\n",
      "\n",
      "Type of Crash                 Total crashes  Percent of total    \n",
      "PARKED MOTOR VEHICLE          2390            33.8%\n",
      "REAR END                      1016            14.4%\n",
      "SIDESWIPE SAME DIRECTION      924             13.1%\n",
      "ANGLE                         787             11.1%\n",
      "TURNING                       708             10.0%\n",
      "FIXED OBJECT                  542              7.7%\n",
      "PEDESTRIAN                    127              1.8%\n",
      "REAR TO FRONT                 103              1.5%\n",
      "SIDESWIPE OPPOSITE DIRECTION  100              1.4%\n",
      "OTHER OBJECT                  94               1.3%\n",
      "REAR TO SIDE                  79               1.1%\n",
      "HEAD ON                       74               1.0%\n",
      "PEDALCYCLIST                  69               1.0%\n",
      "REAR TO REAR                  27               0.4%\n",
      "OTHER NONCOLLISION            25               0.4%\n",
      "OVERTURNED                    11               0.2%\n",
      "ANIMAL                        4                0.1%\n",
      "\n",
      "\n",
      "\n",
      "----------------------------------------\n",
      "CRASHES AT SIGNAL\n",
      "----------------------------------------\n",
      "Total crashes: 2920\n",
      "Type of Crash                 Total crashes  Percent of total    \n",
      "REAR END                      1049            35.9%\n",
      "TURNING                       708             24.2%\n",
      "ANGLE                         428             14.7%\n",
      "SIDESWIPE SAME DIRECTION      358             12.3%\n",
      "FIXED OBJECT                  90               3.1%\n",
      "PEDESTRIAN                    76               2.6%\n",
      "PARKED MOTOR VEHICLE          64               2.2%\n",
      "PEDALCYCLIST                  36               1.2%\n",
      "HEAD ON                       33               1.1%\n",
      "REAR TO FRONT                 28               1.0%\n",
      "SIDESWIPE OPPOSITE DIRECTION  26               0.9%\n",
      "REAR TO SIDE                  8                0.3%\n",
      "OTHER OBJECT                  7                0.2%\n",
      "OVERTURNED                    5                0.2%\n",
      "OTHER NONCOLLISION            3                0.1%\n",
      "REAR TO REAR                  1                0.0%\n"
     ]
    }
   ],
   "source": [
    "# what kind of crashes occur at traffic light, and how does it compare to other crashes?\n",
    "\n",
    "def crash_stats(all_df, df):\n",
    "    # by percentages\n",
    "    crash_types = df['first_crash_type'].unique()\n",
    "\n",
    "    print_list = []\n",
    "    print('{:30}{:15}{:20}'.format(\"Type of Crash\", 'Total crashes','Percent of total'))\n",
    "    for crash in crash_types:\n",
    "        num_crashes = len(df[df['first_crash_type']==crash])\n",
    "        print_list.append([crash, num_crashes])\n",
    "    \n",
    "    print_list = sorted(print_list, key=lambda x: x[1], reverse=True)\n",
    "    \n",
    "    for crash, n in print_list: \n",
    "        print('{:30}{:<15d}{:>5.1f}%'.format(crash, n, 100 * n / len(df)))\n",
    "\n",
    "def print_header(message):\n",
    "    print('--'*20)\n",
    "    print(message)\n",
    "    print('--'*20)\n",
    "        \n",
    "def print_crash_stats(all_df, signal_df, other_df):\n",
    "    print('CRASH STATS')\n",
    "    print('Total crashes in study:', len(all_df))\n",
    "    print('Signal crashes: {:.1f}%'.format((100 * len(signal_df) / len(all_df))))\n",
    "\n",
    "    print_header('CRASHES NOT AT SIGNAL')\n",
    "\n",
    "    print('Total crashes:', len(other_df))\n",
    "    print()\n",
    "    crash_stats(all_df, other_df)\n",
    "    print('\\n\\n')\n",
    "    print_header('CRASHES AT SIGNAL')\n",
    "\n",
    "    print('Total crashes:', len(signal_df))\n",
    "    crash_stats(all_df, signal_df)\n",
    "\n",
    "        \n",
    "\n",
    "        \n",
    "print_crash_stats(all_df, signal_df, other_df)\n"
   ]
  },
  {
   "cell_type": "code",
   "execution_count": 171,
   "metadata": {},
   "outputs": [],
   "source": [
    "cams_of_interest = ['2552', '2592', '2593', '2553', '3002', '3022', '3032', '3003', '3041', '3082', '3043', '3084', '3051', '3052']\n",
    "cam_addresses = ['340 W UPPER WACKER DR', '10300 S HALSTED STREE',\n",
    "       '11500 S HALSTED STREE', '200 N UPPER WACKER DR',\n",
    "       '5232 N MILWAUKEE AVE', '300 S MICHIGAN AVE', '100 E ONTARIO ST',\n",
    "       '628 N MICHIGAN AVE', '100 E JACKSON BLVD', '5616 W FOSTER AVE',\n",
    "       '5200 N NORTHWEST HWY', '5232 N CENTRAL AVE', '800 W 115TH STREET',\n",
    "       '800 W 103RD STREET']\n",
    "\n",
    "cam_with_address =  [['2552', '11500 S HALSTED STREE', '115TH AND HALSTED'],\n",
    "                     ['2592', '10300 S HALSTED STREE', 'HALSTED AND 103RD'],\n",
    "                     ['2593', '800 W 103RD STREET', 'HALSTED AND 103RD'],\n",
    "                     ['2553', '800 W 115TH STREET', '115TH AND HALSTED'],\n",
    "                     ['3002', '5200 N NORTHWEST HWY', 'NORTHWEST HIGHWAY AND FOSTER'],\n",
    "                     ['3022', '5232 N MILWAUKEE AVE', 'MILWAUKEE AND CENTRAL'],\n",
    "                     ['3032', '5232 N CENTRAL AVE', 'CENTRAL AND MILWAUKEE'],\n",
    "                     ['3003', '5616 W FOSTER AVE', 'FOSTER AND NORTHWEST HIGHWAY'],\n",
    "                     ['3041', '300 S MICHIGAN AVE', 'MICHIGAN AND JACKSON'],\n",
    "                     ['3082', '628 N MICHIGAN AVE', 'MICHIGAN AND ONTARIO'],\n",
    "                     ['3043', '100 E JACKSON BLVD', 'MICHIGAN AND JACKSON'],\n",
    "                     ['3084', '100 E ONTARIO ST', 'MICHIGAN AND ONTARIO'],\n",
    "                     ['3051', '200 N UPPER WACKER DR', 'LAKE AND UPPER WACKER'],\n",
    "                     ['3052', '340 W UPPER WACKER DR', 'LAKE AND UPPER WACKER']]\n",
    "\n",
    "\n",
    "\n"
   ]
  },
  {
   "cell_type": "code",
   "execution_count": 177,
   "metadata": {},
   "outputs": [
    {
     "name": "stdout",
     "output_type": "stream",
     "text": [
      "Index(['crash_record_id', 'crash_date', 'posted_speed_limit',\n",
      "       'traffic_control_device', 'device_condition', 'weather_condition',\n",
      "       'lighting_condition', 'first_crash_type', 'trafficway_type',\n",
      "       'alignment', 'roadway_surface_cond', 'road_defect', 'report_type',\n",
      "       'crash_type', 'hit_and_run_i', 'damage', 'date_police_notified',\n",
      "       'prim_contributory_cause', 'sec_contributory_cause', 'street_no',\n",
      "       'street_direction', 'street_name', 'beat_of_occurrence', 'num_units',\n",
      "       'most_severe_injury', 'injuries_total', 'injuries_fatal',\n",
      "       'injuries_incapacitating', 'injuries_non_incapacitating',\n",
      "       'injuries_reported_not_evident', 'injuries_no_indication',\n",
      "       'injuries_unknown', 'crash_hour', 'crash_day_of_week', 'crash_month',\n",
      "       'latitude', 'longitude', 'location', 'crash_date_est_i',\n",
      "       'intersection_related_i', 'statements_taken_i', 'private_property_i',\n",
      "       'dooring_i', 'photos_taken_i', 'work_zone_i', 'work_zone_type',\n",
      "       'workers_present_i', 'rd_no', 'lane_cnt'],\n",
      "      dtype='object')\n",
      "4        LOOMIS BLVD\n",
      "11          STATE ST\n",
      "12         CERMAK RD\n",
      "14        WABASH AVE\n",
      "15           59TH ST\n",
      "            ...     \n",
      "9977     DELAWARE PL\n",
      "9980     BELMONT AVE\n",
      "9983    ARMITAGE AVE\n",
      "9985    VAN BUREN ST\n",
      "9991     WESTERN AVE\n",
      "Name: street_name, Length: 2920, dtype: object\n",
      "24\n",
      "24\n"
     ]
    }
   ],
   "source": [
    "print(signal_df.columns)  \n",
    "print(signal_df.street_name)\n",
    "\n",
    "print(signal_df.latitude.isna().sum())\n",
    "print(signal_df.location.isna().sum())\n"
   ]
  },
  {
   "cell_type": "code",
   "execution_count": 207,
   "metadata": {},
   "outputs": [
    {
     "data": {
      "text/plain": [
       "4     {'type': 'Point', 'coordinates': [-87.65873570...\n",
       "11    {'type': 'Point', 'coordinates': [-87.62662144...\n",
       "12    {'type': 'Point', 'coordinates': [-87.67572135...\n",
       "14    {'type': 'Point', 'coordinates': [-87.62564751...\n",
       "15    {'type': 'Point', 'coordinates': [-87.71572304...\n",
       "Name: location, dtype: object"
      ]
     },
     "execution_count": 207,
     "metadata": {},
     "output_type": "execute_result"
    }
   ],
   "source": [
    "signal_df.location.head()"
   ]
  },
  {
   "cell_type": "code",
   "execution_count": 208,
   "metadata": {},
   "outputs": [
    {
     "name": "stdout",
     "output_type": "stream",
     "text": [
      "Collecting geopy\n",
      "  Using cached geopy-2.0.0-py3-none-any.whl (111 kB)\n",
      "Collecting geographiclib<2,>=1.49\n",
      "  Using cached geographiclib-1.50-py3-none-any.whl (38 kB)\n",
      "Installing collected packages: geographiclib, geopy\n",
      "Successfully installed geographiclib-1.50 geopy-2.0.0\n",
      "\u001b[33mWARNING: You are using pip version 20.1.1; however, version 20.3.3 is available.\n",
      "You should consider upgrading via the '/Users/aaronlee/opt/anaconda3/bin/python -m pip install --upgrade pip' command.\u001b[0m\n"
     ]
    }
   ],
   "source": [
    "!pip install geopy"
   ]
  },
  {
   "cell_type": "code",
   "execution_count": 209,
   "metadata": {},
   "outputs": [
    {
     "ename": "ConfigurationError",
     "evalue": "Using Nominatim with default or sample `user_agent` \"specify_your_app_name_here\" is strongly discouraged, as it violates Nominatim's ToS https://operations.osmfoundation.org/policies/nominatim/ and may possibly cause 403 and 429 HTTP errors. Please specify a custom `user_agent` with `Nominatim(user_agent=\"my-application\")` or by overriding the default `user_agent`: `geopy.geocoders.options.default_user_agent = \"my-application\"`.",
     "output_type": "error",
     "traceback": [
      "\u001b[0;31m---------------------------------------------------------------------------\u001b[0m",
      "\u001b[0;31mConfigurationError\u001b[0m                        Traceback (most recent call last)",
      "\u001b[0;32m<ipython-input-209-a5775885791e>\u001b[0m in \u001b[0;36m<module>\u001b[0;34m\u001b[0m\n\u001b[1;32m      1\u001b[0m \u001b[0;32mfrom\u001b[0m \u001b[0mgeopy\u001b[0m\u001b[0;34m.\u001b[0m\u001b[0mgeocoders\u001b[0m \u001b[0;32mimport\u001b[0m \u001b[0mNominatim\u001b[0m\u001b[0;34m\u001b[0m\u001b[0;34m\u001b[0m\u001b[0m\n\u001b[0;32m----> 2\u001b[0;31m \u001b[0mgeolocator\u001b[0m \u001b[0;34m=\u001b[0m \u001b[0mNominatim\u001b[0m\u001b[0;34m(\u001b[0m\u001b[0muser_agent\u001b[0m\u001b[0;34m=\u001b[0m\u001b[0;34m\"specify_your_app_name_here\"\u001b[0m\u001b[0;34m)\u001b[0m\u001b[0;34m\u001b[0m\u001b[0;34m\u001b[0m\u001b[0m\n\u001b[0m\u001b[1;32m      3\u001b[0m \u001b[0mlocation\u001b[0m \u001b[0;34m=\u001b[0m \u001b[0mgeolocator\u001b[0m\u001b[0;34m.\u001b[0m\u001b[0mgeocode\u001b[0m\u001b[0;34m(\u001b[0m\u001b[0;34m\"175 5th Avenue NYC\"\u001b[0m\u001b[0;34m)\u001b[0m\u001b[0;34m\u001b[0m\u001b[0;34m\u001b[0m\u001b[0m\n\u001b[1;32m      4\u001b[0m \u001b[0mprint\u001b[0m\u001b[0;34m(\u001b[0m\u001b[0mlocation\u001b[0m\u001b[0;34m.\u001b[0m\u001b[0maddress\u001b[0m\u001b[0;34m)\u001b[0m\u001b[0;34m\u001b[0m\u001b[0;34m\u001b[0m\u001b[0m\n\u001b[1;32m      5\u001b[0m \u001b[0;31m# out: Flatiron Building, 175, 5th Avenue, Flatiron, New York, NYC, New York, ...\u001b[0m\u001b[0;34m\u001b[0m\u001b[0;34m\u001b[0m\u001b[0;34m\u001b[0m\u001b[0m\n",
      "\u001b[0;32m~/opt/anaconda3/envs/learn-env/lib/python3.6/site-packages/geopy/geocoders/nominatim.py\u001b[0m in \u001b[0;36m__init__\u001b[0;34m(self, timeout, proxies, domain, scheme, user_agent, ssl_context, adapter_factory)\u001b[0m\n\u001b[1;32m    112\u001b[0m                 \u001b[0;34m'overriding the default `user_agent`: '\u001b[0m\u001b[0;34m\u001b[0m\u001b[0;34m\u001b[0m\u001b[0m\n\u001b[1;32m    113\u001b[0m                 \u001b[0;34m'`geopy.geocoders.options.default_user_agent = \"my-application\"`.'\u001b[0m\u001b[0;34m\u001b[0m\u001b[0;34m\u001b[0m\u001b[0m\n\u001b[0;32m--> 114\u001b[0;31m                 \u001b[0;34m%\u001b[0m \u001b[0mself\u001b[0m\u001b[0;34m.\u001b[0m\u001b[0mheaders\u001b[0m\u001b[0;34m[\u001b[0m\u001b[0;34m'User-Agent'\u001b[0m\u001b[0;34m]\u001b[0m\u001b[0;34m\u001b[0m\u001b[0;34m\u001b[0m\u001b[0m\n\u001b[0m\u001b[1;32m    115\u001b[0m             )\n\u001b[1;32m    116\u001b[0m \u001b[0;34m\u001b[0m\u001b[0m\n",
      "\u001b[0;31mConfigurationError\u001b[0m: Using Nominatim with default or sample `user_agent` \"specify_your_app_name_here\" is strongly discouraged, as it violates Nominatim's ToS https://operations.osmfoundation.org/policies/nominatim/ and may possibly cause 403 and 429 HTTP errors. Please specify a custom `user_agent` with `Nominatim(user_agent=\"my-application\")` or by overriding the default `user_agent`: `geopy.geocoders.options.default_user_agent = \"my-application\"`."
     ]
    }
   ],
   "source": [
    "from geopy.geocoders import Nominatim\n",
    "geolocator = Nominatim(user_agent=\"specify_your_app_name_here\")\n",
    "location = geolocator.geocode(\"175 5th Avenue NYC\")\n",
    "print(location.address)\n",
    "# out: Flatiron Building, 175, 5th Avenue, Flatiron, New York, NYC, New York, ...\n",
    "\n",
    "print((location.latitude, location.longitude))\n",
    "# out: (40.7410861, -73.9896297241625)\n",
    "\n",
    "print(location.raw)\n",
    "# out: {'place_id': '9167009604', 'type': 'attraction', ...}\n"
   ]
  },
  {
   "cell_type": "code",
   "execution_count": null,
   "metadata": {},
   "outputs": [],
   "source": []
  }
 ],
 "metadata": {
  "kernelspec": {
   "display_name": "learn-env",
   "language": "python",
   "name": "learn-env"
  },
  "language_info": {
   "codemirror_mode": {
    "name": "ipython",
    "version": 3
   },
   "file_extension": ".py",
   "mimetype": "text/x-python",
   "name": "python",
   "nbconvert_exporter": "python",
   "pygments_lexer": "ipython3",
   "version": "3.6.9"
  }
 },
 "nbformat": 4,
 "nbformat_minor": 4
}
