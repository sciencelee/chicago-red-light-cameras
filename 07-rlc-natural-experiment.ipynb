{
 "cells": [
  {
   "cell_type": "markdown",
   "metadata": {},
   "source": [
    "# Red Light Camera Natural Experiment\n",
    "\n",
    "This section will feature hypothesis testing for crash data based on the active status of cameras.  \n",
    "The central focus of this project was to see how the presence of red light cameras affected safety.\n",
    "\n",
    "Safety can be measured several ways: total crashes, total injuries, count of dangerous crash types.\n",
    "\n",
    "The city of Chicago government defines their goal as follows:\n",
    "> \"Red Light Camera Enforcement is designed to increase safety on Chicago streets by reducing the most dangerous types of crashes at intersections. The different types of crashes between vehicles are rear end, side swipe, angle, and head on. While all crashes are potentially hazardous, Red Light cameras are designed to reduce angle (or “t-bone”) crashes because of their extreme danger to those involved. As individuals comply with traffic signals, serious crashes and injuries reduce significantly. Chicago began its red light camera program 2003 with enforcement at two intersections: Peterson and Western and 55th and Western. In subsequent years, additional intersections have been added based on crash frequency/severity. At most Red Light Camera intersections, two approaches are monitored. However, CDOT posts signs at all four approaches identifying the intersection as photo-enforced.\" https://www.chicago.gov/city/en/depts/cdot/supp_info/red-light_cameraenforcement.html"
   ]
  },
  {
   "cell_type": "code",
   "execution_count": 1,
   "metadata": {},
   "outputs": [],
   "source": [
    "import pandas as pd\n",
    "import statsmodels.api as sm\n",
    "import statsmodels.stats as sms\n",
    "\n",
    "\n",
    "import matplotlib.pyplot as plt\n",
    "from datetime import datetime\n",
    "from datetime import timedelta\n",
    "from modules.myfuncs import *\n",
    "import warnings\n",
    "import numpy as np\n",
    "import matplotlib.pyplot as plt\n",
    "import sqlite3\n",
    "import scipy.stats as stats\n",
    "import seaborn as sns\n",
    "from statsmodels.stats.power import TTestIndPower, TTestPower\n",
    "from scipy.stats import norm\n",
    "\n",
    "\n",
    "# import dask\n",
    "# import dask.dataframe as dd\n",
    "\n",
    "warnings.filterwarnings('ignore')\n",
    "pd.options.display.max_rows = 100"
   ]
  },
  {
   "cell_type": "code",
   "execution_count": 2,
   "metadata": {},
   "outputs": [
    {
     "name": "stdout",
     "output_type": "stream",
     "text": [
      "sqlite3 version: 2.6.0\n",
      "connected to database/rlc.db\n"
     ]
    }
   ],
   "source": [
    "conn = create_connection('database/rlc.db')  # function from myfuncs file\n",
    "c = conn.cursor()"
   ]
  },
  {
   "cell_type": "code",
   "execution_count": 3,
   "metadata": {},
   "outputs": [],
   "source": [
    "#rlc_df = pd.read_sql_query('''SELECT * FROM daily_violations''', conn)\n",
    "#ints_df = pd.read_sql_query('''SELECT * FROM intersection_chars''', conn)\n",
    "#crash_df = pd.read_sql_query('''SELECT * FROM signal_crashes''', conn)\n"
   ]
  },
  {
   "cell_type": "code",
   "execution_count": 4,
   "metadata": {},
   "outputs": [
    {
     "name": "stdout",
     "output_type": "stream",
     "text": [
      "[('cam_locations',), ('cam_startend',), ('daily_violations',), ('all_crashes',), ('hourly_congestion',), ('hourly_weather',), ('region_data',), ('intersection_cams',), ('all_hours',), ('int_startend',), ('intersection_chars',), ('signal_crashes',), ('daily_covid',), ('holidays',), ('rlc_all_hours',)]\n",
      "cam_locations\n",
      "\t-camera_id\n",
      "\t-intersection\n",
      "\t-address\n",
      "\t-violation_date\n",
      "\t-violations\n",
      "\t-latitude\n",
      "\t-longitude\n",
      "\t-month\n",
      "\t-day\n",
      "\t-weekday\n",
      "\t-year\n",
      "\n",
      "cam_startend\n",
      "\t-camera_id\n",
      "\t-start\n",
      "\t-end\n",
      "\n",
      "daily_violations\n",
      "\t-intersection\n",
      "\t-camera_id\n",
      "\t-address\n",
      "\t-violation_date\n",
      "\t-violations\n",
      "\t-latitude\n",
      "\t-longitude\n",
      "\t-month\n",
      "\t-day\n",
      "\t-weekday\n",
      "\t-year\n",
      "\n",
      "all_crashes\n",
      "\t-crash_record_id\n",
      "\t-rd_no\n",
      "\t-crash_date\n",
      "\t-posted_speed_limit\n",
      "\t-traffic_control_device\n",
      "\t-device_condition\n",
      "\t-weather_condition\n",
      "\t-lighting_condition\n",
      "\t-first_crash_type\n",
      "\t-trafficway_type\n",
      "\t-alignment\n",
      "\t-roadway_surface_cond\n",
      "\t-road_defect\n",
      "\t-report_type\n",
      "\t-crash_type\n",
      "\t-damage\n",
      "\t-prim_contributory_cause\n",
      "\t-sec_contributory_cause\n",
      "\t-street_no\n",
      "\t-street_direction\n",
      "\t-street_name\n",
      "\t-beat_of_occurrence\n",
      "\t-num_units\n",
      "\t-most_severe_injury\n",
      "\t-injuries_total\n",
      "\t-injuries_fatal\n",
      "\t-injuries_incapacitating\n",
      "\t-injuries_non_incapacitating\n",
      "\t-injuries_reported_not_evident\n",
      "\t-injuries_no_indication\n",
      "\t-injuries_unknown\n",
      "\t-crash_hour\n",
      "\t-crash_day_of_week\n",
      "\t-crash_month\n",
      "\t-latitude\n",
      "\t-longitude\n",
      "\t-lane_cnt\n",
      "\t-intersection_related_i\n",
      "\t-hit_and_run_i\n",
      "\t-crash_date_est_i\n",
      "\t-work_zone_i\n",
      "\t-work_zone_type\n",
      "\t-workers_present_i\n",
      "\n",
      "hourly_congestion\n",
      "\t-year\n",
      "\t-month\n",
      "\t-day\n",
      "\t-hour\n",
      "\t-region_id\n",
      "\t-bus_count\n",
      "\t-num_reads\n",
      "\t-speed\n",
      "\t-weekday\n",
      "\t-quantile_speed\n",
      "\n",
      "hourly_weather\n",
      "\t-temp\n",
      "\t-rain_1h\n",
      "\t-rain_3h\n",
      "\t-snow_1h\n",
      "\t-snow_3h\n",
      "\t-weather_main\n",
      "\t-time\n",
      "\t-year\n",
      "\t-month\n",
      "\t-day\n",
      "\t-hour\n",
      "\t-weekday\n",
      "\n",
      "region_data\n",
      "\t-region_id\n",
      "\t-region\n",
      "\t-description\n",
      "\t-north\n",
      "\t-south\n",
      "\t-east\n",
      "\t-west\n",
      "\n",
      "intersection_cams\n",
      "\t-intersection\n",
      "\t-latitude\n",
      "\t-longitude\n",
      "\t-cam1\n",
      "\t-cam2\n",
      "\t-cam3\n",
      "\t-region_id\n",
      "\n",
      "all_hours\n",
      "\t-datetime\n",
      "\t-day\n",
      "\t-hour\n",
      "\t-intersection\n",
      "\t-month\n",
      "\t-year\n",
      "\n",
      "int_startend\n",
      "\t-intersection\n",
      "\t-start\n",
      "\t-end\n",
      "\n",
      "intersection_chars\n",
      "\t-protected_turn\n",
      "\t-total_lanes\n",
      "\t-medians\n",
      "\t-exit\n",
      "\t-split\n",
      "\t-way\n",
      "\t-underpass\n",
      "\t-no_left\n",
      "\t-angled\n",
      "\t-triangle\n",
      "\t-one_way\n",
      "\t-turn_lanes\n",
      "\t-lat\n",
      "\t-long\n",
      "\t-rlc\n",
      "\t-intersection\n",
      "\t-daily_traffic\n",
      "\t-speed\n",
      "\n",
      "signal_crashes\n",
      "\t-crash_record_id\n",
      "\t-rd_no\n",
      "\t-crash_date\n",
      "\t-posted_speed_limit\n",
      "\t-traffic_control_device\n",
      "\t-device_condition\n",
      "\t-weather_condition\n",
      "\t-lighting_condition\n",
      "\t-first_crash_type\n",
      "\t-trafficway_type\n",
      "\t-alignment\n",
      "\t-roadway_surface_cond\n",
      "\t-road_defect\n",
      "\t-report_type\n",
      "\t-crash_type\n",
      "\t-damage\n",
      "\t-prim_contributory_cause\n",
      "\t-sec_contributory_cause\n",
      "\t-street_no\n",
      "\t-street_direction\n",
      "\t-street_name\n",
      "\t-beat_of_occurrence\n",
      "\t-num_units\n",
      "\t-most_severe_injury\n",
      "\t-injuries_total\n",
      "\t-injuries_fatal\n",
      "\t-injuries_incapacitating\n",
      "\t-injuries_non_incapacitating\n",
      "\t-injuries_reported_not_evident\n",
      "\t-injuries_no_indication\n",
      "\t-injuries_unknown\n",
      "\t-crash_hour\n",
      "\t-crash_day_of_week\n",
      "\t-crash_month\n",
      "\t-latitude\n",
      "\t-longitude\n",
      "\t-lane_cnt\n",
      "\t-intersection_related_i\n",
      "\t-hit_and_run_i\n",
      "\t-crash_date_est_i\n",
      "\t-work_zone_i\n",
      "\t-work_zone_type\n",
      "\t-workers_present_i\n",
      "\t-intersection\n",
      "\t-year\n",
      "\t-month\n",
      "\t-day\n",
      "\t-hour\n",
      "\t-region_id\n",
      "\t-time\n",
      "\t-weekday\n",
      "\t-start\n",
      "\t-end\n",
      "\t-rlc_state\n",
      "\n",
      "daily_covid\n",
      "\t-lab_report_date\n",
      "\t-cases_total\n",
      "\t-deaths_total\n",
      "\t-cases_age_0_17\n",
      "\t-cases_age_18_29\n",
      "\t-cases_age_30_39\n",
      "\t-cases_age_40_49\n",
      "\t-cases_age_50_59\n",
      "\t-cases_age_60_69\n",
      "\t-cases_age_70_79\n",
      "\t-cases_age_80_\n",
      "\t-cases_age_unknown\n",
      "\t-cases_female\n",
      "\t-cases_male\n",
      "\t-cases_unknown_gender\n",
      "\t-cases_latinx\n",
      "\t-cases_asian_non_latinx\n",
      "\t-cases_black_non_latinx\n",
      "\t-cases_white_non_latinx\n",
      "\t-cases_other_non_latinx\n",
      "\t-cases_unknown_race_eth\n",
      "\t-deaths_0_17_yrs\n",
      "\t-deaths_18_29_yrs\n",
      "\t-deaths_30_39_yrs\n",
      "\t-deaths_40_49_yrs\n",
      "\t-deaths_50_59_yrs\n",
      "\t-deaths_60_69_yrs\n",
      "\t-deaths_70_79_yrs\n",
      "\t-deaths_80_yrs\n",
      "\t-deaths_unknown_age\n",
      "\t-deaths_female\n",
      "\t-deaths_male\n",
      "\t-deaths_unknown_gender\n",
      "\t-deaths_latinx\n",
      "\t-deaths_asian_non_latinx\n",
      "\t-deaths_black_non_latinx\n",
      "\t-deaths_white_non_latinx\n",
      "\t-deaths_other_non_latinx\n",
      "\t-deaths_unknown_race_eth\n",
      "\t-hospitalizations_total\n",
      "\t-hospitalizations_age_0_17\n",
      "\t-hospitalizations_age_18_29\n",
      "\t-hospitalizations_age_30_39\n",
      "\t-hospitalizations_age_40_49\n",
      "\t-hospitalizations_age_50_59\n",
      "\t-hospitalizations_age_60_69\n",
      "\t-hospitalizations_age_70_79\n",
      "\t-hospitalizations_age_80_\n",
      "\t-hospitalizations_age_unknown\n",
      "\t-hospitalizations_female\n",
      "\t-hospitalizations_male\n",
      "\t-hospitalizations_unknown_gender\n",
      "\t-hospitalizations_latinx\n",
      "\t-hospitalizations_asian_non_latinx\n",
      "\t-hospitalizations_black_non_latinx\n",
      "\t-hospitalizations_white_non_latinx\n",
      "\t-hospitalizations_other_race_non_latinx\n",
      "\t-hospitalizations_unknown_race_ethnicity\n",
      "\n",
      "holidays\n",
      "\t-index\n",
      "\t-date\n",
      "\t-holiday\n",
      "\t-year\n",
      "\t-month\n",
      "\t-day\n",
      "\n",
      "rlc_all_hours\n",
      "\t-datetime\n",
      "\t-day\n",
      "\t-hour\n",
      "\t-intersection\n",
      "\t-month\n",
      "\t-year\n",
      "\t-rlc_state\n",
      "\n"
     ]
    }
   ],
   "source": [
    "print(sql_fetch_tables(c, conn))\n",
    "\n",
    "\n",
    "\n",
    "def table_info(c, conn):\n",
    "    '''\n",
    "    prints out all of the columns of every table in db\n",
    "    c : cursor object\n",
    "    conn : database connection object\n",
    "    '''\n",
    "    tables = c.execute(\"SELECT name FROM sqlite_master WHERE type='table';\").fetchall()\n",
    "    for table_name in tables:\n",
    "        table_name = table_name[0]\n",
    "        table = pd.read_sql_query(\"SELECT * from {} LIMIT 0\".format(table_name), conn)\n",
    "        print(table_name)\n",
    "        for col in table.columns:\n",
    "            print('\\t-' + col)\n",
    "        print()\n",
    "\n",
    "table_info(c, conn)\n"
   ]
  },
  {
   "cell_type": "markdown",
   "metadata": {},
   "source": [
    "## Query our data\n",
    "I would like to get hourly intersection data with the following columns:\n",
    "\n",
    "\n",
    "signal_crashes\n",
    "\t-crash_date\n",
    "\t-posted_speed_limit\n",
    "\t-device_condition\n",
    "\t-weather_condition\n",
    "\t-lighting_condition\n",
    "\t-first_crash_type\n",
    "\t-trafficway_type\n",
    "\t-alignment\n",
    "\t-roadway_surface_cond\n",
    "\t-road_defect\n",
    "\t-report_type\n",
    "\t-crash_type\n",
    "\t-damage\n",
    "\t-prim_contributory_cause\n",
    "\t-sec_contributory_cause\n",
    "\t-street_no\n",
    "\t-street_direction\n",
    "\t-street_name\n",
    "\t-most_severe_injury\n",
    "\t-injuries_total\n",
    "\t-injuries_fatal\n",
    "\t-injuries_incapacitating\n",
    "\t-injuries_non_incapacitating\n",
    "\t-injuries_reported_not_evident\n",
    "\t-injuries_no_indication\n",
    "\t-injuries_unknown\n",
    "\t-latitude\n",
    "\t-longitude\n",
    "\t-lane_cnt\n",
    "\t-work_zone_i\n",
    "\t-work_zone_type\n",
    "\t-workers_present_i\n",
    "\t-intersection\n",
    "\t-year\n",
    "\t-month\n",
    "\t-day\n",
    "\t-hour\n",
    "\t-region_id\n",
    "\t-time\n",
    "\t-weekday\n",
    "\n",
    "hourly_weather\n",
    "\t-temp\n",
    "\t-rain_1h\n",
    "\t-rain_3h\n",
    "\t-snow_1h\n",
    "\t-snow_3h\n",
    "\t-time\n",
    "\t-year\n",
    "\t-month\n",
    "\t-day\n",
    "\t-hour\n",
    "\t-weekday\n",
    "\n",
    "hourly_congestion\n",
    "\t-year\n",
    "\t-month\n",
    "\t-day\n",
    "\t-hour\n",
    "\t-region_id\n",
    "\t-bus_count\n",
    "\t-num_reads\n",
    "\t-speed\n",
    "\t-weekday\n",
    "    \n",
    "Tables will be queried to JOIN on year, month, day, hour"
   ]
  },
  {
   "cell_type": "markdown",
   "metadata": {},
   "source": [
    "WHAT I REALLY NEED HERE\n",
    "A single dataset with the following:\n",
    "- daily intersection chars (all the stuff I entered)\n",
    "- daily intersection crashes (injuries, deaths, number etc)\n",
    "- daily wx (temp, precip mainly)\n",
    "- daily congestion (might not need this)\n",
    "- daily violations (already in the format)"
   ]
  },
  {
   "cell_type": "code",
   "execution_count": 5,
   "metadata": {},
   "outputs": [
    {
     "name": "stdout",
     "output_type": "stream",
     "text": [
      "4464234.0\n"
     ]
    }
   ],
   "source": [
    "# Approximately how many entries should I expect to be looking at after filtering my data\n",
    "# 3 years, 4 months x 153 intersections\n",
    "print((365.25*3 + 30*4) * 153 * 24)\n"
   ]
  },
  {
   "cell_type": "markdown",
   "metadata": {},
   "source": [
    "## Query my db to get a DataFrame with crashes and intersection\n",
    "We will be using the number of crashes and injuries to do some t-tests"
   ]
  },
  {
   "cell_type": "code",
   "execution_count": 6,
   "metadata": {},
   "outputs": [],
   "source": [
    "cam_df = pd.read_sql_query('''\n",
    "WITH ah AS(\n",
    "        SELECT year, month, day, hour, intersection, rlc_state, datetime\n",
    "        FROM rlc_all_hours\n",
    "        ),\n",
    "         \n",
    "    cr AS(\n",
    "        SELECT year,\n",
    "                month,\n",
    "                day,\n",
    "                hour,\n",
    "                intersection,\n",
    "                injuries_total,\n",
    "                injuries_fatal,\n",
    "                crash_record_id,\n",
    "                first_crash_type,\n",
    "                (first_crash_type == 'REAR END') as rear_end,\n",
    "                (first_crash_type == 'TURNING') as turning,\n",
    "                (first_crash_type == 'ANGLE') as angle\n",
    "        FROM signal_crashes\n",
    "        ),\n",
    "     ic AS(SELECT lat, long, intersection FROM intersection_chars)\n",
    "        \n",
    "        \n",
    "SELECT ah.*,\n",
    "    SUM(cr.injuries_total) as injuries_total,\n",
    "    COUNT(cr.crash_record_id) as n_crash,\n",
    "    SUM(cr.injuries_fatal) as injuries_fatal,\n",
    "    cr.first_crash_type,\n",
    "    SUM(cr.rear_end) as rear_end,\n",
    "    SUM(cr.angle) as angle,\n",
    "    SUM(cr.turning) as turning,\n",
    "    ic.lat,\n",
    "    ic.long\n",
    "    \n",
    "FROM ah\n",
    "LEFT JOIN cr\n",
    "    ON cr.year = ah.year\n",
    "    AND cr.month = ah.month\n",
    "    AND cr.day = ah.day\n",
    "    AND cr.hour = ah.hour\n",
    "    AND cr.intersection = ah.intersection \n",
    "LEFT JOIN ic\n",
    "    ON ic.intersection = ah.intersection\n",
    "WHERE ah.year < 2020\n",
    "GROUP BY ah.year, ah.month, ah.day, ah.intersection\n",
    "ORDER BY ah.year, ah.month, ah.day, ah.intersection\n",
    "''', conn)\n",
    "\n",
    "# something is preventing me from pulling datetime from ah into my query.  \n",
    "# It makes all of my intersections the same\n",
    "\n"
   ]
  },
  {
   "cell_type": "code",
   "execution_count": 7,
   "metadata": {},
   "outputs": [],
   "source": [
    "se_df = pd.read_sql_query('''SELECT * FROM  int_startend''', conn)\n"
   ]
  },
  {
   "cell_type": "code",
   "execution_count": 8,
   "metadata": {},
   "outputs": [
    {
     "data": {
      "text/html": [
       "<div>\n",
       "<style scoped>\n",
       "    .dataframe tbody tr th:only-of-type {\n",
       "        vertical-align: middle;\n",
       "    }\n",
       "\n",
       "    .dataframe tbody tr th {\n",
       "        vertical-align: top;\n",
       "    }\n",
       "\n",
       "    .dataframe thead th {\n",
       "        text-align: right;\n",
       "    }\n",
       "</style>\n",
       "<table border=\"1\" class=\"dataframe\">\n",
       "  <thead>\n",
       "    <tr style=\"text-align: right;\">\n",
       "      <th></th>\n",
       "      <th>intersection</th>\n",
       "      <th>start</th>\n",
       "      <th>end</th>\n",
       "    </tr>\n",
       "  </thead>\n",
       "  <tbody>\n",
       "    <tr>\n",
       "      <td>15</td>\n",
       "      <td>95TH AND STONEY ISLAND</td>\n",
       "      <td>2017-01-02 00:00:00</td>\n",
       "      <td>2017-05-30 00:00:00</td>\n",
       "    </tr>\n",
       "  </tbody>\n",
       "</table>\n",
       "</div>"
      ],
      "text/plain": [
       "              intersection                start                  end\n",
       "15  95TH AND STONEY ISLAND  2017-01-02 00:00:00  2017-05-30 00:00:00"
      ]
     },
     "execution_count": 8,
     "metadata": {},
     "output_type": "execute_result"
    }
   ],
   "source": [
    "se_df[se_df.intersection == '95TH AND STONEY ISLAND']\n"
   ]
  },
  {
   "cell_type": "code",
   "execution_count": 9,
   "metadata": {},
   "outputs": [
    {
     "data": {
      "text/html": [
       "<div>\n",
       "<style scoped>\n",
       "    .dataframe tbody tr th:only-of-type {\n",
       "        vertical-align: middle;\n",
       "    }\n",
       "\n",
       "    .dataframe tbody tr th {\n",
       "        vertical-align: top;\n",
       "    }\n",
       "\n",
       "    .dataframe thead th {\n",
       "        text-align: right;\n",
       "    }\n",
       "</style>\n",
       "<table border=\"1\" class=\"dataframe\">\n",
       "  <thead>\n",
       "    <tr style=\"text-align: right;\">\n",
       "      <th></th>\n",
       "      <th>year</th>\n",
       "      <th>month</th>\n",
       "      <th>day</th>\n",
       "      <th>hour</th>\n",
       "      <th>intersection</th>\n",
       "      <th>rlc_state</th>\n",
       "      <th>datetime</th>\n",
       "      <th>injuries_total</th>\n",
       "      <th>n_crash</th>\n",
       "      <th>injuries_fatal</th>\n",
       "      <th>first_crash_type</th>\n",
       "      <th>rear_end</th>\n",
       "      <th>angle</th>\n",
       "      <th>turning</th>\n",
       "      <th>lat</th>\n",
       "      <th>long</th>\n",
       "    </tr>\n",
       "  </thead>\n",
       "  <tbody>\n",
       "    <tr>\n",
       "      <td>0</td>\n",
       "      <td>2016</td>\n",
       "      <td>1</td>\n",
       "      <td>1</td>\n",
       "      <td>0</td>\n",
       "      <td>111TH AND HALSTED</td>\n",
       "      <td>0</td>\n",
       "      <td>2016-01-01 00:00:00</td>\n",
       "      <td>NaN</td>\n",
       "      <td>0</td>\n",
       "      <td>NaN</td>\n",
       "      <td>None</td>\n",
       "      <td>NaN</td>\n",
       "      <td>NaN</td>\n",
       "      <td>NaN</td>\n",
       "      <td>41.692362</td>\n",
       "      <td>-87.642423</td>\n",
       "    </tr>\n",
       "    <tr>\n",
       "      <td>1</td>\n",
       "      <td>2016</td>\n",
       "      <td>1</td>\n",
       "      <td>1</td>\n",
       "      <td>0</td>\n",
       "      <td>115TH AND HALSTED</td>\n",
       "      <td>0</td>\n",
       "      <td>2016-01-01 00:00:00</td>\n",
       "      <td>NaN</td>\n",
       "      <td>0</td>\n",
       "      <td>NaN</td>\n",
       "      <td>None</td>\n",
       "      <td>NaN</td>\n",
       "      <td>NaN</td>\n",
       "      <td>NaN</td>\n",
       "      <td>41.685089</td>\n",
       "      <td>-87.642094</td>\n",
       "    </tr>\n",
       "    <tr>\n",
       "      <td>2</td>\n",
       "      <td>2016</td>\n",
       "      <td>1</td>\n",
       "      <td>1</td>\n",
       "      <td>0</td>\n",
       "      <td>119TH AND HALSTED</td>\n",
       "      <td>0</td>\n",
       "      <td>2016-01-01 00:00:00</td>\n",
       "      <td>NaN</td>\n",
       "      <td>0</td>\n",
       "      <td>NaN</td>\n",
       "      <td>None</td>\n",
       "      <td>NaN</td>\n",
       "      <td>NaN</td>\n",
       "      <td>NaN</td>\n",
       "      <td>41.677774</td>\n",
       "      <td>-87.641930</td>\n",
       "    </tr>\n",
       "    <tr>\n",
       "      <td>3</td>\n",
       "      <td>2016</td>\n",
       "      <td>1</td>\n",
       "      <td>1</td>\n",
       "      <td>0</td>\n",
       "      <td>31ST ST AND MARTIN LUTHER KING DRIVE</td>\n",
       "      <td>0</td>\n",
       "      <td>2016-01-01 00:00:00</td>\n",
       "      <td>NaN</td>\n",
       "      <td>0</td>\n",
       "      <td>NaN</td>\n",
       "      <td>None</td>\n",
       "      <td>NaN</td>\n",
       "      <td>NaN</td>\n",
       "      <td>NaN</td>\n",
       "      <td>41.838441</td>\n",
       "      <td>-87.617338</td>\n",
       "    </tr>\n",
       "    <tr>\n",
       "      <td>4</td>\n",
       "      <td>2016</td>\n",
       "      <td>1</td>\n",
       "      <td>1</td>\n",
       "      <td>0</td>\n",
       "      <td>35TH AND WESTERN</td>\n",
       "      <td>0</td>\n",
       "      <td>2016-01-01 00:00:00</td>\n",
       "      <td>NaN</td>\n",
       "      <td>0</td>\n",
       "      <td>NaN</td>\n",
       "      <td>None</td>\n",
       "      <td>NaN</td>\n",
       "      <td>NaN</td>\n",
       "      <td>NaN</td>\n",
       "      <td>41.830281</td>\n",
       "      <td>-87.684775</td>\n",
       "    </tr>\n",
       "  </tbody>\n",
       "</table>\n",
       "</div>"
      ],
      "text/plain": [
       "   year  month  day  hour                          intersection  rlc_state  \\\n",
       "0  2016      1    1     0                     111TH AND HALSTED          0   \n",
       "1  2016      1    1     0                     115TH AND HALSTED          0   \n",
       "2  2016      1    1     0                     119TH AND HALSTED          0   \n",
       "3  2016      1    1     0  31ST ST AND MARTIN LUTHER KING DRIVE          0   \n",
       "4  2016      1    1     0                      35TH AND WESTERN          0   \n",
       "\n",
       "              datetime  injuries_total  n_crash  injuries_fatal  \\\n",
       "0  2016-01-01 00:00:00             NaN        0             NaN   \n",
       "1  2016-01-01 00:00:00             NaN        0             NaN   \n",
       "2  2016-01-01 00:00:00             NaN        0             NaN   \n",
       "3  2016-01-01 00:00:00             NaN        0             NaN   \n",
       "4  2016-01-01 00:00:00             NaN        0             NaN   \n",
       "\n",
       "  first_crash_type  rear_end  angle  turning        lat       long  \n",
       "0             None       NaN    NaN      NaN  41.692362 -87.642423  \n",
       "1             None       NaN    NaN      NaN  41.685089 -87.642094  \n",
       "2             None       NaN    NaN      NaN  41.677774 -87.641930  \n",
       "3             None       NaN    NaN      NaN  41.838441 -87.617338  \n",
       "4             None       NaN    NaN      NaN  41.830281 -87.684775  "
      ]
     },
     "execution_count": 9,
     "metadata": {},
     "output_type": "execute_result"
    }
   ],
   "source": [
    "cam_df.shape\n",
    "#cam_df['datetime'] = cam_df.apply(lambda x: datetime(int(x['year']), x['month'], x['day']), axis=1)\n",
    "cam_df.head()\n",
    "#cam_df.rlc_state.sum()"
   ]
  },
  {
   "cell_type": "code",
   "execution_count": 10,
   "metadata": {},
   "outputs": [
    {
     "data": {
      "text/plain": [
       "'2017-09-01 00:00:00'"
      ]
     },
     "execution_count": 10,
     "metadata": {},
     "output_type": "execute_result"
    }
   ],
   "source": [
    "cam_df = cam_df[(cam_df['datetime'] >= '2017-09-01') &\n",
    "                (cam_df['datetime'] <= '2021-01-31')]\n",
    "cam_df.datetime.min()"
   ]
  },
  {
   "cell_type": "code",
   "execution_count": 11,
   "metadata": {},
   "outputs": [
    {
     "data": {
      "text/html": [
       "<div>\n",
       "<style scoped>\n",
       "    .dataframe tbody tr th:only-of-type {\n",
       "        vertical-align: middle;\n",
       "    }\n",
       "\n",
       "    .dataframe tbody tr th {\n",
       "        vertical-align: top;\n",
       "    }\n",
       "\n",
       "    .dataframe thead th {\n",
       "        text-align: right;\n",
       "    }\n",
       "</style>\n",
       "<table border=\"1\" class=\"dataframe\">\n",
       "  <thead>\n",
       "    <tr style=\"text-align: right;\">\n",
       "      <th></th>\n",
       "      <th>year</th>\n",
       "      <th>month</th>\n",
       "      <th>day</th>\n",
       "      <th>hour</th>\n",
       "      <th>intersection</th>\n",
       "      <th>rlc_state</th>\n",
       "      <th>datetime</th>\n",
       "      <th>injuries_total</th>\n",
       "      <th>n_crash</th>\n",
       "      <th>injuries_fatal</th>\n",
       "      <th>first_crash_type</th>\n",
       "      <th>rear_end</th>\n",
       "      <th>angle</th>\n",
       "      <th>turning</th>\n",
       "      <th>lat</th>\n",
       "      <th>long</th>\n",
       "    </tr>\n",
       "  </thead>\n",
       "  <tbody>\n",
       "    <tr>\n",
       "      <td>95614</td>\n",
       "      <td>2017</td>\n",
       "      <td>9</td>\n",
       "      <td>1</td>\n",
       "      <td>0</td>\n",
       "      <td>115TH AND HALSTED</td>\n",
       "      <td>1</td>\n",
       "      <td>2017-09-01 00:00:00</td>\n",
       "      <td>NaN</td>\n",
       "      <td>0</td>\n",
       "      <td>NaN</td>\n",
       "      <td>None</td>\n",
       "      <td>NaN</td>\n",
       "      <td>NaN</td>\n",
       "      <td>NaN</td>\n",
       "      <td>41.685089</td>\n",
       "      <td>-87.642094</td>\n",
       "    </tr>\n",
       "    <tr>\n",
       "      <td>95771</td>\n",
       "      <td>2017</td>\n",
       "      <td>9</td>\n",
       "      <td>2</td>\n",
       "      <td>0</td>\n",
       "      <td>115TH AND HALSTED</td>\n",
       "      <td>1</td>\n",
       "      <td>2017-09-02 00:00:00</td>\n",
       "      <td>NaN</td>\n",
       "      <td>0</td>\n",
       "      <td>NaN</td>\n",
       "      <td>None</td>\n",
       "      <td>NaN</td>\n",
       "      <td>NaN</td>\n",
       "      <td>NaN</td>\n",
       "      <td>41.685089</td>\n",
       "      <td>-87.642094</td>\n",
       "    </tr>\n",
       "    <tr>\n",
       "      <td>95928</td>\n",
       "      <td>2017</td>\n",
       "      <td>9</td>\n",
       "      <td>3</td>\n",
       "      <td>0</td>\n",
       "      <td>115TH AND HALSTED</td>\n",
       "      <td>1</td>\n",
       "      <td>2017-09-03 00:00:00</td>\n",
       "      <td>NaN</td>\n",
       "      <td>0</td>\n",
       "      <td>NaN</td>\n",
       "      <td>None</td>\n",
       "      <td>NaN</td>\n",
       "      <td>NaN</td>\n",
       "      <td>NaN</td>\n",
       "      <td>41.685089</td>\n",
       "      <td>-87.642094</td>\n",
       "    </tr>\n",
       "    <tr>\n",
       "      <td>96085</td>\n",
       "      <td>2017</td>\n",
       "      <td>9</td>\n",
       "      <td>4</td>\n",
       "      <td>0</td>\n",
       "      <td>115TH AND HALSTED</td>\n",
       "      <td>1</td>\n",
       "      <td>2017-09-04 00:00:00</td>\n",
       "      <td>NaN</td>\n",
       "      <td>0</td>\n",
       "      <td>NaN</td>\n",
       "      <td>None</td>\n",
       "      <td>NaN</td>\n",
       "      <td>NaN</td>\n",
       "      <td>NaN</td>\n",
       "      <td>41.685089</td>\n",
       "      <td>-87.642094</td>\n",
       "    </tr>\n",
       "    <tr>\n",
       "      <td>96242</td>\n",
       "      <td>2017</td>\n",
       "      <td>9</td>\n",
       "      <td>5</td>\n",
       "      <td>0</td>\n",
       "      <td>115TH AND HALSTED</td>\n",
       "      <td>1</td>\n",
       "      <td>2017-09-05 00:00:00</td>\n",
       "      <td>NaN</td>\n",
       "      <td>0</td>\n",
       "      <td>NaN</td>\n",
       "      <td>None</td>\n",
       "      <td>NaN</td>\n",
       "      <td>NaN</td>\n",
       "      <td>NaN</td>\n",
       "      <td>41.685089</td>\n",
       "      <td>-87.642094</td>\n",
       "    </tr>\n",
       "    <tr>\n",
       "      <td>...</td>\n",
       "      <td>...</td>\n",
       "      <td>...</td>\n",
       "      <td>...</td>\n",
       "      <td>...</td>\n",
       "      <td>...</td>\n",
       "      <td>...</td>\n",
       "      <td>...</td>\n",
       "      <td>...</td>\n",
       "      <td>...</td>\n",
       "      <td>...</td>\n",
       "      <td>...</td>\n",
       "      <td>...</td>\n",
       "      <td>...</td>\n",
       "      <td>...</td>\n",
       "      <td>...</td>\n",
       "      <td>...</td>\n",
       "    </tr>\n",
       "    <tr>\n",
       "      <td>228593</td>\n",
       "      <td>2019</td>\n",
       "      <td>12</td>\n",
       "      <td>27</td>\n",
       "      <td>0</td>\n",
       "      <td>115TH AND HALSTED</td>\n",
       "      <td>0</td>\n",
       "      <td>2019-12-27 00:00:00</td>\n",
       "      <td>NaN</td>\n",
       "      <td>0</td>\n",
       "      <td>NaN</td>\n",
       "      <td>None</td>\n",
       "      <td>NaN</td>\n",
       "      <td>NaN</td>\n",
       "      <td>NaN</td>\n",
       "      <td>41.685089</td>\n",
       "      <td>-87.642094</td>\n",
       "    </tr>\n",
       "    <tr>\n",
       "      <td>228750</td>\n",
       "      <td>2019</td>\n",
       "      <td>12</td>\n",
       "      <td>28</td>\n",
       "      <td>0</td>\n",
       "      <td>115TH AND HALSTED</td>\n",
       "      <td>0</td>\n",
       "      <td>2019-12-28 00:00:00</td>\n",
       "      <td>NaN</td>\n",
       "      <td>0</td>\n",
       "      <td>NaN</td>\n",
       "      <td>None</td>\n",
       "      <td>NaN</td>\n",
       "      <td>NaN</td>\n",
       "      <td>NaN</td>\n",
       "      <td>41.685089</td>\n",
       "      <td>-87.642094</td>\n",
       "    </tr>\n",
       "    <tr>\n",
       "      <td>228907</td>\n",
       "      <td>2019</td>\n",
       "      <td>12</td>\n",
       "      <td>29</td>\n",
       "      <td>0</td>\n",
       "      <td>115TH AND HALSTED</td>\n",
       "      <td>0</td>\n",
       "      <td>2019-12-29 00:00:00</td>\n",
       "      <td>NaN</td>\n",
       "      <td>0</td>\n",
       "      <td>NaN</td>\n",
       "      <td>None</td>\n",
       "      <td>NaN</td>\n",
       "      <td>NaN</td>\n",
       "      <td>NaN</td>\n",
       "      <td>41.685089</td>\n",
       "      <td>-87.642094</td>\n",
       "    </tr>\n",
       "    <tr>\n",
       "      <td>229064</td>\n",
       "      <td>2019</td>\n",
       "      <td>12</td>\n",
       "      <td>30</td>\n",
       "      <td>0</td>\n",
       "      <td>115TH AND HALSTED</td>\n",
       "      <td>0</td>\n",
       "      <td>2019-12-30 00:00:00</td>\n",
       "      <td>NaN</td>\n",
       "      <td>0</td>\n",
       "      <td>NaN</td>\n",
       "      <td>None</td>\n",
       "      <td>NaN</td>\n",
       "      <td>NaN</td>\n",
       "      <td>NaN</td>\n",
       "      <td>41.685089</td>\n",
       "      <td>-87.642094</td>\n",
       "    </tr>\n",
       "    <tr>\n",
       "      <td>229221</td>\n",
       "      <td>2019</td>\n",
       "      <td>12</td>\n",
       "      <td>31</td>\n",
       "      <td>0</td>\n",
       "      <td>115TH AND HALSTED</td>\n",
       "      <td>0</td>\n",
       "      <td>2019-12-31 00:00:00</td>\n",
       "      <td>NaN</td>\n",
       "      <td>0</td>\n",
       "      <td>NaN</td>\n",
       "      <td>None</td>\n",
       "      <td>NaN</td>\n",
       "      <td>NaN</td>\n",
       "      <td>NaN</td>\n",
       "      <td>41.685089</td>\n",
       "      <td>-87.642094</td>\n",
       "    </tr>\n",
       "  </tbody>\n",
       "</table>\n",
       "<p>852 rows × 16 columns</p>\n",
       "</div>"
      ],
      "text/plain": [
       "        year  month  day  hour       intersection  rlc_state  \\\n",
       "95614   2017      9    1     0  115TH AND HALSTED          1   \n",
       "95771   2017      9    2     0  115TH AND HALSTED          1   \n",
       "95928   2017      9    3     0  115TH AND HALSTED          1   \n",
       "96085   2017      9    4     0  115TH AND HALSTED          1   \n",
       "96242   2017      9    5     0  115TH AND HALSTED          1   \n",
       "...      ...    ...  ...   ...                ...        ...   \n",
       "228593  2019     12   27     0  115TH AND HALSTED          0   \n",
       "228750  2019     12   28     0  115TH AND HALSTED          0   \n",
       "228907  2019     12   29     0  115TH AND HALSTED          0   \n",
       "229064  2019     12   30     0  115TH AND HALSTED          0   \n",
       "229221  2019     12   31     0  115TH AND HALSTED          0   \n",
       "\n",
       "                   datetime  injuries_total  n_crash  injuries_fatal  \\\n",
       "95614   2017-09-01 00:00:00             NaN        0             NaN   \n",
       "95771   2017-09-02 00:00:00             NaN        0             NaN   \n",
       "95928   2017-09-03 00:00:00             NaN        0             NaN   \n",
       "96085   2017-09-04 00:00:00             NaN        0             NaN   \n",
       "96242   2017-09-05 00:00:00             NaN        0             NaN   \n",
       "...                     ...             ...      ...             ...   \n",
       "228593  2019-12-27 00:00:00             NaN        0             NaN   \n",
       "228750  2019-12-28 00:00:00             NaN        0             NaN   \n",
       "228907  2019-12-29 00:00:00             NaN        0             NaN   \n",
       "229064  2019-12-30 00:00:00             NaN        0             NaN   \n",
       "229221  2019-12-31 00:00:00             NaN        0             NaN   \n",
       "\n",
       "       first_crash_type  rear_end  angle  turning        lat       long  \n",
       "95614              None       NaN    NaN      NaN  41.685089 -87.642094  \n",
       "95771              None       NaN    NaN      NaN  41.685089 -87.642094  \n",
       "95928              None       NaN    NaN      NaN  41.685089 -87.642094  \n",
       "96085              None       NaN    NaN      NaN  41.685089 -87.642094  \n",
       "96242              None       NaN    NaN      NaN  41.685089 -87.642094  \n",
       "...                 ...       ...    ...      ...        ...        ...  \n",
       "228593             None       NaN    NaN      NaN  41.685089 -87.642094  \n",
       "228750             None       NaN    NaN      NaN  41.685089 -87.642094  \n",
       "228907             None       NaN    NaN      NaN  41.685089 -87.642094  \n",
       "229064             None       NaN    NaN      NaN  41.685089 -87.642094  \n",
       "229221             None       NaN    NaN      NaN  41.685089 -87.642094  \n",
       "\n",
       "[852 rows x 16 columns]"
      ]
     },
     "execution_count": 11,
     "metadata": {},
     "output_type": "execute_result"
    }
   ],
   "source": [
    "cam_df[cam_df.intersection == '115TH AND HALSTED']"
   ]
  },
  {
   "cell_type": "code",
   "execution_count": 12,
   "metadata": {},
   "outputs": [
    {
     "name": "stdout",
     "output_type": "stream",
     "text": [
      "0    129311\n",
      "1      4342\n",
      "2       104\n",
      "3         7\n",
      "Name: n_crash, dtype: int64\n",
      "<class 'pandas.core.frame.DataFrame'>\n",
      "Int64Index: 133764 entries, 95613 to 229376\n",
      "Data columns (total 16 columns):\n",
      "year                133764 non-null int64\n",
      "month               133764 non-null int64\n",
      "day                 133764 non-null int64\n",
      "hour                133764 non-null int64\n",
      "intersection        133764 non-null object\n",
      "rlc_state           133764 non-null int64\n",
      "datetime            133764 non-null object\n",
      "injuries_total      4452 non-null float64\n",
      "n_crash             133764 non-null int64\n",
      "injuries_fatal      4452 non-null float64\n",
      "first_crash_type    119 non-null object\n",
      "rear_end            4453 non-null float64\n",
      "angle               4453 non-null float64\n",
      "turning             4453 non-null float64\n",
      "lat                 133764 non-null float64\n",
      "long                133764 non-null float64\n",
      "dtypes: float64(7), int64(6), object(3)\n",
      "memory usage: 17.3+ MB\n",
      "None\n"
     ]
    }
   ],
   "source": [
    "cam_df.head()\n",
    "print(cam_df.n_crash.value_counts())\n",
    "print(cam_df.info())\n"
   ]
  },
  {
   "cell_type": "markdown",
   "metadata": {},
   "source": [
    "## Preprocess my data"
   ]
  },
  {
   "cell_type": "code",
   "execution_count": 13,
   "metadata": {},
   "outputs": [
    {
     "data": {
      "text/plain": [
       "(133764, 16)"
      ]
     },
     "execution_count": 13,
     "metadata": {},
     "output_type": "execute_result"
    }
   ],
   "source": [
    "cam_df.first_crash_type.unique()\n",
    "cam_df['rear_end'].fillna(0, inplace=True)\n",
    "cam_df['angle'].fillna(0, inplace=True)\n",
    "cam_df['turning'].fillna(0, inplace=True)\n",
    "cam_df['injuries_total'].fillna(0, inplace=True)\n",
    "cam_df['injuries_fatal'].fillna(0, inplace=True)\n",
    "\n",
    "cam_df.shape\n"
   ]
  },
  {
   "cell_type": "code",
   "execution_count": 14,
   "metadata": {},
   "outputs": [
    {
     "data": {
      "text/plain": [
       "year                     0\n",
       "month                    0\n",
       "day                      0\n",
       "hour                     0\n",
       "intersection             0\n",
       "rlc_state                0\n",
       "datetime                 0\n",
       "injuries_total           0\n",
       "n_crash                  0\n",
       "injuries_fatal           0\n",
       "first_crash_type    133645\n",
       "rear_end                 0\n",
       "angle                    0\n",
       "turning                  0\n",
       "lat                      0\n",
       "long                     0\n",
       "dtype: int64"
      ]
     },
     "execution_count": 14,
     "metadata": {},
     "output_type": "execute_result"
    }
   ],
   "source": [
    "cam_df.isna().sum()  # one entry each accident with no violations/vio_date.  Days with no"
   ]
  },
  {
   "cell_type": "markdown",
   "metadata": {},
   "source": [
    "Looks like we are missing violations for cameras that are turned off.  Some of these will be our experiment."
   ]
  },
  {
   "cell_type": "code",
   "execution_count": 15,
   "metadata": {},
   "outputs": [
    {
     "name": "stdout",
     "output_type": "stream",
     "text": [
      "133764\n",
      "157\n",
      "4571\n",
      "0\n"
     ]
    }
   ],
   "source": [
    "print(len(cam_df)) # should be same as all if everything merged properly\n",
    "\n",
    "print(len(cam_df.intersection.unique()))\n",
    "print(cam_df.n_crash.sum())\n",
    "print(cam_df.rlc_state.isna().sum())"
   ]
  },
  {
   "cell_type": "markdown",
   "metadata": {},
   "source": [
    "### Split my control and experiment groups\n"
   ]
  },
  {
   "cell_type": "code",
   "execution_count": 16,
   "metadata": {},
   "outputs": [
    {
     "name": "stdout",
     "output_type": "stream",
     "text": [
      "851\n"
     ]
    },
    {
     "data": {
      "text/plain": [
       "['115TH AND HALSTED',\n",
       " 'FOSTER AND NORTHWEST HIGHWAY',\n",
       " 'HALSTED AND 103RD',\n",
       " 'LAKE AND UPPER WACKER',\n",
       " 'MICHIGAN AND JACKSON',\n",
       " 'MICHIGAN AND ONTARIO',\n",
       " 'MILWAUKEE AND CENTRAL']"
      ]
     },
     "execution_count": 16,
     "metadata": {},
     "output_type": "execute_result"
    }
   ],
   "source": [
    "from datetime import date\n",
    "\n",
    "# Which cameras have some rlc_state of 0\n",
    "cam_df.datetime = pd.to_datetime(cam_df.datetime)\n",
    "\n",
    "days = (cam_df.datetime.max() - cam_df.datetime.min()).days\n",
    "print(days)\n",
    "\n",
    "my_intersections = []\n",
    "\n",
    "for intersection in cam_df.intersection.unique():\n",
    "    if cam_df[cam_df['intersection'] == intersection]['rlc_state'].sum() > 0 and cam_df[cam_df['intersection'] == intersection]['rlc_state'].sum() < days:\n",
    "        my_intersections.append(intersection)\n",
    "\n",
    "my_intersections"
   ]
  },
  {
   "cell_type": "code",
   "execution_count": 17,
   "metadata": {},
   "outputs": [
    {
     "name": "stdout",
     "output_type": "stream",
     "text": [
      "4222 349\n"
     ]
    }
   ],
   "source": [
    "all_on = cam_df[cam_df['rlc_state']==1]\n",
    "all_off = cam_df[cam_df['rlc_state']==0]\n",
    "print(all_on.n_crash.sum(), all_off.n_crash.sum())"
   ]
  },
  {
   "cell_type": "markdown",
   "metadata": {},
   "source": [
    "Initial look at how cam on/off compares with count of crashes and percent of intersection days with crashes"
   ]
  },
  {
   "cell_type": "code",
   "execution_count": 18,
   "metadata": {},
   "outputs": [
    {
     "name": "stdout",
     "output_type": "stream",
     "text": [
      "Cameras ON\n",
      "Crashes: 4222, Intersection-Days: 126493\n",
      "Crashes per day: 0.03338\n",
      "\n",
      "Cameras OFF\n",
      "Crashes: 349, Intersection-Days: 7271\n",
      "Crashes per day: 0.04800\n"
     ]
    }
   ],
   "source": [
    "print('Cameras ON')\n",
    "print('Crashes: {}, Intersection-Days: {}\\nCrashes per day: {:.5f}'.format(all_on.n_crash.sum(), \n",
    "                                                                     len(all_on), \n",
    "                                                                     all_on.n_crash.sum()/len(all_on),))\n",
    "\n",
    "print()\n",
    "print('Cameras OFF')\n",
    "print('Crashes: {}, Intersection-Days: {}\\nCrashes per day: {:.5f}'.format(all_off.n_crash.sum(), \n",
    "                                                                     len(all_off), \n",
    "                                                                     all_off.n_crash.sum()/len(all_off)))\n"
   ]
  },
  {
   "cell_type": "markdown",
   "metadata": {},
   "source": [
    "# Hypothesis test with full data set.\n",
    "\n",
    "We have an experiment and control group as dataframes.  The control is cam_on.\n",
    "Our null hypothesis is that turning the cameras off at an intersection has no effect on the number of crashes.\n",
    "\n",
    "We will use an alpha of 0.05 to reject the null hypothesis"
   ]
  },
  {
   "cell_type": "code",
   "execution_count": 19,
   "metadata": {},
   "outputs": [],
   "source": [
    "# We make two bool series for on and off\n",
    "np.random.seed(seed=0)\n",
    "\n",
    "on = all_on['n_crash'].astype(bool)\n",
    "off = all_off['n_crash'].astype(bool)"
   ]
  },
  {
   "cell_type": "code",
   "execution_count": 20,
   "metadata": {},
   "outputs": [
    {
     "name": "stdout",
     "output_type": "stream",
     "text": [
      "Cameras ON mean: 0.03338\n",
      "Cameras OFF mean: 0.04800\n",
      "\n",
      "Actual with rlc off: 349\n",
      "Expected with rlc off: 242.7\n",
      "\n",
      "Standard deviation: 15.32\n",
      "z score: 6.94\n",
      "\n",
      "P value: 1.944e-12\n",
      "\n",
      "REJECT the null hypothesis\n",
      "Observations: 133764\n",
      "Effect size: 0.079\n",
      "Power: 0.99\n"
     ]
    }
   ],
   "source": [
    "\n",
    "\n",
    "def hyp_test(on, off, alpha):\n",
    "    '''\n",
    "    Hypothesis testing for camera on and camera off populations\n",
    "            Parameters:\n",
    "                    on (Series): Boolean series (crash/no crash)\n",
    "                    off (Series): Another Boolean Series (crash/no crash)\n",
    "                    alpha (float): Statistical significance (usually 0.05)\n",
    "\n",
    "            Returns:\n",
    "                    z_score (float): z score (std devs)\n",
    "                    p_val (float): probability of series drawn from same dataset\n",
    "                    expected_off (float): expected number of off based on the on_rate\n",
    "    '''\n",
    "    on_rate = on.mean()\n",
    "    off_rate = off.mean()\n",
    "    expected_off = on_rate * len(off)\n",
    "\n",
    "    print('Cameras ON mean: {:.5f}'.format(on_rate))\n",
    "    print('Cameras OFF mean: {:.5f}'.format(off_rate))\n",
    "    print()\n",
    "\n",
    "    print('Actual with rlc off:', off.sum())\n",
    "    print('Expected with rlc off: {:.1f}'.format(expected_off))\n",
    "    n = len(off)\n",
    "    p = on_rate\n",
    "    var = n * p * (1-p)\n",
    "    std = np.sqrt(var)\n",
    "\n",
    "    print()\n",
    "    print('Standard deviation: {:.2f}'.format(std))  \n",
    "    \n",
    "    z_score = (off.sum() - expected_off)/std\n",
    "    print('z score: {:.2f}'.format(z_score))\n",
    "    \n",
    "    print()\n",
    "    p_val = stats.norm.sf(z_score) #or 1 - stats.norm.cdf(z_score)\n",
    "    print('P value: {:.3e}'.format(p_val))\n",
    "    \n",
    "    print()\n",
    "    if p_val < alpha:\n",
    "        print('REJECT the null hypothesis')\n",
    "    else: \n",
    "        print('DO NOT REJECT the null hypothesis')\n",
    "        \n",
    "    return z_score, p_val, expected_off\n",
    "    \n",
    "  \n",
    "def get_power(on, off):\n",
    "    # print out the power and effect for the populations\n",
    "    power_analysis = TTestIndPower()\n",
    "\n",
    "    # total days of observations\n",
    "    observations = len(on) + len(off)\n",
    "    print('Observations: {}'.format(observations))\n",
    "\n",
    "    # effect size is measure of effect (small 02, medium )\n",
    "    effect_size = abs(off.mean() - on.mean())/ on.std()\n",
    "    print('Effect size: {:.3f}'.format(effect_size) ) # effect size\n",
    "    power = power_analysis.solve_power(effect_size=effect_size, nobs1=observations, alpha=.05)  # nobs1, alpha, power, effect_size\n",
    "    if power == 1:\n",
    "        print('Power: {:.2f}'.format(0.99))\n",
    "    else:\n",
    "        print('Power: {:.2f}'.format(power))\n",
    "\n",
    "def confidence_interval(data, confidence=0.95):\n",
    "    #create 95% confidence interval for population mean weight\n",
    "    lb, ub = stats.t.interval(alpha=confidence, df=len(data)-1, loc=np.mean(data), scale=stats.sem(data)) \n",
    "    print('95% Confidence Interval (cam on mean): {:.4f} to {:.4f}'.format(lb, ub))\n",
    "    return lb, ub\n",
    "\n",
    "\n",
    "\n",
    "\n",
    "on = all_on['n_crash']\n",
    "off = all_off['n_crash']\n",
    "  \n",
    "z, p, expected = hyp_test(on, off, 0.05)\n",
    "\n",
    "get_power(on, off)\n"
   ]
  },
  {
   "cell_type": "markdown",
   "metadata": {},
   "source": [
    "We see many more crashes with cameras off.  This is our first indication that red light cameras affect crashes."
   ]
  },
  {
   "cell_type": "markdown",
   "metadata": {},
   "source": [
    "Double check using a binomial test and Fischer's Test"
   ]
  },
  {
   "cell_type": "code",
   "execution_count": 21,
   "metadata": {},
   "outputs": [
    {
     "name": "stdout",
     "output_type": "stream",
     "text": [
      "Binomial Test pval: 5.89e-11\n",
      "Fisher's Test pval: 2.53e-10\n"
     ]
    }
   ],
   "source": [
    "# binomial test\n",
    "pval = stats.binom_test(off.sum(),n=len(off),p=on.mean())\n",
    "print('Binomial Test pval: {:.2e}'.format(pval))\n",
    "\n",
    "\n",
    "oddsratio, pvalue = stats.fisher_exact([[on.sum(), len(on)-on.sum()], [off.sum(), len(off)-off.sum()]])\n",
    "print('Fisher\\'s Test pval: {:.2e}'.format(pvalue))"
   ]
  },
  {
   "cell_type": "markdown",
   "metadata": {},
   "source": [
    "We would reject the null hypothesis by any test.  \n",
    "First indication that red light cameras are statistically significant in reducing crashes.\n",
    "\n",
    "The odds ratio tells us that the change is 67%"
   ]
  },
  {
   "cell_type": "markdown",
   "metadata": {},
   "source": [
    "# Hypothesis test with intersections of interest"
   ]
  },
  {
   "cell_type": "markdown",
   "metadata": {},
   "source": [
    "The previous test may be misleading.  \n",
    "Only a small percentage of cameras actually have dates where they were turned on/off during the examined time period. It would be more useful to select data only from the intersections of interest to compare like items.\n",
    "\n",
    "Next, we will select the cameras that have start/end dates within the timeframe Sept-17 to Dec-20.\n",
    "We can then look at on/off data for those cams only"
   ]
  },
  {
   "cell_type": "markdown",
   "metadata": {},
   "source": [
    "### Filter the cams of interest"
   ]
  },
  {
   "cell_type": "code",
   "execution_count": 22,
   "metadata": {},
   "outputs": [
    {
     "name": "stdout",
     "output_type": "stream",
     "text": [
      "['115TH AND HALSTED' 'FOSTER AND NORTHWEST HIGHWAY' 'HALSTED AND 103RD'\n",
      " 'LAKE AND UPPER WACKER' 'MICHIGAN AND JACKSON' 'MICHIGAN AND ONTARIO'\n",
      " 'MILWAUKEE AND CENTRAL']\n"
     ]
    }
   ],
   "source": [
    "# get cams that have a start date within the investigated period or an end date within it.\n",
    "# select_cams = cam_df[((cam_df['start'] > datetime(2017,9,1)) & (cam_df['end'] > datetime(2017,9,1)))\n",
    "#                      | ((cam_df['end'] < datetime(2021, 1, 1)) & (cam_df['end'] > datetime(2017, 9,1)))]\n",
    "\n",
    "\n",
    "select_cams = cam_df[cam_df['intersection'].isin(my_intersections)]\n",
    "\n",
    "print(select_cams.intersection.unique())  # 7  total"
   ]
  },
  {
   "cell_type": "markdown",
   "metadata": {},
   "source": [
    "## Plot cams of interest"
   ]
  },
  {
   "cell_type": "code",
   "execution_count": 23,
   "metadata": {},
   "outputs": [
    {
     "data": {
      "text/plain": [
       "array(['115TH AND HALSTED', 'FOSTER AND NORTHWEST HIGHWAY',\n",
       "       'HALSTED AND 103RD', 'LAKE AND UPPER WACKER',\n",
       "       'MICHIGAN AND JACKSON', 'MICHIGAN AND ONTARIO',\n",
       "       'MILWAUKEE AND CENTRAL'], dtype=object)"
      ]
     },
     "execution_count": 23,
     "metadata": {},
     "output_type": "execute_result"
    }
   ],
   "source": [
    "select_cams.intersection.unique()"
   ]
  },
  {
   "cell_type": "code",
   "execution_count": 24,
   "metadata": {},
   "outputs": [
    {
     "data": {
      "text/html": [
       "        <script type=\"text/javascript\">\n",
       "        window.PlotlyConfig = {MathJaxConfig: 'local'};\n",
       "        if (window.MathJax) {MathJax.Hub.Config({SVG: {font: \"STIX-Web\"}});}\n",
       "        if (typeof require !== 'undefined') {\n",
       "        require.undef(\"plotly\");\n",
       "        requirejs.config({\n",
       "            paths: {\n",
       "                'plotly': ['https://cdn.plot.ly/plotly-latest.min']\n",
       "            }\n",
       "        });\n",
       "        require(['plotly'], function(Plotly) {\n",
       "            window._Plotly = Plotly;\n",
       "        });\n",
       "        }\n",
       "        </script>\n",
       "        "
      ]
     },
     "metadata": {},
     "output_type": "display_data"
    },
    {
     "data": {
      "application/vnd.plotly.v1+json": {
       "config": {
        "plotlyServerURL": "https://plotly.com"
       },
       "data": [
        {
         "hoverlabel": {
          "namelength": 0
         },
         "hovertemplate": "<b>%{hovertext}</b><br><br>size=%{marker.size}<br>lat=%{lat}<br>long=%{lon}<br>n_crash=%{marker.color}",
         "hovertext": [
          "115TH AND HALSTED",
          "FOSTER AND NORTHWEST HIGHWAY",
          "HALSTED AND 103RD",
          "LAKE AND UPPER WACKER",
          "MICHIGAN AND JACKSON",
          "MICHIGAN AND ONTARIO",
          "MILWAUKEE AND CENTRAL"
         ],
         "lat": [
          41.68508889165794,
          41.975691161311566,
          41.706928677741764,
          41.88571759026685,
          41.87829633037658,
          41.89335657408796,
          41.97637697507395
         ],
         "legendgroup": "",
         "lon": [
          -87.64209428512216,
          -87.76930391763892,
          -87.64279117531642,
          -87.6368691605649,
          -87.6243184341943,
          -87.62421989249611,
          -87.76850641763892
         ],
         "marker": {
          "color": [
           23,
           9,
           34,
           20,
           18,
           50,
           0
          ],
          "coloraxis": "coloraxis",
          "opacity": 0.9,
          "size": [
           50,
           50,
           50,
           50,
           50,
           50,
           50
          ],
          "sizemode": "area",
          "sizeref": 0.5
         },
         "mode": "markers",
         "name": "",
         "showlegend": false,
         "subplot": "mapbox",
         "type": "scattermapbox"
        }
       ],
       "layout": {
        "coloraxis": {
         "colorbar": {
          "title": {
           "text": "n_crash"
          }
         },
         "colorscale": [
          [
           0,
           "rgb(150,0,90)"
          ],
          [
           0.125,
           "rgb(0,0,200)"
          ],
          [
           0.25,
           "rgb(0,25,255)"
          ],
          [
           0.375,
           "rgb(0,152,255)"
          ],
          [
           0.5,
           "rgb(44,255,150)"
          ],
          [
           0.625,
           "rgb(151,255,0)"
          ],
          [
           0.75,
           "rgb(255,234,0)"
          ],
          [
           0.875,
           "rgb(255,111,0)"
          ],
          [
           1,
           "rgb(255,0,0)"
          ]
         ]
        },
        "height": 600,
        "legend": {
         "itemsizing": "constant",
         "tracegroupgap": 0
        },
        "mapbox": {
         "center": {
          "lat": 41.85735088578809,
          "lon": -87.67258618328167
         },
         "domain": {
          "x": [
           0,
           0.98
          ],
          "y": [
           0,
           1
          ]
         },
         "style": "stamen-toner",
         "zoom": 9.5
        },
        "margin": {
         "t": 60
        },
        "template": {
         "data": {
          "bar": [
           {
            "error_x": {
             "color": "#2a3f5f"
            },
            "error_y": {
             "color": "#2a3f5f"
            },
            "marker": {
             "line": {
              "color": "#E5ECF6",
              "width": 0.5
             }
            },
            "type": "bar"
           }
          ],
          "barpolar": [
           {
            "marker": {
             "line": {
              "color": "#E5ECF6",
              "width": 0.5
             }
            },
            "type": "barpolar"
           }
          ],
          "carpet": [
           {
            "aaxis": {
             "endlinecolor": "#2a3f5f",
             "gridcolor": "white",
             "linecolor": "white",
             "minorgridcolor": "white",
             "startlinecolor": "#2a3f5f"
            },
            "baxis": {
             "endlinecolor": "#2a3f5f",
             "gridcolor": "white",
             "linecolor": "white",
             "minorgridcolor": "white",
             "startlinecolor": "#2a3f5f"
            },
            "type": "carpet"
           }
          ],
          "choropleth": [
           {
            "colorbar": {
             "outlinewidth": 0,
             "ticks": ""
            },
            "type": "choropleth"
           }
          ],
          "contour": [
           {
            "colorbar": {
             "outlinewidth": 0,
             "ticks": ""
            },
            "colorscale": [
             [
              0,
              "#0d0887"
             ],
             [
              0.1111111111111111,
              "#46039f"
             ],
             [
              0.2222222222222222,
              "#7201a8"
             ],
             [
              0.3333333333333333,
              "#9c179e"
             ],
             [
              0.4444444444444444,
              "#bd3786"
             ],
             [
              0.5555555555555556,
              "#d8576b"
             ],
             [
              0.6666666666666666,
              "#ed7953"
             ],
             [
              0.7777777777777778,
              "#fb9f3a"
             ],
             [
              0.8888888888888888,
              "#fdca26"
             ],
             [
              1,
              "#f0f921"
             ]
            ],
            "type": "contour"
           }
          ],
          "contourcarpet": [
           {
            "colorbar": {
             "outlinewidth": 0,
             "ticks": ""
            },
            "type": "contourcarpet"
           }
          ],
          "heatmap": [
           {
            "colorbar": {
             "outlinewidth": 0,
             "ticks": ""
            },
            "colorscale": [
             [
              0,
              "#0d0887"
             ],
             [
              0.1111111111111111,
              "#46039f"
             ],
             [
              0.2222222222222222,
              "#7201a8"
             ],
             [
              0.3333333333333333,
              "#9c179e"
             ],
             [
              0.4444444444444444,
              "#bd3786"
             ],
             [
              0.5555555555555556,
              "#d8576b"
             ],
             [
              0.6666666666666666,
              "#ed7953"
             ],
             [
              0.7777777777777778,
              "#fb9f3a"
             ],
             [
              0.8888888888888888,
              "#fdca26"
             ],
             [
              1,
              "#f0f921"
             ]
            ],
            "type": "heatmap"
           }
          ],
          "heatmapgl": [
           {
            "colorbar": {
             "outlinewidth": 0,
             "ticks": ""
            },
            "colorscale": [
             [
              0,
              "#0d0887"
             ],
             [
              0.1111111111111111,
              "#46039f"
             ],
             [
              0.2222222222222222,
              "#7201a8"
             ],
             [
              0.3333333333333333,
              "#9c179e"
             ],
             [
              0.4444444444444444,
              "#bd3786"
             ],
             [
              0.5555555555555556,
              "#d8576b"
             ],
             [
              0.6666666666666666,
              "#ed7953"
             ],
             [
              0.7777777777777778,
              "#fb9f3a"
             ],
             [
              0.8888888888888888,
              "#fdca26"
             ],
             [
              1,
              "#f0f921"
             ]
            ],
            "type": "heatmapgl"
           }
          ],
          "histogram": [
           {
            "marker": {
             "colorbar": {
              "outlinewidth": 0,
              "ticks": ""
             }
            },
            "type": "histogram"
           }
          ],
          "histogram2d": [
           {
            "colorbar": {
             "outlinewidth": 0,
             "ticks": ""
            },
            "colorscale": [
             [
              0,
              "#0d0887"
             ],
             [
              0.1111111111111111,
              "#46039f"
             ],
             [
              0.2222222222222222,
              "#7201a8"
             ],
             [
              0.3333333333333333,
              "#9c179e"
             ],
             [
              0.4444444444444444,
              "#bd3786"
             ],
             [
              0.5555555555555556,
              "#d8576b"
             ],
             [
              0.6666666666666666,
              "#ed7953"
             ],
             [
              0.7777777777777778,
              "#fb9f3a"
             ],
             [
              0.8888888888888888,
              "#fdca26"
             ],
             [
              1,
              "#f0f921"
             ]
            ],
            "type": "histogram2d"
           }
          ],
          "histogram2dcontour": [
           {
            "colorbar": {
             "outlinewidth": 0,
             "ticks": ""
            },
            "colorscale": [
             [
              0,
              "#0d0887"
             ],
             [
              0.1111111111111111,
              "#46039f"
             ],
             [
              0.2222222222222222,
              "#7201a8"
             ],
             [
              0.3333333333333333,
              "#9c179e"
             ],
             [
              0.4444444444444444,
              "#bd3786"
             ],
             [
              0.5555555555555556,
              "#d8576b"
             ],
             [
              0.6666666666666666,
              "#ed7953"
             ],
             [
              0.7777777777777778,
              "#fb9f3a"
             ],
             [
              0.8888888888888888,
              "#fdca26"
             ],
             [
              1,
              "#f0f921"
             ]
            ],
            "type": "histogram2dcontour"
           }
          ],
          "mesh3d": [
           {
            "colorbar": {
             "outlinewidth": 0,
             "ticks": ""
            },
            "type": "mesh3d"
           }
          ],
          "parcoords": [
           {
            "line": {
             "colorbar": {
              "outlinewidth": 0,
              "ticks": ""
             }
            },
            "type": "parcoords"
           }
          ],
          "scatter": [
           {
            "marker": {
             "colorbar": {
              "outlinewidth": 0,
              "ticks": ""
             }
            },
            "type": "scatter"
           }
          ],
          "scatter3d": [
           {
            "line": {
             "colorbar": {
              "outlinewidth": 0,
              "ticks": ""
             }
            },
            "marker": {
             "colorbar": {
              "outlinewidth": 0,
              "ticks": ""
             }
            },
            "type": "scatter3d"
           }
          ],
          "scattercarpet": [
           {
            "marker": {
             "colorbar": {
              "outlinewidth": 0,
              "ticks": ""
             }
            },
            "type": "scattercarpet"
           }
          ],
          "scattergeo": [
           {
            "marker": {
             "colorbar": {
              "outlinewidth": 0,
              "ticks": ""
             }
            },
            "type": "scattergeo"
           }
          ],
          "scattergl": [
           {
            "marker": {
             "colorbar": {
              "outlinewidth": 0,
              "ticks": ""
             }
            },
            "type": "scattergl"
           }
          ],
          "scattermapbox": [
           {
            "marker": {
             "colorbar": {
              "outlinewidth": 0,
              "ticks": ""
             }
            },
            "type": "scattermapbox"
           }
          ],
          "scatterpolar": [
           {
            "marker": {
             "colorbar": {
              "outlinewidth": 0,
              "ticks": ""
             }
            },
            "type": "scatterpolar"
           }
          ],
          "scatterpolargl": [
           {
            "marker": {
             "colorbar": {
              "outlinewidth": 0,
              "ticks": ""
             }
            },
            "type": "scatterpolargl"
           }
          ],
          "scatterternary": [
           {
            "marker": {
             "colorbar": {
              "outlinewidth": 0,
              "ticks": ""
             }
            },
            "type": "scatterternary"
           }
          ],
          "surface": [
           {
            "colorbar": {
             "outlinewidth": 0,
             "ticks": ""
            },
            "colorscale": [
             [
              0,
              "#0d0887"
             ],
             [
              0.1111111111111111,
              "#46039f"
             ],
             [
              0.2222222222222222,
              "#7201a8"
             ],
             [
              0.3333333333333333,
              "#9c179e"
             ],
             [
              0.4444444444444444,
              "#bd3786"
             ],
             [
              0.5555555555555556,
              "#d8576b"
             ],
             [
              0.6666666666666666,
              "#ed7953"
             ],
             [
              0.7777777777777778,
              "#fb9f3a"
             ],
             [
              0.8888888888888888,
              "#fdca26"
             ],
             [
              1,
              "#f0f921"
             ]
            ],
            "type": "surface"
           }
          ],
          "table": [
           {
            "cells": {
             "fill": {
              "color": "#EBF0F8"
             },
             "line": {
              "color": "white"
             }
            },
            "header": {
             "fill": {
              "color": "#C8D4E3"
             },
             "line": {
              "color": "white"
             }
            },
            "type": "table"
           }
          ]
         },
         "layout": {
          "annotationdefaults": {
           "arrowcolor": "#2a3f5f",
           "arrowhead": 0,
           "arrowwidth": 1
          },
          "colorscale": {
           "diverging": [
            [
             0,
             "#8e0152"
            ],
            [
             0.1,
             "#c51b7d"
            ],
            [
             0.2,
             "#de77ae"
            ],
            [
             0.3,
             "#f1b6da"
            ],
            [
             0.4,
             "#fde0ef"
            ],
            [
             0.5,
             "#f7f7f7"
            ],
            [
             0.6,
             "#e6f5d0"
            ],
            [
             0.7,
             "#b8e186"
            ],
            [
             0.8,
             "#7fbc41"
            ],
            [
             0.9,
             "#4d9221"
            ],
            [
             1,
             "#276419"
            ]
           ],
           "sequential": [
            [
             0,
             "#0d0887"
            ],
            [
             0.1111111111111111,
             "#46039f"
            ],
            [
             0.2222222222222222,
             "#7201a8"
            ],
            [
             0.3333333333333333,
             "#9c179e"
            ],
            [
             0.4444444444444444,
             "#bd3786"
            ],
            [
             0.5555555555555556,
             "#d8576b"
            ],
            [
             0.6666666666666666,
             "#ed7953"
            ],
            [
             0.7777777777777778,
             "#fb9f3a"
            ],
            [
             0.8888888888888888,
             "#fdca26"
            ],
            [
             1,
             "#f0f921"
            ]
           ],
           "sequentialminus": [
            [
             0,
             "#0d0887"
            ],
            [
             0.1111111111111111,
             "#46039f"
            ],
            [
             0.2222222222222222,
             "#7201a8"
            ],
            [
             0.3333333333333333,
             "#9c179e"
            ],
            [
             0.4444444444444444,
             "#bd3786"
            ],
            [
             0.5555555555555556,
             "#d8576b"
            ],
            [
             0.6666666666666666,
             "#ed7953"
            ],
            [
             0.7777777777777778,
             "#fb9f3a"
            ],
            [
             0.8888888888888888,
             "#fdca26"
            ],
            [
             1,
             "#f0f921"
            ]
           ]
          },
          "colorway": [
           "#636efa",
           "#EF553B",
           "#00cc96",
           "#ab63fa",
           "#FFA15A",
           "#19d3f3",
           "#FF6692",
           "#B6E880",
           "#FF97FF",
           "#FECB52"
          ],
          "font": {
           "color": "#2a3f5f"
          },
          "geo": {
           "bgcolor": "white",
           "lakecolor": "white",
           "landcolor": "#E5ECF6",
           "showlakes": true,
           "showland": true,
           "subunitcolor": "white"
          },
          "hoverlabel": {
           "align": "left"
          },
          "hovermode": "closest",
          "mapbox": {
           "style": "light"
          },
          "paper_bgcolor": "white",
          "plot_bgcolor": "#E5ECF6",
          "polar": {
           "angularaxis": {
            "gridcolor": "white",
            "linecolor": "white",
            "ticks": ""
           },
           "bgcolor": "#E5ECF6",
           "radialaxis": {
            "gridcolor": "white",
            "linecolor": "white",
            "ticks": ""
           }
          },
          "scene": {
           "xaxis": {
            "backgroundcolor": "#E5ECF6",
            "gridcolor": "white",
            "gridwidth": 2,
            "linecolor": "white",
            "showbackground": true,
            "ticks": "",
            "zerolinecolor": "white"
           },
           "yaxis": {
            "backgroundcolor": "#E5ECF6",
            "gridcolor": "white",
            "gridwidth": 2,
            "linecolor": "white",
            "showbackground": true,
            "ticks": "",
            "zerolinecolor": "white"
           },
           "zaxis": {
            "backgroundcolor": "#E5ECF6",
            "gridcolor": "white",
            "gridwidth": 2,
            "linecolor": "white",
            "showbackground": true,
            "ticks": "",
            "zerolinecolor": "white"
           }
          },
          "shapedefaults": {
           "line": {
            "color": "#2a3f5f"
           }
          },
          "ternary": {
           "aaxis": {
            "gridcolor": "white",
            "linecolor": "white",
            "ticks": ""
           },
           "baxis": {
            "gridcolor": "white",
            "linecolor": "white",
            "ticks": ""
           },
           "bgcolor": "#E5ECF6",
           "caxis": {
            "gridcolor": "white",
            "linecolor": "white",
            "ticks": ""
           }
          },
          "title": {
           "x": 0.05
          },
          "xaxis": {
           "automargin": true,
           "gridcolor": "white",
           "linecolor": "white",
           "ticks": "",
           "zerolinecolor": "white",
           "zerolinewidth": 2
          },
          "yaxis": {
           "automargin": true,
           "gridcolor": "white",
           "linecolor": "white",
           "ticks": "",
           "zerolinecolor": "white",
           "zerolinewidth": 2
          }
         }
        },
        "width": 500
       }
      },
      "text/html": [
       "<div>\n",
       "        \n",
       "        \n",
       "            <div id=\"c2f88a1f-81b3-425c-92b5-acd0d30798a9\" class=\"plotly-graph-div\" style=\"height:600px; width:500px;\"></div>\n",
       "            <script type=\"text/javascript\">\n",
       "                require([\"plotly\"], function(Plotly) {\n",
       "                    window.PLOTLYENV=window.PLOTLYENV || {};\n",
       "                    \n",
       "                if (document.getElementById(\"c2f88a1f-81b3-425c-92b5-acd0d30798a9\")) {\n",
       "                    Plotly.newPlot(\n",
       "                        'c2f88a1f-81b3-425c-92b5-acd0d30798a9',\n",
       "                        [{\"hoverlabel\": {\"namelength\": 0}, \"hovertemplate\": \"<b>%{hovertext}</b><br><br>size=%{marker.size}<br>lat=%{lat}<br>long=%{lon}<br>n_crash=%{marker.color}\", \"hovertext\": [\"115TH AND HALSTED\", \"FOSTER AND NORTHWEST HIGHWAY\", \"HALSTED AND 103RD\", \"LAKE AND UPPER WACKER\", \"MICHIGAN AND JACKSON\", \"MICHIGAN AND ONTARIO\", \"MILWAUKEE AND CENTRAL\"], \"lat\": [41.68508889165794, 41.975691161311566, 41.706928677741764, 41.88571759026685, 41.87829633037658, 41.89335657408796, 41.97637697507395], \"legendgroup\": \"\", \"lon\": [-87.64209428512216, -87.76930391763892, -87.64279117531642, -87.6368691605649, -87.6243184341943, -87.62421989249611, -87.76850641763892], \"marker\": {\"color\": [23, 9, 34, 20, 18, 50, 0], \"coloraxis\": \"coloraxis\", \"opacity\": 0.9, \"size\": [50.0, 50.0, 50.0, 50.0, 50.0, 50.0, 50.0], \"sizemode\": \"area\", \"sizeref\": 0.5}, \"mode\": \"markers\", \"name\": \"\", \"showlegend\": false, \"subplot\": \"mapbox\", \"type\": \"scattermapbox\"}],\n",
       "                        {\"coloraxis\": {\"colorbar\": {\"title\": {\"text\": \"n_crash\"}}, \"colorscale\": [[0.0, \"rgb(150,0,90)\"], [0.125, \"rgb(0,0,200)\"], [0.25, \"rgb(0,25,255)\"], [0.375, \"rgb(0,152,255)\"], [0.5, \"rgb(44,255,150)\"], [0.625, \"rgb(151,255,0)\"], [0.75, \"rgb(255,234,0)\"], [0.875, \"rgb(255,111,0)\"], [1.0, \"rgb(255,0,0)\"]]}, \"height\": 600, \"legend\": {\"itemsizing\": \"constant\", \"tracegroupgap\": 0}, \"mapbox\": {\"center\": {\"lat\": 41.85735088578809, \"lon\": -87.67258618328167}, \"domain\": {\"x\": [0.0, 0.98], \"y\": [0.0, 1.0]}, \"style\": \"stamen-toner\", \"zoom\": 9.5}, \"margin\": {\"t\": 60}, \"template\": {\"data\": {\"bar\": [{\"error_x\": {\"color\": \"#2a3f5f\"}, \"error_y\": {\"color\": \"#2a3f5f\"}, \"marker\": {\"line\": {\"color\": \"#E5ECF6\", \"width\": 0.5}}, \"type\": \"bar\"}], \"barpolar\": [{\"marker\": {\"line\": {\"color\": \"#E5ECF6\", \"width\": 0.5}}, \"type\": \"barpolar\"}], \"carpet\": [{\"aaxis\": {\"endlinecolor\": \"#2a3f5f\", \"gridcolor\": \"white\", \"linecolor\": \"white\", \"minorgridcolor\": \"white\", \"startlinecolor\": \"#2a3f5f\"}, \"baxis\": {\"endlinecolor\": \"#2a3f5f\", \"gridcolor\": \"white\", \"linecolor\": \"white\", \"minorgridcolor\": \"white\", \"startlinecolor\": \"#2a3f5f\"}, \"type\": \"carpet\"}], \"choropleth\": [{\"colorbar\": {\"outlinewidth\": 0, \"ticks\": \"\"}, \"type\": \"choropleth\"}], \"contour\": [{\"colorbar\": {\"outlinewidth\": 0, \"ticks\": \"\"}, \"colorscale\": [[0.0, \"#0d0887\"], [0.1111111111111111, \"#46039f\"], [0.2222222222222222, \"#7201a8\"], [0.3333333333333333, \"#9c179e\"], [0.4444444444444444, \"#bd3786\"], [0.5555555555555556, \"#d8576b\"], [0.6666666666666666, \"#ed7953\"], [0.7777777777777778, \"#fb9f3a\"], [0.8888888888888888, \"#fdca26\"], [1.0, \"#f0f921\"]], \"type\": \"contour\"}], \"contourcarpet\": [{\"colorbar\": {\"outlinewidth\": 0, \"ticks\": \"\"}, \"type\": \"contourcarpet\"}], \"heatmap\": [{\"colorbar\": {\"outlinewidth\": 0, \"ticks\": \"\"}, \"colorscale\": [[0.0, \"#0d0887\"], [0.1111111111111111, \"#46039f\"], [0.2222222222222222, \"#7201a8\"], [0.3333333333333333, \"#9c179e\"], [0.4444444444444444, \"#bd3786\"], [0.5555555555555556, \"#d8576b\"], [0.6666666666666666, \"#ed7953\"], [0.7777777777777778, \"#fb9f3a\"], [0.8888888888888888, \"#fdca26\"], [1.0, \"#f0f921\"]], \"type\": \"heatmap\"}], \"heatmapgl\": [{\"colorbar\": {\"outlinewidth\": 0, \"ticks\": \"\"}, \"colorscale\": [[0.0, \"#0d0887\"], [0.1111111111111111, \"#46039f\"], [0.2222222222222222, \"#7201a8\"], [0.3333333333333333, \"#9c179e\"], [0.4444444444444444, \"#bd3786\"], [0.5555555555555556, \"#d8576b\"], [0.6666666666666666, \"#ed7953\"], [0.7777777777777778, \"#fb9f3a\"], [0.8888888888888888, \"#fdca26\"], [1.0, \"#f0f921\"]], \"type\": \"heatmapgl\"}], \"histogram\": [{\"marker\": {\"colorbar\": {\"outlinewidth\": 0, \"ticks\": \"\"}}, \"type\": \"histogram\"}], \"histogram2d\": [{\"colorbar\": {\"outlinewidth\": 0, \"ticks\": \"\"}, \"colorscale\": [[0.0, \"#0d0887\"], [0.1111111111111111, \"#46039f\"], [0.2222222222222222, \"#7201a8\"], [0.3333333333333333, \"#9c179e\"], [0.4444444444444444, \"#bd3786\"], [0.5555555555555556, \"#d8576b\"], [0.6666666666666666, \"#ed7953\"], [0.7777777777777778, \"#fb9f3a\"], [0.8888888888888888, \"#fdca26\"], [1.0, \"#f0f921\"]], \"type\": \"histogram2d\"}], \"histogram2dcontour\": [{\"colorbar\": {\"outlinewidth\": 0, \"ticks\": \"\"}, \"colorscale\": [[0.0, \"#0d0887\"], [0.1111111111111111, \"#46039f\"], [0.2222222222222222, \"#7201a8\"], [0.3333333333333333, \"#9c179e\"], [0.4444444444444444, \"#bd3786\"], [0.5555555555555556, \"#d8576b\"], [0.6666666666666666, \"#ed7953\"], [0.7777777777777778, \"#fb9f3a\"], [0.8888888888888888, \"#fdca26\"], [1.0, \"#f0f921\"]], \"type\": \"histogram2dcontour\"}], \"mesh3d\": [{\"colorbar\": {\"outlinewidth\": 0, \"ticks\": \"\"}, \"type\": \"mesh3d\"}], \"parcoords\": [{\"line\": {\"colorbar\": {\"outlinewidth\": 0, \"ticks\": \"\"}}, \"type\": \"parcoords\"}], \"scatter\": [{\"marker\": {\"colorbar\": {\"outlinewidth\": 0, \"ticks\": \"\"}}, \"type\": \"scatter\"}], \"scatter3d\": [{\"line\": {\"colorbar\": {\"outlinewidth\": 0, \"ticks\": \"\"}}, \"marker\": {\"colorbar\": {\"outlinewidth\": 0, \"ticks\": \"\"}}, \"type\": \"scatter3d\"}], \"scattercarpet\": [{\"marker\": {\"colorbar\": {\"outlinewidth\": 0, \"ticks\": \"\"}}, \"type\": \"scattercarpet\"}], \"scattergeo\": [{\"marker\": {\"colorbar\": {\"outlinewidth\": 0, \"ticks\": \"\"}}, \"type\": \"scattergeo\"}], \"scattergl\": [{\"marker\": {\"colorbar\": {\"outlinewidth\": 0, \"ticks\": \"\"}}, \"type\": \"scattergl\"}], \"scattermapbox\": [{\"marker\": {\"colorbar\": {\"outlinewidth\": 0, \"ticks\": \"\"}}, \"type\": \"scattermapbox\"}], \"scatterpolar\": [{\"marker\": {\"colorbar\": {\"outlinewidth\": 0, \"ticks\": \"\"}}, \"type\": \"scatterpolar\"}], \"scatterpolargl\": [{\"marker\": {\"colorbar\": {\"outlinewidth\": 0, \"ticks\": \"\"}}, \"type\": \"scatterpolargl\"}], \"scatterternary\": [{\"marker\": {\"colorbar\": {\"outlinewidth\": 0, \"ticks\": \"\"}}, \"type\": \"scatterternary\"}], \"surface\": [{\"colorbar\": {\"outlinewidth\": 0, \"ticks\": \"\"}, \"colorscale\": [[0.0, \"#0d0887\"], [0.1111111111111111, \"#46039f\"], [0.2222222222222222, \"#7201a8\"], [0.3333333333333333, \"#9c179e\"], [0.4444444444444444, \"#bd3786\"], [0.5555555555555556, \"#d8576b\"], [0.6666666666666666, \"#ed7953\"], [0.7777777777777778, \"#fb9f3a\"], [0.8888888888888888, \"#fdca26\"], [1.0, \"#f0f921\"]], \"type\": \"surface\"}], \"table\": [{\"cells\": {\"fill\": {\"color\": \"#EBF0F8\"}, \"line\": {\"color\": \"white\"}}, \"header\": {\"fill\": {\"color\": \"#C8D4E3\"}, \"line\": {\"color\": \"white\"}}, \"type\": \"table\"}]}, \"layout\": {\"annotationdefaults\": {\"arrowcolor\": \"#2a3f5f\", \"arrowhead\": 0, \"arrowwidth\": 1}, \"colorscale\": {\"diverging\": [[0, \"#8e0152\"], [0.1, \"#c51b7d\"], [0.2, \"#de77ae\"], [0.3, \"#f1b6da\"], [0.4, \"#fde0ef\"], [0.5, \"#f7f7f7\"], [0.6, \"#e6f5d0\"], [0.7, \"#b8e186\"], [0.8, \"#7fbc41\"], [0.9, \"#4d9221\"], [1, \"#276419\"]], \"sequential\": [[0.0, \"#0d0887\"], [0.1111111111111111, \"#46039f\"], [0.2222222222222222, \"#7201a8\"], [0.3333333333333333, \"#9c179e\"], [0.4444444444444444, \"#bd3786\"], [0.5555555555555556, \"#d8576b\"], [0.6666666666666666, \"#ed7953\"], [0.7777777777777778, \"#fb9f3a\"], [0.8888888888888888, \"#fdca26\"], [1.0, \"#f0f921\"]], \"sequentialminus\": [[0.0, \"#0d0887\"], [0.1111111111111111, \"#46039f\"], [0.2222222222222222, \"#7201a8\"], [0.3333333333333333, \"#9c179e\"], [0.4444444444444444, \"#bd3786\"], [0.5555555555555556, \"#d8576b\"], [0.6666666666666666, \"#ed7953\"], [0.7777777777777778, \"#fb9f3a\"], [0.8888888888888888, \"#fdca26\"], [1.0, \"#f0f921\"]]}, \"colorway\": [\"#636efa\", \"#EF553B\", \"#00cc96\", \"#ab63fa\", \"#FFA15A\", \"#19d3f3\", \"#FF6692\", \"#B6E880\", \"#FF97FF\", \"#FECB52\"], \"font\": {\"color\": \"#2a3f5f\"}, \"geo\": {\"bgcolor\": \"white\", \"lakecolor\": \"white\", \"landcolor\": \"#E5ECF6\", \"showlakes\": true, \"showland\": true, \"subunitcolor\": \"white\"}, \"hoverlabel\": {\"align\": \"left\"}, \"hovermode\": \"closest\", \"mapbox\": {\"style\": \"light\"}, \"paper_bgcolor\": \"white\", \"plot_bgcolor\": \"#E5ECF6\", \"polar\": {\"angularaxis\": {\"gridcolor\": \"white\", \"linecolor\": \"white\", \"ticks\": \"\"}, \"bgcolor\": \"#E5ECF6\", \"radialaxis\": {\"gridcolor\": \"white\", \"linecolor\": \"white\", \"ticks\": \"\"}}, \"scene\": {\"xaxis\": {\"backgroundcolor\": \"#E5ECF6\", \"gridcolor\": \"white\", \"gridwidth\": 2, \"linecolor\": \"white\", \"showbackground\": true, \"ticks\": \"\", \"zerolinecolor\": \"white\"}, \"yaxis\": {\"backgroundcolor\": \"#E5ECF6\", \"gridcolor\": \"white\", \"gridwidth\": 2, \"linecolor\": \"white\", \"showbackground\": true, \"ticks\": \"\", \"zerolinecolor\": \"white\"}, \"zaxis\": {\"backgroundcolor\": \"#E5ECF6\", \"gridcolor\": \"white\", \"gridwidth\": 2, \"linecolor\": \"white\", \"showbackground\": true, \"ticks\": \"\", \"zerolinecolor\": \"white\"}}, \"shapedefaults\": {\"line\": {\"color\": \"#2a3f5f\"}}, \"ternary\": {\"aaxis\": {\"gridcolor\": \"white\", \"linecolor\": \"white\", \"ticks\": \"\"}, \"baxis\": {\"gridcolor\": \"white\", \"linecolor\": \"white\", \"ticks\": \"\"}, \"bgcolor\": \"#E5ECF6\", \"caxis\": {\"gridcolor\": \"white\", \"linecolor\": \"white\", \"ticks\": \"\"}}, \"title\": {\"x\": 0.05}, \"xaxis\": {\"automargin\": true, \"gridcolor\": \"white\", \"linecolor\": \"white\", \"ticks\": \"\", \"zerolinecolor\": \"white\", \"zerolinewidth\": 2}, \"yaxis\": {\"automargin\": true, \"gridcolor\": \"white\", \"linecolor\": \"white\", \"ticks\": \"\", \"zerolinecolor\": \"white\", \"zerolinewidth\": 2}}}, \"width\": 500},\n",
       "                        {\"responsive\": true}\n",
       "                    ).then(function(){\n",
       "                            \n",
       "var gd = document.getElementById('c2f88a1f-81b3-425c-92b5-acd0d30798a9');\n",
       "var x = new MutationObserver(function (mutations, observer) {{\n",
       "        var display = window.getComputedStyle(gd).display;\n",
       "        if (!display || display === 'none') {{\n",
       "            console.log([gd, 'removed!']);\n",
       "            Plotly.purge(gd);\n",
       "            observer.disconnect();\n",
       "        }}\n",
       "}});\n",
       "\n",
       "// Listen for the removal of the full notebook cells\n",
       "var notebookContainer = gd.closest('#notebook-container');\n",
       "if (notebookContainer) {{\n",
       "    x.observe(notebookContainer, {childList: true});\n",
       "}}\n",
       "\n",
       "// Listen for the clearing of the current output cell\n",
       "var outputEl = gd.closest('.output');\n",
       "if (outputEl) {{\n",
       "    x.observe(outputEl, {childList: true});\n",
       "}}\n",
       "\n",
       "                        })\n",
       "                };\n",
       "                });\n",
       "            </script>\n",
       "        </div>"
      ]
     },
     "metadata": {},
     "output_type": "display_data"
    }
   ],
   "source": [
    "import plotly.express as px\n",
    "from modules.mb import * \n",
    "import plotly\n",
    "plotly.offline.init_notebook_mode(connected=True)\n",
    "# mb contains token\n",
    "\n",
    "\n",
    "#px.set_mapbox_access_token(open(\".mapbox_token\").read())\n",
    "\n",
    "\n",
    "df_plot = select_cams.groupby(['intersection', 'lat', 'long'], as_index=True)['n_crash'].sum().reset_index()\n",
    "df_plot['size'] = 50.0\n",
    "\n",
    "\n",
    "# fig = px.scatter_geo(results_df.groupby('camera_id').sum(), locations=\"iso_alpha\",\n",
    "#                      color=\"violations\", # which column to use to set the color of markers\n",
    "#                      #hover_name=\"country\", # column added to hover information\n",
    "#                      size=\"violations\", # size of markers\n",
    "#                      projection=\"natural earth\")\n",
    "\n",
    "#px.scatter_mapbox?\n",
    "fig = px.scatter_mapbox(df_plot, \n",
    "                        lat=\"lat\", \n",
    "                        lon=\"long\", \n",
    "                        color=\"n_crash\",\n",
    "                        hover_name='intersection',\n",
    "                        size='size',\n",
    "                        size_max = 10,\n",
    "                        #label=['lat','long','violations'],\n",
    "                        color_continuous_scale='Rainbow', \n",
    "                        #range_color=[range_min, range],\n",
    "                        #center={'lat':41.975605, 'lon': -87.731670},\n",
    "                        zoom=9.5,\n",
    "                        opacity=0.9,\n",
    "                        height=700,\n",
    "                        width=500,\n",
    "                        #hover_data={'intersection':False, 'lat':False, 'long':':.2f', 'latitude':False} ,\n",
    "                       )\n",
    "\n",
    "#fig.update_layout(mapbox_style=\"stamen-toner\", height=600) \n",
    "#fig.update_layout (textposition='top left', textfont_size=40)\n",
    "fig.update_layout(mapbox_style=\"stamen-toner\", height=600              )\n",
    "\n",
    "fig.show()\n"
   ]
  },
  {
   "cell_type": "markdown",
   "metadata": {},
   "source": [
    "### Test the populations\n",
    "Null hypothesis is that camera state has no effect.\n",
    "Alpha is 0.05"
   ]
  },
  {
   "cell_type": "code",
   "execution_count": 25,
   "metadata": {},
   "outputs": [],
   "source": [
    "off = select_cams[select_cams['rlc_state']==0]\n",
    "on = select_cams[select_cams['rlc_state']==1]"
   ]
  },
  {
   "cell_type": "markdown",
   "metadata": {},
   "source": [
    "After filtering out all but the cams of interest, we split into our control experiment again.\n",
    "This set is much more balanced."
   ]
  },
  {
   "cell_type": "code",
   "execution_count": 26,
   "metadata": {},
   "outputs": [
    {
     "name": "stdout",
     "output_type": "stream",
     "text": [
      "Days off: 2159\n",
      "Total crashes off 79\n",
      "\n",
      "Days on: 3805\n",
      "Total crashes on 75\n"
     ]
    }
   ],
   "source": [
    "# Total number of accidents on/off\n",
    "print('Days off:', len(off))\n",
    "print('Total crashes off', off['n_crash'].sum())\n",
    "print()\n",
    "\n",
    "print('Days on:', len(on))\n",
    "print('Total crashes on', on['n_crash'].sum())"
   ]
  },
  {
   "cell_type": "code",
   "execution_count": 27,
   "metadata": {},
   "outputs": [
    {
     "name": "stdout",
     "output_type": "stream",
     "text": [
      "Cameras ON mean: 0.01971\n",
      "Cameras OFF mean: 0.03659\n",
      "\n",
      "Actual with rlc off: 79\n",
      "Expected with rlc off: 42.6\n",
      "\n",
      "Standard deviation: 6.46\n",
      "z score: 5.64\n",
      "\n",
      "P value: 8.380e-09\n",
      "\n",
      "REJECT the null hypothesis\n",
      "Observations: 5964\n",
      "Effect size: 0.120\n",
      "Power: 0.99\n"
     ]
    }
   ],
   "source": [
    "n_on = len(on)\n",
    "crash_on = on['n_crash']\n",
    "\n",
    "n_off = len(off)\n",
    "crash_off = off['n_crash']\n",
    "\n",
    "z, pval_final, expected = hyp_test(crash_on, crash_off, 0.05)\n",
    "\n",
    "get_power(crash_on, crash_off)\n"
   ]
  },
  {
   "cell_type": "code",
   "execution_count": 28,
   "metadata": {},
   "outputs": [
    {
     "name": "stdout",
     "output_type": "stream",
     "text": [
      "Binomial Test pval: 3.67e-07\n",
      "Fisher's Test pval: 1.19e-04\n"
     ]
    }
   ],
   "source": [
    "# binomial test\n",
    "pval = stats.binom_test(crash_off.sum(),n=len(crash_off),p=crash_on.mean())\n",
    "print('Binomial Test pval: {:.2e}'.format(pval))\n",
    "\n",
    "# Fisher test\n",
    "oddsratio, pvalue = stats.fisher_exact([[crash_on.sum(), len(crash_on)-crash_on.sum()], [crash_off.sum(), len(crash_off)-crash_off.sum()]])\n",
    "print('Fisher\\'s Test pval: {:.2e}'.format(pvalue))"
   ]
  },
  {
   "cell_type": "markdown",
   "metadata": {},
   "source": [
    "### Make a binomial distribution plot \n",
    "This plot is for presentation to demonstrate the significance of the finding.}\n",
    "\n",
    "If my camera off crashes were random, the distribution would look like the graph below.\n",
    "We use the number of observations (cam off) at the probability equal to the 'cam on' mean."
   ]
  },
  {
   "cell_type": "markdown",
   "metadata": {},
   "source": [
    "Having a cam on is statistically significant for this group.\n",
    "\n",
    "There could be another effect.  What if the camera that had the most down time also had more crashes.  That would skew the results dramatically\n",
    "\n",
    "Another way we could this is by going through every camera of interest or by balancing the number of samples taken from each intersection.\n",
    "\n"
   ]
  },
  {
   "cell_type": "markdown",
   "metadata": {},
   "source": [
    "## Hypothesis Testing on Individual Cameras\n",
    "\n"
   ]
  },
  {
   "cell_type": "code",
   "execution_count": 29,
   "metadata": {},
   "outputs": [
    {
     "name": "stdout",
     "output_type": "stream",
     "text": [
      "['115TH AND HALSTED' 'FOSTER AND NORTHWEST HIGHWAY' 'HALSTED AND 103RD'\n",
      " 'LAKE AND UPPER WACKER' 'MICHIGAN AND JACKSON' 'MICHIGAN AND ONTARIO'\n",
      " 'MILWAUKEE AND CENTRAL']\n",
      "\n",
      "We have 7 intersections of interest.\n"
     ]
    }
   ],
   "source": [
    "\n",
    "\n",
    "print(select_cams.intersection.unique())\n",
    "print()\n",
    "print('We have {} intersections of interest.'.format(len(select_cams.intersection.unique())))\n",
    "\n"
   ]
  },
  {
   "cell_type": "code",
   "execution_count": 30,
   "metadata": {
    "scrolled": false
   },
   "outputs": [
    {
     "name": "stdout",
     "output_type": "stream",
     "text": [
      "\n",
      "********************\n",
      "115TH AND HALSTED\n",
      "\n",
      "Cameras ON mean: 0.01786\n",
      "Cameras OFF mean: 0.02764\n",
      "\n",
      "Actual with rlc off: 22\n",
      "Expected with rlc off: 14.2\n",
      "\n",
      "Standard deviation: 3.74\n",
      "z score: 2.08\n",
      "\n",
      "P value: 1.859e-02\n",
      "\n",
      "REJECT the null hypothesis\n",
      "\n",
      "Observations: 852\n",
      "Effect size: 0.073\n",
      "Power: 0.33\n",
      "\n",
      "********************\n",
      "FOSTER AND NORTHWEST HIGHWAY\n",
      "\n",
      "Cameras ON mean: 0.01090\n",
      "Cameras OFF mean: 0.00000\n",
      "\n",
      "Actual with rlc off: 0\n",
      "Expected with rlc off: 0.3\n",
      "\n",
      "Standard deviation: 0.53\n",
      "z score: -0.54\n",
      "\n",
      "P value: 7.037e-01\n",
      "\n",
      "DO NOT REJECT the null hypothesis\n",
      "\n",
      "Observations: 852\n",
      "Effect size: 0.105\n",
      "Power: 0.58\n",
      "\n",
      "********************\n",
      "HALSTED AND 103RD\n",
      "\n",
      "Cameras ON mean: 0.03571\n",
      "Cameras OFF mean: 0.04020\n",
      "\n",
      "Actual with rlc off: 32\n",
      "Expected with rlc off: 28.4\n",
      "\n",
      "Standard deviation: 5.24\n",
      "z score: 0.68\n",
      "\n",
      "P value: 2.476e-01\n",
      "\n",
      "DO NOT REJECT the null hypothesis\n",
      "\n",
      "Observations: 852\n",
      "Effect size: 0.024\n",
      "Power: 0.08\n",
      "\n",
      "********************\n",
      "LAKE AND UPPER WACKER\n",
      "\n",
      "Cameras ON mean: 0.02062\n",
      "Cameras OFF mean: 0.03468\n",
      "\n",
      "Actual with rlc off: 6\n",
      "Expected with rlc off: 3.6\n",
      "\n",
      "Standard deviation: 1.87\n",
      "z score: 1.30\n",
      "\n",
      "P value: 9.651e-02\n",
      "\n",
      "DO NOT REJECT the null hypothesis\n",
      "\n",
      "Observations: 852\n",
      "Effect size: 0.099\n",
      "Power: 0.53\n",
      "\n",
      "********************\n",
      "MICHIGAN AND JACKSON\n",
      "\n",
      "Cameras ON mean: 0.01871\n",
      "Cameras OFF mean: 0.03185\n",
      "\n",
      "Actual with rlc off: 5\n",
      "Expected with rlc off: 2.9\n",
      "\n",
      "Standard deviation: 1.70\n",
      "z score: 1.22\n",
      "\n",
      "P value: 1.121e-01\n",
      "\n",
      "DO NOT REJECT the null hypothesis\n",
      "\n",
      "Observations: 852\n",
      "Effect size: 0.097\n",
      "Power: 0.52\n",
      "\n",
      "********************\n",
      "MICHIGAN AND ONTARIO\n",
      "\n",
      "Cameras ON mean: 0.05180\n",
      "Cameras OFF mean: 0.08917\n",
      "\n",
      "Actual with rlc off: 14\n",
      "Expected with rlc off: 8.1\n",
      "\n",
      "Standard deviation: 2.78\n",
      "z score: 2.11\n",
      "\n",
      "P value: 1.730e-02\n",
      "\n",
      "REJECT the null hypothesis\n",
      "\n",
      "Observations: 852\n",
      "Effect size: 0.164\n",
      "Power: 0.92\n",
      "\n",
      "********************\n",
      "MILWAUKEE AND CENTRAL\n",
      "\n",
      "Cameras ON mean: 0.00000\n",
      "Cameras OFF mean: 0.00000\n",
      "\n",
      "Actual with rlc off: 0\n",
      "Expected with rlc off: 0.0\n",
      "\n",
      "Standard deviation: 0.00\n",
      "z score: nan\n",
      "\n",
      "P value: nan\n",
      "\n",
      "DO NOT REJECT the null hypothesis\n",
      "\n",
      "Observations: 852\n",
      "Effect size: nan\n",
      "Power: nan\n"
     ]
    }
   ],
   "source": [
    "off = select_cams[select_cams['rlc_state']==0]\n",
    "on = select_cams[select_cams['rlc_state']==1]\n",
    "        \n",
    "\n",
    "for intersection in my_intersections:\n",
    "    \n",
    "    crash_on = on[on['intersection']==intersection]['n_crash']\n",
    "    crash_off = off[off['intersection']==intersection]['n_crash']\n",
    "\n",
    "    \n",
    "    n_on = len(on)\n",
    "    n_off = len(off)\n",
    "\n",
    "    \n",
    "    on_rate = crash_on.mean()\n",
    "    off_rate = crash_off.mean()\n",
    "    expected_off = on_rate * n_off\n",
    "    \n",
    "    print()\n",
    "    print('*'*20)\n",
    "    print(intersection)\n",
    "    print()\n",
    "    \n",
    "    hyp_test(crash_on, crash_off, 0.05)\n",
    "    print()\n",
    "    get_power(crash_on, crash_off)\n",
    "    "
   ]
  },
  {
   "cell_type": "markdown",
   "metadata": {},
   "source": [
    "You can reject the null hypothesis for 2 of 7 intersections. More interesting is that all the expected crashes point in the same direction \n",
    "\n",
    "The power was very low on the intersections that could not reject null hypothesis.  These were not a valid test since there was a low probability of getting a result even if the null hypothesis was false.\n",
    "\n",
    "I am not satisfied with these results.  I would like to build a more robust experiment that pools all of our intersections, but maintains some balance between the different intersections."
   ]
  },
  {
   "cell_type": "markdown",
   "metadata": {},
   "source": [
    "## Build a balanced experiment and control\n",
    "We have an imbalance. Each intersection is imbalanced cam_on/cam_off.  We are unable to use all of the data for this reason. If we lump all of the intersections together, the cams that were primarily on or primarily off will be overrepresented in their respective groups.  \n",
    "\n",
    "I propose balancing every intersection.  If I only have 100 days with the camera off, I will only take 100 days of data from the camera on data.  We should also control for time of year if possible.  We could take random samples perhaps to minimize this effect. "
   ]
  },
  {
   "cell_type": "code",
   "execution_count": 31,
   "metadata": {},
   "outputs": [],
   "source": [
    "\n",
    "def get_balanced_sets(select_cams, target):\n",
    "    '''\n",
    "            Parameters:\n",
    "                    select_cams (DataFrame): df that holds all filtered intersections of interest only\n",
    "                    target (string): name of column to be returned (i.e. crashes, injuries, etc.)\n",
    "                    \n",
    "            Returns:\n",
    "                    balanced_ints_on (Series): bool series of crash data for dates with cam on\n",
    "                    balanced_ints_off (Series): bool series of crash data for dates with cam off\n",
    "    \n",
    "    '''\n",
    "    np.random.seed(0)\n",
    "\n",
    "    balanced_ints_on = pd.Series()\n",
    "    balanced_ints_off = pd.Series()\n",
    "\n",
    "\n",
    "    for myint in select_cams['intersection'].unique():\n",
    "        myint_df = select_cams[select_cams['intersection']==myint]  # get all days regardless of on/off status\n",
    "        cam_on = myint_df[myint_df.rlc_state==1]\n",
    "        cam_off = myint_df[myint_df.rlc_state==0]\n",
    "        \n",
    "        cam_on = cam_on.sample(frac=1).reset_index(drop=True)\n",
    "        cam_off = cam_off.sample(frac=1).reset_index(drop=True)\n",
    "\n",
    "\n",
    "        balanced_n = min(len(cam_on), len(cam_off))  # get the smaller size (control or experiment)\n",
    "        if balanced_n:\n",
    "            print('{:>30}: {}'.format(myint, balanced_n))\n",
    "\n",
    "        # use balanced_n to add same amount to each series\n",
    "        balanced_ints_on = balanced_ints_on.append(cam_on.iloc[:balanced_n][target])\n",
    "        balanced_ints_off = balanced_ints_off.append(cam_off.iloc[:balanced_n][target])\n",
    "\n",
    "    print()\n",
    "    print(balanced_ints_on.count(), balanced_ints_off.count())\n",
    "    \n",
    "    return balanced_ints_on, balanced_ints_off"
   ]
  },
  {
   "cell_type": "markdown",
   "metadata": {},
   "source": [
    "After building the dataset, we have relatively few rows in each dataset remaining.  We have 7 intersections represented in the set."
   ]
  },
  {
   "cell_type": "code",
   "execution_count": 32,
   "metadata": {},
   "outputs": [
    {
     "name": "stdout",
     "output_type": "stream",
     "text": [
      "             115TH AND HALSTED: 56\n",
      "  FOSTER AND NORTHWEST HIGHWAY: 26\n",
      "             HALSTED AND 103RD: 56\n",
      "         LAKE AND UPPER WACKER: 173\n",
      "          MICHIGAN AND JACKSON: 157\n",
      "          MICHIGAN AND ONTARIO: 157\n",
      "         MILWAUKEE AND CENTRAL: 54\n",
      "\n",
      "679 679\n",
      "\n",
      "\n",
      "Hypothesis testing results (n_crash)\n",
      "****************************************\n",
      "Cameras ON mean: 0.02651\n",
      "Cameras OFF mean: 0.04271\n",
      "\n",
      "Actual with rlc off: 29\n",
      "Expected with rlc off: 18.0\n",
      "\n",
      "Standard deviation: 4.19\n",
      "z score: 2.63\n",
      "\n",
      "P value: 4.297e-03\n",
      "\n",
      "REJECT the null hypothesis\n",
      "\n",
      "\n",
      "Alternate hypothesis testing results (n_crash)\n",
      "****************************************\n",
      "Binomial Test pval: 1.59e-02\n",
      "Fisher's Test pval: 1.37e-01\n",
      "\n",
      "\n",
      "Power and effect (n_crash)\n",
      "****************************************\n",
      "Observations: 1358\n",
      "Effect size: 0.101\n",
      "Power: 0.75\n",
      "\n",
      "95% Confidence Interval (cam on mean): 0.0144 to 0.0386\n"
     ]
    }
   ],
   "source": [
    "def full_test(select_cams, target):\n",
    "\n",
    "    # get dataset\n",
    "    balanced_ints_on, balanced_ints_off = get_balanced_sets(select_cams, target)\n",
    "    balanced_ints_on = balanced_ints_on.astype(bool)\n",
    "    balanced_ints_off = balanced_ints_off.astype(bool)\n",
    "\n",
    "\n",
    "    # get the t-test results\n",
    "    print(\"\\n\\nHypothesis testing results ({})\".format(target))\n",
    "    print('*'*40)\n",
    "    z, p, expected = hyp_test(balanced_ints_on, balanced_ints_off, 0.05)  \n",
    "\n",
    "    # check with other metrics\n",
    "    # binomial test\n",
    "    print(\"\\n\\nAlternate hypothesis testing results ({})\".format(target))\n",
    "    print('*'*40)\n",
    "    pval = stats.binom_test(balanced_ints_off.sum(),n=len(balanced_ints_off),p=balanced_ints_on.mean())\n",
    "    print('Binomial Test pval: {:.2e}'.format(pval))\n",
    "\n",
    "    # Fisher test\n",
    "    oddsratio, pvalue = stats.fisher_exact([[balanced_ints_on.sum(), len(balanced_ints_on)-balanced_ints_on.sum()], \n",
    "                                            [balanced_ints_off.sum(), len(balanced_ints_off)-balanced_ints_off.sum()]])\n",
    "\n",
    "    print('Fisher\\'s Test pval: {:.2e}'.format(pvalue))\n",
    "\n",
    "    # get power\n",
    "    print(\"\\n\\nPower and effect ({})\".format(target))\n",
    "    print('*'*40)\n",
    "    get_power(balanced_ints_on, balanced_ints_off)\n",
    "\n",
    "    balanced_ints_on = balanced_ints_on.astype(int)\n",
    "\n",
    "    print()\n",
    "    lb, ub = confidence_interval(balanced_ints_on)\n",
    "    return balanced_ints_off, balanced_ints_on, lb, ub\n",
    "\n",
    "    \n",
    "balanced_ints_off, balanced_ints_on, lb, ub = full_test(select_cams, 'n_crash')"
   ]
  },
  {
   "cell_type": "markdown",
   "metadata": {},
   "source": [
    "## Graph to show result significance"
   ]
  },
  {
   "cell_type": "code",
   "execution_count": 33,
   "metadata": {},
   "outputs": [
    {
     "name": "stdout",
     "output_type": "stream",
     "text": [
      "crashes at 0.95 (alpha=0.05) 27.0\n"
     ]
    },
    {
     "data": {
      "image/png": "[encoded data removed]",
      "text/plain": [
       "<Figure size 720x360 with 1 Axes>"
      ]
     },
     "metadata": {
      "needs_background": "light"
     },
     "output_type": "display_data"
    }
   ],
   "source": [
    "from scipy.stats import binom\n",
    "from statsmodels.stats.proportion import proportion_confint\n",
    "\n",
    "n, p = len(balanced_ints_off), balanced_ints_on.mean() # number of trials, probability of each trial\n",
    "actual_crash = balanced_ints_off.sum()\n",
    "dist = np.random.binomial(n, p, 1000)\n",
    "mean_crash = dist.mean()\n",
    "plt.figure(figsize=[10,5])\n",
    "sns.set_style(\"dark\")\n",
    "\n",
    "\n",
    "ax = sns.distplot(dist, hist=False, fit=norm, kde=False, label='Normal Distribution of Expected Crashes', color='blue')\n",
    "plt.title('Expected Crash Distribution (n= {}, p= {:.4f})'.format(n, pval), fontsize=20)\n",
    "ax.set_ylim(0)\n",
    "\n",
    "\n",
    "#plt.axvline(110, 0, 1, color='red')\n",
    "plt.axvline(actual_crash, 0, 1, color='red', )\n",
    "plt.axvline(mean_crash, 0, 1, color='blue', linestyle='dashed')\n",
    "\n",
    "#plt.axvline(ub * len(balanced_ints_on), 0, 1, color='blue', linestyle='-') # confidence interval\n",
    "#plt.axvline(lb * len(balanced_ints_on), 0, 1, color='blue', linestyle='-') # confidence interval\n",
    "plt.axvspan(lb * len(balanced_ints_on), ub * len(balanced_ints_on), alpha=0.1, color='blue')\n",
    "\n",
    "\n",
    "\n",
    "\n",
    "plt.xlabel('n crashes', fontsize=20)\n",
    "\n",
    "#ax.text(108, 0.045, \"Actual n crashes\", horizontalalignment='right', size='medium', color='black', weight='semibold')\n",
    "ax.annotate(s='Actual Crashes = {:.1f}\\nz_score = {:.1f}'.format(actual_crash, z),\n",
    "            xy=(actual_crash, 0.03),\n",
    "            xycoords='data',\n",
    "            fontsize=12,\n",
    "            xytext=(-50, 0),\n",
    "            textcoords='offset points',\n",
    "            horizontalalignment='center',\n",
    "            #arrowprops=dict(arrowstyle='->', color='purple'),  # Use color black\n",
    "\n",
    "            )   # New param\n",
    "\n",
    "ax.annotate(s='Expected Mean = {:.2f}'.format(mean_crash),\n",
    "            xy=(mean_crash, 0.03),\n",
    "            xycoords='data',\n",
    "            fontsize=12,\n",
    "            xytext=(-50, 50),\n",
    "            horizontalalignment='center',\n",
    "            textcoords='offset points',\n",
    "            arrowprops=dict(arrowstyle='->', color='purple'),  # Use color black\n",
    "\n",
    "            )   # New param\n",
    "\n",
    "\n",
    "\n",
    "print('crashes at 0.95 (alpha=0.05)', binom.ppf(0.975, n, p))"
   ]
  },
  {
   "cell_type": "markdown",
   "metadata": {},
   "source": [
    "This is a definitive test.  We can be confident that the camera state is significant."
   ]
  },
  {
   "cell_type": "markdown",
   "metadata": {},
   "source": [
    "## Hypothesis test for injuries\n",
    "Extend the testing to include the more volatile injuries target.  Same procedure"
   ]
  },
  {
   "cell_type": "code",
   "execution_count": 34,
   "metadata": {},
   "outputs": [
    {
     "name": "stdout",
     "output_type": "stream",
     "text": [
      "             115TH AND HALSTED: 56\n",
      "  FOSTER AND NORTHWEST HIGHWAY: 26\n",
      "             HALSTED AND 103RD: 56\n",
      "         LAKE AND UPPER WACKER: 173\n",
      "          MICHIGAN AND JACKSON: 157\n",
      "          MICHIGAN AND ONTARIO: 157\n",
      "         MILWAUKEE AND CENTRAL: 54\n",
      "\n",
      "679 679\n",
      "\n",
      "\n",
      "Hypothesis testing results (injuries_total)\n",
      "****************************************\n",
      "Cameras ON mean: 0.00442\n",
      "Cameras OFF mean: 0.00736\n",
      "\n",
      "Actual with rlc off: 5\n",
      "Expected with rlc off: 3.0\n",
      "\n",
      "Standard deviation: 1.73\n",
      "z score: 1.16\n",
      "\n",
      "P value: 1.236e-01\n",
      "\n",
      "DO NOT REJECT the null hypothesis\n",
      "\n",
      "\n",
      "Alternate hypothesis testing results (injuries_total)\n",
      "****************************************\n",
      "Binomial Test pval: 2.34e-01\n",
      "Fisher's Test pval: 7.26e-01\n",
      "\n",
      "\n",
      "Power and effect (injuries_total)\n",
      "****************************************\n",
      "Observations: 1358\n",
      "Effect size: 0.044\n",
      "Power: 0.21\n",
      "\n",
      "95% Confidence Interval (cam on mean): -0.0006 to 0.0094\n"
     ]
    }
   ],
   "source": [
    "x = full_test(select_cams, 'injuries_total')"
   ]
  },
  {
   "cell_type": "markdown",
   "metadata": {},
   "source": [
    "## Hypothesis test for rear end accidents\n",
    "Extend the testing to include the more volatile rear_end target.  Same procedure"
   ]
  },
  {
   "cell_type": "code",
   "execution_count": 35,
   "metadata": {},
   "outputs": [
    {
     "name": "stdout",
     "output_type": "stream",
     "text": [
      "             115TH AND HALSTED: 56\n",
      "  FOSTER AND NORTHWEST HIGHWAY: 26\n",
      "             HALSTED AND 103RD: 56\n",
      "         LAKE AND UPPER WACKER: 173\n",
      "          MICHIGAN AND JACKSON: 157\n",
      "          MICHIGAN AND ONTARIO: 157\n",
      "         MILWAUKEE AND CENTRAL: 54\n",
      "\n",
      "679 679\n",
      "\n",
      "\n",
      "Hypothesis testing results (rear_end)\n",
      "****************************************\n",
      "Cameras ON mean: 0.00000\n",
      "Cameras OFF mean: 0.00589\n",
      "\n",
      "Actual with rlc off: 4\n",
      "Expected with rlc off: 0.0\n",
      "\n",
      "Standard deviation: 0.00\n",
      "z score: inf\n",
      "\n",
      "P value: 0.000e+00\n",
      "\n",
      "REJECT the null hypothesis\n",
      "\n",
      "\n",
      "Alternate hypothesis testing results (rear_end)\n",
      "****************************************\n",
      "Binomial Test pval: 0.00e+00\n",
      "Fisher's Test pval: 1.24e-01\n",
      "\n",
      "\n",
      "Power and effect (rear_end)\n",
      "****************************************\n",
      "Observations: 1358\n",
      "Effect size: inf\n",
      "Power: nan\n",
      "\n",
      "95% Confidence Interval (cam on mean): nan to nan\n"
     ]
    }
   ],
   "source": [
    "x = full_test(select_cams, 'rear_end')"
   ]
  },
  {
   "cell_type": "markdown",
   "metadata": {},
   "source": [
    "This extended the test too far.  It has an extremely low power and is not a valid test.  Perhaps more data would yield a result"
   ]
  },
  {
   "cell_type": "code",
   "execution_count": 36,
   "metadata": {},
   "outputs": [
    {
     "name": "stdout",
     "output_type": "stream",
     "text": [
      "             115TH AND HALSTED: 56\n",
      "  FOSTER AND NORTHWEST HIGHWAY: 26\n",
      "             HALSTED AND 103RD: 56\n",
      "         LAKE AND UPPER WACKER: 173\n",
      "          MICHIGAN AND JACKSON: 157\n",
      "          MICHIGAN AND ONTARIO: 157\n",
      "         MILWAUKEE AND CENTRAL: 54\n",
      "\n",
      "679 679\n",
      "\n",
      "\n",
      "Hypothesis testing results (angle)\n",
      "****************************************\n",
      "Cameras ON mean: 0.00295\n",
      "Cameras OFF mean: 0.00589\n",
      "\n",
      "Actual with rlc off: 4\n",
      "Expected with rlc off: 2.0\n",
      "\n",
      "Standard deviation: 1.41\n",
      "z score: 1.42\n",
      "\n",
      "P value: 7.834e-02\n",
      "\n",
      "DO NOT REJECT the null hypothesis\n",
      "\n",
      "\n",
      "Alternate hypothesis testing results (angle)\n",
      "****************************************\n",
      "Binomial Test pval: 1.43e-01\n",
      "Fisher's Test pval: 6.87e-01\n",
      "\n",
      "\n",
      "Power and effect (angle)\n",
      "****************************************\n",
      "Observations: 1358\n",
      "Effect size: 0.054\n",
      "Power: 0.29\n",
      "\n",
      "95% Confidence Interval (cam on mean): -0.0011 to 0.0070\n"
     ]
    }
   ],
   "source": [
    "x = full_test(select_cams, 'angle')"
   ]
  },
  {
   "cell_type": "code",
   "execution_count": 37,
   "metadata": {},
   "outputs": [
    {
     "name": "stdout",
     "output_type": "stream",
     "text": [
      "             115TH AND HALSTED: 56\n",
      "  FOSTER AND NORTHWEST HIGHWAY: 26\n",
      "             HALSTED AND 103RD: 56\n",
      "         LAKE AND UPPER WACKER: 173\n",
      "          MICHIGAN AND JACKSON: 157\n",
      "          MICHIGAN AND ONTARIO: 157\n",
      "         MILWAUKEE AND CENTRAL: 54\n",
      "\n",
      "679 679\n",
      "\n",
      "\n",
      "Hypothesis testing results (turning)\n",
      "****************************************\n",
      "Cameras ON mean: 0.01031\n",
      "Cameras OFF mean: 0.02062\n",
      "\n",
      "Actual with rlc off: 14\n",
      "Expected with rlc off: 7.0\n",
      "\n",
      "Standard deviation: 2.63\n",
      "z score: 2.66\n",
      "\n",
      "P value: 3.913e-03\n",
      "\n",
      "REJECT the null hypothesis\n",
      "\n",
      "\n",
      "Alternate hypothesis testing results (turning)\n",
      "****************************************\n",
      "Binomial Test pval: 1.95e-02\n",
      "Fisher's Test pval: 1.86e-01\n",
      "\n",
      "\n",
      "Power and effect (turning)\n",
      "****************************************\n",
      "Observations: 1358\n",
      "Effect size: 0.102\n",
      "Power: 0.76\n",
      "\n",
      "95% Confidence Interval (cam on mean): 0.0027 to 0.0179\n"
     ]
    }
   ],
   "source": [
    "x = full_test(select_cams, 'turning')"
   ]
  },
  {
   "cell_type": "markdown",
   "metadata": {},
   "source": [
    "# Accident types with unbalanced data\n",
    "After seeing that the balanced test was inadequate to evaluate more specific targets, I went back to the unbalanced method (using all on and off data available).  This is an inferior test, but has adequate size to produce a result.\n",
    "\n",
    "The balanced dataset was a better approach, but yielded a sample that was too small to get an answer.  The power of the tests were too low to reliably reject the null hypothesis, even if it was not correct.  We were able to get an answer on crashes, but no more with the balanced set.\n",
    "\n",
    "We will go backwards and use the unbalanced method.  We have plenty of data points, so the power of the experiment should be high enough for a definitive answer."
   ]
  },
  {
   "cell_type": "markdown",
   "metadata": {},
   "source": [
    "### Angled crashes"
   ]
  },
  {
   "cell_type": "code",
   "execution_count": 38,
   "metadata": {},
   "outputs": [
    {
     "name": "stdout",
     "output_type": "stream",
     "text": [
      "\n",
      "\n",
      "Hypothesis testing results (angle)\n",
      "****************************************\n",
      "Cameras ON mean: 0.00263\n",
      "Cameras OFF mean: 0.00509\n",
      "\n",
      "Actual with rlc off: 11.0\n",
      "Expected with rlc off: 5.7\n",
      "\n",
      "Standard deviation: 2.38\n",
      "z score: 2.24\n",
      "\n",
      "P value: 1.258e-02\n",
      "\n",
      "REJECT the null hypothesis\n",
      "\n",
      "\n",
      "Alternate hypothesis testing results (angle)\n",
      "****************************************\n",
      "Binomial Test pval: 3.38e-02\n",
      "Fisher's Test pval: 1.70e-01\n",
      "\n",
      "\n",
      "Power and effect (angle)\n",
      "****************************************\n",
      "Observations: 5964\n",
      "Effect size: 0.048\n",
      "Power: 0.75\n",
      "\n",
      "95% Confidence Interval (cam on mean): 0.0010 to 0.0043\n"
     ]
    }
   ],
   "source": [
    "target = 'angle'\n",
    "\n",
    "# get dataset\n",
    "#balanced_ints_on, balanced_ints_off = get_balanced_sets(select_cams, target)\n",
    "ints_on = select_cams[select_cams['rlc_state']==1][target]\n",
    "ints_off = select_cams[select_cams['rlc_state']==0][target]\n",
    "\n",
    "\n",
    "# get the t-test results\n",
    "print(\"\\n\\nHypothesis testing results ({})\".format(target))\n",
    "print('*'*40)\n",
    "results = hyp_test(ints_on, ints_off, 0.05)\n",
    "\n",
    "# check with other metrics\n",
    "# binomial test\n",
    "print(\"\\n\\nAlternate hypothesis testing results ({})\".format(target))\n",
    "print('*'*40)\n",
    "pval = stats.binom_test(ints_off.sum(),n=len(ints_off),p=ints_on.mean())\n",
    "print('Binomial Test pval: {:.2e}'.format(pval))\n",
    "\n",
    "# Fisher test\n",
    "oddsratio, pvalue = stats.fisher_exact([[ints_on.sum(), len(ints_on)-ints_on.sum()], \n",
    "                                        [ints_off.sum(), len(ints_off)-ints_off.sum()]])\n",
    "\n",
    "print('Fisher\\'s Test pval: {:.2e}'.format(pvalue))\n",
    "\n",
    "# get power\n",
    "print(\"\\n\\nPower and effect ({})\".format(target))\n",
    "print('*'*40)\n",
    "get_power(ints_on, ints_off)\n",
    "\n",
    "print()\n",
    "lb, ub = confidence_interval(ints_on)"
   ]
  },
  {
   "cell_type": "markdown",
   "metadata": {},
   "source": [
    "## Rear End Crashes (unbalanced)"
   ]
  },
  {
   "cell_type": "code",
   "execution_count": 39,
   "metadata": {},
   "outputs": [
    {
     "name": "stdout",
     "output_type": "stream",
     "text": [
      "\n",
      "\n",
      "Hypothesis testing results (rear_end)\n",
      "****************************************\n",
      "Cameras ON mean: 0.00237\n",
      "Cameras OFF mean: 0.00509\n",
      "\n",
      "Actual with rlc off: 11.0\n",
      "Expected with rlc off: 5.1\n",
      "\n",
      "Standard deviation: 2.26\n",
      "z score: 2.61\n",
      "\n",
      "P value: 4.514e-03\n",
      "\n",
      "REJECT the null hypothesis\n",
      "\n",
      "\n",
      "Alternate hypothesis testing results (rear_end)\n",
      "****************************************\n",
      "Binomial Test pval: 2.16e-02\n",
      "Fisher's Test pval: 1.02e-01\n",
      "\n",
      "\n",
      "Power and effect (rear_end)\n",
      "****************************************\n",
      "Observations: 5964\n",
      "Effect size: 0.056\n",
      "Power: 0.87\n",
      "\n",
      "95% Confidence Interval (cam on mean): 0.0008 to 0.0039\n"
     ]
    }
   ],
   "source": [
    "target = 'rear_end'\n",
    "\n",
    "# get dataset\n",
    "#balanced_ints_on, balanced_ints_off = get_balanced_sets(select_cams, target)\n",
    "ints_on = select_cams[select_cams['rlc_state']==1][target]\n",
    "ints_off = select_cams[select_cams['rlc_state']==0][target]\n",
    "\n",
    "\n",
    "# get the t-test results\n",
    "print(\"\\n\\nHypothesis testing results ({})\".format(target))\n",
    "print('*'*40)\n",
    "results = hyp_test(ints_on, ints_off, 0.05)\n",
    "\n",
    "# check with other metrics\n",
    "# binomial test\n",
    "print(\"\\n\\nAlternate hypothesis testing results ({})\".format(target))\n",
    "print('*'*40)\n",
    "pval = stats.binom_test(ints_off.sum(),n=len(ints_off),p=ints_on.mean())\n",
    "print('Binomial Test pval: {:.2e}'.format(pval))\n",
    "\n",
    "# Fisher test\n",
    "oddsratio, pvalue = stats.fisher_exact([[ints_on.sum(), len(ints_on)-ints_on.sum()], \n",
    "                                        [ints_off.sum(), len(ints_off)-ints_off.sum()]])\n",
    "\n",
    "print('Fisher\\'s Test pval: {:.2e}'.format(pvalue))\n",
    "\n",
    "# get power\n",
    "print(\"\\n\\nPower and effect ({})\".format(target))\n",
    "print('*'*40)\n",
    "get_power(ints_on, ints_off)\n",
    "\n",
    "print()\n",
    "lb, ub = confidence_interval(ints_on)"
   ]
  },
  {
   "cell_type": "markdown",
   "metadata": {},
   "source": [
    "### Turning Crash (unbalanced)"
   ]
  },
  {
   "cell_type": "code",
   "execution_count": 40,
   "metadata": {},
   "outputs": [
    {
     "name": "stdout",
     "output_type": "stream",
     "text": [
      "\n",
      "\n",
      "Hypothesis testing results (turning)\n",
      "****************************************\n",
      "Cameras ON mean: 0.00736\n",
      "Cameras OFF mean: 0.01528\n",
      "\n",
      "Actual with rlc off: 33.0\n",
      "Expected with rlc off: 15.9\n",
      "\n",
      "Standard deviation: 3.97\n",
      "z score: 4.31\n",
      "\n",
      "P value: 8.195e-06\n",
      "\n",
      "REJECT the null hypothesis\n",
      "\n",
      "\n",
      "Alternate hypothesis testing results (turning)\n",
      "****************************************\n",
      "Binomial Test pval: 1.25e-04\n",
      "Fisher's Test pval: 4.63e-03\n",
      "\n",
      "\n",
      "Power and effect (turning)\n",
      "****************************************\n",
      "Observations: 1358\n",
      "Effect size: 0.101\n",
      "Power: 0.75\n"
     ]
    }
   ],
   "source": [
    "target = 'turning'\n",
    "\n",
    "# get dataset\n",
    "#balanced_ints_on, balanced_ints_off = get_balanced_sets(select_cams, target)\n",
    "ints_on = select_cams[select_cams['rlc_state']==1][target]\n",
    "ints_off = select_cams[select_cams['rlc_state']==0][target]\n",
    "\n",
    "\n",
    "# get the t-test results\n",
    "print(\"\\n\\nHypothesis testing results ({})\".format(target))\n",
    "print('*'*40)\n",
    "results = hyp_test(ints_on, ints_off, 0.05)\n",
    "\n",
    "# check with other metrics\n",
    "# binomial test\n",
    "print(\"\\n\\nAlternate hypothesis testing results ({})\".format(target))\n",
    "print('*'*40)\n",
    "pval = stats.binom_test(ints_off.sum(),n=len(ints_off),p=ints_on.mean())\n",
    "print('Binomial Test pval: {:.2e}'.format(pval))\n",
    "\n",
    "# Fisher test\n",
    "oddsratio, pvalue = stats.fisher_exact([[ints_on.sum(), len(ints_on)-ints_on.sum()], \n",
    "                                        [ints_off.sum(), len(ints_off)-ints_off.sum()]])\n",
    "\n",
    "print('Fisher\\'s Test pval: {:.2e}'.format(pvalue))\n",
    "\n",
    "# get power\n",
    "print(\"\\n\\nPower and effect ({})\".format(target))\n",
    "print('*'*40)\n",
    "get_power(balanced_ints_on, balanced_ints_off)"
   ]
  },
  {
   "cell_type": "markdown",
   "metadata": {},
   "source": [
    "This result is surprising, and differs from the Houston study"
   ]
  },
  {
   "cell_type": "markdown",
   "metadata": {},
   "source": [
    "### Injuries from Angle Crashes (unbalanced)\n",
    "Since this method produced a result for crash types, we will try more specific data to see if we get an adequate power for a reliable test."
   ]
  },
  {
   "cell_type": "code",
   "execution_count": 41,
   "metadata": {},
   "outputs": [
    {
     "name": "stdout",
     "output_type": "stream",
     "text": [
      "\n",
      "\n",
      "Hypothesis testing results (angle_injuries)\n",
      "****************************************\n",
      "Cameras ON mean: 0.00079\n",
      "Cameras OFF mean: 0.00232\n",
      "\n",
      "Actual with rlc off: 5.0\n",
      "Expected with rlc off: 1.7\n",
      "\n",
      "Standard deviation: 1.30\n",
      "z score: 2.53\n",
      "\n",
      "P value: 5.726e-03\n",
      "\n",
      "REJECT the null hypothesis\n",
      "\n",
      "\n",
      "Power and effect (angle_injuries)\n",
      "****************************************\n",
      "Observations: 1358\n",
      "Effect size: 0.101\n",
      "Power: 0.75\n"
     ]
    }
   ],
   "source": [
    "select_cams['angle_injuries'] = select_cams['angle'] * select_cams['injuries_total'].astype(bool)\n",
    "\n",
    "target = 'angle_injuries'\n",
    "\n",
    "# get dataset\n",
    "#balanced_ints_on, balanced_ints_off = get_balanced_sets(select_cams, target)\n",
    "ints_on = select_cams[select_cams['rlc_state']==1][target]\n",
    "ints_off = select_cams[select_cams['rlc_state']==0][target]\n",
    "\n",
    "\n",
    "# get the t-test results\n",
    "print(\"\\n\\nHypothesis testing results ({})\".format(target))\n",
    "print('*'*40)\n",
    "results = hyp_test(ints_on, ints_off, 0.05)\n",
    "\n",
    "# get power\n",
    "print(\"\\n\\nPower and effect ({})\".format(target))\n",
    "print('*'*40)\n",
    "get_power(balanced_ints_on, balanced_ints_off)"
   ]
  },
  {
   "cell_type": "markdown",
   "metadata": {},
   "source": [
    "For this last result, there were several multiple injury accidents that ran up the numbers and skewed the result.  Since the injury total isn't really the measure here, I decided to make it boolean.  If an injury occured, it is True.  This removes some of the volatility of a car full of people getting in a serious accident vs. a single driver.  I treat both the same here.  An injury accident is only one, regardless of single or multiple injuries."
   ]
  },
  {
   "cell_type": "markdown",
   "metadata": {},
   "source": [
    "### Injuries from Rear End Crashes (unbalanced)"
   ]
  },
  {
   "cell_type": "code",
   "execution_count": 42,
   "metadata": {},
   "outputs": [
    {
     "name": "stdout",
     "output_type": "stream",
     "text": [
      "\n",
      "\n",
      "Hypothesis testing results (rear_end_injuries)\n",
      "****************************************\n",
      "Cameras ON mean: 0.00026\n",
      "Cameras OFF mean: 0.00232\n",
      "\n",
      "Actual with rlc off: 5.0\n",
      "Expected with rlc off: 0.6\n",
      "\n",
      "Standard deviation: 0.75\n",
      "z score: 5.89\n",
      "\n",
      "P value: 1.987e-09\n",
      "\n",
      "REJECT the null hypothesis\n",
      "\n",
      "\n",
      "Power and effect (rear_end_injuries)\n",
      "****************************************\n",
      "Observations: 1358\n",
      "Effect size: 0.101\n",
      "Power: 0.75\n"
     ]
    }
   ],
   "source": [
    "select_cams['rear_end_injuries'] = select_cams['rear_end'] * select_cams['injuries_total'].astype(bool)\n",
    "\n",
    "target = 'rear_end_injuries'\n",
    "\n",
    "# get dataset\n",
    "#balanced_ints_on, balanced_ints_off = get_balanced_sets(select_cams, target)\n",
    "ints_on = select_cams[select_cams['rlc_state']==1][target]\n",
    "ints_off = select_cams[select_cams['rlc_state']==0][target]\n",
    "\n",
    "\n",
    "# get the t-test results\n",
    "print(\"\\n\\nHypothesis testing results ({})\".format(target))\n",
    "print('*'*40)\n",
    "results = hyp_test(ints_on, ints_off, 0.05)\n",
    "\n",
    "# get power\n",
    "print(\"\\n\\nPower and effect ({})\".format(target))\n",
    "print('*'*40)\n",
    "get_power(balanced_ints_on, balanced_ints_off)"
   ]
  },
  {
   "cell_type": "markdown",
   "metadata": {},
   "source": [
    "# Summary\n",
    "The Hypothesis testing indicates the following:\n",
    "\n",
    "For the 7 intersections studied:\n",
    "\n",
    "When cameras were off:\n",
    "- greater mean accidents and injuries recorded than with cameras on\n",
    "- more than expected angled crashes and rear end crashes occurred\n",
    "- in all cameras of interest, actual crashes >= expected crashes\n",
    "\n",
    "Data favors the following alternative hypotheses\n",
    "- cameras reduce the number of crashes\n",
    "- cameras reduce the number of total injuries\n",
    "- cameras reduce the number of angled ('T-bone') crashes\n",
    "- cameras reduce the number of rear end crashes \n",
    "- cameras reduce the number of angled accidents resulting in injuries\n",
    "\n",
    "\n",
    "\n",
    "The Houston study (https://papers.ssrn.com/sol3/papers.cfm?abstract_id=3078079) could determine that cameras reduced the number of accidents.  It determined that it changed the pattern of traffic accidents.  Rear end collision increased while more dangerous angled crashes decreased.  This is the result we would have expected for this study\n",
    "\n",
    "This study indicates that in Chicago, at least for the 7 intersections in our natural experiment, both rear end and angled accident types decreased significantly when red light cameras were present.  Injuries were also shown to significantly decrease.  \n",
    "\n",
    "In Chicago, for the 7 intersections of interest, red light cameras achieve their stated objective.\n"
   ]
  }
 ],
 "metadata": {
  "kernelspec": {
   "display_name": "learn-env",
   "language": "python",
   "name": "learn-env"
  },
  "language_info": {
   "codemirror_mode": {
    "name": "ipython",
    "version": 3
   },
   "file_extension": ".py",
   "mimetype": "text/x-python",
   "name": "python",
   "nbconvert_exporter": "python",
   "pygments_lexer": "ipython3",
   "version": "3.6.9"
  }
 },
 "nbformat": 4,
 "nbformat_minor": 4
}
