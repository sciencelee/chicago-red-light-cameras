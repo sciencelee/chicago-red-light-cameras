{
 "cells": [
  {
   "cell_type": "markdown",
   "metadata": {},
   "source": [
    "# Red Light Camera Natural Experiment\n",
    "\n",
    "This section will feature hypothesis testing for crash data based on the active status of cameras.  \n",
    "The central focus of this project was to see how the presence of red light cameras affected safety.\n",
    "\n",
    "Safety can be measured several ways: total crashes, total injuries, count of dangerous crash types.\n",
    "\n",
    "The city of Chicago government defines their goal as follows:\n",
    "> \"Red Light Camera Enforcement is designed to increase safety on Chicago streets by reducing the most dangerous types of crashes at intersections. The different types of crashes between vehicles are rear end, side swipe, angle, and head on. While all crashes are potentially hazardous, Red Light cameras are designed to reduce angle (or “t-bone”) crashes because of their extreme danger to those involved. As individuals comply with traffic signals, serious crashes and injuries reduce significantly. Chicago began its red light camera program 2003 with enforcement at two intersections: Peterson and Western and 55th and Western. In subsequent years, additional intersections have been added based on crash frequency/severity. At most Red Light Camera intersections, two approaches are monitored. However, CDOT posts signs at all four approaches identifying the intersection as photo-enforced.\" https://www.chicago.gov/city/en/depts/cdot/supp_info/red-light_cameraenforcement.html"
   ]
  },
  {
   "cell_type": "code",
   "execution_count": 289,
   "metadata": {},
   "outputs": [],
   "source": [
    "import pandas as pd\n",
    "import matplotlib.pyplot as plt\n",
    "from datetime import datetime\n",
    "from datetime import timedelta\n",
    "from modules.myfuncs import *\n",
    "import warnings\n",
    "import numpy as np\n",
    "import matplotlib.pyplot as plt\n",
    "import sqlite3\n",
    "import scipy.stats as stats\n",
    "import seaborn as sns\n",
    "from statsmodels.stats.power import TTestIndPower, TTestPower\n",
    "from scipy.stats import norm\n",
    "\n",
    "\n",
    "# import dask\n",
    "# import dask.dataframe as dd\n",
    "\n",
    "warnings.filterwarnings('ignore')\n",
    "pd.options.display.max_rows = 100"
   ]
  },
  {
   "cell_type": "code",
   "execution_count": 290,
   "metadata": {},
   "outputs": [
    {
     "name": "stdout",
     "output_type": "stream",
     "text": [
      "sqlite3 version: 2.6.0\n",
      "connected to database/rlc2.db\n"
     ]
    }
   ],
   "source": [
    "conn = create_connection('database/rlc2.db')  # function from myfuncs file\n",
    "c = conn.cursor()"
   ]
  },
  {
   "cell_type": "code",
   "execution_count": 291,
   "metadata": {},
   "outputs": [],
   "source": [
    "#rlc_df = pd.read_sql_query('''SELECT * FROM daily_violations''', conn)\n",
    "#ints_df = pd.read_sql_query('''SELECT * FROM intersection_chars''', conn)\n",
    "#crash_df = pd.read_sql_query('''SELECT * FROM signal_crashes''', conn)\n"
   ]
  },
  {
   "cell_type": "code",
   "execution_count": 292,
   "metadata": {},
   "outputs": [
    {
     "name": "stdout",
     "output_type": "stream",
     "text": [
      "[('cam_locations',), ('cam_startend',), ('daily_violations',), ('all_crashes',), ('hourly_congestion',), ('hourly_weather',), ('region_data',), ('intersection_cams',), ('int_startend',), ('intersection_chars',), ('all_days',), ('daily_covid',), ('all_hours',), ('signal_crashes',), ('rlc_all_hours',)]\n",
      "cam_locations\n",
      "\t-camera_id\n",
      "\t-intersection\n",
      "\t-address\n",
      "\t-violation_date\n",
      "\t-violations\n",
      "\t-latitude\n",
      "\t-longitude\n",
      "\t-month\n",
      "\t-day\n",
      "\t-weekday\n",
      "\t-year\n",
      "\n",
      "cam_startend\n",
      "\t-camera_id\n",
      "\t-start\n",
      "\t-end\n",
      "\n",
      "daily_violations\n",
      "\t-intersection\n",
      "\t-camera_id\n",
      "\t-address\n",
      "\t-violation_date\n",
      "\t-violations\n",
      "\t-latitude\n",
      "\t-longitude\n",
      "\t-month\n",
      "\t-day\n",
      "\t-weekday\n",
      "\t-year\n",
      "\n",
      "all_crashes\n",
      "\t-crash_record_id\n",
      "\t-rd_no\n",
      "\t-crash_date\n",
      "\t-posted_speed_limit\n",
      "\t-traffic_control_device\n",
      "\t-device_condition\n",
      "\t-weather_condition\n",
      "\t-lighting_condition\n",
      "\t-first_crash_type\n",
      "\t-trafficway_type\n",
      "\t-alignment\n",
      "\t-roadway_surface_cond\n",
      "\t-road_defect\n",
      "\t-report_type\n",
      "\t-crash_type\n",
      "\t-damage\n",
      "\t-prim_contributory_cause\n",
      "\t-sec_contributory_cause\n",
      "\t-street_no\n",
      "\t-street_direction\n",
      "\t-street_name\n",
      "\t-beat_of_occurrence\n",
      "\t-num_units\n",
      "\t-most_severe_injury\n",
      "\t-injuries_total\n",
      "\t-injuries_fatal\n",
      "\t-injuries_incapacitating\n",
      "\t-injuries_non_incapacitating\n",
      "\t-injuries_reported_not_evident\n",
      "\t-injuries_no_indication\n",
      "\t-injuries_unknown\n",
      "\t-crash_hour\n",
      "\t-crash_day_of_week\n",
      "\t-crash_month\n",
      "\t-latitude\n",
      "\t-longitude\n",
      "\t-lane_cnt\n",
      "\t-intersection_related_i\n",
      "\t-hit_and_run_i\n",
      "\t-crash_date_est_i\n",
      "\t-work_zone_i\n",
      "\t-work_zone_type\n",
      "\t-workers_present_i\n",
      "\n",
      "hourly_congestion\n",
      "\t-year\n",
      "\t-month\n",
      "\t-day\n",
      "\t-hour\n",
      "\t-region_id\n",
      "\t-bus_count\n",
      "\t-num_reads\n",
      "\t-speed\n",
      "\t-weekday\n",
      "\t-quantile_speed\n",
      "\n",
      "hourly_weather\n",
      "\t-temp\n",
      "\t-rain_1h\n",
      "\t-rain_3h\n",
      "\t-snow_1h\n",
      "\t-snow_3h\n",
      "\t-weather_main\n",
      "\t-time\n",
      "\t-year\n",
      "\t-month\n",
      "\t-day\n",
      "\t-hour\n",
      "\t-weekday\n",
      "\n",
      "region_data\n",
      "\t-region_id\n",
      "\t-region\n",
      "\t-description\n",
      "\t-north\n",
      "\t-south\n",
      "\t-east\n",
      "\t-west\n",
      "\n",
      "intersection_cams\n",
      "\t-intersection\n",
      "\t-latitude\n",
      "\t-longitude\n",
      "\t-cam1\n",
      "\t-cam2\n",
      "\t-cam3\n",
      "\t-region_id\n",
      "\n",
      "int_startend\n",
      "\t-intersection\n",
      "\t-start\n",
      "\t-end\n",
      "\n",
      "intersection_chars\n",
      "\t-protected_turn\n",
      "\t-total_lanes\n",
      "\t-medians\n",
      "\t-exit\n",
      "\t-split\n",
      "\t-way\n",
      "\t-underpass\n",
      "\t-no_left\n",
      "\t-angled\n",
      "\t-triangle\n",
      "\t-one_way\n",
      "\t-turn_lanes\n",
      "\t-lat\n",
      "\t-long\n",
      "\t-rlc\n",
      "\t-intersection\n",
      "\t-daily_traffic\n",
      "\t-speed\n",
      "\n",
      "all_days\n",
      "\t-year\n",
      "\t-month\n",
      "\t-day\n",
      "\t-intersection\n",
      "\t-date\n",
      "\t-rlc_state\n",
      "\n",
      "daily_covid\n",
      "\t-lab_report_date\n",
      "\t-cases_total\n",
      "\t-deaths_total\n",
      "\t-cases_age_0_17\n",
      "\t-cases_age_18_29\n",
      "\t-cases_age_30_39\n",
      "\t-cases_age_40_49\n",
      "\t-cases_age_50_59\n",
      "\t-cases_age_60_69\n",
      "\t-cases_age_70_79\n",
      "\t-cases_age_80_\n",
      "\t-cases_age_unknown\n",
      "\t-cases_female\n",
      "\t-cases_male\n",
      "\t-cases_unknown_gender\n",
      "\t-cases_latinx\n",
      "\t-cases_asian_non_latinx\n",
      "\t-cases_black_non_latinx\n",
      "\t-cases_white_non_latinx\n",
      "\t-cases_other_non_latinx\n",
      "\t-cases_unknown_race_eth\n",
      "\t-deaths_0_17_yrs\n",
      "\t-deaths_18_29_yrs\n",
      "\t-deaths_30_39_yrs\n",
      "\t-deaths_40_49_yrs\n",
      "\t-deaths_50_59_yrs\n",
      "\t-deaths_60_69_yrs\n",
      "\t-deaths_70_79_yrs\n",
      "\t-deaths_80_yrs\n",
      "\t-deaths_unknown_age\n",
      "\t-deaths_female\n",
      "\t-deaths_male\n",
      "\t-deaths_unknown_gender\n",
      "\t-deaths_latinx\n",
      "\t-deaths_asian_non_latinx\n",
      "\t-deaths_black_non_latinx\n",
      "\t-deaths_white_non_latinx\n",
      "\t-deaths_other_non_latinx\n",
      "\t-deaths_unknown_race_eth\n",
      "\t-hospitalizations_total\n",
      "\t-hospitalizations_age_0_17\n",
      "\t-hospitalizations_age_18_29\n",
      "\t-hospitalizations_age_30_39\n",
      "\t-hospitalizations_age_40_49\n",
      "\t-hospitalizations_age_50_59\n",
      "\t-hospitalizations_age_60_69\n",
      "\t-hospitalizations_age_70_79\n",
      "\t-hospitalizations_age_80_\n",
      "\t-hospitalizations_age_unknown\n",
      "\t-hospitalizations_female\n",
      "\t-hospitalizations_male\n",
      "\t-hospitalizations_unknown_gender\n",
      "\t-hospitalizations_latinx\n",
      "\t-hospitalizations_asian_non_latinx\n",
      "\t-hospitalizations_black_non_latinx\n",
      "\t-hospitalizations_white_non_latinx\n",
      "\t-hospitalizations_other_race_non_latinx\n",
      "\t-hospitalizations_unknown_race_ethnicity\n",
      "\n",
      "all_hours\n",
      "\t-datetime\n",
      "\t-day\n",
      "\t-hour\n",
      "\t-intersection\n",
      "\t-month\n",
      "\t-year\n",
      "\n",
      "signal_crashes\n",
      "\t-crash_record_id\n",
      "\t-rd_no\n",
      "\t-crash_date\n",
      "\t-posted_speed_limit\n",
      "\t-traffic_control_device\n",
      "\t-device_condition\n",
      "\t-weather_condition\n",
      "\t-lighting_condition\n",
      "\t-first_crash_type\n",
      "\t-trafficway_type\n",
      "\t-alignment\n",
      "\t-roadway_surface_cond\n",
      "\t-road_defect\n",
      "\t-report_type\n",
      "\t-crash_type\n",
      "\t-damage\n",
      "\t-prim_contributory_cause\n",
      "\t-sec_contributory_cause\n",
      "\t-street_no\n",
      "\t-street_direction\n",
      "\t-street_name\n",
      "\t-beat_of_occurrence\n",
      "\t-num_units\n",
      "\t-most_severe_injury\n",
      "\t-injuries_total\n",
      "\t-injuries_fatal\n",
      "\t-injuries_incapacitating\n",
      "\t-injuries_non_incapacitating\n",
      "\t-injuries_reported_not_evident\n",
      "\t-injuries_no_indication\n",
      "\t-injuries_unknown\n",
      "\t-crash_hour\n",
      "\t-crash_day_of_week\n",
      "\t-crash_month\n",
      "\t-latitude\n",
      "\t-longitude\n",
      "\t-lane_cnt\n",
      "\t-intersection_related_i\n",
      "\t-hit_and_run_i\n",
      "\t-crash_date_est_i\n",
      "\t-work_zone_i\n",
      "\t-work_zone_type\n",
      "\t-workers_present_i\n",
      "\t-intersection\n",
      "\t-year\n",
      "\t-month\n",
      "\t-day\n",
      "\t-hour\n",
      "\t-region_id\n",
      "\t-time\n",
      "\t-weekday\n",
      "\t-start\n",
      "\t-end\n",
      "\t-rlc_state\n",
      "\n",
      "rlc_all_hours\n",
      "\t-datetime\n",
      "\t-day\n",
      "\t-hour\n",
      "\t-intersection\n",
      "\t-month\n",
      "\t-year\n",
      "\t-rlc_state\n",
      "\n"
     ]
    }
   ],
   "source": [
    "print(sql_fetch_tables(c, conn))\n",
    "\n",
    "\n",
    "\n",
    "def table_info(c, conn):\n",
    "    '''\n",
    "    prints out all of the columns of every table in db\n",
    "    c : cursor object\n",
    "    conn : database connection object\n",
    "    '''\n",
    "    tables = c.execute(\"SELECT name FROM sqlite_master WHERE type='table';\").fetchall()\n",
    "    for table_name in tables:\n",
    "        table_name = table_name[0]\n",
    "        table = pd.read_sql_query(\"SELECT * from {} LIMIT 0\".format(table_name), conn)\n",
    "        print(table_name)\n",
    "        for col in table.columns:\n",
    "            print('\\t-' + col)\n",
    "        print()\n",
    "\n",
    "table_info(c, conn)\n"
   ]
  },
  {
   "cell_type": "markdown",
   "metadata": {},
   "source": [
    "## Query our data\n",
    "I would like to get hourly intersection data with the following columns:\n",
    "\n",
    "\n",
    "signal_crashes\n",
    "\t-crash_date\n",
    "\t-posted_speed_limit\n",
    "\t-device_condition\n",
    "\t-weather_condition\n",
    "\t-lighting_condition\n",
    "\t-first_crash_type\n",
    "\t-trafficway_type\n",
    "\t-alignment\n",
    "\t-roadway_surface_cond\n",
    "\t-road_defect\n",
    "\t-report_type\n",
    "\t-crash_type\n",
    "\t-damage\n",
    "\t-prim_contributory_cause\n",
    "\t-sec_contributory_cause\n",
    "\t-street_no\n",
    "\t-street_direction\n",
    "\t-street_name\n",
    "\t-most_severe_injury\n",
    "\t-injuries_total\n",
    "\t-injuries_fatal\n",
    "\t-injuries_incapacitating\n",
    "\t-injuries_non_incapacitating\n",
    "\t-injuries_reported_not_evident\n",
    "\t-injuries_no_indication\n",
    "\t-injuries_unknown\n",
    "\t-latitude\n",
    "\t-longitude\n",
    "\t-lane_cnt\n",
    "\t-work_zone_i\n",
    "\t-work_zone_type\n",
    "\t-workers_present_i\n",
    "\t-intersection\n",
    "\t-year\n",
    "\t-month\n",
    "\t-day\n",
    "\t-hour\n",
    "\t-region_id\n",
    "\t-time\n",
    "\t-weekday\n",
    "\n",
    "hourly_weather\n",
    "\t-temp\n",
    "\t-rain_1h\n",
    "\t-rain_3h\n",
    "\t-snow_1h\n",
    "\t-snow_3h\n",
    "\t-time\n",
    "\t-year\n",
    "\t-month\n",
    "\t-day\n",
    "\t-hour\n",
    "\t-weekday\n",
    "\n",
    "hourly_congestion\n",
    "\t-year\n",
    "\t-month\n",
    "\t-day\n",
    "\t-hour\n",
    "\t-region_id\n",
    "\t-bus_count\n",
    "\t-num_reads\n",
    "\t-speed\n",
    "\t-weekday\n",
    "    \n",
    "Tables will be queried to JOIN on year, month, day, hour"
   ]
  },
  {
   "cell_type": "markdown",
   "metadata": {},
   "source": [
    "WHAT I REALLY NEED HERE\n",
    "A single dataset with the following:\n",
    "- daily intersection chars (all the stuff I entered)\n",
    "- daily intersection crashes (injuries, deaths, number etc)\n",
    "- daily wx (temp, precip mainly)\n",
    "- daily congestion (might not need this)\n",
    "- daily violations (already in the format)"
   ]
  },
  {
   "cell_type": "code",
   "execution_count": 293,
   "metadata": {},
   "outputs": [
    {
     "name": "stdout",
     "output_type": "stream",
     "text": [
      "4464234.0\n"
     ]
    }
   ],
   "source": [
    "# Approximately how many entries should I expect to be looking at after filtering my data\n",
    "# 3 years, 4 months x 153 intersections\n",
    "print((365.25*3 + 30*4) * 153 * 24)\n"
   ]
  },
  {
   "cell_type": "markdown",
   "metadata": {},
   "source": [
    "## Query my db to get a DataFrame with crashes and intersection\n",
    "We will be using the number of crashes and injuries to do some t-tests"
   ]
  },
  {
   "cell_type": "code",
   "execution_count": 174,
   "metadata": {},
   "outputs": [],
   "source": [
    "cam_df = pd.read_sql_query('''\n",
    "WITH ah AS(\n",
    "        SELECT year, month, day, hour, intersection, rlc_state, datetime\n",
    "        FROM rlc_all_hours\n",
    "        ),\n",
    "         \n",
    "    cr AS(\n",
    "        SELECT year,\n",
    "                month,\n",
    "                day,\n",
    "                hour,\n",
    "                intersection,\n",
    "                injuries_total,\n",
    "                injuries_fatal,\n",
    "                crash_record_id,\n",
    "                first_crash_type,\n",
    "                (first_crash_type == 'REAR END') as rear_end,\n",
    "                (first_crash_type == 'TURNING') as turning,\n",
    "                (first_crash_type == 'ANGLE') as angle\n",
    "        FROM signal_crashes\n",
    "        )                                    \n",
    "        \n",
    "        \n",
    "SELECT ah.*,\n",
    "    SUM(cr.injuries_total) as injuries_total,\n",
    "    COUNT(cr.crash_record_id) as n_crash,\n",
    "    SUM(cr.injuries_fatal) as injuries_fatal,\n",
    "    cr.first_crash_type,\n",
    "    SUM(cr.rear_end) as rear_end,\n",
    "    SUM(cr.angle) as angle,\n",
    "    SUM(cr.turning) as turning    \n",
    "    \n",
    "FROM ah\n",
    "LEFT JOIN cr\n",
    "    ON cr.year = ah.year\n",
    "    AND cr.month = ah.month\n",
    "    AND cr.day = ah.day\n",
    "    AND cr.hour = ah.hour\n",
    "    AND cr.intersection = ah.intersection     \n",
    "  \n",
    "GROUP BY ah.year, ah.month, ah.day, ah.intersection\n",
    "ORDER BY ah.year, ah.month, ah.day, ah.intersection\n",
    "''', conn)\n",
    "\n",
    "# something is preventing me from pulling datetime from ah into my query.  \n",
    "# It makes all of my intersections the same"
   ]
  },
  {
   "cell_type": "code",
   "execution_count": 303,
   "metadata": {},
   "outputs": [],
   "source": [
    "se_df = pd.read_sql_query('''SELECT * FROM  int_startend''', conn)\n"
   ]
  },
  {
   "cell_type": "code",
   "execution_count": 304,
   "metadata": {},
   "outputs": [
    {
     "data": {
      "text/html": [
       "<div>\n",
       "<style scoped>\n",
       "    .dataframe tbody tr th:only-of-type {\n",
       "        vertical-align: middle;\n",
       "    }\n",
       "\n",
       "    .dataframe tbody tr th {\n",
       "        vertical-align: top;\n",
       "    }\n",
       "\n",
       "    .dataframe thead th {\n",
       "        text-align: right;\n",
       "    }\n",
       "</style>\n",
       "<table border=\"1\" class=\"dataframe\">\n",
       "  <thead>\n",
       "    <tr style=\"text-align: right;\">\n",
       "      <th></th>\n",
       "      <th>intersection</th>\n",
       "      <th>start</th>\n",
       "      <th>end</th>\n",
       "    </tr>\n",
       "  </thead>\n",
       "  <tbody>\n",
       "    <tr>\n",
       "      <td>15</td>\n",
       "      <td>95TH AND STONEY ISLAND</td>\n",
       "      <td>2016-01-02 00:00:00</td>\n",
       "      <td>2017-05-30 00:00:00</td>\n",
       "    </tr>\n",
       "  </tbody>\n",
       "</table>\n",
       "</div>"
      ],
      "text/plain": [
       "              intersection                start                  end\n",
       "15  95TH AND STONEY ISLAND  2016-01-02 00:00:00  2017-05-30 00:00:00"
      ]
     },
     "execution_count": 304,
     "metadata": {},
     "output_type": "execute_result"
    }
   ],
   "source": [
    "se_df[se_df.intersection == '95TH AND STONEY ISLAND']\n"
   ]
  },
  {
   "cell_type": "code",
   "execution_count": 305,
   "metadata": {},
   "outputs": [
    {
     "data": {
      "text/html": [
       "<div>\n",
       "<style scoped>\n",
       "    .dataframe tbody tr th:only-of-type {\n",
       "        vertical-align: middle;\n",
       "    }\n",
       "\n",
       "    .dataframe tbody tr th {\n",
       "        vertical-align: top;\n",
       "    }\n",
       "\n",
       "    .dataframe thead th {\n",
       "        text-align: right;\n",
       "    }\n",
       "</style>\n",
       "<table border=\"1\" class=\"dataframe\">\n",
       "  <thead>\n",
       "    <tr style=\"text-align: right;\">\n",
       "      <th></th>\n",
       "      <th>year</th>\n",
       "      <th>month</th>\n",
       "      <th>day</th>\n",
       "      <th>hour</th>\n",
       "      <th>intersection</th>\n",
       "      <th>rlc_state</th>\n",
       "      <th>datetime</th>\n",
       "      <th>injuries_total</th>\n",
       "      <th>n_crash</th>\n",
       "      <th>injuries_fatal</th>\n",
       "      <th>first_crash_type</th>\n",
       "      <th>rear_end</th>\n",
       "      <th>angle</th>\n",
       "      <th>turning</th>\n",
       "    </tr>\n",
       "  </thead>\n",
       "  <tbody>\n",
       "    <tr>\n",
       "      <td>95004</td>\n",
       "      <td>2017</td>\n",
       "      <td>9</td>\n",
       "      <td>1</td>\n",
       "      <td>0</td>\n",
       "      <td>111TH AND HALSTED</td>\n",
       "      <td>1</td>\n",
       "      <td>2017-09-01</td>\n",
       "      <td>0.0</td>\n",
       "      <td>0</td>\n",
       "      <td>0.0</td>\n",
       "      <td>None</td>\n",
       "      <td>0.0</td>\n",
       "      <td>0.0</td>\n",
       "      <td>0.0</td>\n",
       "    </tr>\n",
       "    <tr>\n",
       "      <td>95005</td>\n",
       "      <td>2017</td>\n",
       "      <td>9</td>\n",
       "      <td>1</td>\n",
       "      <td>0</td>\n",
       "      <td>119TH AND HALSTED</td>\n",
       "      <td>1</td>\n",
       "      <td>2017-09-01</td>\n",
       "      <td>0.0</td>\n",
       "      <td>0</td>\n",
       "      <td>0.0</td>\n",
       "      <td>None</td>\n",
       "      <td>0.0</td>\n",
       "      <td>0.0</td>\n",
       "      <td>0.0</td>\n",
       "    </tr>\n",
       "    <tr>\n",
       "      <td>95006</td>\n",
       "      <td>2017</td>\n",
       "      <td>9</td>\n",
       "      <td>1</td>\n",
       "      <td>0</td>\n",
       "      <td>31ST ST AND MARTIN LUTHER KING DRIVE</td>\n",
       "      <td>1</td>\n",
       "      <td>2017-09-01</td>\n",
       "      <td>0.0</td>\n",
       "      <td>1</td>\n",
       "      <td>0.0</td>\n",
       "      <td>None</td>\n",
       "      <td>1.0</td>\n",
       "      <td>0.0</td>\n",
       "      <td>0.0</td>\n",
       "    </tr>\n",
       "    <tr>\n",
       "      <td>95007</td>\n",
       "      <td>2017</td>\n",
       "      <td>9</td>\n",
       "      <td>1</td>\n",
       "      <td>0</td>\n",
       "      <td>35TH AND WESTERN</td>\n",
       "      <td>1</td>\n",
       "      <td>2017-09-01</td>\n",
       "      <td>0.0</td>\n",
       "      <td>0</td>\n",
       "      <td>0.0</td>\n",
       "      <td>None</td>\n",
       "      <td>0.0</td>\n",
       "      <td>0.0</td>\n",
       "      <td>0.0</td>\n",
       "    </tr>\n",
       "    <tr>\n",
       "      <td>95008</td>\n",
       "      <td>2017</td>\n",
       "      <td>9</td>\n",
       "      <td>1</td>\n",
       "      <td>0</td>\n",
       "      <td>4700 WESTERN</td>\n",
       "      <td>1</td>\n",
       "      <td>2017-09-01</td>\n",
       "      <td>0.0</td>\n",
       "      <td>0</td>\n",
       "      <td>0.0</td>\n",
       "      <td>None</td>\n",
       "      <td>0.0</td>\n",
       "      <td>0.0</td>\n",
       "      <td>0.0</td>\n",
       "    </tr>\n",
       "  </tbody>\n",
       "</table>\n",
       "</div>"
      ],
      "text/plain": [
       "       year  month  day  hour                          intersection  \\\n",
       "95004  2017      9    1     0                     111TH AND HALSTED   \n",
       "95005  2017      9    1     0                     119TH AND HALSTED   \n",
       "95006  2017      9    1     0  31ST ST AND MARTIN LUTHER KING DRIVE   \n",
       "95007  2017      9    1     0                      35TH AND WESTERN   \n",
       "95008  2017      9    1     0                          4700 WESTERN   \n",
       "\n",
       "       rlc_state   datetime  injuries_total  n_crash  injuries_fatal  \\\n",
       "95004          1 2017-09-01             0.0        0             0.0   \n",
       "95005          1 2017-09-01             0.0        0             0.0   \n",
       "95006          1 2017-09-01             0.0        1             0.0   \n",
       "95007          1 2017-09-01             0.0        0             0.0   \n",
       "95008          1 2017-09-01             0.0        0             0.0   \n",
       "\n",
       "      first_crash_type  rear_end  angle  turning  \n",
       "95004             None       0.0    0.0      0.0  \n",
       "95005             None       0.0    0.0      0.0  \n",
       "95006             None       1.0    0.0      0.0  \n",
       "95007             None       0.0    0.0      0.0  \n",
       "95008             None       0.0    0.0      0.0  "
      ]
     },
     "execution_count": 305,
     "metadata": {},
     "output_type": "execute_result"
    }
   ],
   "source": [
    "cam_df.shape\n",
    "#cam_df['datetime'] = cam_df.apply(lambda x: datetime(int(x['year']), x['month'], x['day']), axis=1)\n",
    "cam_df.head()\n",
    "#cam_df.rlc_state.sum()"
   ]
  },
  {
   "cell_type": "code",
   "execution_count": 306,
   "metadata": {},
   "outputs": [
    {
     "data": {
      "text/plain": [
       "Timestamp('2017-09-01 00:00:00')"
      ]
     },
     "execution_count": 306,
     "metadata": {},
     "output_type": "execute_result"
    }
   ],
   "source": [
    "cam_df = cam_df[(cam_df['datetime'] >= '2017-09-01') &\n",
    "                (cam_df['datetime'] <= '2021-01-31')]\n",
    "cam_df.datetime.min()"
   ]
  },
  {
   "cell_type": "code",
   "execution_count": 307,
   "metadata": {},
   "outputs": [
    {
     "data": {
      "text/plain": [
       "156"
      ]
     },
     "execution_count": 307,
     "metadata": {},
     "output_type": "execute_result"
    }
   ],
   "source": [
    "len(cam_df.intersection.unique())"
   ]
  },
  {
   "cell_type": "code",
   "execution_count": 308,
   "metadata": {},
   "outputs": [
    {
     "name": "stdout",
     "output_type": "stream",
     "text": [
      "0    183731\n",
      "1      5947\n",
      "2       163\n",
      "3        11\n",
      "Name: n_crash, dtype: int64\n",
      "<class 'pandas.core.frame.DataFrame'>\n",
      "Int64Index: 189852 entries, 95004 to 284855\n",
      "Data columns (total 14 columns):\n",
      "year                189852 non-null int64\n",
      "month               189852 non-null int64\n",
      "day                 189852 non-null int64\n",
      "hour                189852 non-null int64\n",
      "intersection        189852 non-null object\n",
      "rlc_state           189852 non-null int64\n",
      "datetime            189852 non-null datetime64[ns]\n",
      "injuries_total      189852 non-null float64\n",
      "n_crash             189852 non-null int64\n",
      "injuries_fatal      189852 non-null float64\n",
      "first_crash_type    156 non-null object\n",
      "rear_end            189852 non-null float64\n",
      "angle               189852 non-null float64\n",
      "turning             189852 non-null float64\n",
      "dtypes: datetime64[ns](1), float64(5), int64(6), object(2)\n",
      "memory usage: 21.7+ MB\n",
      "None\n"
     ]
    }
   ],
   "source": [
    "cam_df.head()\n",
    "print(cam_df.n_crash.value_counts())\n",
    "print(cam_df.info())\n"
   ]
  },
  {
   "cell_type": "markdown",
   "metadata": {},
   "source": [
    "## Preprocess my data"
   ]
  },
  {
   "cell_type": "code",
   "execution_count": 309,
   "metadata": {},
   "outputs": [
    {
     "data": {
      "text/plain": [
       "(189852, 14)"
      ]
     },
     "execution_count": 309,
     "metadata": {},
     "output_type": "execute_result"
    }
   ],
   "source": [
    "cam_df.first_crash_type.unique()\n",
    "cam_df['rear_end'].fillna(0, inplace=True)\n",
    "cam_df['angle'].fillna(0, inplace=True)\n",
    "cam_df['turning'].fillna(0, inplace=True)\n",
    "cam_df['injuries_total'].fillna(0, inplace=True)\n",
    "cam_df['injuries_fatal'].fillna(0, inplace=True)\n",
    "\n",
    "cam_df.shape\n"
   ]
  },
  {
   "cell_type": "code",
   "execution_count": 310,
   "metadata": {},
   "outputs": [
    {
     "data": {
      "text/plain": [
       "year                     0\n",
       "month                    0\n",
       "day                      0\n",
       "hour                     0\n",
       "intersection             0\n",
       "rlc_state                0\n",
       "datetime                 0\n",
       "injuries_total           0\n",
       "n_crash                  0\n",
       "injuries_fatal           0\n",
       "first_crash_type    189696\n",
       "rear_end                 0\n",
       "angle                    0\n",
       "turning                  0\n",
       "dtype: int64"
      ]
     },
     "execution_count": 310,
     "metadata": {},
     "output_type": "execute_result"
    }
   ],
   "source": [
    "cam_df.isna().sum()  # one entry each accident with no violations/vio_date.  Days with no"
   ]
  },
  {
   "cell_type": "markdown",
   "metadata": {},
   "source": [
    "Looks like we are missing violations for cameras that are turned off.  Some of these will be our experiment."
   ]
  },
  {
   "cell_type": "code",
   "execution_count": 311,
   "metadata": {},
   "outputs": [
    {
     "name": "stdout",
     "output_type": "stream",
     "text": [
      "189852\n",
      "156\n",
      "6306\n",
      "0\n"
     ]
    }
   ],
   "source": [
    "print(len(cam_df)) # should be same as all if everything merged properly\n",
    "\n",
    "print(len(cam_df.intersection.unique()))\n",
    "print(cam_df.n_crash.sum())\n",
    "print(cam_df.rlc_state.isna().sum())"
   ]
  },
  {
   "cell_type": "markdown",
   "metadata": {},
   "source": [
    "### Split my control and experiment groups\n"
   ]
  },
  {
   "cell_type": "code",
   "execution_count": 312,
   "metadata": {},
   "outputs": [
    {
     "name": "stdout",
     "output_type": "stream",
     "text": [
      "1216\n"
     ]
    },
    {
     "data": {
      "text/plain": [
       "['FOSTER AND NORTHWEST HIGHWAY',\n",
       " 'FULLERTON AND NARRAGANSETT',\n",
       " 'HALSTED AND 103RD',\n",
       " 'LAKE AND UPPER WACKER',\n",
       " 'MICHIGAN AND JACKSON',\n",
       " 'MICHIGAN AND ONTARIO',\n",
       " 'MILWAUKEE AND CENTRAL']"
      ]
     },
     "execution_count": 312,
     "metadata": {},
     "output_type": "execute_result"
    }
   ],
   "source": [
    "from datetime import date\n",
    "\n",
    "# Which cameras have some rlc_state of 0\n",
    "cam_df.datetime = pd.to_datetime(cam_df.datetime)\n",
    "\n",
    "days = (cam_df.datetime.max() - cam_df.datetime.min()).days\n",
    "print(days)\n",
    "\n",
    "my_intersections = []\n",
    "\n",
    "for intersection in cam_df.intersection.unique():\n",
    "    if cam_df[cam_df['intersection'] == intersection]['rlc_state'].sum() > 0 and cam_df[cam_df['intersection'] == intersection]['rlc_state'].sum() < days:\n",
    "        my_intersections.append(intersection)\n",
    "\n",
    "my_intersections"
   ]
  },
  {
   "cell_type": "code",
   "execution_count": 313,
   "metadata": {},
   "outputs": [
    {
     "name": "stdout",
     "output_type": "stream",
     "text": [
      "5868 438\n"
     ]
    }
   ],
   "source": [
    "all_on = cam_df[cam_df['rlc_state']==1]\n",
    "all_off = cam_df[cam_df['rlc_state']==0]\n",
    "print(all_on.n_crash.sum(), all_off.n_crash.sum())"
   ]
  },
  {
   "cell_type": "markdown",
   "metadata": {},
   "source": [
    "Initial look at how cam on/off compares with count of crashes and percent of intersection days with crashes"
   ]
  },
  {
   "cell_type": "code",
   "execution_count": 315,
   "metadata": {},
   "outputs": [
    {
     "name": "stdout",
     "output_type": "stream",
     "text": [
      "Cameras ON\n",
      "Crashes: 5868, Intersection-Days: 180817\n",
      "Crashes per day: 0.03245\n",
      "\n",
      "Cameras OFF\n",
      "Crashes: 438, Intersection-Days: 9035\n",
      "Crashes per day: 0.04848\n"
     ]
    }
   ],
   "source": [
    "print('Cameras ON')\n",
    "print('Crashes: {}, Intersection-Days: {}\\nCrashes per day: {:.5f}'.format(all_on.n_crash.sum(), \n",
    "                                                                     len(all_on), \n",
    "                                                                     all_on.n_crash.sum()/len(all_on),))\n",
    "\n",
    "print()\n",
    "print('Cameras OFF')\n",
    "print('Crashes: {}, Intersection-Days: {}\\nCrashes per day: {:.5f}'.format(all_off.n_crash.sum(), \n",
    "                                                                     len(all_off), \n",
    "                                                                     all_off.n_crash.sum()/len(all_off)))\n"
   ]
  },
  {
   "cell_type": "markdown",
   "metadata": {},
   "source": [
    "# Hypothesis test with full data set.\n",
    "\n",
    "We have an experiment and control group as dataframes.  The control is cam_on.\n",
    "Our null hypothesis is that turning the cameras off at an intersection has no effect on the number of crashes.\n",
    "\n",
    "We will use an alpha of 0.05 to reject the null hypothesis"
   ]
  },
  {
   "cell_type": "code",
   "execution_count": 316,
   "metadata": {},
   "outputs": [],
   "source": [
    "# We make two bool series for on and off\n",
    "np.random.seed(seed=0)\n",
    "\n",
    "on = all_on['n_crash'].astype(bool)\n",
    "off = all_off['n_crash'].astype(bool)"
   ]
  },
  {
   "cell_type": "code",
   "execution_count": 362,
   "metadata": {},
   "outputs": [
    {
     "name": "stdout",
     "output_type": "stream",
     "text": [
      "Cameras ON mean: 0.03245\n",
      "Cameras OFF mean: 0.04848\n",
      "\n",
      "Actual with rlc off: 438\n",
      "Expected with rlc off: 293.2\n",
      "\n",
      "Standard deviation: 16.84\n",
      "z score: 8.60\n",
      "\n",
      "P value: 4.116e-18\n",
      "\n",
      "REJECT the null hypothesis\n",
      "Observations: 189852\n",
      "Effect size: 0.088\n",
      "Power: 0.99\n"
     ]
    }
   ],
   "source": [
    "def hyp_test(on, off, alpha):\n",
    "    '''\n",
    "    Hypothesis testing for camera on and camera off populations\n",
    "            Parameters:\n",
    "                    on (Series): Boolean series (crash/no crash)\n",
    "                    off (Series): Another Boolean Series (crash/no crash)\n",
    "                    alpha (float): Statistical significance (usually 0.05)\n",
    "\n",
    "            Returns:\n",
    "                    z_score (float): z score (std devs)\n",
    "                    p_val (float): probability of series drawn from same dataset\n",
    "                    expected_off (float): expected number of off based on the on_rate\n",
    "    '''\n",
    "    on_rate = on.mean()\n",
    "    off_rate = off.mean()\n",
    "    expected_off = on_rate * len(off)\n",
    "\n",
    "    print('Cameras ON mean: {:.5f}'.format(on_rate))\n",
    "    print('Cameras OFF mean: {:.5f}'.format(off_rate))\n",
    "    print()\n",
    "\n",
    "    print('Actual with rlc off:', off.sum())\n",
    "    print('Expected with rlc off: {:.1f}'.format(expected_off))\n",
    "    n = len(off)\n",
    "    p = on_rate\n",
    "    var = n * p * (1-p)\n",
    "    std = np.sqrt(var)\n",
    "\n",
    "    print()\n",
    "    print('Standard deviation: {:.2f}'.format(std))  \n",
    "    \n",
    "    z_score = (off.sum() - expected_off)/std\n",
    "    print('z score: {:.2f}'.format(z_score))\n",
    "    \n",
    "    print()\n",
    "    p_val = stats.norm.sf(z_score) #or 1 - stats.norm.cdf(z_score)\n",
    "    print('P value: {:.3e}'.format(p_val))\n",
    "    \n",
    "    print()\n",
    "    if p_val < alpha:\n",
    "        print('REJECT the null hypothesis')\n",
    "    else: \n",
    "        print('DO NOT REJECT the null hypothesis')\n",
    "        \n",
    "    return z_score, p_val, expected_off\n",
    "    \n",
    "  \n",
    "def get_power(on, off):\n",
    "    # print out the power and effect for the populations\n",
    "    power_analysis = TTestIndPower()\n",
    "\n",
    "    # total days of observations\n",
    "    observations = len(on) + len(off)\n",
    "    print('Observations: {}'.format(observations))\n",
    "\n",
    "    # effect size is measure of effect (small 02, medium )\n",
    "    effect_size = abs(off.mean() - on.mean())/ on.std()\n",
    "    print('Effect size: {:.3f}'.format(effect_size) ) # effect size\n",
    "    power = power_analysis.solve_power(effect_size=effect_size, nobs1=observations, alpha=.05)  # nobs1, alpha, power, effect_size\n",
    "    if power == 1:\n",
    "        print('Power: {:.2f}'.format(0.99))\n",
    "    else:\n",
    "        print('Power: {:.2f}'.format(power))\n",
    "\n",
    "    \n",
    "on = all_on['n_crash']\n",
    "off = all_off['n_crash']\n",
    "  \n",
    "z, p, expected = hyp_test(on, off, 0.05)\n",
    "\n",
    "get_power(on, off)"
   ]
  },
  {
   "cell_type": "markdown",
   "metadata": {},
   "source": [
    "We see many more crashes with cameras off.  This is our first indication that red light cameras affect crashes."
   ]
  },
  {
   "cell_type": "markdown",
   "metadata": {},
   "source": [
    "Double check using a binomial test and Fischer's Test"
   ]
  },
  {
   "cell_type": "code",
   "execution_count": 363,
   "metadata": {},
   "outputs": [
    {
     "name": "stdout",
     "output_type": "stream",
     "text": [
      "Binomial Test pval: 8.79e-16\n",
      "Fisher's Test pval: 5.38e-15\n"
     ]
    }
   ],
   "source": [
    "# binomial test\n",
    "pval = stats.binom_test(off.sum(),n=len(off),p=on.mean())\n",
    "print('Binomial Test pval: {:.2e}'.format(pval))\n",
    "\n",
    "\n",
    "oddsratio, pvalue = stats.fisher_exact([[on.sum(), len(on)-on.sum()], [off.sum(), len(off)-off.sum()]])\n",
    "print('Fisher\\'s Test pval: {:.2e}'.format(pvalue))"
   ]
  },
  {
   "cell_type": "markdown",
   "metadata": {},
   "source": [
    "We would reject the null hypothesis by any test.  \n",
    "First indication that red light cameras are statistically significant in reducing crashes.\n",
    "\n",
    "The odds ratio tells us that the change is 67%"
   ]
  },
  {
   "cell_type": "markdown",
   "metadata": {},
   "source": [
    "# Hypothesis test with intersections of interest"
   ]
  },
  {
   "cell_type": "markdown",
   "metadata": {},
   "source": [
    "The previous test may be misleading.  \n",
    "Only a small percentage of cameras actually have dates where they were turned on/off during the examined time period. It would be more useful to select data only from the intersections of interest to compare like items.\n",
    "\n",
    "Next, we will select the cameras that have start/end dates within the timeframe Sept-17 to Dec-20.\n",
    "We can then look at on/off data for those cams only"
   ]
  },
  {
   "cell_type": "markdown",
   "metadata": {},
   "source": [
    "### Filter the cams of interest"
   ]
  },
  {
   "cell_type": "code",
   "execution_count": 364,
   "metadata": {},
   "outputs": [
    {
     "name": "stdout",
     "output_type": "stream",
     "text": [
      "['FOSTER AND NORTHWEST HIGHWAY' 'FULLERTON AND NARRAGANSETT'\n",
      " 'HALSTED AND 103RD' 'LAKE AND UPPER WACKER' 'MICHIGAN AND JACKSON'\n",
      " 'MICHIGAN AND ONTARIO' 'MILWAUKEE AND CENTRAL']\n"
     ]
    }
   ],
   "source": [
    "# get cams that have a start date within the investigated period or an end date within it.\n",
    "# select_cams = cam_df[((cam_df['start'] > datetime(2017,9,1)) & (cam_df['end'] > datetime(2017,9,1)))\n",
    "#                      | ((cam_df['end'] < datetime(2021, 1, 1)) & (cam_df['end'] > datetime(2017, 9,1)))]\n",
    "\n",
    "\n",
    "select_cams = cam_df[cam_df['intersection'].isin(my_intersections)]\n",
    "\n",
    "print(select_cams.intersection.unique())  # 7  total"
   ]
  },
  {
   "cell_type": "markdown",
   "metadata": {},
   "source": [
    "### Test the populations\n",
    "Null hypothesis is that camera state has no effect.\n",
    "Alpha is 0.05"
   ]
  },
  {
   "cell_type": "code",
   "execution_count": 365,
   "metadata": {},
   "outputs": [],
   "source": [
    "off = select_cams[select_cams['rlc_state']==0]\n",
    "on = select_cams[select_cams['rlc_state']==1]"
   ]
  },
  {
   "cell_type": "markdown",
   "metadata": {},
   "source": [
    "After filtering out all but the cams of interest, we split into our control experiment again.\n",
    "This set is much more balanced."
   ]
  },
  {
   "cell_type": "code",
   "execution_count": 366,
   "metadata": {},
   "outputs": [
    {
     "name": "stdout",
     "output_type": "stream",
     "text": [
      "Days off: 1733\n",
      "Total crashes off 69\n",
      "\n",
      "Days on: 6786\n",
      "Total crashes on 134\n"
     ]
    }
   ],
   "source": [
    "# Total number of accidents on/off\n",
    "print('Days off:', len(off))\n",
    "print('Total crashes off', off['n_crash'].sum())\n",
    "print()\n",
    "\n",
    "print('Days on:', len(on))\n",
    "print('Total crashes on', on['n_crash'].sum())"
   ]
  },
  {
   "cell_type": "code",
   "execution_count": 367,
   "metadata": {},
   "outputs": [
    {
     "name": "stdout",
     "output_type": "stream",
     "text": [
      "Cameras ON mean: 0.01975\n",
      "Cameras OFF mean: 0.03982\n",
      "\n",
      "Actual with rlc off: 69\n",
      "Expected with rlc off: 34.2\n",
      "\n",
      "Standard deviation: 5.79\n",
      "z score: 6.00\n",
      "\n",
      "P value: 9.572e-10\n",
      "\n",
      "REJECT the null hypothesis\n",
      "Observations: 8519\n",
      "Effect size: 0.143\n",
      "Power: 0.99\n"
     ]
    }
   ],
   "source": [
    "n_on = len(on)\n",
    "crash_on = on['n_crash']\n",
    "\n",
    "n_off = len(off)\n",
    "crash_off = off['n_crash']\n",
    "\n",
    "z, pval_final, expected = hyp_test(crash_on, crash_off, 0.05)\n",
    "\n",
    "get_power(crash_on, crash_off)\n"
   ]
  },
  {
   "cell_type": "code",
   "execution_count": 368,
   "metadata": {},
   "outputs": [
    {
     "name": "stdout",
     "output_type": "stream",
     "text": [
      "Binomial Test pval: 9.48e-08\n",
      "Fisher's Test pval: 5.21e-06\n"
     ]
    }
   ],
   "source": [
    "# binomial test\n",
    "pval = stats.binom_test(crash_off.sum(),n=len(crash_off),p=crash_on.mean())\n",
    "print('Binomial Test pval: {:.2e}'.format(pval))\n",
    "\n",
    "# Fisher test\n",
    "oddsratio, pvalue = stats.fisher_exact([[crash_on.sum(), len(crash_on)-crash_on.sum()], [crash_off.sum(), len(crash_off)-crash_off.sum()]])\n",
    "print('Fisher\\'s Test pval: {:.2e}'.format(pvalue))"
   ]
  },
  {
   "cell_type": "markdown",
   "metadata": {},
   "source": [
    "### Make a binomial distribution plot \n",
    "This plot is for presentation to demonstrate the significance of the finding.}\n",
    "\n",
    "If my camera off crashes were random, the distribution would look like the graph below.\n",
    "We use the number of observations (cam off) at the probability equal to the 'cam on' mean."
   ]
  },
  {
   "cell_type": "code",
   "execution_count": 369,
   "metadata": {},
   "outputs": [
    {
     "name": "stdout",
     "output_type": "stream",
     "text": [
      "crashes at 0.95 (alpha=0.05) 46.0\n"
     ]
    },
    {
     "data": {
      "image/png": "[encoded data removed]",
      "text/plain": [
       "<Figure size 720x360 with 1 Axes>"
      ]
     },
     "metadata": {},
     "output_type": "display_data"
    }
   ],
   "source": [
    "from scipy.stats import binom\n",
    "from statsmodels.stats.proportion import proportion_confint\n",
    "\n",
    "n, p = n_off, crash_on.mean() # number of trials, probability of each trial\n",
    "actual_crash = off['n_crash'].sum()\n",
    "dist = np.random.binomial(n, p, 1000)\n",
    "mean_crash = dist.mean()\n",
    "plt.figure(figsize=[10,5])\n",
    "sns.set_style(\"dark\")\n",
    "\n",
    "\n",
    "ax = sns.distplot(dist, hist=False, fit=norm, kde=False, label='Normal Distribution of Expected Crashes', color='blue')\n",
    "plt.title('Expected Crash Distribution (n= {}, p= {:.4f})'.format(n, p), fontsize=20)\n",
    "ax.set_ylim(0)\n",
    "\n",
    "\n",
    "#plt.axvline(110, 0, 1, color='red')\n",
    "plt.axvline(actual_crash, 0, 1, color='red', )\n",
    "plt.axvline(mean_crash, 0, 1, color='blue', linestyle='dashed')\n",
    "\n",
    "\n",
    "\n",
    "\n",
    "\n",
    "plt.xlabel('n crashes', fontsize=20)\n",
    "\n",
    "#ax.text(108, 0.045, \"Actual n crashes\", horizontalalignment='right', size='medium', color='black', weight='semibold')\n",
    "ax.annotate(s='Actual Crashes = {}\\nz_score = {}'.format(actual_crash, 6.9),\n",
    "            xy=(actual_crash, 0.03),\n",
    "            xycoords='data',\n",
    "            fontsize=12,\n",
    "            xytext=(-100, 50),\n",
    "            textcoords='offset points',\n",
    "            horizontalalignment='center',\n",
    "            arrowprops=dict(arrowstyle='->', color='purple'),  # Use color black\n",
    "\n",
    "            )   # New param\n",
    "\n",
    "ax.annotate(s='Expected Mean = {:.2f}'.format(mean_crash),\n",
    "            xy=(mean_crash, 0.03),\n",
    "            xycoords='data',\n",
    "            fontsize=12,\n",
    "            xytext=(-120, 50),\n",
    "            horizontalalignment='center',\n",
    "            textcoords='offset points',\n",
    "            arrowprops=dict(arrowstyle='->', color='purple'),  # Use color black\n",
    "\n",
    "            )   # New param\n",
    "\n",
    "print('crashes at 0.95 (alpha=0.05)', binom.ppf(0.975, n, p))"
   ]
  },
  {
   "cell_type": "markdown",
   "metadata": {},
   "source": [
    "Having a cam on is statistically significant for this group.\n",
    "\n",
    "There could be another effect.  What if the camera that had the most down time also had more crashes.  That would skew the results dramatically\n",
    "\n",
    "Another way we could this is by going through every camera of interest or by balancing the number of samples taken from each intersection.\n",
    "\n"
   ]
  },
  {
   "cell_type": "markdown",
   "metadata": {},
   "source": [
    "## Hypothesis Testing on Individual Cameras\n",
    "\n"
   ]
  },
  {
   "cell_type": "code",
   "execution_count": 370,
   "metadata": {},
   "outputs": [
    {
     "name": "stdout",
     "output_type": "stream",
     "text": [
      "['FOSTER AND NORTHWEST HIGHWAY' 'FULLERTON AND NARRAGANSETT'\n",
      " 'HALSTED AND 103RD' 'LAKE AND UPPER WACKER' 'MICHIGAN AND JACKSON'\n",
      " 'MICHIGAN AND ONTARIO' 'MILWAUKEE AND CENTRAL']\n",
      "\n",
      "We have 7 intersections of interest.\n"
     ]
    }
   ],
   "source": [
    "\n",
    "\n",
    "print(select_cams.intersection.unique())\n",
    "print()\n",
    "print('We have {} intersections of interest.'.format(len(select_cams.intersection.unique())))\n",
    "\n"
   ]
  },
  {
   "cell_type": "code",
   "execution_count": 371,
   "metadata": {},
   "outputs": [
    {
     "name": "stdout",
     "output_type": "stream",
     "text": [
      "\n",
      "********************\n",
      "FOSTER AND NORTHWEST HIGHWAY\n",
      "\n",
      "Cameras ON mean: 0.00840\n",
      "Cameras OFF mean: 0.00000\n",
      "\n",
      "Actual with rlc off: 0\n",
      "Expected with rlc off: 0.2\n",
      "\n",
      "Standard deviation: 0.47\n",
      "z score: -0.47\n",
      "\n",
      "P value: 6.805e-01\n",
      "\n",
      "DO NOT REJECT the null hypothesis\n",
      "\n",
      "Observations: 1217\n",
      "Effect size: 0.092\n",
      "Power: 0.62\n",
      "\n",
      "********************\n",
      "FULLERTON AND NARRAGANSETT\n",
      "\n",
      "Cameras ON mean: 0.02888\n",
      "Cameras OFF mean: 0.00000\n",
      "\n",
      "Actual with rlc off: 0\n",
      "Expected with rlc off: 0.1\n",
      "\n",
      "Standard deviation: 0.37\n",
      "z score: -0.39\n",
      "\n",
      "P value: 6.501e-01\n",
      "\n",
      "DO NOT REJECT the null hypothesis\n",
      "\n",
      "Observations: 1217\n",
      "Effect size: 0.172\n",
      "Power: 0.99\n",
      "\n",
      "********************\n",
      "HALSTED AND 103RD\n",
      "\n",
      "Cameras ON mean: 0.03571\n",
      "Cameras OFF mean: 0.03790\n",
      "\n",
      "Actual with rlc off: 44\n",
      "Expected with rlc off: 41.5\n",
      "\n",
      "Standard deviation: 6.32\n",
      "z score: 0.40\n",
      "\n",
      "P value: 3.442e-01\n",
      "\n",
      "DO NOT REJECT the null hypothesis\n",
      "\n",
      "Observations: 1217\n",
      "Effect size: 0.012\n",
      "Power: 0.06\n",
      "\n",
      "********************\n",
      "LAKE AND UPPER WACKER\n",
      "\n",
      "Cameras ON mean: 0.02107\n",
      "Cameras OFF mean: 0.03468\n",
      "\n",
      "Actual with rlc off: 6\n",
      "Expected with rlc off: 3.6\n",
      "\n",
      "Standard deviation: 1.89\n",
      "z score: 1.25\n",
      "\n",
      "P value: 1.063e-01\n",
      "\n",
      "DO NOT REJECT the null hypothesis\n",
      "\n",
      "Observations: 1217\n",
      "Effect size: 0.095\n",
      "Power: 0.65\n",
      "\n",
      "********************\n",
      "MICHIGAN AND JACKSON\n",
      "\n",
      "Cameras ON mean: 0.02170\n",
      "Cameras OFF mean: 0.03185\n",
      "\n",
      "Actual with rlc off: 5\n",
      "Expected with rlc off: 3.4\n",
      "\n",
      "Standard deviation: 1.83\n",
      "z score: 0.87\n",
      "\n",
      "P value: 1.914e-01\n",
      "\n",
      "DO NOT REJECT the null hypothesis\n",
      "\n",
      "Observations: 1217\n",
      "Effect size: 0.070\n",
      "Power: 0.40\n",
      "\n",
      "********************\n",
      "MICHIGAN AND ONTARIO\n",
      "\n",
      "Cameras ON mean: 0.03962\n",
      "Cameras OFF mean: 0.08917\n",
      "\n",
      "Actual with rlc off: 14\n",
      "Expected with rlc off: 6.2\n",
      "\n",
      "Standard deviation: 2.44\n",
      "z score: 3.18\n",
      "\n",
      "P value: 7.296e-04\n",
      "\n",
      "REJECT the null hypothesis\n",
      "\n",
      "Observations: 1217\n",
      "Effect size: 0.248\n",
      "Power: 0.99\n",
      "\n",
      "********************\n",
      "MILWAUKEE AND CENTRAL\n",
      "\n",
      "Cameras ON mean: 0.00000\n",
      "Cameras OFF mean: 0.00000\n",
      "\n",
      "Actual with rlc off: 0\n",
      "Expected with rlc off: 0.0\n",
      "\n",
      "Standard deviation: 0.00\n",
      "z score: nan\n",
      "\n",
      "P value: nan\n",
      "\n",
      "DO NOT REJECT the null hypothesis\n",
      "\n",
      "Observations: 1217\n",
      "Effect size: nan\n",
      "Power: nan\n"
     ]
    }
   ],
   "source": [
    "off = select_cams[select_cams['rlc_state']==0]\n",
    "on = select_cams[select_cams['rlc_state']==1]\n",
    "        \n",
    "\n",
    "for intersection in my_intersections:\n",
    "    \n",
    "    crash_on = on[on['intersection']==intersection]['n_crash']\n",
    "    crash_off = off[off['intersection']==intersection]['n_crash']\n",
    "\n",
    "    \n",
    "    n_on = len(on)\n",
    "    n_off = len(off)\n",
    "\n",
    "    \n",
    "    on_rate = crash_on.mean()\n",
    "    off_rate = crash_off.mean()\n",
    "    expected_off = on_rate * n_off\n",
    "    \n",
    "    print()\n",
    "    print('*'*20)\n",
    "    print(intersection)\n",
    "    print()\n",
    "    \n",
    "    hyp_test(crash_on, crash_off, 0.05)\n",
    "    print()\n",
    "    get_power(crash_on, crash_off)\n",
    "    "
   ]
  },
  {
   "cell_type": "markdown",
   "metadata": {},
   "source": [
    "You can reject the null hypothesis for 2 of 7 intersections. More interesting is that all the expected crashes point in the same direction \n",
    "\n",
    "The power was very low on the intersections that could not reject null hypothesis.  These were not a valid test since there was a low probability of getting a result even if the null hypothesis was false.\n",
    "\n",
    "I am not satisfied with these results.  I would like to build a more robust experiment that pools all of our intersections, but maintains some balance between the different intersections."
   ]
  },
  {
   "cell_type": "markdown",
   "metadata": {},
   "source": [
    "## Build a balanced experiment and control\n",
    "We have an imbalance. Each intersection is imbalanced cam_on/cam_off.  We are unable to use all of the data for this reason. If we lump all of the intersections together, the cams that were primarily on or primarily off will be overrepresented in their respective groups.  \n",
    "\n",
    "I propose balancing every intersection.  If I only have 100 days with the camera off, I will only take 100 days of data from the camera on data.  We should also control for time of year if possible.  We could take random samples perhaps to minimize this effect. "
   ]
  },
  {
   "cell_type": "code",
   "execution_count": 372,
   "metadata": {},
   "outputs": [],
   "source": [
    "\n",
    "def get_balanced_sets(select_cams, target):\n",
    "    '''\n",
    "            Parameters:\n",
    "                    select_cams (DataFrame): df that holds all filtered intersections of interest only\n",
    "                    target (string): name of column to be returned (i.e. crashes, injuries, etc.)\n",
    "                    \n",
    "            Returns:\n",
    "                    balanced_ints_on (Series): bool series of crash data for dates with cam on\n",
    "                    balanced_ints_off (Series): bool series of crash data for dates with cam off\n",
    "    \n",
    "    '''\n",
    "    np.random.seed(42)\n",
    "\n",
    "    balanced_ints_on = pd.Series()\n",
    "    balanced_ints_off = pd.Series()\n",
    "\n",
    "\n",
    "    for myint in select_cams['intersection'].unique():\n",
    "        myint_df = select_cams[select_cams['intersection']==myint]  # get all days regardless of on/off status\n",
    "        cam_on = myint_df[myint_df.rlc_state==1]\n",
    "        cam_off = myint_df[myint_df.rlc_state==0]\n",
    "        cam_on = cam_on.sample(frac=1).reset_index(drop=True)\n",
    "        cam_off = cam_off.sample(frac=1).reset_index(drop=True)\n",
    "\n",
    "\n",
    "        balanced_n = min(cam_on.year.count(), cam_off.year.count())  # get the smaller size (control or experiment)\n",
    "        if balanced_n:\n",
    "            print('{:>30}: {}'.format(myint, balanced_n))\n",
    "\n",
    "        # use balanced_n to add same amount to each series\n",
    "        balanced_ints_on = balanced_ints_on.append(cam_on.iloc[:balanced_n][target])\n",
    "        balanced_ints_off = balanced_ints_off.append(cam_off.iloc[:balanced_n][target])\n",
    "\n",
    "    print()\n",
    "    print(len(balanced_ints_on)//24, 'days of cam on, and', len(balanced_ints_off)//24, 'days of cam off.')\n",
    "    print(balanced_ints_on.count(), balanced_ints_off.count())\n",
    "    \n",
    "    return balanced_ints_on, balanced_ints_off"
   ]
  },
  {
   "cell_type": "markdown",
   "metadata": {},
   "source": [
    "After building the dataset, we have relatively few rows in each dataset remaining.  We have 7 intersections represented in the set."
   ]
  },
  {
   "cell_type": "code",
   "execution_count": 373,
   "metadata": {},
   "outputs": [
    {
     "name": "stdout",
     "output_type": "stream",
     "text": [
      "  FOSTER AND NORTHWEST HIGHWAY: 26\n",
      "    FULLERTON AND NARRAGANSETT: 5\n",
      "             HALSTED AND 103RD: 56\n",
      "         LAKE AND UPPER WACKER: 173\n",
      "          MICHIGAN AND JACKSON: 157\n",
      "          MICHIGAN AND ONTARIO: 157\n",
      "         MILWAUKEE AND CENTRAL: 54\n",
      "\n",
      "26 days of cam on, and 26 days of cam off.\n",
      "628 628\n",
      "\n",
      "\n",
      "Hypothesis testing results (n_crash)\n",
      "****************************************\n",
      "Cameras ON mean: 0.03185\n",
      "Cameras OFF mean: 0.04777\n",
      "\n",
      "Actual with rlc off: 30\n",
      "Expected with rlc off: 20.0\n",
      "\n",
      "Standard deviation: 4.40\n",
      "z score: 2.27\n",
      "\n",
      "P value: 1.153e-02\n",
      "\n",
      "REJECT the null hypothesis\n",
      "\n",
      "\n",
      "Alternate hypothesis testing results (n_crash)\n",
      "****************************************\n",
      "Binomial Test pval: 2.99e-02\n",
      "Fisher's Test pval: 1.94e-01\n",
      "\n",
      "\n",
      "Power and effect (n_crash)\n",
      "****************************************\n",
      "Observations: 1256\n",
      "Effect size: 0.091\n",
      "Power: 0.62\n"
     ]
    }
   ],
   "source": [
    "target = 'n_crash'\n",
    "\n",
    "# get dataset\n",
    "balanced_ints_on, balanced_ints_off = get_balanced_sets(select_cams, target)\n",
    "balanced_ints_on = balanced_ints_on.astype(bool)\n",
    "balanced_ints_off = balanced_ints_off.astype(bool)\n",
    "\n",
    "\n",
    "# get the t-test results\n",
    "print(\"\\n\\nHypothesis testing results ({})\".format(target))\n",
    "print('*'*40)\n",
    "results = hyp_test(balanced_ints_on, balanced_ints_off, 0.05)\n",
    "\n",
    "# check with other metrics\n",
    "# binomial test\n",
    "print(\"\\n\\nAlternate hypothesis testing results ({})\".format(target))\n",
    "print('*'*40)\n",
    "pval = stats.binom_test(balanced_ints_off.sum(),n=len(balanced_ints_off),p=balanced_ints_on.mean())\n",
    "print('Binomial Test pval: {:.2e}'.format(pval))\n",
    "\n",
    "# Fisher test\n",
    "oddsratio, pvalue = stats.fisher_exact([[balanced_ints_on.sum(), len(balanced_ints_on)-balanced_ints_on.sum()], \n",
    "                                        [balanced_ints_off.sum(), len(balanced_ints_off)-balanced_ints_off.sum()]])\n",
    "\n",
    "print('Fisher\\'s Test pval: {:.2e}'.format(pvalue))\n",
    "\n",
    "# get power\n",
    "print(\"\\n\\nPower and effect ({})\".format(target))\n",
    "print('*'*40)\n",
    "get_power(balanced_ints_on, balanced_ints_off)\n"
   ]
  },
  {
   "cell_type": "markdown",
   "metadata": {},
   "source": [
    "This is a definitive test.  We can be confident that the camera state is significant."
   ]
  },
  {
   "cell_type": "markdown",
   "metadata": {},
   "source": [
    "## Hypothesis test for injuries\n",
    "Extend the testing to include the more volatile injuries target.  Same procedure"
   ]
  },
  {
   "cell_type": "code",
   "execution_count": 374,
   "metadata": {},
   "outputs": [
    {
     "name": "stdout",
     "output_type": "stream",
     "text": [
      "  FOSTER AND NORTHWEST HIGHWAY: 26\n",
      "    FULLERTON AND NARRAGANSETT: 5\n",
      "             HALSTED AND 103RD: 56\n",
      "         LAKE AND UPPER WACKER: 173\n",
      "          MICHIGAN AND JACKSON: 157\n",
      "          MICHIGAN AND ONTARIO: 157\n",
      "         MILWAUKEE AND CENTRAL: 54\n",
      "\n",
      "26 days of cam on, and 26 days of cam off.\n",
      "628 628\n",
      "\n",
      "\n",
      "Hypothesis testing results (injuries_total)\n",
      "****************************************\n",
      "Cameras ON mean: 0.00159\n",
      "Cameras OFF mean: 0.01752\n",
      "\n",
      "Actual with rlc off: 11.0\n",
      "Expected with rlc off: 1.0\n",
      "\n",
      "Standard deviation: 1.00\n",
      "z score: 10.01\n",
      "\n",
      "P value: 7.030e-24\n",
      "\n",
      "REJECT the null hypothesis\n",
      "\n",
      "\n",
      "Alternate hypothesis testing results (injuries_total)\n",
      "****************************************\n",
      "Binomial Test pval: 1.00e+00\n",
      "Fisher's Test pval: 6.12e-03\n",
      "\n",
      "\n",
      "Power and effect (injuries_total)\n",
      "****************************************\n",
      "Observations: 1256\n",
      "Effect size: 0.399\n",
      "Power: 0.99\n"
     ]
    }
   ],
   "source": [
    "target = 'injuries_total'\n",
    "\n",
    "# get dataset\n",
    "balanced_ints_on, balanced_ints_off = get_balanced_sets(select_cams, target)\n",
    "\n",
    "# get the t-test results\n",
    "print(\"\\n\\nHypothesis testing results ({})\".format(target))\n",
    "print('*'*40)\n",
    "results = hyp_test(balanced_ints_on, balanced_ints_off, 0.05)\n",
    "\n",
    "# check with other metrics\n",
    "# binomial test\n",
    "print(\"\\n\\nAlternate hypothesis testing results ({})\".format(target))\n",
    "print('*'*40)\n",
    "pval = stats.binom_test(crash_off.sum(),n=len(crash_off),p=crash_on.mean())\n",
    "print('Binomial Test pval: {:.2e}'.format(pval))\n",
    "\n",
    "# Fisher test\n",
    "oddsratio, pvalue = stats.fisher_exact([[balanced_ints_on.sum(), len(balanced_ints_on)-balanced_ints_on.sum()], \n",
    "                                        [balanced_ints_off.sum(), len(balanced_ints_off)-balanced_ints_off.sum()]])\n",
    "\n",
    "print('Fisher\\'s Test pval: {:.2e}'.format(pvalue))\n",
    "\n",
    "# get power\n",
    "print(\"\\n\\nPower and effect ({})\".format(target))\n",
    "print('*'*40)\n",
    "get_power(balanced_ints_on, balanced_ints_off)"
   ]
  },
  {
   "cell_type": "markdown",
   "metadata": {},
   "source": [
    "This extended the test too far.  It has an extremely low power and is not a valid test.  Perhaps more data would yield a result"
   ]
  },
  {
   "cell_type": "markdown",
   "metadata": {},
   "source": [
    "# Accident types with unbalanced data\n",
    "After seeing that the balanced test was inadequate to evaluate more specific targets, I went back to the unbalanced method (using all on and off data available).  This is an inferior test, but has adequate size to produce a result.\n",
    "\n",
    "The balanced dataset was a better approach, but yielded a sample that was too small to get an answer.  The power of the tests were too low to reliably reject the null hypothesis, even if it was not correct.  We were able to get an answer on crashes, but no more with the balanced set.\n",
    "\n",
    "We will go backwards and use the unbalanced method.  We have plenty of data points, so the power of the experiment should be high enough for a definitive answer."
   ]
  },
  {
   "cell_type": "markdown",
   "metadata": {},
   "source": [
    "### Angled crashes"
   ]
  },
  {
   "cell_type": "code",
   "execution_count": 375,
   "metadata": {},
   "outputs": [
    {
     "name": "stdout",
     "output_type": "stream",
     "text": [
      "\n",
      "\n",
      "Hypothesis testing results (angle)\n",
      "****************************************\n",
      "Cameras ON mean: 0.00354\n",
      "Cameras OFF mean: 0.00519\n",
      "\n",
      "Actual with rlc off: 9.0\n",
      "Expected with rlc off: 6.1\n",
      "\n",
      "Standard deviation: 2.47\n",
      "z score: 1.16\n",
      "\n",
      "P value: 1.227e-01\n",
      "\n",
      "DO NOT REJECT the null hypothesis\n",
      "\n",
      "\n",
      "Alternate hypothesis testing results (angle)\n",
      "****************************************\n",
      "Binomial Test pval: 2.22e-01\n",
      "Fisher's Test pval: 3.84e-01\n",
      "\n",
      "\n",
      "Power and effect (angle)\n",
      "****************************************\n",
      "Observations: 1256\n",
      "Effect size: 0.399\n",
      "Power: 0.99\n"
     ]
    }
   ],
   "source": [
    "target = 'angle'\n",
    "\n",
    "# get dataset\n",
    "#balanced_ints_on, balanced_ints_off = get_balanced_sets(select_cams, target)\n",
    "ints_on = select_cams[select_cams['rlc_state']==1][target]\n",
    "ints_off = select_cams[select_cams['rlc_state']==0][target]\n",
    "\n",
    "\n",
    "# get the t-test results\n",
    "print(\"\\n\\nHypothesis testing results ({})\".format(target))\n",
    "print('*'*40)\n",
    "results = hyp_test(ints_on, ints_off, 0.05)\n",
    "\n",
    "# check with other metrics\n",
    "# binomial test\n",
    "print(\"\\n\\nAlternate hypothesis testing results ({})\".format(target))\n",
    "print('*'*40)\n",
    "pval = stats.binom_test(ints_off.sum(),n=len(ints_off),p=ints_on.mean())\n",
    "print('Binomial Test pval: {:.2e}'.format(pval))\n",
    "\n",
    "# Fisher test\n",
    "oddsratio, pvalue = stats.fisher_exact([[ints_on.sum(), len(ints_on)-ints_on.sum()], \n",
    "                                        [ints_off.sum(), len(ints_off)-ints_off.sum()]])\n",
    "\n",
    "print('Fisher\\'s Test pval: {:.2e}'.format(pvalue))\n",
    "\n",
    "# get power\n",
    "print(\"\\n\\nPower and effect ({})\".format(target))\n",
    "print('*'*40)\n",
    "get_power(balanced_ints_on, balanced_ints_off)"
   ]
  },
  {
   "cell_type": "markdown",
   "metadata": {},
   "source": [
    "## Rear End Crashes (unbalanced)"
   ]
  },
  {
   "cell_type": "code",
   "execution_count": 376,
   "metadata": {},
   "outputs": [
    {
     "name": "stdout",
     "output_type": "stream",
     "text": [
      "\n",
      "\n",
      "Hypothesis testing results (rear_end)\n",
      "****************************************\n",
      "Cameras ON mean: 0.00295\n",
      "Cameras OFF mean: 0.00635\n",
      "\n",
      "Actual with rlc off: 11.0\n",
      "Expected with rlc off: 5.1\n",
      "\n",
      "Standard deviation: 2.26\n",
      "z score: 2.61\n",
      "\n",
      "P value: 4.512e-03\n",
      "\n",
      "REJECT the null hypothesis\n",
      "\n",
      "\n",
      "Alternate hypothesis testing results (rear_end)\n",
      "****************************************\n",
      "Binomial Test pval: 2.16e-02\n",
      "Fisher's Test pval: 4.40e-02\n",
      "\n",
      "\n",
      "Power and effect (rear_end)\n",
      "****************************************\n",
      "Observations: 1256\n",
      "Effect size: 0.399\n",
      "Power: 0.99\n"
     ]
    }
   ],
   "source": [
    "target = 'rear_end'\n",
    "\n",
    "# get dataset\n",
    "#balanced_ints_on, balanced_ints_off = get_balanced_sets(select_cams, target)\n",
    "ints_on = select_cams[select_cams['rlc_state']==1][target]\n",
    "ints_off = select_cams[select_cams['rlc_state']==0][target]\n",
    "\n",
    "\n",
    "# get the t-test results\n",
    "print(\"\\n\\nHypothesis testing results ({})\".format(target))\n",
    "print('*'*40)\n",
    "results = hyp_test(ints_on, ints_off, 0.05)\n",
    "\n",
    "# check with other metrics\n",
    "# binomial test\n",
    "print(\"\\n\\nAlternate hypothesis testing results ({})\".format(target))\n",
    "print('*'*40)\n",
    "pval = stats.binom_test(ints_off.sum(),n=len(ints_off),p=ints_on.mean())\n",
    "print('Binomial Test pval: {:.2e}'.format(pval))\n",
    "\n",
    "# Fisher test\n",
    "oddsratio, pvalue = stats.fisher_exact([[ints_on.sum(), len(ints_on)-ints_on.sum()], \n",
    "                                        [ints_off.sum(), len(ints_off)-ints_off.sum()]])\n",
    "\n",
    "print('Fisher\\'s Test pval: {:.2e}'.format(pvalue))\n",
    "\n",
    "# get power\n",
    "print(\"\\n\\nPower and effect ({})\".format(target))\n",
    "print('*'*40)\n",
    "get_power(balanced_ints_on, balanced_ints_off)"
   ]
  },
  {
   "cell_type": "markdown",
   "metadata": {},
   "source": [
    "### Turning Crash (unbalanced)"
   ]
  },
  {
   "cell_type": "code",
   "execution_count": 377,
   "metadata": {},
   "outputs": [
    {
     "name": "stdout",
     "output_type": "stream",
     "text": [
      "\n",
      "\n",
      "Hypothesis testing results (turning)\n",
      "****************************************\n",
      "Cameras ON mean: 0.00693\n",
      "Cameras OFF mean: 0.01789\n",
      "\n",
      "Actual with rlc off: 31.0\n",
      "Expected with rlc off: 12.0\n",
      "\n",
      "Standard deviation: 3.45\n",
      "z score: 5.50\n",
      "\n",
      "P value: 1.873e-08\n",
      "\n",
      "REJECT the null hypothesis\n",
      "\n",
      "\n",
      "Alternate hypothesis testing results (turning)\n",
      "****************************************\n",
      "Binomial Test pval: 3.06e-06\n",
      "Fisher's Test pval: 9.16e-05\n",
      "\n",
      "\n",
      "Power and effect (turning)\n",
      "****************************************\n",
      "Observations: 1256\n",
      "Effect size: 0.399\n",
      "Power: 0.99\n"
     ]
    }
   ],
   "source": [
    "target = 'turning'\n",
    "\n",
    "# get dataset\n",
    "#balanced_ints_on, balanced_ints_off = get_balanced_sets(select_cams, target)\n",
    "ints_on = select_cams[select_cams['rlc_state']==1][target]\n",
    "ints_off = select_cams[select_cams['rlc_state']==0][target]\n",
    "\n",
    "\n",
    "# get the t-test results\n",
    "print(\"\\n\\nHypothesis testing results ({})\".format(target))\n",
    "print('*'*40)\n",
    "results = hyp_test(ints_on, ints_off, 0.05)\n",
    "\n",
    "# check with other metrics\n",
    "# binomial test\n",
    "print(\"\\n\\nAlternate hypothesis testing results ({})\".format(target))\n",
    "print('*'*40)\n",
    "pval = stats.binom_test(ints_off.sum(),n=len(ints_off),p=ints_on.mean())\n",
    "print('Binomial Test pval: {:.2e}'.format(pval))\n",
    "\n",
    "# Fisher test\n",
    "oddsratio, pvalue = stats.fisher_exact([[ints_on.sum(), len(ints_on)-ints_on.sum()], \n",
    "                                        [ints_off.sum(), len(ints_off)-ints_off.sum()]])\n",
    "\n",
    "print('Fisher\\'s Test pval: {:.2e}'.format(pvalue))\n",
    "\n",
    "# get power\n",
    "print(\"\\n\\nPower and effect ({})\".format(target))\n",
    "print('*'*40)\n",
    "get_power(balanced_ints_on, balanced_ints_off)"
   ]
  },
  {
   "cell_type": "markdown",
   "metadata": {},
   "source": [
    "This result is surprising, and differs from the Houston study"
   ]
  },
  {
   "cell_type": "markdown",
   "metadata": {},
   "source": [
    "### Injuries from Angle Crashes (unbalanced)\n",
    "Since this method produced a result for crash types, we will try more specific data to see if we get an adequate power for a reliable test."
   ]
  },
  {
   "cell_type": "code",
   "execution_count": 378,
   "metadata": {},
   "outputs": [
    {
     "name": "stdout",
     "output_type": "stream",
     "text": [
      "\n",
      "\n",
      "Hypothesis testing results (angle_injuries)\n",
      "****************************************\n",
      "Cameras ON mean: 0.00147\n",
      "Cameras OFF mean: 0.00289\n",
      "\n",
      "Actual with rlc off: 5.0\n",
      "Expected with rlc off: 2.6\n",
      "\n",
      "Standard deviation: 1.60\n",
      "z score: 1.53\n",
      "\n",
      "P value: 6.278e-02\n",
      "\n",
      "DO NOT REJECT the null hypothesis\n",
      "\n",
      "\n",
      "Power and effect (angle_injuries)\n",
      "****************************************\n",
      "Observations: 1256\n",
      "Effect size: 0.399\n",
      "Power: 0.99\n"
     ]
    }
   ],
   "source": [
    "select_cams['angle_injuries'] = select_cams['angle'] * select_cams['injuries_total'].astype(bool)\n",
    "\n",
    "target = 'angle_injuries'\n",
    "\n",
    "# get dataset\n",
    "#balanced_ints_on, balanced_ints_off = get_balanced_sets(select_cams, target)\n",
    "ints_on = select_cams[select_cams['rlc_state']==1][target]\n",
    "ints_off = select_cams[select_cams['rlc_state']==0][target]\n",
    "\n",
    "\n",
    "# get the t-test results\n",
    "print(\"\\n\\nHypothesis testing results ({})\".format(target))\n",
    "print('*'*40)\n",
    "results = hyp_test(ints_on, ints_off, 0.05)\n",
    "\n",
    "# get power\n",
    "print(\"\\n\\nPower and effect ({})\".format(target))\n",
    "print('*'*40)\n",
    "get_power(balanced_ints_on, balanced_ints_off)"
   ]
  },
  {
   "cell_type": "markdown",
   "metadata": {},
   "source": [
    "For this last result, there were several multiple injury accidents that ran up the numbers and skewed the result.  Since the injury total isn't really the measure here, I decided to make it boolean.  If an injury occured, it is True.  This removes some of the volatility of a car full of people getting in a serious accident vs. a single driver.  I treat both the same here.  An injury accident is only one, regardless of single or multiple injuries."
   ]
  },
  {
   "cell_type": "markdown",
   "metadata": {},
   "source": [
    "### Injuries from Rear End Crashes (unbalanced)"
   ]
  },
  {
   "cell_type": "code",
   "execution_count": 379,
   "metadata": {},
   "outputs": [
    {
     "name": "stdout",
     "output_type": "stream",
     "text": [
      "\n",
      "\n",
      "Hypothesis testing results (rear_end_injuries)\n",
      "****************************************\n",
      "Cameras ON mean: 0.00029\n",
      "Cameras OFF mean: 0.00173\n",
      "\n",
      "Actual with rlc off: 3.0\n",
      "Expected with rlc off: 0.5\n",
      "\n",
      "Standard deviation: 0.71\n",
      "z score: 3.48\n",
      "\n",
      "P value: 2.474e-04\n",
      "\n",
      "REJECT the null hypothesis\n",
      "\n",
      "\n",
      "Power and effect (rear_end_injuries)\n",
      "****************************************\n",
      "Observations: 1256\n",
      "Effect size: 0.399\n",
      "Power: 0.99\n"
     ]
    }
   ],
   "source": [
    "select_cams['rear_end_injuries'] = select_cams['rear_end'] * select_cams['injuries_total'].astype(bool)\n",
    "\n",
    "target = 'rear_end_injuries'\n",
    "\n",
    "# get dataset\n",
    "#balanced_ints_on, balanced_ints_off = get_balanced_sets(select_cams, target)\n",
    "ints_on = select_cams[select_cams['rlc_state']==1][target]\n",
    "ints_off = select_cams[select_cams['rlc_state']==0][target]\n",
    "\n",
    "\n",
    "# get the t-test results\n",
    "print(\"\\n\\nHypothesis testing results ({})\".format(target))\n",
    "print('*'*40)\n",
    "results = hyp_test(ints_on, ints_off, 0.05)\n",
    "\n",
    "# get power\n",
    "print(\"\\n\\nPower and effect ({})\".format(target))\n",
    "print('*'*40)\n",
    "get_power(balanced_ints_on, balanced_ints_off)"
   ]
  },
  {
   "cell_type": "markdown",
   "metadata": {},
   "source": [
    "# Summary\n",
    "The Hypothesis testing indicates the following:\n",
    "\n",
    "For the 7 intersections studied:\n",
    "\n",
    "When cameras were off:\n",
    "- greater mean accidents and injuries recorded than with cameras on\n",
    "- more than expected angled crashes and rear end crashes occurred\n",
    "- in all cameras of interest, actual crashes >= expected crashes\n",
    "\n",
    "Data favors the following alternative hypotheses\n",
    "- cameras reduce the number of crashes\n",
    "- cameras reduce the number of total injuries\n",
    "- cameras reduce the number of angled ('T-bone') crashes\n",
    "- cameras reduce the number of rear end crashes \n",
    "- cameras reduce the number of angled accidents resulting in injuries\n",
    "\n",
    "\n",
    "\n",
    "The Houston study (https://papers.ssrn.com/sol3/papers.cfm?abstract_id=3078079) could determine that cameras reduced the number of accidents.  It determined that it changed the pattern of traffic accidents.  Rear end collision increased while more dangerous angled crashes decreased.  This is the result we would have expected for this study\n",
    "\n",
    "This study indicates that in Chicago, at least for the 7 intersections in our natural experiment, both rear end and angled accident types decreased significantly when red light cameras were present.  Injuries were also shown to significantly decrease.  \n",
    "\n",
    "In Chicago, for the 7 intersections of interest, red light cameras achieve their stated objective.\n"
   ]
  },
  {
   "cell_type": "code",
   "execution_count": null,
   "metadata": {},
   "outputs": [],
   "source": []
  }
 ],
 "metadata": {
  "kernelspec": {
   "display_name": "learn-env",
   "language": "python",
   "name": "learn-env"
  },
  "language_info": {
   "codemirror_mode": {
    "name": "ipython",
    "version": 3
   },
   "file_extension": ".py",
   "mimetype": "text/x-python",
   "name": "python",
   "nbconvert_exporter": "python",
   "pygments_lexer": "ipython3",
   "version": "3.6.9"
  }
 },
 "nbformat": 4,
 "nbformat_minor": 4
}
