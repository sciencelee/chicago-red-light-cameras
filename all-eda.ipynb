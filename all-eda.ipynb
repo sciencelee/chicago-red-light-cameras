{
 "cells": [
  {
   "cell_type": "markdown",
   "metadata": {},
   "source": [
    "# Make the hourly weather and traffic db\n",
    "I plan to do the following here\n",
    "- pull in all of the hourly weather from 2015 to 2020 from openweather\n",
    "- pull in all of the traffic from chicago data portal\n",
    "- merge the two with a date as primary key\n",
    "- also include cols for year month day\n",
    "\n",
    "I will need to go back and do the following:\n",
    "- add a shared key between traffic and "
   ]
  },
  {
   "cell_type": "code",
   "execution_count": 241,
   "metadata": {},
   "outputs": [],
   "source": [
    "#!/usr/bin/env python\n",
    "\n",
    "import pandas as pd\n",
    "import matplotlib.pyplot as plt\n",
    "from datetime import datetime\n",
    "from modules.myfuncs import *\n",
    "from sodapy import Socrata\n",
    "import numpy as np\n",
    "from scipy import stats\n",
    "import seaborn as sns\n",
    "\n"
   ]
  },
  {
   "cell_type": "code",
   "execution_count": 242,
   "metadata": {},
   "outputs": [
    {
     "name": "stdout",
     "output_type": "stream",
     "text": [
      "sqlite3 version: 2.6.0\n",
      "connected to database/rlc.db\n"
     ]
    }
   ],
   "source": [
    "conn = create_connection('database/rlc.db')  # function from myfuncs file\n",
    "c = conn.cursor()"
   ]
  },
  {
   "cell_type": "code",
   "execution_count": 243,
   "metadata": {},
   "outputs": [
    {
     "name": "stdout",
     "output_type": "stream",
     "text": [
      "[('cam_startend',), ('cam_locations',), ('intersection_locations',), ('daily_violations',), ('hourly_congestion',), ('congestion_regions',), ('hourly_weather',), ('intersection_cams',), ('signal_crashes',)]\n"
     ]
    }
   ],
   "source": [
    "sql_fetch_tables(c, conn)"
   ]
  },
  {
   "cell_type": "code",
   "execution_count": 244,
   "metadata": {},
   "outputs": [],
   "source": [
    "regions_df = pd.read_sql_query(\"SELECT * FROM congestion_regions\", conn)\n",
    "congestion_df = pd.read_sql_query(\"SELECT * FROM hourly_congestion\", conn)\n",
    "weather_df = pd.read_sql_query(\"SELECT * FROM hourly_weather\", conn)\n",
    "crash_df = pd.read_sql_query(\"SELECT * FROM signal_crashes\", conn)"
   ]
  },
  {
   "cell_type": "code",
   "execution_count": 245,
   "metadata": {},
   "outputs": [
    {
     "data": {
      "text/html": [
       "<div>\n",
       "<style scoped>\n",
       "    .dataframe tbody tr th:only-of-type {\n",
       "        vertical-align: middle;\n",
       "    }\n",
       "\n",
       "    .dataframe tbody tr th {\n",
       "        vertical-align: top;\n",
       "    }\n",
       "\n",
       "    .dataframe thead th {\n",
       "        text-align: right;\n",
       "    }\n",
       "</style>\n",
       "<table border=\"1\" class=\"dataframe\">\n",
       "  <thead>\n",
       "    <tr style=\"text-align: right;\">\n",
       "      <th></th>\n",
       "      <th>region</th>\n",
       "      <th>region_id</th>\n",
       "      <th>west</th>\n",
       "      <th>east</th>\n",
       "      <th>south</th>\n",
       "      <th>north</th>\n",
       "      <th>description</th>\n",
       "    </tr>\n",
       "  </thead>\n",
       "  <tbody>\n",
       "    <tr>\n",
       "      <td>0</td>\n",
       "      <td>Lawndale N/S</td>\n",
       "      <td>14</td>\n",
       "      <td>-87.747456</td>\n",
       "      <td>-87.685372</td>\n",
       "      <td>41.822792</td>\n",
       "      <td>41.866129</td>\n",
       "      <td>Pershing to Roosevel. Cicero to Western</td>\n",
       "    </tr>\n",
       "    <tr>\n",
       "      <td>1</td>\n",
       "      <td>Washington Hts-Roseland-Pullman</td>\n",
       "      <td>26</td>\n",
       "      <td>-87.662508</td>\n",
       "      <td>-87.584845</td>\n",
       "      <td>41.677477</td>\n",
       "      <td>41.728472</td>\n",
       "      <td>119th to 91st. Ashland to Stony Island</td>\n",
       "    </tr>\n",
       "    <tr>\n",
       "      <td>2</td>\n",
       "      <td>Chicago Loop</td>\n",
       "      <td>13</td>\n",
       "      <td>-87.647208</td>\n",
       "      <td>-87.623080</td>\n",
       "      <td>41.866129</td>\n",
       "      <td>41.888860</td>\n",
       "      <td>Roosevelt to Wacker: Halsted to Michigan</td>\n",
       "    </tr>\n",
       "    <tr>\n",
       "      <td>3</td>\n",
       "      <td>Beverly-Mt Greenwood-Morgan Park</td>\n",
       "      <td>25</td>\n",
       "      <td>-87.747456</td>\n",
       "      <td>-87.662508</td>\n",
       "      <td>41.677477</td>\n",
       "      <td>41.728472</td>\n",
       "      <td>119th to 91st. Cicero to Ashland</td>\n",
       "    </tr>\n",
       "    <tr>\n",
       "      <td>4</td>\n",
       "      <td>New City-Englewood-W Englewood</td>\n",
       "      <td>19</td>\n",
       "      <td>-87.683730</td>\n",
       "      <td>-87.636322</td>\n",
       "      <td>41.764066</td>\n",
       "      <td>41.822792</td>\n",
       "      <td>71st to Pershing. Western to Steward</td>\n",
       "    </tr>\n",
       "  </tbody>\n",
       "</table>\n",
       "</div>"
      ],
      "text/plain": [
       "                             region region_id       west       east  \\\n",
       "0                      Lawndale N/S        14 -87.747456 -87.685372   \n",
       "1   Washington Hts-Roseland-Pullman        26 -87.662508 -87.584845   \n",
       "2                      Chicago Loop        13 -87.647208 -87.623080   \n",
       "3  Beverly-Mt Greenwood-Morgan Park        25 -87.747456 -87.662508   \n",
       "4    New City-Englewood-W Englewood        19 -87.683730 -87.636322   \n",
       "\n",
       "       south      north                               description  \n",
       "0  41.822792  41.866129   Pershing to Roosevel. Cicero to Western  \n",
       "1  41.677477  41.728472    119th to 91st. Ashland to Stony Island  \n",
       "2  41.866129  41.888860  Roosevelt to Wacker: Halsted to Michigan  \n",
       "3  41.677477  41.728472          119th to 91st. Cicero to Ashland  \n",
       "4  41.764066  41.822792      71st to Pershing. Western to Steward  "
      ]
     },
     "execution_count": 245,
     "metadata": {},
     "output_type": "execute_result"
    }
   ],
   "source": [
    "regions_df.head()"
   ]
  },
  {
   "cell_type": "code",
   "execution_count": 246,
   "metadata": {},
   "outputs": [
    {
     "data": {
      "text/html": [
       "<div>\n",
       "<style scoped>\n",
       "    .dataframe tbody tr th:only-of-type {\n",
       "        vertical-align: middle;\n",
       "    }\n",
       "\n",
       "    .dataframe tbody tr th {\n",
       "        vertical-align: top;\n",
       "    }\n",
       "\n",
       "    .dataframe thead th {\n",
       "        text-align: right;\n",
       "    }\n",
       "</style>\n",
       "<table border=\"1\" class=\"dataframe\">\n",
       "  <thead>\n",
       "    <tr style=\"text-align: right;\">\n",
       "      <th></th>\n",
       "      <th>year</th>\n",
       "      <th>month</th>\n",
       "      <th>day</th>\n",
       "      <th>hour</th>\n",
       "      <th>region_id</th>\n",
       "      <th>day_of_week</th>\n",
       "      <th>speed</th>\n",
       "    </tr>\n",
       "  </thead>\n",
       "  <tbody>\n",
       "    <tr>\n",
       "      <td>0</td>\n",
       "      <td>2015</td>\n",
       "      <td>1</td>\n",
       "      <td>1</td>\n",
       "      <td>0</td>\n",
       "      <td>1</td>\n",
       "      <td>5</td>\n",
       "      <td>27.455000</td>\n",
       "    </tr>\n",
       "    <tr>\n",
       "      <td>1</td>\n",
       "      <td>2015</td>\n",
       "      <td>1</td>\n",
       "      <td>1</td>\n",
       "      <td>0</td>\n",
       "      <td>10</td>\n",
       "      <td>5</td>\n",
       "      <td>25.796667</td>\n",
       "    </tr>\n",
       "    <tr>\n",
       "      <td>2</td>\n",
       "      <td>2015</td>\n",
       "      <td>1</td>\n",
       "      <td>1</td>\n",
       "      <td>0</td>\n",
       "      <td>11</td>\n",
       "      <td>5</td>\n",
       "      <td>25.816667</td>\n",
       "    </tr>\n",
       "    <tr>\n",
       "      <td>3</td>\n",
       "      <td>2015</td>\n",
       "      <td>1</td>\n",
       "      <td>1</td>\n",
       "      <td>0</td>\n",
       "      <td>12</td>\n",
       "      <td>5</td>\n",
       "      <td>18.636667</td>\n",
       "    </tr>\n",
       "    <tr>\n",
       "      <td>4</td>\n",
       "      <td>2015</td>\n",
       "      <td>1</td>\n",
       "      <td>1</td>\n",
       "      <td>0</td>\n",
       "      <td>13</td>\n",
       "      <td>5</td>\n",
       "      <td>20.681667</td>\n",
       "    </tr>\n",
       "  </tbody>\n",
       "</table>\n",
       "</div>"
      ],
      "text/plain": [
       "   year  month  day  hour region_id  day_of_week      speed\n",
       "0  2015      1    1     0         1            5  27.455000\n",
       "1  2015      1    1     0        10            5  25.796667\n",
       "2  2015      1    1     0        11            5  25.816667\n",
       "3  2015      1    1     0        12            5  18.636667\n",
       "4  2015      1    1     0        13            5  20.681667"
      ]
     },
     "execution_count": 246,
     "metadata": {},
     "output_type": "execute_result"
    }
   ],
   "source": [
    "congestion_df.head()"
   ]
  },
  {
   "cell_type": "code",
   "execution_count": 247,
   "metadata": {},
   "outputs": [
    {
     "data": {
      "text/html": [
       "<div>\n",
       "<style scoped>\n",
       "    .dataframe tbody tr th:only-of-type {\n",
       "        vertical-align: middle;\n",
       "    }\n",
       "\n",
       "    .dataframe tbody tr th {\n",
       "        vertical-align: top;\n",
       "    }\n",
       "\n",
       "    .dataframe thead th {\n",
       "        text-align: right;\n",
       "    }\n",
       "</style>\n",
       "<table border=\"1\" class=\"dataframe\">\n",
       "  <thead>\n",
       "    <tr style=\"text-align: right;\">\n",
       "      <th></th>\n",
       "      <th>temp</th>\n",
       "      <th>rain_1h</th>\n",
       "      <th>rain_3h</th>\n",
       "      <th>snow_1h</th>\n",
       "      <th>snow_3h</th>\n",
       "      <th>time</th>\n",
       "      <th>year</th>\n",
       "      <th>month</th>\n",
       "      <th>day</th>\n",
       "      <th>hour</th>\n",
       "    </tr>\n",
       "  </thead>\n",
       "  <tbody>\n",
       "    <tr>\n",
       "      <td>0</td>\n",
       "      <td>267.708</td>\n",
       "      <td>0.0</td>\n",
       "      <td>0.0</td>\n",
       "      <td>0.0</td>\n",
       "      <td>0.0</td>\n",
       "      <td>2015-01-01 00:00:00+00:00</td>\n",
       "      <td>2015</td>\n",
       "      <td>1</td>\n",
       "      <td>1</td>\n",
       "      <td>0</td>\n",
       "    </tr>\n",
       "    <tr>\n",
       "      <td>1</td>\n",
       "      <td>267.926</td>\n",
       "      <td>0.0</td>\n",
       "      <td>0.0</td>\n",
       "      <td>0.0</td>\n",
       "      <td>0.0</td>\n",
       "      <td>2015-01-01 01:00:00+00:00</td>\n",
       "      <td>2015</td>\n",
       "      <td>1</td>\n",
       "      <td>1</td>\n",
       "      <td>1</td>\n",
       "    </tr>\n",
       "    <tr>\n",
       "      <td>2</td>\n",
       "      <td>268.098</td>\n",
       "      <td>0.0</td>\n",
       "      <td>0.0</td>\n",
       "      <td>0.0</td>\n",
       "      <td>0.0</td>\n",
       "      <td>2015-01-01 02:00:00+00:00</td>\n",
       "      <td>2015</td>\n",
       "      <td>1</td>\n",
       "      <td>1</td>\n",
       "      <td>2</td>\n",
       "    </tr>\n",
       "    <tr>\n",
       "      <td>3</td>\n",
       "      <td>268.157</td>\n",
       "      <td>0.0</td>\n",
       "      <td>0.0</td>\n",
       "      <td>0.0</td>\n",
       "      <td>0.0</td>\n",
       "      <td>2015-01-01 03:00:00+00:00</td>\n",
       "      <td>2015</td>\n",
       "      <td>1</td>\n",
       "      <td>1</td>\n",
       "      <td>3</td>\n",
       "    </tr>\n",
       "    <tr>\n",
       "      <td>4</td>\n",
       "      <td>268.121</td>\n",
       "      <td>0.0</td>\n",
       "      <td>0.0</td>\n",
       "      <td>0.0</td>\n",
       "      <td>0.0</td>\n",
       "      <td>2015-01-01 04:00:00+00:00</td>\n",
       "      <td>2015</td>\n",
       "      <td>1</td>\n",
       "      <td>1</td>\n",
       "      <td>4</td>\n",
       "    </tr>\n",
       "  </tbody>\n",
       "</table>\n",
       "</div>"
      ],
      "text/plain": [
       "      temp  rain_1h  rain_3h  snow_1h  snow_3h                       time  \\\n",
       "0  267.708      0.0      0.0      0.0      0.0  2015-01-01 00:00:00+00:00   \n",
       "1  267.926      0.0      0.0      0.0      0.0  2015-01-01 01:00:00+00:00   \n",
       "2  268.098      0.0      0.0      0.0      0.0  2015-01-01 02:00:00+00:00   \n",
       "3  268.157      0.0      0.0      0.0      0.0  2015-01-01 03:00:00+00:00   \n",
       "4  268.121      0.0      0.0      0.0      0.0  2015-01-01 04:00:00+00:00   \n",
       "\n",
       "   year  month  day  hour  \n",
       "0  2015      1    1     0  \n",
       "1  2015      1    1     1  \n",
       "2  2015      1    1     2  \n",
       "3  2015      1    1     3  \n",
       "4  2015      1    1     4  "
      ]
     },
     "execution_count": 247,
     "metadata": {},
     "output_type": "execute_result"
    }
   ],
   "source": [
    "weather_df.head()"
   ]
  },
  {
   "cell_type": "code",
   "execution_count": 248,
   "metadata": {},
   "outputs": [
    {
     "name": "stdout",
     "output_type": "stream",
     "text": [
      "Total potential wx entries: 1601351\n",
      "Total congestion entries: 1337103\n",
      "\n",
      "2015 traffic entries: 88740\n",
      "2015 weather entries: 267119\n",
      "\n",
      "2016 traffic entries: 250473\n",
      "2016 weather entries: 267670\n",
      "\n",
      "2017 traffic entries: 251517\n",
      "2017 weather entries: 268221\n",
      "\n",
      "2018 traffic entries: 254388\n",
      "2018 weather entries: 270628\n",
      "\n",
      "2019 traffic entries: 242208\n",
      "2019 weather entries: 275065\n",
      "\n",
      "2020 traffic entries: 249777\n",
      "2020 weather entries: 252648\n",
      "\n"
     ]
    }
   ],
   "source": [
    "print('Total potential wx entries:', len(weather_df) * 29)  # if every weather entry had every region\n",
    "print('Total congestion entries:', len(congestion_df))\n",
    "print()\n",
    "\n",
    "for year in range(2015, 2021):\n",
    "    print(year, 'traffic entries:', len(congestion_df[congestion_df['year']==year]))\n",
    "    print(year, 'weather entries:', len(weather_df[weather_df['year']==year]) * 29)\n",
    "    print()\n",
    "    \n",
    "\n",
    "# we have more wx data than congestion.  Consider dropping 2015?\n",
    "# it makes sense to have slightly more weather entries.  \n",
    "# Not all regions have buses running 24/7.  Could also have missing data"
   ]
  },
  {
   "cell_type": "code",
   "execution_count": 249,
   "metadata": {},
   "outputs": [],
   "source": [
    "#weather_df.groupby(['year', 'month', 'day', 'hour']).reset_index().info()"
   ]
  },
  {
   "cell_type": "code",
   "execution_count": 250,
   "metadata": {},
   "outputs": [
    {
     "data": {
      "text/html": [
       "<div>\n",
       "<style scoped>\n",
       "    .dataframe tbody tr th:only-of-type {\n",
       "        vertical-align: middle;\n",
       "    }\n",
       "\n",
       "    .dataframe tbody tr th {\n",
       "        vertical-align: top;\n",
       "    }\n",
       "\n",
       "    .dataframe thead th {\n",
       "        text-align: right;\n",
       "    }\n",
       "</style>\n",
       "<table border=\"1\" class=\"dataframe\">\n",
       "  <thead>\n",
       "    <tr style=\"text-align: right;\">\n",
       "      <th></th>\n",
       "      <th>temp</th>\n",
       "      <th>rain_1h</th>\n",
       "      <th>rain_3h</th>\n",
       "      <th>snow_1h</th>\n",
       "      <th>snow_3h</th>\n",
       "      <th>time</th>\n",
       "      <th>year</th>\n",
       "      <th>month</th>\n",
       "      <th>day</th>\n",
       "      <th>hour</th>\n",
       "      <th>region_id</th>\n",
       "      <th>day_of_week</th>\n",
       "      <th>speed</th>\n",
       "    </tr>\n",
       "  </thead>\n",
       "  <tbody>\n",
       "    <tr>\n",
       "      <td>0</td>\n",
       "      <td>267.708</td>\n",
       "      <td>0.0</td>\n",
       "      <td>0.0</td>\n",
       "      <td>0.0</td>\n",
       "      <td>0.0</td>\n",
       "      <td>2015-01-01 00:00:00+00:00</td>\n",
       "      <td>2015</td>\n",
       "      <td>1</td>\n",
       "      <td>1</td>\n",
       "      <td>0</td>\n",
       "      <td>1</td>\n",
       "      <td>5</td>\n",
       "      <td>27.455000</td>\n",
       "    </tr>\n",
       "    <tr>\n",
       "      <td>1</td>\n",
       "      <td>267.708</td>\n",
       "      <td>0.0</td>\n",
       "      <td>0.0</td>\n",
       "      <td>0.0</td>\n",
       "      <td>0.0</td>\n",
       "      <td>2015-01-01 00:00:00+00:00</td>\n",
       "      <td>2015</td>\n",
       "      <td>1</td>\n",
       "      <td>1</td>\n",
       "      <td>0</td>\n",
       "      <td>10</td>\n",
       "      <td>5</td>\n",
       "      <td>25.796667</td>\n",
       "    </tr>\n",
       "    <tr>\n",
       "      <td>2</td>\n",
       "      <td>267.708</td>\n",
       "      <td>0.0</td>\n",
       "      <td>0.0</td>\n",
       "      <td>0.0</td>\n",
       "      <td>0.0</td>\n",
       "      <td>2015-01-01 00:00:00+00:00</td>\n",
       "      <td>2015</td>\n",
       "      <td>1</td>\n",
       "      <td>1</td>\n",
       "      <td>0</td>\n",
       "      <td>11</td>\n",
       "      <td>5</td>\n",
       "      <td>25.816667</td>\n",
       "    </tr>\n",
       "    <tr>\n",
       "      <td>3</td>\n",
       "      <td>267.708</td>\n",
       "      <td>0.0</td>\n",
       "      <td>0.0</td>\n",
       "      <td>0.0</td>\n",
       "      <td>0.0</td>\n",
       "      <td>2015-01-01 00:00:00+00:00</td>\n",
       "      <td>2015</td>\n",
       "      <td>1</td>\n",
       "      <td>1</td>\n",
       "      <td>0</td>\n",
       "      <td>12</td>\n",
       "      <td>5</td>\n",
       "      <td>18.636667</td>\n",
       "    </tr>\n",
       "    <tr>\n",
       "      <td>4</td>\n",
       "      <td>267.708</td>\n",
       "      <td>0.0</td>\n",
       "      <td>0.0</td>\n",
       "      <td>0.0</td>\n",
       "      <td>0.0</td>\n",
       "      <td>2015-01-01 00:00:00+00:00</td>\n",
       "      <td>2015</td>\n",
       "      <td>1</td>\n",
       "      <td>1</td>\n",
       "      <td>0</td>\n",
       "      <td>13</td>\n",
       "      <td>5</td>\n",
       "      <td>20.681667</td>\n",
       "    </tr>\n",
       "    <tr>\n",
       "      <td>...</td>\n",
       "      <td>...</td>\n",
       "      <td>...</td>\n",
       "      <td>...</td>\n",
       "      <td>...</td>\n",
       "      <td>...</td>\n",
       "      <td>...</td>\n",
       "      <td>...</td>\n",
       "      <td>...</td>\n",
       "      <td>...</td>\n",
       "      <td>...</td>\n",
       "      <td>...</td>\n",
       "      <td>...</td>\n",
       "      <td>...</td>\n",
       "    </tr>\n",
       "    <tr>\n",
       "      <td>95</td>\n",
       "      <td>268.157</td>\n",
       "      <td>0.0</td>\n",
       "      <td>0.0</td>\n",
       "      <td>0.0</td>\n",
       "      <td>0.0</td>\n",
       "      <td>2015-01-01 03:00:00+00:00</td>\n",
       "      <td>2015</td>\n",
       "      <td>1</td>\n",
       "      <td>1</td>\n",
       "      <td>3</td>\n",
       "      <td>17</td>\n",
       "      <td>5</td>\n",
       "      <td>0.000000</td>\n",
       "    </tr>\n",
       "    <tr>\n",
       "      <td>96</td>\n",
       "      <td>268.157</td>\n",
       "      <td>0.0</td>\n",
       "      <td>0.0</td>\n",
       "      <td>0.0</td>\n",
       "      <td>0.0</td>\n",
       "      <td>2015-01-01 03:00:00+00:00</td>\n",
       "      <td>2015</td>\n",
       "      <td>1</td>\n",
       "      <td>1</td>\n",
       "      <td>3</td>\n",
       "      <td>18</td>\n",
       "      <td>5</td>\n",
       "      <td>30.596667</td>\n",
       "    </tr>\n",
       "    <tr>\n",
       "      <td>97</td>\n",
       "      <td>268.157</td>\n",
       "      <td>0.0</td>\n",
       "      <td>0.0</td>\n",
       "      <td>0.0</td>\n",
       "      <td>0.0</td>\n",
       "      <td>2015-01-01 03:00:00+00:00</td>\n",
       "      <td>2015</td>\n",
       "      <td>1</td>\n",
       "      <td>1</td>\n",
       "      <td>3</td>\n",
       "      <td>19</td>\n",
       "      <td>5</td>\n",
       "      <td>30.200000</td>\n",
       "    </tr>\n",
       "    <tr>\n",
       "      <td>98</td>\n",
       "      <td>268.157</td>\n",
       "      <td>0.0</td>\n",
       "      <td>0.0</td>\n",
       "      <td>0.0</td>\n",
       "      <td>0.0</td>\n",
       "      <td>2015-01-01 03:00:00+00:00</td>\n",
       "      <td>2015</td>\n",
       "      <td>1</td>\n",
       "      <td>1</td>\n",
       "      <td>3</td>\n",
       "      <td>2</td>\n",
       "      <td>5</td>\n",
       "      <td>9.903333</td>\n",
       "    </tr>\n",
       "    <tr>\n",
       "      <td>99</td>\n",
       "      <td>268.157</td>\n",
       "      <td>0.0</td>\n",
       "      <td>0.0</td>\n",
       "      <td>0.0</td>\n",
       "      <td>0.0</td>\n",
       "      <td>2015-01-01 03:00:00+00:00</td>\n",
       "      <td>2015</td>\n",
       "      <td>1</td>\n",
       "      <td>1</td>\n",
       "      <td>3</td>\n",
       "      <td>20</td>\n",
       "      <td>5</td>\n",
       "      <td>38.585000</td>\n",
       "    </tr>\n",
       "  </tbody>\n",
       "</table>\n",
       "<p>100 rows × 13 columns</p>\n",
       "</div>"
      ],
      "text/plain": [
       "       temp  rain_1h  rain_3h  snow_1h  snow_3h                       time  \\\n",
       "0   267.708      0.0      0.0      0.0      0.0  2015-01-01 00:00:00+00:00   \n",
       "1   267.708      0.0      0.0      0.0      0.0  2015-01-01 00:00:00+00:00   \n",
       "2   267.708      0.0      0.0      0.0      0.0  2015-01-01 00:00:00+00:00   \n",
       "3   267.708      0.0      0.0      0.0      0.0  2015-01-01 00:00:00+00:00   \n",
       "4   267.708      0.0      0.0      0.0      0.0  2015-01-01 00:00:00+00:00   \n",
       "..      ...      ...      ...      ...      ...                        ...   \n",
       "95  268.157      0.0      0.0      0.0      0.0  2015-01-01 03:00:00+00:00   \n",
       "96  268.157      0.0      0.0      0.0      0.0  2015-01-01 03:00:00+00:00   \n",
       "97  268.157      0.0      0.0      0.0      0.0  2015-01-01 03:00:00+00:00   \n",
       "98  268.157      0.0      0.0      0.0      0.0  2015-01-01 03:00:00+00:00   \n",
       "99  268.157      0.0      0.0      0.0      0.0  2015-01-01 03:00:00+00:00   \n",
       "\n",
       "    year  month  day  hour region_id  day_of_week      speed  \n",
       "0   2015      1    1     0         1            5  27.455000  \n",
       "1   2015      1    1     0        10            5  25.796667  \n",
       "2   2015      1    1     0        11            5  25.816667  \n",
       "3   2015      1    1     0        12            5  18.636667  \n",
       "4   2015      1    1     0        13            5  20.681667  \n",
       "..   ...    ...  ...   ...       ...          ...        ...  \n",
       "95  2015      1    1     3        17            5   0.000000  \n",
       "96  2015      1    1     3        18            5  30.596667  \n",
       "97  2015      1    1     3        19            5  30.200000  \n",
       "98  2015      1    1     3         2            5   9.903333  \n",
       "99  2015      1    1     3        20            5  38.585000  \n",
       "\n",
       "[100 rows x 13 columns]"
      ]
     },
     "execution_count": 250,
     "metadata": {},
     "output_type": "execute_result"
    }
   ],
   "source": [
    "pd.merge(weather_df, congestion_df, how='right', on=['year', 'month', 'day', 'hour']).head(100)  # minutes"
   ]
  },
  {
   "cell_type": "markdown",
   "metadata": {},
   "source": [
    "# Congestion by hour\n",
    "Overnight data is not available for all regions.  We need to fill in the missing data"
   ]
  },
  {
   "cell_type": "code",
   "execution_count": 315,
   "metadata": {},
   "outputs": [
    {
     "name": "stdout",
     "output_type": "stream",
     "text": [
      "Congestion\n",
      "Rows with speed of zero: 0.59%\n"
     ]
    }
   ],
   "source": [
    "# clean up congestion to fill in the missing overnight data with mean\n",
    "congestion_df.speed.isna().sum()\n",
    "\n",
    "print('Congestion')\n",
    "print('Rows with speed of zero: {:.2f}%'.format(congestion_df[congestion_df['speed']==0].count()[0] / len(congestion_df) * 100))\n",
    "\n",
    "\n",
    "\n",
    "def speed_fix(speed, hour):\n",
    "    # there is no significant congestion before 5am in Chicago.\n",
    "    # there are however a significant amount of buses sitting still before starting routes\n",
    "    if speed < 20 and 0 < hour < 5 or speed > 50:\n",
    "        return 28\n",
    "    else:\n",
    "        return speed\n",
    "\n",
    "#congestion_df.speed.replace(0, congestion_df.speed.mean(), inplace=True)\n",
    "# takes a few minutes to fix the speed discrepancy  \n",
    "\n",
    "############### MOVE ME TO PREPROCESSING  ######################\n",
    "congestion_df['speed'] = congestion_df.apply(lambda x: speed_fix(x.speed, x.hour), axis=1)\n"
   ]
  },
  {
   "cell_type": "code",
   "execution_count": 317,
   "metadata": {},
   "outputs": [
    {
     "data": {
      "text/plain": [
       "<matplotlib.axes._subplots.AxesSubplot at 0x7fc97297de10>"
      ]
     },
     "execution_count": 317,
     "metadata": {},
     "output_type": "execute_result"
    },
    {
     "data": {
      "image/png": "[encoded data removed]",
      "text/plain": [
       "<Figure size 864x432 with 1 Axes>"
      ]
     },
     "metadata": {
      "needs_background": "light"
     },
     "output_type": "display_data"
    }
   ],
   "source": [
    "congestion_df.groupby('hour').agg({'speed': np.mean}).reset_index().plot.bar(x='hour', y='speed', figsize=(12,6))"
   ]
  },
  {
   "cell_type": "markdown",
   "metadata": {},
   "source": [
    "# Congestion and crashes"
   ]
  },
  {
   "cell_type": "code",
   "execution_count": 318,
   "metadata": {},
   "outputs": [],
   "source": [
    "all_df = pd.merge(weather_df, congestion_df, how='right', on=['year', 'month', 'day', 'hour'])  # minutes"
   ]
  },
  {
   "cell_type": "code",
   "execution_count": 319,
   "metadata": {},
   "outputs": [
    {
     "data": {
      "text/html": [
       "<div>\n",
       "<style scoped>\n",
       "    .dataframe tbody tr th:only-of-type {\n",
       "        vertical-align: middle;\n",
       "    }\n",
       "\n",
       "    .dataframe tbody tr th {\n",
       "        vertical-align: top;\n",
       "    }\n",
       "\n",
       "    .dataframe thead th {\n",
       "        text-align: right;\n",
       "    }\n",
       "</style>\n",
       "<table border=\"1\" class=\"dataframe\">\n",
       "  <thead>\n",
       "    <tr style=\"text-align: right;\">\n",
       "      <th></th>\n",
       "      <th>temp</th>\n",
       "      <th>rain_1h</th>\n",
       "      <th>rain_3h</th>\n",
       "      <th>snow_1h</th>\n",
       "      <th>snow_3h</th>\n",
       "      <th>time</th>\n",
       "      <th>year</th>\n",
       "      <th>month</th>\n",
       "      <th>day</th>\n",
       "      <th>hour</th>\n",
       "      <th>region_id</th>\n",
       "      <th>day_of_week</th>\n",
       "      <th>speed</th>\n",
       "    </tr>\n",
       "  </thead>\n",
       "  <tbody>\n",
       "    <tr>\n",
       "      <td>0</td>\n",
       "      <td>267.708</td>\n",
       "      <td>0.0</td>\n",
       "      <td>0.0</td>\n",
       "      <td>0.0</td>\n",
       "      <td>0.0</td>\n",
       "      <td>2015-01-01 00:00:00+00:00</td>\n",
       "      <td>2015</td>\n",
       "      <td>1</td>\n",
       "      <td>1</td>\n",
       "      <td>0</td>\n",
       "      <td>1</td>\n",
       "      <td>5</td>\n",
       "      <td>27.455000</td>\n",
       "    </tr>\n",
       "    <tr>\n",
       "      <td>1</td>\n",
       "      <td>267.708</td>\n",
       "      <td>0.0</td>\n",
       "      <td>0.0</td>\n",
       "      <td>0.0</td>\n",
       "      <td>0.0</td>\n",
       "      <td>2015-01-01 00:00:00+00:00</td>\n",
       "      <td>2015</td>\n",
       "      <td>1</td>\n",
       "      <td>1</td>\n",
       "      <td>0</td>\n",
       "      <td>10</td>\n",
       "      <td>5</td>\n",
       "      <td>25.796667</td>\n",
       "    </tr>\n",
       "    <tr>\n",
       "      <td>2</td>\n",
       "      <td>267.708</td>\n",
       "      <td>0.0</td>\n",
       "      <td>0.0</td>\n",
       "      <td>0.0</td>\n",
       "      <td>0.0</td>\n",
       "      <td>2015-01-01 00:00:00+00:00</td>\n",
       "      <td>2015</td>\n",
       "      <td>1</td>\n",
       "      <td>1</td>\n",
       "      <td>0</td>\n",
       "      <td>11</td>\n",
       "      <td>5</td>\n",
       "      <td>25.816667</td>\n",
       "    </tr>\n",
       "    <tr>\n",
       "      <td>3</td>\n",
       "      <td>267.708</td>\n",
       "      <td>0.0</td>\n",
       "      <td>0.0</td>\n",
       "      <td>0.0</td>\n",
       "      <td>0.0</td>\n",
       "      <td>2015-01-01 00:00:00+00:00</td>\n",
       "      <td>2015</td>\n",
       "      <td>1</td>\n",
       "      <td>1</td>\n",
       "      <td>0</td>\n",
       "      <td>12</td>\n",
       "      <td>5</td>\n",
       "      <td>18.636667</td>\n",
       "    </tr>\n",
       "    <tr>\n",
       "      <td>4</td>\n",
       "      <td>267.708</td>\n",
       "      <td>0.0</td>\n",
       "      <td>0.0</td>\n",
       "      <td>0.0</td>\n",
       "      <td>0.0</td>\n",
       "      <td>2015-01-01 00:00:00+00:00</td>\n",
       "      <td>2015</td>\n",
       "      <td>1</td>\n",
       "      <td>1</td>\n",
       "      <td>0</td>\n",
       "      <td>13</td>\n",
       "      <td>5</td>\n",
       "      <td>20.681667</td>\n",
       "    </tr>\n",
       "  </tbody>\n",
       "</table>\n",
       "</div>"
      ],
      "text/plain": [
       "      temp  rain_1h  rain_3h  snow_1h  snow_3h                       time  \\\n",
       "0  267.708      0.0      0.0      0.0      0.0  2015-01-01 00:00:00+00:00   \n",
       "1  267.708      0.0      0.0      0.0      0.0  2015-01-01 00:00:00+00:00   \n",
       "2  267.708      0.0      0.0      0.0      0.0  2015-01-01 00:00:00+00:00   \n",
       "3  267.708      0.0      0.0      0.0      0.0  2015-01-01 00:00:00+00:00   \n",
       "4  267.708      0.0      0.0      0.0      0.0  2015-01-01 00:00:00+00:00   \n",
       "\n",
       "   year  month  day  hour region_id  day_of_week      speed  \n",
       "0  2015      1    1     0         1            5  27.455000  \n",
       "1  2015      1    1     0        10            5  25.796667  \n",
       "2  2015      1    1     0        11            5  25.816667  \n",
       "3  2015      1    1     0        12            5  18.636667  \n",
       "4  2015      1    1     0        13            5  20.681667  "
      ]
     },
     "execution_count": 319,
     "metadata": {},
     "output_type": "execute_result"
    }
   ],
   "source": [
    "all_df.head()"
   ]
  },
  {
   "cell_type": "code",
   "execution_count": 320,
   "metadata": {},
   "outputs": [],
   "source": [
    "crash_df['crash_date'] = pd.to_datetime(crash_df['crash_date'])\n",
    "crash_df['year'] = crash_df['crash_date'].apply(lambda x: int(x.year))\n",
    "crash_df['month'] = crash_df['crash_date'].apply(lambda x: int(x.month))\n",
    "crash_df['day'] = crash_df['crash_date'].apply(lambda x: int(x.day))\n",
    "crash_df['hour'] = crash_df['crash_date'].apply(lambda x: int(x.hour))\n"
   ]
  },
  {
   "cell_type": "code",
   "execution_count": 321,
   "metadata": {},
   "outputs": [
    {
     "data": {
      "text/plain": [
       "Timestamp('2015-08-02 19:55:00')"
      ]
     },
     "execution_count": 321,
     "metadata": {},
     "output_type": "execute_result"
    }
   ],
   "source": [
    "crash_df['crash_date'].min()  # no reports prior to this date.  Uh-oh!"
   ]
  },
  {
   "cell_type": "code",
   "execution_count": 322,
   "metadata": {},
   "outputs": [
    {
     "name": "stdout",
     "output_type": "stream",
     "text": [
      "2015\n"
     ]
    },
    {
     "ename": "KeyboardInterrupt",
     "evalue": "",
     "output_type": "error",
     "traceback": [
      "\u001b[0;31m---------------------------------------------------------------------------\u001b[0m",
      "\u001b[0;31mKeyboardInterrupt\u001b[0m                         Traceback (most recent call last)",
      "\u001b[0;32m<ipython-input-322-2a3959ecb642>\u001b[0m in \u001b[0;36m<module>\u001b[0;34m\u001b[0m\n\u001b[1;32m     15\u001b[0m \u001b[0;34m\u001b[0m\u001b[0m\n\u001b[1;32m     16\u001b[0m \u001b[0mall_df\u001b[0m\u001b[0;34m[\u001b[0m\u001b[0;36m8000\u001b[0m\u001b[0;34m:\u001b[0m\u001b[0;36m8050\u001b[0m\u001b[0;34m]\u001b[0m\u001b[0;34m.\u001b[0m\u001b[0mapply\u001b[0m\u001b[0;34m(\u001b[0m\u001b[0;32mlambda\u001b[0m \u001b[0mx\u001b[0m\u001b[0;34m:\u001b[0m \u001b[0mget_crashes\u001b[0m\u001b[0;34m(\u001b[0m\u001b[0mx\u001b[0m\u001b[0;34m.\u001b[0m\u001b[0myear\u001b[0m\u001b[0;34m,\u001b[0m\u001b[0mx\u001b[0m\u001b[0;34m.\u001b[0m\u001b[0mmonth\u001b[0m\u001b[0;34m,\u001b[0m\u001b[0mx\u001b[0m\u001b[0;34m.\u001b[0m\u001b[0mday\u001b[0m\u001b[0;34m,\u001b[0m\u001b[0mx\u001b[0m\u001b[0;34m.\u001b[0m\u001b[0mhour\u001b[0m\u001b[0;34m,\u001b[0m \u001b[0mx\u001b[0m\u001b[0;34m.\u001b[0m\u001b[0mregion_id\u001b[0m\u001b[0;34m)\u001b[0m\u001b[0;34m,\u001b[0m \u001b[0maxis\u001b[0m\u001b[0;34m=\u001b[0m\u001b[0;36m1\u001b[0m\u001b[0;34m)\u001b[0m\u001b[0;34m.\u001b[0m\u001b[0mhead\u001b[0m\u001b[0;34m(\u001b[0m\u001b[0;36m50\u001b[0m\u001b[0;34m)\u001b[0m\u001b[0;34m\u001b[0m\u001b[0;34m\u001b[0m\u001b[0m\n\u001b[0;32m---> 17\u001b[0;31m \u001b[0mall_df\u001b[0m\u001b[0;34m[\u001b[0m\u001b[0;34m'n_crash'\u001b[0m\u001b[0;34m]\u001b[0m \u001b[0;34m=\u001b[0m \u001b[0mall_df\u001b[0m\u001b[0;34m.\u001b[0m\u001b[0mapply\u001b[0m\u001b[0;34m(\u001b[0m\u001b[0;32mlambda\u001b[0m \u001b[0mx\u001b[0m\u001b[0;34m:\u001b[0m \u001b[0mget_crashes\u001b[0m\u001b[0;34m(\u001b[0m\u001b[0mx\u001b[0m\u001b[0;34m.\u001b[0m\u001b[0myear\u001b[0m\u001b[0;34m,\u001b[0m\u001b[0mx\u001b[0m\u001b[0;34m.\u001b[0m\u001b[0mmonth\u001b[0m\u001b[0;34m,\u001b[0m\u001b[0mx\u001b[0m\u001b[0;34m.\u001b[0m\u001b[0mday\u001b[0m\u001b[0;34m,\u001b[0m\u001b[0mx\u001b[0m\u001b[0;34m.\u001b[0m\u001b[0mhour\u001b[0m\u001b[0;34m,\u001b[0m \u001b[0mx\u001b[0m\u001b[0;34m.\u001b[0m\u001b[0mregion_id\u001b[0m\u001b[0;34m)\u001b[0m\u001b[0;34m,\u001b[0m \u001b[0maxis\u001b[0m\u001b[0;34m=\u001b[0m\u001b[0;36m1\u001b[0m\u001b[0;34m)\u001b[0m\u001b[0;34m\u001b[0m\u001b[0;34m\u001b[0m\u001b[0m\n\u001b[0m\u001b[1;32m     18\u001b[0m \u001b[0;34m\u001b[0m\u001b[0m\n\u001b[1;32m     19\u001b[0m \u001b[0;34m\u001b[0m\u001b[0m\n",
      "\u001b[0;32m~/opt/anaconda3/envs/learn-env/lib/python3.6/site-packages/pandas/core/frame.py\u001b[0m in \u001b[0;36mapply\u001b[0;34m(self, func, axis, broadcast, raw, reduce, result_type, args, **kwds)\u001b[0m\n\u001b[1;32m   6911\u001b[0m             \u001b[0mkwds\u001b[0m\u001b[0;34m=\u001b[0m\u001b[0mkwds\u001b[0m\u001b[0;34m,\u001b[0m\u001b[0;34m\u001b[0m\u001b[0;34m\u001b[0m\u001b[0m\n\u001b[1;32m   6912\u001b[0m         )\n\u001b[0;32m-> 6913\u001b[0;31m         \u001b[0;32mreturn\u001b[0m \u001b[0mop\u001b[0m\u001b[0;34m.\u001b[0m\u001b[0mget_result\u001b[0m\u001b[0;34m(\u001b[0m\u001b[0;34m)\u001b[0m\u001b[0;34m\u001b[0m\u001b[0;34m\u001b[0m\u001b[0m\n\u001b[0m\u001b[1;32m   6914\u001b[0m \u001b[0;34m\u001b[0m\u001b[0m\n\u001b[1;32m   6915\u001b[0m     \u001b[0;32mdef\u001b[0m \u001b[0mapplymap\u001b[0m\u001b[0;34m(\u001b[0m\u001b[0mself\u001b[0m\u001b[0;34m,\u001b[0m \u001b[0mfunc\u001b[0m\u001b[0;34m)\u001b[0m\u001b[0;34m:\u001b[0m\u001b[0;34m\u001b[0m\u001b[0;34m\u001b[0m\u001b[0m\n",
      "\u001b[0;32m~/opt/anaconda3/envs/learn-env/lib/python3.6/site-packages/pandas/core/apply.py\u001b[0m in \u001b[0;36mget_result\u001b[0;34m(self)\u001b[0m\n\u001b[1;32m    184\u001b[0m             \u001b[0;32mreturn\u001b[0m \u001b[0mself\u001b[0m\u001b[0;34m.\u001b[0m\u001b[0mapply_raw\u001b[0m\u001b[0;34m(\u001b[0m\u001b[0;34m)\u001b[0m\u001b[0;34m\u001b[0m\u001b[0;34m\u001b[0m\u001b[0m\n\u001b[1;32m    185\u001b[0m \u001b[0;34m\u001b[0m\u001b[0m\n\u001b[0;32m--> 186\u001b[0;31m         \u001b[0;32mreturn\u001b[0m \u001b[0mself\u001b[0m\u001b[0;34m.\u001b[0m\u001b[0mapply_standard\u001b[0m\u001b[0;34m(\u001b[0m\u001b[0;34m)\u001b[0m\u001b[0;34m\u001b[0m\u001b[0;34m\u001b[0m\u001b[0m\n\u001b[0m\u001b[1;32m    187\u001b[0m \u001b[0;34m\u001b[0m\u001b[0m\n\u001b[1;32m    188\u001b[0m     \u001b[0;32mdef\u001b[0m \u001b[0mapply_empty_result\u001b[0m\u001b[0;34m(\u001b[0m\u001b[0mself\u001b[0m\u001b[0;34m)\u001b[0m\u001b[0;34m:\u001b[0m\u001b[0;34m\u001b[0m\u001b[0;34m\u001b[0m\u001b[0m\n",
      "\u001b[0;32m~/opt/anaconda3/envs/learn-env/lib/python3.6/site-packages/pandas/core/apply.py\u001b[0m in \u001b[0;36mapply_standard\u001b[0;34m(self)\u001b[0m\n\u001b[1;32m    283\u001b[0m             \u001b[0;32mtry\u001b[0m\u001b[0;34m:\u001b[0m\u001b[0;34m\u001b[0m\u001b[0;34m\u001b[0m\u001b[0m\n\u001b[1;32m    284\u001b[0m                 result = reduction.reduce(\n\u001b[0;32m--> 285\u001b[0;31m                     \u001b[0mvalues\u001b[0m\u001b[0;34m,\u001b[0m \u001b[0mself\u001b[0m\u001b[0;34m.\u001b[0m\u001b[0mf\u001b[0m\u001b[0;34m,\u001b[0m \u001b[0maxis\u001b[0m\u001b[0;34m=\u001b[0m\u001b[0mself\u001b[0m\u001b[0;34m.\u001b[0m\u001b[0maxis\u001b[0m\u001b[0;34m,\u001b[0m \u001b[0mdummy\u001b[0m\u001b[0;34m=\u001b[0m\u001b[0mdummy\u001b[0m\u001b[0;34m,\u001b[0m \u001b[0mlabels\u001b[0m\u001b[0;34m=\u001b[0m\u001b[0mlabels\u001b[0m\u001b[0;34m\u001b[0m\u001b[0;34m\u001b[0m\u001b[0m\n\u001b[0m\u001b[1;32m    286\u001b[0m                 )\n\u001b[1;32m    287\u001b[0m                 \u001b[0;32mreturn\u001b[0m \u001b[0mself\u001b[0m\u001b[0;34m.\u001b[0m\u001b[0mobj\u001b[0m\u001b[0;34m.\u001b[0m\u001b[0m_constructor_sliced\u001b[0m\u001b[0;34m(\u001b[0m\u001b[0mresult\u001b[0m\u001b[0;34m,\u001b[0m \u001b[0mindex\u001b[0m\u001b[0;34m=\u001b[0m\u001b[0mlabels\u001b[0m\u001b[0;34m)\u001b[0m\u001b[0;34m\u001b[0m\u001b[0;34m\u001b[0m\u001b[0m\n",
      "\u001b[0;32mpandas/_libs/reduction.pyx\u001b[0m in \u001b[0;36mpandas._libs.reduction.reduce\u001b[0;34m()\u001b[0m\n",
      "\u001b[0;32mpandas/_libs/reduction.pyx\u001b[0m in \u001b[0;36mpandas._libs.reduction.Reducer.get_result\u001b[0;34m()\u001b[0m\n",
      "\u001b[0;32m<ipython-input-322-2a3959ecb642>\u001b[0m in \u001b[0;36m<lambda>\u001b[0;34m(x)\u001b[0m\n\u001b[1;32m     15\u001b[0m \u001b[0;34m\u001b[0m\u001b[0m\n\u001b[1;32m     16\u001b[0m \u001b[0mall_df\u001b[0m\u001b[0;34m[\u001b[0m\u001b[0;36m8000\u001b[0m\u001b[0;34m:\u001b[0m\u001b[0;36m8050\u001b[0m\u001b[0;34m]\u001b[0m\u001b[0;34m.\u001b[0m\u001b[0mapply\u001b[0m\u001b[0;34m(\u001b[0m\u001b[0;32mlambda\u001b[0m \u001b[0mx\u001b[0m\u001b[0;34m:\u001b[0m \u001b[0mget_crashes\u001b[0m\u001b[0;34m(\u001b[0m\u001b[0mx\u001b[0m\u001b[0;34m.\u001b[0m\u001b[0myear\u001b[0m\u001b[0;34m,\u001b[0m\u001b[0mx\u001b[0m\u001b[0;34m.\u001b[0m\u001b[0mmonth\u001b[0m\u001b[0;34m,\u001b[0m\u001b[0mx\u001b[0m\u001b[0;34m.\u001b[0m\u001b[0mday\u001b[0m\u001b[0;34m,\u001b[0m\u001b[0mx\u001b[0m\u001b[0;34m.\u001b[0m\u001b[0mhour\u001b[0m\u001b[0;34m,\u001b[0m \u001b[0mx\u001b[0m\u001b[0;34m.\u001b[0m\u001b[0mregion_id\u001b[0m\u001b[0;34m)\u001b[0m\u001b[0;34m,\u001b[0m \u001b[0maxis\u001b[0m\u001b[0;34m=\u001b[0m\u001b[0;36m1\u001b[0m\u001b[0;34m)\u001b[0m\u001b[0;34m.\u001b[0m\u001b[0mhead\u001b[0m\u001b[0;34m(\u001b[0m\u001b[0;36m50\u001b[0m\u001b[0;34m)\u001b[0m\u001b[0;34m\u001b[0m\u001b[0;34m\u001b[0m\u001b[0m\n\u001b[0;32m---> 17\u001b[0;31m \u001b[0mall_df\u001b[0m\u001b[0;34m[\u001b[0m\u001b[0;34m'n_crash'\u001b[0m\u001b[0;34m]\u001b[0m \u001b[0;34m=\u001b[0m \u001b[0mall_df\u001b[0m\u001b[0;34m.\u001b[0m\u001b[0mapply\u001b[0m\u001b[0;34m(\u001b[0m\u001b[0;32mlambda\u001b[0m \u001b[0mx\u001b[0m\u001b[0;34m:\u001b[0m \u001b[0mget_crashes\u001b[0m\u001b[0;34m(\u001b[0m\u001b[0mx\u001b[0m\u001b[0;34m.\u001b[0m\u001b[0myear\u001b[0m\u001b[0;34m,\u001b[0m\u001b[0mx\u001b[0m\u001b[0;34m.\u001b[0m\u001b[0mmonth\u001b[0m\u001b[0;34m,\u001b[0m\u001b[0mx\u001b[0m\u001b[0;34m.\u001b[0m\u001b[0mday\u001b[0m\u001b[0;34m,\u001b[0m\u001b[0mx\u001b[0m\u001b[0;34m.\u001b[0m\u001b[0mhour\u001b[0m\u001b[0;34m,\u001b[0m \u001b[0mx\u001b[0m\u001b[0;34m.\u001b[0m\u001b[0mregion_id\u001b[0m\u001b[0;34m)\u001b[0m\u001b[0;34m,\u001b[0m \u001b[0maxis\u001b[0m\u001b[0;34m=\u001b[0m\u001b[0;36m1\u001b[0m\u001b[0;34m)\u001b[0m\u001b[0;34m\u001b[0m\u001b[0;34m\u001b[0m\u001b[0m\n\u001b[0m\u001b[1;32m     18\u001b[0m \u001b[0;34m\u001b[0m\u001b[0m\n\u001b[1;32m     19\u001b[0m \u001b[0;34m\u001b[0m\u001b[0m\n",
      "\u001b[0;32m<ipython-input-322-2a3959ecb642>\u001b[0m in \u001b[0;36mget_crashes\u001b[0;34m(year, month, day, hour, region_id)\u001b[0m\n\u001b[1;32m      5\u001b[0m                          \u001b[0;34m(\u001b[0m\u001b[0mcrash_df\u001b[0m\u001b[0;34m[\u001b[0m\u001b[0;34m'day'\u001b[0m\u001b[0;34m]\u001b[0m\u001b[0;34m==\u001b[0m\u001b[0mday\u001b[0m\u001b[0;34m)\u001b[0m \u001b[0;34m&\u001b[0m\u001b[0;34m\u001b[0m\u001b[0;34m\u001b[0m\u001b[0m\n\u001b[1;32m      6\u001b[0m                          \u001b[0;34m(\u001b[0m\u001b[0mcrash_df\u001b[0m\u001b[0;34m[\u001b[0m\u001b[0;34m'hour'\u001b[0m\u001b[0;34m]\u001b[0m\u001b[0;34m==\u001b[0m\u001b[0mhour\u001b[0m\u001b[0;34m)\u001b[0m \u001b[0;34m&\u001b[0m\u001b[0;34m\u001b[0m\u001b[0;34m\u001b[0m\u001b[0m\n\u001b[0;32m----> 7\u001b[0;31m                          \u001b[0;34m(\u001b[0m\u001b[0mcrash_df\u001b[0m\u001b[0;34m[\u001b[0m\u001b[0;34m'region_id'\u001b[0m\u001b[0;34m]\u001b[0m\u001b[0;34m==\u001b[0m\u001b[0mregion_id\u001b[0m\u001b[0;34m)\u001b[0m\u001b[0;34m\u001b[0m\u001b[0;34m\u001b[0m\u001b[0m\n\u001b[0m\u001b[1;32m      8\u001b[0m                         ])\n\u001b[1;32m      9\u001b[0m     \u001b[0;32mreturn\u001b[0m \u001b[0mcount\u001b[0m\u001b[0;34m\u001b[0m\u001b[0;34m\u001b[0m\u001b[0m\n",
      "\u001b[0;32m~/opt/anaconda3/envs/learn-env/lib/python3.6/site-packages/pandas/core/ops/__init__.py\u001b[0m in \u001b[0;36mwrapper\u001b[0;34m(self, other, axis)\u001b[0m\n\u001b[1;32m   1227\u001b[0m \u001b[0;34m\u001b[0m\u001b[0m\n\u001b[1;32m   1228\u001b[0m             \u001b[0;32mwith\u001b[0m \u001b[0mnp\u001b[0m\u001b[0;34m.\u001b[0m\u001b[0merrstate\u001b[0m\u001b[0;34m(\u001b[0m\u001b[0mall\u001b[0m\u001b[0;34m=\u001b[0m\u001b[0;34m\"ignore\"\u001b[0m\u001b[0;34m)\u001b[0m\u001b[0;34m:\u001b[0m\u001b[0;34m\u001b[0m\u001b[0;34m\u001b[0m\u001b[0m\n\u001b[0;32m-> 1229\u001b[0;31m                 \u001b[0mres\u001b[0m \u001b[0;34m=\u001b[0m \u001b[0mna_op\u001b[0m\u001b[0;34m(\u001b[0m\u001b[0mvalues\u001b[0m\u001b[0;34m,\u001b[0m \u001b[0mother\u001b[0m\u001b[0;34m)\u001b[0m\u001b[0;34m\u001b[0m\u001b[0;34m\u001b[0m\u001b[0m\n\u001b[0m\u001b[1;32m   1230\u001b[0m             \u001b[0;32mif\u001b[0m \u001b[0mis_scalar\u001b[0m\u001b[0;34m(\u001b[0m\u001b[0mres\u001b[0m\u001b[0;34m)\u001b[0m\u001b[0;34m:\u001b[0m\u001b[0;34m\u001b[0m\u001b[0;34m\u001b[0m\u001b[0m\n\u001b[1;32m   1231\u001b[0m                 raise TypeError(\n",
      "\u001b[0;32m~/opt/anaconda3/envs/learn-env/lib/python3.6/site-packages/pandas/core/ops/__init__.py\u001b[0m in \u001b[0;36mna_op\u001b[0;34m(x, y)\u001b[0m\n\u001b[1;32m   1089\u001b[0m \u001b[0;34m\u001b[0m\u001b[0m\n\u001b[1;32m   1090\u001b[0m         \u001b[0;32mif\u001b[0m \u001b[0mis_object_dtype\u001b[0m\u001b[0;34m(\u001b[0m\u001b[0mx\u001b[0m\u001b[0;34m.\u001b[0m\u001b[0mdtype\u001b[0m\u001b[0;34m)\u001b[0m\u001b[0;34m:\u001b[0m\u001b[0;34m\u001b[0m\u001b[0;34m\u001b[0m\u001b[0m\n\u001b[0;32m-> 1091\u001b[0;31m             \u001b[0mresult\u001b[0m \u001b[0;34m=\u001b[0m \u001b[0m_comp_method_OBJECT_ARRAY\u001b[0m\u001b[0;34m(\u001b[0m\u001b[0mop\u001b[0m\u001b[0;34m,\u001b[0m \u001b[0mx\u001b[0m\u001b[0;34m,\u001b[0m \u001b[0my\u001b[0m\u001b[0;34m)\u001b[0m\u001b[0;34m\u001b[0m\u001b[0;34m\u001b[0m\u001b[0m\n\u001b[0m\u001b[1;32m   1092\u001b[0m \u001b[0;34m\u001b[0m\u001b[0m\n\u001b[1;32m   1093\u001b[0m         \u001b[0;32melif\u001b[0m \u001b[0mis_datetimelike_v_numeric\u001b[0m\u001b[0;34m(\u001b[0m\u001b[0mx\u001b[0m\u001b[0;34m,\u001b[0m \u001b[0my\u001b[0m\u001b[0;34m)\u001b[0m\u001b[0;34m:\u001b[0m\u001b[0;34m\u001b[0m\u001b[0;34m\u001b[0m\u001b[0m\n",
      "\u001b[0;32m~/opt/anaconda3/envs/learn-env/lib/python3.6/site-packages/pandas/core/ops/__init__.py\u001b[0m in \u001b[0;36m_comp_method_OBJECT_ARRAY\u001b[0;34m(op, x, y)\u001b[0m\n\u001b[1;32m   1067\u001b[0m         \u001b[0mresult\u001b[0m \u001b[0;34m=\u001b[0m \u001b[0mlibops\u001b[0m\u001b[0;34m.\u001b[0m\u001b[0mvec_compare\u001b[0m\u001b[0;34m(\u001b[0m\u001b[0mx\u001b[0m\u001b[0;34m,\u001b[0m \u001b[0my\u001b[0m\u001b[0;34m,\u001b[0m \u001b[0mop\u001b[0m\u001b[0;34m)\u001b[0m\u001b[0;34m\u001b[0m\u001b[0;34m\u001b[0m\u001b[0m\n\u001b[1;32m   1068\u001b[0m     \u001b[0;32melse\u001b[0m\u001b[0;34m:\u001b[0m\u001b[0;34m\u001b[0m\u001b[0;34m\u001b[0m\u001b[0m\n\u001b[0;32m-> 1069\u001b[0;31m         \u001b[0mresult\u001b[0m \u001b[0;34m=\u001b[0m \u001b[0mlibops\u001b[0m\u001b[0;34m.\u001b[0m\u001b[0mscalar_compare\u001b[0m\u001b[0;34m(\u001b[0m\u001b[0mx\u001b[0m\u001b[0;34m,\u001b[0m \u001b[0my\u001b[0m\u001b[0;34m,\u001b[0m \u001b[0mop\u001b[0m\u001b[0;34m)\u001b[0m\u001b[0;34m\u001b[0m\u001b[0;34m\u001b[0m\u001b[0m\n\u001b[0m\u001b[1;32m   1070\u001b[0m     \u001b[0;32mreturn\u001b[0m \u001b[0mresult\u001b[0m\u001b[0;34m\u001b[0m\u001b[0;34m\u001b[0m\u001b[0m\n\u001b[1;32m   1071\u001b[0m \u001b[0;34m\u001b[0m\u001b[0m\n",
      "\u001b[0;31mKeyboardInterrupt\u001b[0m: "
     ]
    }
   ],
   "source": [
    "\n",
    "def get_crashes(year, month, day, hour, region_id):\n",
    "    # crash df is defined globally\n",
    "    count = len(crash_df[(crash_df['year']==year) & \n",
    "                         (crash_df['month']==month) & \n",
    "                         (crash_df['day']==day) & \n",
    "                         (crash_df['hour']==hour) &\n",
    "                         (crash_df['region_id']==region_id)\n",
    "                        ])\n",
    "    return count\n",
    "\n",
    "\n",
    "i = 2\n",
    "print(all_df.iloc[i]['year'])\n",
    "\n",
    "\n",
    "all_df[8000:8050].apply(lambda x: get_crashes(x.year,x.month,x.day,x.hour, x.region_id), axis=1).head(50)\n",
    "all_df['n_crash'] = all_df.apply(lambda x: get_crashes(x.year,x.month,x.day,x.hour, x.region_id), axis=1)\n",
    "           \n",
    "\n",
    "# UGH, this takes forever"
   ]
  },
  {
   "cell_type": "code",
   "execution_count": null,
   "metadata": {},
   "outputs": [],
   "source": [
    "# can I use sql to combine crashes and weather\n",
    "sql_fetch_tables(c, conn)\n",
    "\n",
    "\n",
    "'''\n",
    "Example\n",
    "SELECT\n",
    "  s.last_name, s.first_name,\n",
    "  p.course_code, p.status, p.amount\n",
    "FROM enrollment e\n",
    "JOIN student s\n",
    "  ON s.id=e.student_id\n",
    "JOIN payment p\n",
    "  ON p.course_code=e.course_code\n",
    "    AND p.student_id=e.student_id;\n",
    "'''\n",
    "\n",
    "big_df = pd.read_sql_query('''SELECT * \n",
    "                              FROM hourly_congestion c\n",
    "                              LEFT JOIN hourly_weather wx\n",
    "                                  ON c.year=wx.year\n",
    "                                     AND c.month=wx.month\n",
    "                                     AND c.day=wx.day\n",
    "                                     AND c.hour=wx.hour\n",
    "                              LEFT JOIN signal_crashes cr\n",
    "                                 ON c.year=cr.year\n",
    "                                     AND c.month=cr.month\n",
    "                                     AND c.day=cr.day\n",
    "                                     AND c.hour=cr.hour\n",
    "                                     AND c.region_id=cr.region_id\n",
    "                              WHERE c.year BETWEEN 2016 AND 2020\n",
    "\n",
    "                           ''', conn)\n",
    "\n",
    "\n",
    "big_df.head()"
   ]
  },
  {
   "cell_type": "code",
   "execution_count": null,
   "metadata": {},
   "outputs": [],
   "source": [
    "big_df.info()\n",
    "congestion_df.info()\n",
    "\n",
    "# if two or more crashes occur in the same region in same hour, we have mutliple entries.  \n",
    "# We can groupby to fix this if we need to plot, just be aware.  There are about 5k of them"
   ]
  },
  {
   "cell_type": "code",
   "execution_count": null,
   "metadata": {},
   "outputs": [],
   "source": [
    "# would like to add how many crashes for every hour last 5 years\n",
    "# would like to add if it was at a rlc (Should be there now)\n",
    "# need to add is_active for rlc for every hour"
   ]
  },
  {
   "cell_type": "code",
   "execution_count": null,
   "metadata": {},
   "outputs": [],
   "source": [
    "# EDA to show\n",
    "\n",
    "# CRASHES\n",
    "# by congestion (binned)\n",
    "# by day of week\n",
    "# by month\n",
    "# by temp\n",
    "# by precip\n",
    "# by rlc present\n",
    "\n",
    "# CONGESTION\n",
    "# by day of week\n",
    "# by month\n",
    "# by temp\n",
    "# by precip\n",
    "\n",
    "# RED LIGHT VIOLATIONS\n",
    "# violations by month\n",
    "# violations by day of week\n",
    "\n",
    "# MODEL\n",
    "# linear model with target of crashes\n",
    "# do single variable regression of all of my variables\n",
    "# vars"
   ]
  },
  {
   "cell_type": "code",
   "execution_count": 352,
   "metadata": {},
   "outputs": [
    {
     "name": "stdout",
     "output_type": "stream",
     "text": [
      "Average congestion (speed) for all signal crashes: 22.02 mph \n",
      "Standard deviation (speed: 5.06)\n"
     ]
    },
    {
     "data": {
      "image/png": "[encoded data removed]",
      "text/plain": [
       "<Figure size 432x288 with 1 Axes>"
      ]
     },
     "metadata": {
      "needs_background": "light"
     },
     "output_type": "display_data"
    }
   ],
   "source": [
    "big_df[big_df['crash_record_id'].notnull()]['speed'].hist(bins=100)\n",
    "print('Average congestion (speed) for all signal crashes: {:.2f} mph \\nStandard deviation (speed: {:.2f})'\n",
    "      .format(big_df[big_df['crash_record_id'].notnull()]['speed'].mean(),\n",
    "              big_df[big_df['crash_record_id'].notnull()]['speed'].std()\n",
    "             ))\n"
   ]
  },
  {
   "cell_type": "code",
   "execution_count": null,
   "metadata": {},
   "outputs": [],
   "source": [
    "# Compare this to all congestions\n",
    "big_df['speed'].hist(bins=100)\n",
    "plt.show()\n",
    "big_df.boxplot(column=['speed'])\n",
    "\n",
    "print('Average congestion (speed) all entries: {:.2f} mph\\nStandard deviation (speed): {:.2f} '\n",
    "      .format(big_df['speed'].mean(), big_df['speed'].std()))\n"
   ]
  },
  {
   "cell_type": "code",
   "execution_count": null,
   "metadata": {},
   "outputs": [],
   "source": [
    "# Congestion may have some affect on accidents\n"
   ]
  },
  {
   "cell_type": "code",
   "execution_count": 343,
   "metadata": {},
   "outputs": [
    {
     "data": {
      "image/png": "[encoded data removed]",
      "text/plain": [
       "<Figure size 432x288 with 1 Axes>"
      ]
     },
     "metadata": {
      "needs_background": "light"
     },
     "output_type": "display_data"
    }
   ],
   "source": [
    "# Congestion by day of week\n",
    "##### NEED TO FIX DAY OF WEEK IN PREPROCESSING\n",
    "\n",
    "xticks = ['Su','Mo','Tu','We','Th','Fr','Sa']\n",
    "ax = big_df.groupby('day_of_week').mean().reset_index().plot.bar('day_of_week','speed')\n",
    "\n",
    "ax.set_xticks(range(6))\n",
    "ax.set_xticklabels(xticks)\n",
    "plt.show()"
   ]
  },
  {
   "cell_type": "code",
   "execution_count": 350,
   "metadata": {},
   "outputs": [],
   "source": [
    "big_df = big_df.loc[:,~big_df.columns.duplicated()]  # remove dupe columns\n"
   ]
  },
  {
   "cell_type": "code",
   "execution_count": 387,
   "metadata": {},
   "outputs": [
    {
     "data": {
      "image/png": "[encoded data removed]",
      "text/plain": [
       "<Figure size 432x288 with 1 Axes>"
      ]
     },
     "metadata": {
      "needs_background": "light"
     },
     "output_type": "display_data"
    }
   ],
   "source": [
    "xticks = ['Jan','Feb','Mar','Apr','May','Jun','Jul','Aug','Sep','Oct','Nov','Dec']\n",
    "ax = big_df.groupby('month').mean().reset_index().plot.bar('month','speed')\n",
    "\n",
    "ax.set_xticks(range(12))\n",
    "ax.set_xticklabels(xticks)\n",
    "ax.set_ylim(22,24)\n",
    "plt.show()"
   ]
  },
  {
   "cell_type": "code",
   "execution_count": 394,
   "metadata": {},
   "outputs": [
    {
     "name": "stdout",
     "output_type": "stream",
     "text": [
      "Crash only temperature data\n",
      "count    60951.000000\n",
      "mean       285.758031\n",
      "std         11.362269\n",
      "min        245.370000\n",
      "25%        276.480000\n",
      "50%        285.350000\n",
      "75%        295.370000\n",
      "max        310.370000\n",
      "Name: temp, dtype: float64\n",
      "\n",
      "All temperature data\n",
      "count    1.311840e+06\n",
      "mean     2.856057e+02\n",
      "std      1.104376e+01\n",
      "min      2.453700e+02\n",
      "25%      2.764800e+02\n",
      "50%      2.851500e+02\n",
      "75%      2.951500e+02\n",
      "max      3.114800e+02\n",
      "Name: temp, dtype: float64\n"
     ]
    },
    {
     "data": {
      "image/png": "[encoded data removed]",
      "text/plain": [
       "<Figure size 864x864 with 1 Axes>"
      ]
     },
     "metadata": {
      "needs_background": "light"
     },
     "output_type": "display_data"
    }
   ],
   "source": [
    "# how does congestion change with weather\n",
    "\n",
    "#xticks = ['Jan','Feb','Mar','Apr','May','Jun','Jul','Aug','Sep','Oct','Nov','Dec']\n",
    "big_df['speed'].hist(bins=50, color='lightblue')\n",
    "\n",
    "big_df[big_df['crash_record_id'].notnull()]['speed'].hist(bins=50, figsize=[12,12], color='orange')\n",
    "\n",
    "#ax.set_xticks(range(12))\n",
    "#ax.set_xticklabels(xticks)\n",
    "\n",
    "print(\"Crash only temperature data\")\n",
    "print(big_df[big_df['crash_record_id'].notnull()]['temp'].describe())\n",
    "print()\n",
    "print(\"All temperature data\")\n",
    "print(big_df['temp'].describe())"
   ]
  },
  {
   "cell_type": "code",
   "execution_count": 404,
   "metadata": {},
   "outputs": [
    {
     "data": {
      "image/png": "[encoded data removed]",
      "text/plain": [
       "<Figure size 864x576 with 1 Axes>"
      ]
     },
     "metadata": {
      "needs_background": "light"
     },
     "output_type": "display_data"
    }
   ],
   "source": [
    "# same thing scaled\n",
    "\n",
    "\n",
    "# Now, we are normalizing the dataframe (df) by using fit_transform function of MinMaxScaler and making the dataframe of the normalized array.\n",
    "\n",
    "\n",
    "\n",
    "big_df['temp'].hist(bins=50, color='lightblue', normed=True, alpha=0.5, label='all hours')\n",
    "\n",
    "big_df[big_df['crash_record_id'].notnull()]['temp'].hist(bins=50, figsize=[12,8], color='orange', normed=True, alpha=0.5, label='crashes')\n",
    "\n",
    "#big_df[big_df['crash_record_id'].notnull()]['temp'].hist(bins=50, figsize=[12,12], color='orange')\n",
    "#ax.set_yscale('log')\n",
    "plt.legend()\n",
    "plt.xlabel('Temperature (K)')\n",
    "plt.xlabel('Normalized count')\n",
    "\n",
    "plt.show()"
   ]
  },
  {
   "cell_type": "code",
   "execution_count": 405,
   "metadata": {},
   "outputs": [
    {
     "data": {
      "text/plain": [
       "Index(['year', 'month', 'day', 'hour', 'region_id', 'day_of_week', 'speed',\n",
       "       'temp', 'rain_1h', 'rain_3h', 'snow_1h', 'snow_3h', 'time',\n",
       "       'crash_record_id', 'rd_no', 'crash_date', 'posted_speed_limit',\n",
       "       'traffic_control_device', 'device_condition', 'weather_condition',\n",
       "       'lighting_condition', 'first_crash_type', 'trafficway_type',\n",
       "       'alignment', 'roadway_surface_cond', 'road_defect', 'report_type',\n",
       "       'crash_type', 'hit_and_run_i', 'damage', 'prim_contributory_cause',\n",
       "       'sec_contributory_cause', 'street_no', 'street_direction',\n",
       "       'street_name', 'beat_of_occurrence', 'num_units', 'most_severe_injury',\n",
       "       'injuries_total', 'injuries_fatal', 'injuries_incapacitating',\n",
       "       'injuries_non_incapacitating', 'injuries_reported_not_evident',\n",
       "       'injuries_no_indication', 'injuries_unknown', 'crash_hour',\n",
       "       'crash_day_of_week', 'crash_month', 'latitude', 'longitude', 'lane_cnt',\n",
       "       'intersection_related_i', 'crash_date_est_i', 'work_zone_i',\n",
       "       'work_zone_type', 'workers_present_i', 'intersection'],\n",
       "      dtype='object')"
      ]
     },
     "execution_count": 405,
     "metadata": {},
     "output_type": "execute_result"
    }
   ],
   "source": [
    "big_df.columns"
   ]
  },
  {
   "cell_type": "code",
   "execution_count": 451,
   "metadata": {},
   "outputs": [
    {
     "name": "stdout",
     "output_type": "stream",
     "text": [
      "Average precipitation all hours (mm):      0.1790\n",
      "Average precipitation during crashes (mm): 0.1967\n",
      "\n",
      "Percentage of hours with precipitation in prev hour:   14.6075%\n",
      "Percentage of crashes with precipitation in prev hour: 16.0989%\n",
      "\n",
      "Percentage of hours with rain in prev hour:   12.2981%\n",
      "Percentage of crashes with rain in prev hour: 13.7924%\n",
      "\n",
      "Percentage of hours with snow in prev hour:    2.6938%\n",
      "Percentage of crashes with snow in prev hour:  2.6990%\n"
     ]
    }
   ],
   "source": [
    "# Same thing, now with precipitation\n",
    "# same thing scaled \n",
    "big_df['precip_3h'] = big_df['rain_3h'] + big_df['snow_3h']\n",
    "big_df['is_precip'] = big_df['precip_3h'].apply(lambda x: True if x>0 else False)\n",
    "\n",
    "big_df['precip_1h'] = big_df['rain_1h'] + big_df['snow_1h']\n",
    "big_df['is_precip1'] = big_df['precip_1h'].apply(lambda x: True if x>0 else False)\n",
    "\n",
    "print('Average precipitation all hours (mm):      {:.4f}'.format(big_df['precip_1h'].mean()))\n",
    "print('Average precipitation during crashes (mm): {:.4f}'.format(big_df[big_df['crash_record_id'].notnull()]['precip_1h'].mean()))\n",
    "print()\n",
    "\n",
    "print('Percentage of hours with precipitation in prev hour:   {:.4f}%'\n",
    "            .format(big_df['is_precip1'].sum()*100/len(big_df)))\n",
    "print('Percentage of crashes with precipitation in prev hour: {:.4f}%'\n",
    "            .format(big_df[big_df['crash_record_id'].notnull()]['is_precip1']\n",
    "            .sum()*100/len(big_df[big_df['crash_record_id'].notnull()])))\n",
    "\n",
    "big_df['is_rain'] = big_df['rain_1h'].apply(lambda x: True if x>0 else False)\n",
    "print()\n",
    "print('Percent hours with rain:   {:.4f}%'\n",
    "            .format(big_df['is_rain'].sum()*100/len(big_df)))\n",
    "print('Percentage crashes with rain: {:.4f}%'\n",
    "            .format(big_df[big_df['crash_record_id'].notnull()]['is_rain']\n",
    "            .sum()*100/len(big_df[big_df['crash_record_id'].notnull()])))\n",
    "\n",
    "\n",
    "\n",
    "big_df['is_snow'] = big_df['snow_1h'].apply(lambda x: True if x>0 else False)\n",
    "print()\n",
    "print('Percentage of hours with snow in prev hour:    {:.4f}%'\n",
    "            .format(big_df['is_snow'].sum()*100/len(big_df)))\n",
    "print('Percentage of crashes with snow in prev hour:  {:.4f}%'\n",
    "            .format(big_df[big_df['crash_record_id'].notnull()]['is_snow']\n",
    "            .sum()*100/len(big_df[big_df['crash_record_id'].notnull()])))\n",
    "# Fairly obvious correlation between precipitation and accidents at intersections"
   ]
  },
  {
   "cell_type": "code",
   "execution_count": 454,
   "metadata": {},
   "outputs": [
    {
     "name": "stdout",
     "output_type": "stream",
     "text": [
      "Number of crashes at red light camera: 8236\n",
      "Percent of signal crashes with red light cam present: 13.30%\n"
     ]
    }
   ],
   "source": [
    "# rlc present\n",
    "print('Number of crashes at red light camera: {}'.format(big_df['rlc_present'].sum()))\n",
    "\n",
    "big_df['rlc_present'] = big_df['intersection'].apply(lambda x: True if x else False)\n",
    "print('Percent of signal crashes with red light cam present: {:.2f}%'\n",
    "      .format(big_df['rlc_present'].sum() * 100 / len(big_df[big_df['crash_record_id'].notnull()])))\n",
    "\n",
    "# turns out that most crashes are not at the intersections with rlc"
   ]
  },
  {
   "cell_type": "markdown",
   "metadata": {},
   "source": [
    "Now let's do some analysis and modeling.\n",
    "What does that look like?\n",
    "\n",
    "Q1:  What factors affect the number of rlc violations?  **Straight forward linear regression**\n",
    "\n",
    "\n",
    "Q2: What factors affect the number of crashes, and which are most important? (Linear regression?)\n",
    "After some thought, I think the EDA tells me that the region and congestion will not be that usefule at a granular level.  Instead of splitting my data into 29 regions, I can just crunch it down to hourly data.  I will get 0 to 5 or so total crashes. Otherwise it is a sparse/rare event.\n",
    "**This could be useful to build a linear regression.**\n",
    "\n",
    "Q3: Using only intersections with RLC (red light cams), do they affect the number and type of crashes.  We need to know the dates they are on and off, and only use cams with periods on and off.  \n",
    "We also need to use only 2014 on, so there won't be a huge amount of data to work with, maybe a few hundred.  **Could use a t-test?**\n",
    "\n",
    "\n"
   ]
  },
  {
   "cell_type": "code",
   "execution_count": null,
   "metadata": {},
   "outputs": [],
   "source": []
  }
 ],
 "metadata": {
  "kernelspec": {
   "display_name": "learn-env",
   "language": "python",
   "name": "learn-env"
  },
  "language_info": {
   "codemirror_mode": {
    "name": "ipython",
    "version": 3
   },
   "file_extension": ".py",
   "mimetype": "text/x-python",
   "name": "python",
   "nbconvert_exporter": "python",
   "pygments_lexer": "ipython3",
   "version": "3.6.9"
  }
 },
 "nbformat": 4,
 "nbformat_minor": 2
}
