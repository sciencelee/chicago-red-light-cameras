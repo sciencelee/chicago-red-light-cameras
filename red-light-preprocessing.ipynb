{
 "cells": [
  {
   "cell_type": "markdown",
   "metadata": {},
   "source": [
    "# This notebook is to build the db"
   ]
  },
  {
   "cell_type": "code",
   "execution_count": 146,
   "metadata": {},
   "outputs": [],
   "source": [
    "#!/usr/bin/env python\n",
    "\n",
    "import pandas as pd\n",
    "from sodapy import Socrata\n",
    "import matplotlib.pyplot as plt\n",
    "from datetime import datetime\n",
    "from modules.myfuncs import *\n",
    "\n"
   ]
  },
  {
   "cell_type": "markdown",
   "metadata": {},
   "source": [
    "## Get the data from portal using Socrata client"
   ]
  },
  {
   "cell_type": "code",
   "execution_count": 147,
   "metadata": {},
   "outputs": [
    {
     "name": "stderr",
     "output_type": "stream",
     "text": [
      "WARNING:root:Requests made without an app_token will be subject to strict throttling limits.\n"
     ]
    }
   ],
   "source": [
    "# Unauthenticated client only works with public data sets. Note 'None'\n",
    "# in place of application token, and no username or password:\n",
    "\n",
    "url = \"data.cityofchicago.org\"\n",
    "client = Socrata(url, None)\n",
    "\n",
    "# Example authenticated client (needed for non-public datasets):\n",
    "# client = Socrata(data.cityofchicago.org,\n",
    "#                  MyAppToken,\n",
    "#                  userame=\"user@example.com\",\n",
    "#                  password=\"AFakePassword\")"
   ]
  },
  {
   "cell_type": "markdown",
   "metadata": {},
   "source": [
    "## Use a Socrata client query to get all data"
   ]
  },
  {
   "cell_type": "code",
   "execution_count": 148,
   "metadata": {},
   "outputs": [],
   "source": [
    "# Red Light Cam data\n",
    "rlc_cam = client.get(\"spqx-js37\", #speed cams are at 'hhkd-xvj4' if you want to investigate?\n",
    "                     where='violation_date BETWEEN \\'2015-01-01T00:00:00.000\\' AND \\'2020-12-20T00:00:00.000\\'',\n",
    "                     limit=1000000,\n",
    "                    )\n",
    "\n",
    "client_df = pd.DataFrame.from_records(rlc_cam)  # Convert to pandas DataFrame\n",
    "\n",
    "\n",
    "\n"
   ]
  },
  {
   "cell_type": "markdown",
   "metadata": {},
   "source": [
    "## Investigate results\n",
    "We have all text objects.  \n",
    "\n",
    "There are a fair number of missing locations/lat/long.  Hope to be able to replace those missing values.\n",
    "This represents a large enough portion of dataset to look them up.\n",
    "\n",
    "The na values for camera_id will have to be dropped"
   ]
  },
  {
   "cell_type": "code",
   "execution_count": 151,
   "metadata": {},
   "outputs": [
    {
     "name": "stdout",
     "output_type": "stream",
     "text": [
      "<class 'pandas.core.frame.DataFrame'>\n",
      "Int64Index: 569594 entries, 0 to 569827\n",
      "Data columns (total 10 columns):\n",
      "intersection      569594 non-null object\n",
      "camera_id         569594 non-null object\n",
      "address           569594 non-null object\n",
      "violation_date    569594 non-null object\n",
      "violations        569594 non-null object\n",
      "x_coordinate      539918 non-null object\n",
      "y_coordinate      539918 non-null object\n",
      "latitude          539918 non-null object\n",
      "longitude         539918 non-null object\n",
      "location          539918 non-null object\n",
      "dtypes: object(10)\n",
      "memory usage: 47.8+ MB\n"
     ]
    },
    {
     "data": {
      "text/plain": [
       "intersection          0\n",
       "camera_id             0\n",
       "address               0\n",
       "violation_date        0\n",
       "violations            0\n",
       "x_coordinate      29676\n",
       "y_coordinate      29676\n",
       "latitude          29676\n",
       "longitude         29676\n",
       "location          29676\n",
       "dtype: int64"
      ]
     },
     "execution_count": 151,
     "metadata": {},
     "output_type": "execute_result"
    }
   ],
   "source": [
    "client_df.info()\n",
    "client_df.isna().sum()"
   ]
  },
  {
   "cell_type": "code",
   "execution_count": 152,
   "metadata": {},
   "outputs": [
    {
     "data": {
      "text/plain": [
       "intersection          0\n",
       "camera_id             0\n",
       "address               0\n",
       "violation_date        0\n",
       "violations            0\n",
       "x_coordinate      29676\n",
       "y_coordinate      29676\n",
       "latitude          29676\n",
       "longitude         29676\n",
       "location          29676\n",
       "dtype: int64"
      ]
     },
     "execution_count": 152,
     "metadata": {},
     "output_type": "execute_result"
    }
   ],
   "source": [
    "#client_df.dropna(subset=['camera_id']).isna().sum()\n",
    "client_df.dropna(subset=['camera_id'], inplace=True)\n",
    "client_df.isna().sum()"
   ]
  },
  {
   "cell_type": "markdown",
   "metadata": {},
   "source": [
    "## Coerce my columns and make new ones\n",
    "\n",
    "I forsee using month, day of week and year, so I will pull those out now.\n",
    "I do not need location (I have lon and lat in other cols)\n",
    "I do not neex xy coords.  I have lat/long"
   ]
  },
  {
   "cell_type": "code",
   "execution_count": 153,
   "metadata": {},
   "outputs": [
    {
     "name": "stdout",
     "output_type": "stream",
     "text": [
      "<class 'pandas.core.frame.DataFrame'>\n",
      "Int64Index: 569594 entries, 0 to 569827\n",
      "Data columns (total 10 columns):\n",
      "intersection      569594 non-null object\n",
      "camera_id         569594 non-null object\n",
      "address           569594 non-null object\n",
      "violation_date    569594 non-null object\n",
      "violations        569594 non-null object\n",
      "x_coordinate      539918 non-null object\n",
      "y_coordinate      539918 non-null object\n",
      "latitude          539918 non-null object\n",
      "longitude         539918 non-null object\n",
      "location          539918 non-null object\n",
      "dtypes: object(10)\n",
      "memory usage: 47.8+ MB\n"
     ]
    },
    {
     "data": {
      "text/html": [
       "<div>\n",
       "<style scoped>\n",
       "    .dataframe tbody tr th:only-of-type {\n",
       "        vertical-align: middle;\n",
       "    }\n",
       "\n",
       "    .dataframe tbody tr th {\n",
       "        vertical-align: top;\n",
       "    }\n",
       "\n",
       "    .dataframe thead th {\n",
       "        text-align: right;\n",
       "    }\n",
       "</style>\n",
       "<table border=\"1\" class=\"dataframe\">\n",
       "  <thead>\n",
       "    <tr style=\"text-align: right;\">\n",
       "      <th></th>\n",
       "      <th>intersection</th>\n",
       "      <th>camera_id</th>\n",
       "      <th>address</th>\n",
       "      <th>violation_date</th>\n",
       "      <th>violations</th>\n",
       "      <th>latitude</th>\n",
       "      <th>longitude</th>\n",
       "      <th>month</th>\n",
       "      <th>weekday</th>\n",
       "      <th>year</th>\n",
       "    </tr>\n",
       "  </thead>\n",
       "  <tbody>\n",
       "    <tr>\n",
       "      <td>569823</td>\n",
       "      <td>STONEY ISLAND AND 79TH</td>\n",
       "      <td>2464</td>\n",
       "      <td>1600 E 79TH ST</td>\n",
       "      <td>2020-12-20</td>\n",
       "      <td>10</td>\n",
       "      <td>41.751612</td>\n",
       "      <td>-87.585592</td>\n",
       "      <td>12</td>\n",
       "      <td>6</td>\n",
       "      <td>2020</td>\n",
       "    </tr>\n",
       "    <tr>\n",
       "      <td>569824</td>\n",
       "      <td>PULASKI AND NORTH</td>\n",
       "      <td>1992</td>\n",
       "      <td>1600 N PULASKI AVENUE</td>\n",
       "      <td>2020-12-20</td>\n",
       "      <td>1</td>\n",
       "      <td>41.909975</td>\n",
       "      <td>-87.726481</td>\n",
       "      <td>12</td>\n",
       "      <td>6</td>\n",
       "      <td>2020</td>\n",
       "    </tr>\n",
       "    <tr>\n",
       "      <td>569825</td>\n",
       "      <td>LAKE SHORE DR AND BELMONT</td>\n",
       "      <td>1413</td>\n",
       "      <td>400 W BELMONT AVE</td>\n",
       "      <td>2020-12-20</td>\n",
       "      <td>33</td>\n",
       "      <td>41.940241</td>\n",
       "      <td>-87.639639</td>\n",
       "      <td>12</td>\n",
       "      <td>6</td>\n",
       "      <td>2020</td>\n",
       "    </tr>\n",
       "    <tr>\n",
       "      <td>569826</td>\n",
       "      <td>ELSTON AND ADDISON</td>\n",
       "      <td>1403</td>\n",
       "      <td>3216 W ADDISON ST</td>\n",
       "      <td>2020-12-20</td>\n",
       "      <td>9</td>\n",
       "      <td>41.946735</td>\n",
       "      <td>-87.708610</td>\n",
       "      <td>12</td>\n",
       "      <td>6</td>\n",
       "      <td>2020</td>\n",
       "    </tr>\n",
       "    <tr>\n",
       "      <td>569827</td>\n",
       "      <td>CICERO AND I55</td>\n",
       "      <td>2252</td>\n",
       "      <td>4200 S CICERO AVENUE</td>\n",
       "      <td>2020-12-20</td>\n",
       "      <td>3</td>\n",
       "      <td>41.816729</td>\n",
       "      <td>-87.743537</td>\n",
       "      <td>12</td>\n",
       "      <td>6</td>\n",
       "      <td>2020</td>\n",
       "    </tr>\n",
       "  </tbody>\n",
       "</table>\n",
       "</div>"
      ],
      "text/plain": [
       "                     intersection camera_id                address  \\\n",
       "569823     STONEY ISLAND AND 79TH      2464         1600 E 79TH ST   \n",
       "569824          PULASKI AND NORTH      1992  1600 N PULASKI AVENUE   \n",
       "569825  LAKE SHORE DR AND BELMONT      1413      400 W BELMONT AVE   \n",
       "569826         ELSTON AND ADDISON      1403      3216 W ADDISON ST   \n",
       "569827             CICERO AND I55      2252   4200 S CICERO AVENUE   \n",
       "\n",
       "       violation_date  violations   latitude  longitude  month  weekday  year  \n",
       "569823     2020-12-20          10  41.751612 -87.585592     12        6  2020  \n",
       "569824     2020-12-20           1  41.909975 -87.726481     12        6  2020  \n",
       "569825     2020-12-20          33  41.940241 -87.639639     12        6  2020  \n",
       "569826     2020-12-20           9  41.946735 -87.708610     12        6  2020  \n",
       "569827     2020-12-20           3  41.816729 -87.743537     12        6  2020  "
      ]
     },
     "execution_count": 153,
     "metadata": {},
     "output_type": "execute_result"
    }
   ],
   "source": [
    "from datetime import datetime\n",
    "client_df.info()\n",
    "results_df = client_df.copy()\n",
    "\n",
    "results_df['violations'] = results_df['violations'].apply(int)\n",
    "results_df['latitude'] = results_df['latitude'].apply(float)\n",
    "results_df['longitude'] = results_df['longitude'].apply(float)\n",
    "results_df['violation_date'] = pd.to_datetime(results_df['violation_date'])\n",
    "results_df['month'] = results_df['violation_date'].apply(lambda x: x.month)\n",
    "results_df['weekday'] = results_df['violation_date'].apply(lambda x: datetime.weekday(x))\n",
    "results_df['year'] = results_df['violation_date'].apply(lambda x: x.year)\n",
    "\n",
    "results_df = results_df.drop(columns=['x_coordinate', 'y_coordinate', 'location'], index=1)\n",
    "#results_df = results_df.drop(columns=['location'], index=1)\n",
    "\n",
    "results_df.tail()\n"
   ]
  },
  {
   "cell_type": "markdown",
   "metadata": {},
   "source": [
    "# Make a dataframe for individual cameras\n",
    "We will try to add missing lat/long data using intersection addresses.\n",
    "We will add start and end dates for our camera for those that went on/off line during that period of time.\n"
   ]
  },
  {
   "cell_type": "code",
   "execution_count": null,
   "metadata": {},
   "outputs": [],
   "source": []
  },
  {
   "cell_type": "markdown",
   "metadata": {},
   "source": [
    "# Create or connect to database"
   ]
  },
  {
   "cell_type": "code",
   "execution_count": 154,
   "metadata": {},
   "outputs": [
    {
     "name": "stdout",
     "output_type": "stream",
     "text": [
      "sqlite3 version: 2.6.0\n",
      "connected to database/rlc.db\n"
     ]
    }
   ],
   "source": [
    "# Create a db\n",
    "conn = create_connection('database/rlc.db')  # function from myfuncs file\n",
    "c = conn.cursor()\n",
    "#conn.close()\n"
   ]
  },
  {
   "cell_type": "markdown",
   "metadata": {},
   "source": [
    "## Create a table for daily violations (all entries)"
   ]
  },
  {
   "cell_type": "code",
   "execution_count": 155,
   "metadata": {},
   "outputs": [
    {
     "name": "stdout",
     "output_type": "stream",
     "text": [
      "CREATE TABLE daily_violations (intersection text camera_id int address text violation_date numeric violations int latitude real longitude real month int week int year int );\n",
      "\n"
     ]
    }
   ],
   "source": [
    "\n",
    "def create_table(c, mytable, cols):\n",
    "    '''\n",
    "    Creates a new table \n",
    "    #Sets a constraint on db (UNIQUE) so that if you have camera_id and violation_date the same...\n",
    "    '''\n",
    "    \n",
    "    flat_cols = []\n",
    "    for col in cols:\n",
    "        for item in col:\n",
    "            flat_cols.append(item) \n",
    "    \n",
    "    my_sql = 'CREATE TABLE {} ' + '(' + '{} ' * len(flat_cols) + ');'\n",
    "    my_sql = my_sql.format(mytable, *flat_cols)  # insert datatypes for cols\n",
    "\n",
    "    print(my_sql) # just to see what I'm doing\n",
    "\n",
    "    \n",
    "    try:     \n",
    "        c.execute(my_sql) \n",
    "    except Exception as e:\n",
    "        print('\\nCREATE TABLE', mytable, 'FAILED!!',  e)\n",
    "\n",
    "\n",
    "        \n",
    "cols = [\n",
    "        ['intersection', 'text'], \n",
    "        ['camera_id', 'int'],\n",
    "        ['address', 'text'],\n",
    "        ['violation_date', 'numeric'],\n",
    "        ['violations', 'int'],\n",
    "        ['latitude', 'real'],\n",
    "        ['longitude', 'real'],\n",
    "        ['month', 'int'],\n",
    "        ['week', 'int'],\n",
    "        ['year', 'int'],\n",
    "        ]\n",
    "\n",
    "#print(*cols)\n",
    "#sql = 'CREATE TABLE violations (intersection text, camera_id int, address text, violation_date numeric, violations int, latitude real, longitude real, month int, week int, year int)'\n",
    "#c.execute(sql)\n",
    "\n",
    "create_table(c, 'daily_violations', cols)\n",
    "print()\n",
    "conn.commit()"
   ]
  },
  {
   "cell_type": "code",
   "execution_count": 156,
   "metadata": {},
   "outputs": [],
   "source": [
    "## MOVED FUNCTIONS to myfuncs.py"
   ]
  },
  {
   "cell_type": "code",
   "execution_count": 157,
   "metadata": {},
   "outputs": [
    {
     "name": "stdout",
     "output_type": "stream",
     "text": [
      "[('daily_violations',)]\n"
     ]
    }
   ],
   "source": [
    "sql_fetch_tables(c, conn)  # helper function in myfuncs\n",
    "delete_all_entries(c, conn, 'daily_violations')"
   ]
  },
  {
   "cell_type": "markdown",
   "metadata": {},
   "source": [
    "## Now add some data"
   ]
  },
  {
   "cell_type": "code",
   "execution_count": 158,
   "metadata": {},
   "outputs": [],
   "source": [
    "results_df.to_sql('daily_violations', conn, if_exists='replace', index = False)\n",
    "#results_df.iloc[:10, :]"
   ]
  },
  {
   "cell_type": "markdown",
   "metadata": {},
   "source": [
    "## Make sure it's there"
   ]
  },
  {
   "cell_type": "code",
   "execution_count": 159,
   "metadata": {},
   "outputs": [
    {
     "name": "stdout",
     "output_type": "stream",
     "text": [
      "[('2121', 19), ('1533', 2), ('1503', 2), ('2764', 3), ('1234', 1)]\n",
      "569593\n"
     ]
    }
   ],
   "source": [
    "# definitely have some INTEGER issue.  Had to change to text.  That's no good.\n",
    "query = c.execute(\"SELECT camera_id, violations FROM daily_violations;\").fetchall()\n",
    "print(query[:5])\n",
    "print(len(query))"
   ]
  },
  {
   "cell_type": "markdown",
   "metadata": {},
   "source": [
    "## Make a new table for individual cameras"
   ]
  },
  {
   "cell_type": "code",
   "execution_count": 160,
   "metadata": {},
   "outputs": [],
   "source": [
    "# let's see if we can look at one camera and determine first and last date\n",
    "cam_df = results_df.copy()\n",
    "cam_df['start'] = cam_df['camera_id'].apply(lambda x: None)\n",
    "cam_df['end'] = cam_df['camera_id'].apply(lambda x: None)"
   ]
  },
  {
   "cell_type": "code",
   "execution_count": 161,
   "metadata": {},
   "outputs": [
    {
     "name": "stdout",
     "output_type": "stream",
     "text": [
      "       camera_id                start                  end\n",
      "count        363                  363                  363\n",
      "unique       363                   18                   18\n",
      "top         1581  2015-01-01 00:00:00  2020-12-20 00:00:00\n",
      "freq           1                  284                  256\n",
      "first        NaN  2015-01-01 00:00:00  2015-03-02 00:00:00\n",
      "last         NaN  2018-03-05 00:00:00  2020-12-20 00:00:00\n"
     ]
    },
    {
     "data": {
      "text/html": [
       "<div>\n",
       "<style scoped>\n",
       "    .dataframe tbody tr th:only-of-type {\n",
       "        vertical-align: middle;\n",
       "    }\n",
       "\n",
       "    .dataframe tbody tr th {\n",
       "        vertical-align: top;\n",
       "    }\n",
       "\n",
       "    .dataframe thead th {\n",
       "        text-align: right;\n",
       "    }\n",
       "</style>\n",
       "<table border=\"1\" class=\"dataframe\">\n",
       "  <thead>\n",
       "    <tr style=\"text-align: right;\">\n",
       "      <th></th>\n",
       "      <th>camera_id</th>\n",
       "      <th>start</th>\n",
       "      <th>end</th>\n",
       "    </tr>\n",
       "  </thead>\n",
       "  <tbody>\n",
       "    <tr>\n",
       "      <td>0</td>\n",
       "      <td>1002</td>\n",
       "      <td>2015-01-01</td>\n",
       "      <td>2020-12-19</td>\n",
       "    </tr>\n",
       "    <tr>\n",
       "      <td>1</td>\n",
       "      <td>1003</td>\n",
       "      <td>2015-01-01</td>\n",
       "      <td>2020-12-19</td>\n",
       "    </tr>\n",
       "    <tr>\n",
       "      <td>2</td>\n",
       "      <td>1011</td>\n",
       "      <td>2015-01-02</td>\n",
       "      <td>2020-12-20</td>\n",
       "    </tr>\n",
       "    <tr>\n",
       "      <td>3</td>\n",
       "      <td>1014</td>\n",
       "      <td>2015-01-01</td>\n",
       "      <td>2020-12-20</td>\n",
       "    </tr>\n",
       "    <tr>\n",
       "      <td>4</td>\n",
       "      <td>1023</td>\n",
       "      <td>2015-01-02</td>\n",
       "      <td>2020-12-20</td>\n",
       "    </tr>\n",
       "  </tbody>\n",
       "</table>\n",
       "</div>"
      ],
      "text/plain": [
       "  camera_id      start        end\n",
       "0      1002 2015-01-01 2020-12-19\n",
       "1      1003 2015-01-01 2020-12-19\n",
       "2      1011 2015-01-02 2020-12-20\n",
       "3      1014 2015-01-01 2020-12-20\n",
       "4      1023 2015-01-02 2020-12-20"
      ]
     },
     "execution_count": 161,
     "metadata": {},
     "output_type": "execute_result"
    }
   ],
   "source": [
    "\n",
    "cam_df['violation_date'] = pd.to_datetime(cam_df['violation_date'])\n",
    "\n",
    "cam_start = cam_df.groupby(['camera_id'])['violation_date'].min().reset_index()\n",
    "cam_end = cam_df.groupby(['camera_id'])['violation_date'].max().reset_index()\n",
    "\n",
    "cam_startend = cam_start.copy()\n",
    "#print(cam_end[cam_end['camera_id']=='1503'].values[0][1])\n",
    "cam_startend['end'] = cam_start['camera_id'].apply(lambda x: cam_end[cam_end['camera_id']==x].values[0][1])\n",
    "\n",
    "\n",
    "# let's add the other columns we care about for cameras\n",
    "#cam_startend['intersection'] = results_df.groupby(['camera_id'])\n",
    "\n",
    "\n",
    "#print(\"START\")\n",
    "#results_df['start'] = results_df['camera_id'].apply(lambda x: cam_start[cam_start['camera_id']==x])['violation_date']\n",
    "\n",
    "#print('END')\n",
    "#results_df['end'] = results_df['camera_id'].apply(lambda x: cam_end[cam_end['camera_id']==x][:])\n",
    "\n",
    "#results_df.head(100)\n",
    "\n",
    "cam_startend.rename(columns={\"violation_date\": \"start\"}, inplace=True)\n",
    "\n",
    "                                                    \n",
    "cam_startend.isna().sum()\n",
    "print(cam_startend.describe())\n",
    "cam_startend.head()\n"
   ]
  },
  {
   "cell_type": "markdown",
   "metadata": {},
   "source": [
    "## Now make a table for my cam start and end data"
   ]
  },
  {
   "cell_type": "code",
   "execution_count": 162,
   "metadata": {},
   "outputs": [
    {
     "name": "stdout",
     "output_type": "stream",
     "text": [
      "CREATE TABLE cam_startend (camera_id int start numeric end numeric );\n"
     ]
    }
   ],
   "source": [
    "cols = [\n",
    "        ['camera_id', 'int'],\n",
    "        ['start', 'numeric'],\n",
    "        ['end', 'numeric'],\n",
    "        ]\n",
    "\n",
    "create_table(c, 'cam_startend', cols)"
   ]
  },
  {
   "cell_type": "code",
   "execution_count": 163,
   "metadata": {},
   "outputs": [
    {
     "name": "stdout",
     "output_type": "stream",
     "text": [
      "[('daily_violations',), ('cam_startend',)]\n"
     ]
    }
   ],
   "source": [
    "sql_fetch_tables(c, conn)  # helper function in myfuncs\n",
    "delete_all_entries(c, conn, 'cam_startend')"
   ]
  },
  {
   "cell_type": "code",
   "execution_count": 164,
   "metadata": {},
   "outputs": [],
   "source": [
    "cam_startend.to_sql('cam_startend', conn, if_exists='replace', index = False)\n"
   ]
  },
  {
   "cell_type": "code",
   "execution_count": 165,
   "metadata": {},
   "outputs": [
    {
     "name": "stdout",
     "output_type": "stream",
     "text": [
      "[('1002', '2015-01-01 00:00:00'), ('1003', '2015-01-01 00:00:00'), ('1011', '2015-01-02 00:00:00'), ('1014', '2015-01-01 00:00:00'), ('1023', '2015-01-02 00:00:00')]\n",
      "363\n"
     ]
    }
   ],
   "source": [
    "query = c.execute(\"SELECT camera_id, start FROM cam_startend;\").fetchall()\n",
    "print(query[:5])\n",
    "print(len(query))"
   ]
  },
  {
   "cell_type": "code",
   "execution_count": null,
   "metadata": {},
   "outputs": [],
   "source": []
  },
  {
   "cell_type": "code",
   "execution_count": null,
   "metadata": {},
   "outputs": [],
   "source": []
  },
  {
   "cell_type": "code",
   "execution_count": 166,
   "metadata": {},
   "outputs": [],
   "source": [
    "#cam_startend.T.apply(lambda x: x['camera_id'])"
   ]
  },
  {
   "cell_type": "code",
   "execution_count": 167,
   "metadata": {},
   "outputs": [
    {
     "name": "stdout",
     "output_type": "stream",
     "text": [
      "2015-01-01T00:00:00.000000000\n",
      "  camera_id      start        end\n",
      "0      1002 2015-01-01 2020-12-19\n",
      "1      1003 2015-01-01 2020-12-19\n",
      "2      1011 2015-01-02 2020-12-20\n",
      "3      1014 2015-01-01 2020-12-20\n",
      "4      1023 2015-01-02 2020-12-20\n"
     ]
    }
   ],
   "source": [
    "def get_minmax(df, cam_id, which):\n",
    "    if which == 'start':\n",
    "        return(df[df['camera_id']==cam_id]['start'].values[0])\n",
    "    else:\n",
    "        return(df[df['camera_id']==cam_id]['end'].values[0])\n",
    "\n",
    "    \n",
    "print(get_minmax(cam_startend, '1002', 'start'))\n",
    "\n",
    "print(cam_startend.head())\n"
   ]
  },
  {
   "cell_type": "code",
   "execution_count": 168,
   "metadata": {},
   "outputs": [],
   "source": [
    "#camloc_df = results_df.copy()\n",
    "#camloc_df.groupby('camera_id').isna().sum().reset_index()\n",
    "# this will be a dict for all of the intersections we look up.  We have fewer intersections than cams\n",
    "#used_ints = {}  # for next part.  Only want to do this once.  There is a limit on geocode usage from geopy.\n",
    "# DONT NEED THIS, JUST LOOK AT UNIQUES DUMMY"
   ]
  },
  {
   "cell_type": "markdown",
   "metadata": {},
   "source": [
    "### We will try to make a db table that has camera locations and intersections"
   ]
  },
  {
   "cell_type": "code",
   "execution_count": 169,
   "metadata": {},
   "outputs": [],
   "source": [
    "# Some of the addresses are truncated and not able to lookup with geocode\n",
    "\n",
    "address_fix = {'2400 W VAN BUREN STREE': '2400 W VAN BUREN STREET',\n",
    "               '4700 W IRVING PARK ROA': '4700 W IRVING PARK ROAD',\n",
    "               '11500 S HALSTED STREE': '11500 S HALSTED STREET',\n",
    "               '5500 S WENTWORTH AVEN': '5500 S WENTWORTH AVENUE',\n",
    "                '10300 S HALSTED STREE': '10300 S HALSTED STREET',\n",
    "               '3700 W IRVING PARK ROA': '3700 W IRVING PARK ROAD',\n",
    "               '1600 W IRVING PARK ROA': '1600 W IRVING PARK ROAD',\n",
    "               '7900 S JEFFERY BOULEV': '7900 S JEFFERY BOULEVARD',\n",
    "               '2800 W IRVING PARK ROA': '2800 W IRVING PARK ROAD',\n",
    "               '5200 W IRVING PARK ROA': '5200 W IRVING PARK ROAD',\n",
    "               '3100 S DR MARTIN L KING': '3100 S MARTIN KING DRIVE',\n",
    "               '1600 W DIVERSEY PARKWA': '1600 W DIVERSEY PARKWAY',\n",
    "               '140 W KINZIE': '140 W Kinzie St',\n",
    "                '150 N SACRAMENTO BOUL': '150 N SACRAMENTO BOUL',\n",
    "               '800 N SACRAMENTO AVEN':'800 N SACRAMENTO AVENUE',\n",
    "               '3200 N LAKESHORE DRIV':'3200 N LAKE SHORE DRIVE',\n",
    "               '6400 W FULLERTON AVENU':'6400 W FULLERTON AVENUE',\n",
    "               '6400 N MILWAUKEE AVEN':'6400 N MILWAUKEE AVENUE',\n",
    "               '7900 S STONEY ISLAND':'7900 S Stony Island Ave',  \n",
    "               '150 N SACRAMENTO BOUL':'150 N SACRAMENTO BOULEVARD',\n",
    "                '3200 N LAKESHORE DRIVE':'3200 N Lake Shore Dr',\n",
    "               '7900 S STONEY ISLAND AVENUE':'7900 S Stony Island Ave',\n",
    "               '5600 W FULLERTON AVENU':'5600 W FULLERTON AVENUE',\n",
    "               '8700 S LAFAYETTE AVEN':'8700 S LAFAYETTE AVENUE',\n",
    "               '4400 N MILWAUKEE AVEN':'4400 N MILWAUKEE AVENUE',\n",
    "              }\n"
   ]
  },
  {
   "cell_type": "code",
   "execution_count": 170,
   "metadata": {},
   "outputs": [
    {
     "name": "stdout",
     "output_type": "stream",
     "text": [
      "   camera_id           intersection                  address violation_date  \\\n",
      "83      1421     DAMEN AND DIVERSEY  2000 W DIVERSEY PARKWAY     2017-11-30   \n",
      "84      1421  LARAMIE AND FULLERTON    2400 N LARAMIE AVENUE     2020-12-19   \n",
      "\n",
      "    violations   latitude  longitude  month  weekday  year  \n",
      "83           1  41.932394 -87.678173     11        3  2017  \n",
      "84           6  41.924152 -87.756295     12        6  2020  \n",
      "intersection      1\n",
      "camera_id         1\n",
      "address           1\n",
      "violation_date    1\n",
      "violations        1\n",
      "latitude          1\n",
      "longitude         1\n",
      "month             1\n",
      "weekday           1\n",
      "year              1\n",
      "dtype: int64\n",
      "intersection      1210\n",
      "camera_id         1210\n",
      "address           1210\n",
      "violation_date    1210\n",
      "violations        1210\n",
      "latitude          1210\n",
      "longitude         1210\n",
      "month             1210\n",
      "weekday           1210\n",
      "year              1210\n",
      "dtype: int64\n",
      "363\n"
     ]
    }
   ],
   "source": [
    "from geopy.geocoders import Nominatim\n",
    "geolocator = Nominatim(user_agent=\"https://github.com/sciencelee/chicago_rlc\")\n",
    "\n",
    "cam_locs = results_df.groupby(['camera_id', 'intersection']).max().reset_index()\n",
    "cam_locs.head()\n",
    "\n",
    "len(cam_locs)  # 364 total\n",
    "len(cam_locs['camera_id'].unique()) # 363\n",
    "\n",
    "cam_locs[cam_locs['camera_id'].duplicated()]  # 1421 is dupe\n",
    "print(cam_locs[cam_locs['camera_id'] == '1421'])\n",
    "\n",
    "\n",
    "print(results_df[(results_df['camera_id']=='1421') & (results_df['intersection']=='DAMEN AND DIVERSEY')].count())\n",
    "print(results_df[(results_df['camera_id']=='1421') & (results_df['intersection']=='LARAMIE AND FULLERTON')].count())\n",
    "\n",
    "# Turns out that a camera has two locations. One was only used one time.  We drop it.\n",
    "cam_locs = cam_locs[(cam_locs['camera_id']!='1421') | (cam_locs['intersection']!='DAMEN AND DIVERSEY')]\n",
    "print(len(cam_locs))  # 363 total (got rid of the bad one)\n"
   ]
  },
  {
   "cell_type": "code",
   "execution_count": 171,
   "metadata": {},
   "outputs": [
    {
     "data": {
      "text/plain": [
       "camera_id          0\n",
       "intersection       0\n",
       "address            0\n",
       "violation_date     0\n",
       "violations         0\n",
       "latitude          19\n",
       "longitude         19\n",
       "month              0\n",
       "weekday            0\n",
       "year               0\n",
       "dtype: int64"
      ]
     },
     "execution_count": 171,
     "metadata": {},
     "output_type": "execute_result"
    }
   ],
   "source": [
    "cam_locs.isna().sum()  # missing location for 19 cameras.  Let's fix it"
   ]
  },
  {
   "cell_type": "code",
   "execution_count": 172,
   "metadata": {},
   "outputs": [],
   "source": [
    "'''\n",
    "This section goes through all of the rlc and assigns latlong\n",
    "Many lights are missing it.  \n",
    "For each light, there is an address though.\n",
    "We use geocoding to get the latlong\n",
    "'''\n",
    "\n",
    "# let's get all of the red light cameras with their gps location.  \n",
    "# This will aid in placing the accidents at rlc intersections later (if closer than threshold point to point)\n",
    "# Some RLCs are missing location data,  but have addresses.  I can use geocoding I guess to look them up.\n",
    "\n",
    "\n",
    "#location = geolocator.geocode(\"175 5th Avenue NYC\")\n",
    "#print(location.address)\n",
    "# out: Flatiron Building, 175, 5th Avenue, Flatiron, New York, NYC, New York, ...\n",
    "\n",
    "#print((location.latitude, location.longitude))\n",
    "# out: (40.7410861, -73.9896297241625)\n",
    "\n",
    "#print(location.raw)\n",
    "# out: {'place_id': '9167009604', 'type': 'attraction', ...}\n",
    "\n",
    "\n",
    "# CAN USE THIS TO FIGURE OUT MY LAT LONG FROM RLC ADDRESS (or crash)   \n",
    " \n",
    "\n",
    "def get_geocode(lat, long, address):\n",
    "    if lat > 0:  # it's a location\n",
    "        return (lat, long)\n",
    "    else: # it's a proper location tuple, and assumed to be correct latlong\n",
    "        if address in address_fix.keys(): address = address_fix[address]  # errors in the dataset chars omitted\n",
    "        # if we make it this far, we have no record of this cam_id yet, and it doesn't have a proper location\n",
    "        location = geolocator.geocode(address + ', Chicago, IL')\n",
    "        if location == None:\n",
    "            print(address+':'+address+' : could not geolocate') # print it out if we can't find (address errors)\n",
    "        else:\n",
    "            return (location.latitude, location.longitude)\n",
    "\n",
    "        \n",
    "\n",
    "\n",
    "#print(results_df.columns)\n",
    "#print(results_df.loc[1,'address'])\n",
    "#results_df['location'] = results_df['address'].apply(get_geocode)\n",
    "\n",
    "# there is a clean one liner in python for this, I just know it.  Experiment here.\n",
    "#results_df['latitude'], results_df['longitude'] = results_df.apply(lambda x: get_geocode(x.latitude, x.longitude, x.address), axis=1)\n",
    "cam_locs['location'] = cam_locs.apply(lambda x: get_geocode(x.latitude, x.longitude, x.address), axis=1)\n",
    "\n",
    "\n",
    "\n",
    "# some test code...\n",
    "# for i in range(50):\n",
    "#     x=results_df.iloc[i]\n",
    "#     print('BEFORE', x.location, x.camera_id)\n",
    "#     print('AFTER', get_geocode(x.location, \n",
    "#                       x.address, \n",
    "#                       x.camera_id, \n",
    "#                       x.intersection))\n",
    "    \n"
   ]
  },
  {
   "cell_type": "code",
   "execution_count": 173,
   "metadata": {},
   "outputs": [
    {
     "name": "stdout",
     "output_type": "stream",
     "text": [
      "<class 'pandas.core.frame.DataFrame'>\n",
      "Int64Index: 363 entries, 0 to 363\n",
      "Data columns (total 11 columns):\n",
      "camera_id         363 non-null object\n",
      "intersection      363 non-null object\n",
      "address           363 non-null object\n",
      "violation_date    363 non-null datetime64[ns]\n",
      "violations        363 non-null int64\n",
      "latitude          344 non-null float64\n",
      "longitude         344 non-null float64\n",
      "month             363 non-null int64\n",
      "weekday           363 non-null int64\n",
      "year              363 non-null int64\n",
      "location          363 non-null object\n",
      "dtypes: datetime64[ns](1), float64(2), int64(4), object(4)\n",
      "memory usage: 34.0+ KB\n"
     ]
    }
   ],
   "source": [
    "cam_locs.info()\n",
    "cam_locs.isna().sum()  # missing location for 19 cameras.  Let's fix it\n",
    "\n",
    "cam_locs['location'].head()\n",
    "cam_locs['latitude'] = cam_locs['location'].apply(lambda x: x[0])\n",
    "cam_locs['longitude'] = cam_locs['location'].apply(lambda x: x[1])"
   ]
  },
  {
   "cell_type": "code",
   "execution_count": 174,
   "metadata": {},
   "outputs": [
    {
     "data": {
      "text/plain": [
       "camera_id         0\n",
       "intersection      0\n",
       "address           0\n",
       "violation_date    0\n",
       "violations        0\n",
       "latitude          0\n",
       "longitude         0\n",
       "month             0\n",
       "weekday           0\n",
       "year              0\n",
       "location          0\n",
       "dtype: int64"
      ]
     },
     "execution_count": 174,
     "metadata": {},
     "output_type": "execute_result"
    }
   ],
   "source": [
    "cam_locs.head()\n",
    "cam_locs.isna().sum()"
   ]
  },
  {
   "cell_type": "code",
   "execution_count": 175,
   "metadata": {},
   "outputs": [],
   "source": [
    "cam_locs.drop(columns=['violation_date', 'violations', 'month', 'weekday', 'year', 'location'], inplace=True)"
   ]
  },
  {
   "cell_type": "code",
   "execution_count": 176,
   "metadata": {},
   "outputs": [
    {
     "name": "stdout",
     "output_type": "stream",
     "text": [
      "CREATE TABLE cam_locations (camera_id int intersection text address text latitude real longitude real );\n"
     ]
    }
   ],
   "source": [
    "        \n",
    "cols = [\n",
    "        ['camera_id', 'int'],\n",
    "        ['intersection', 'text'], \n",
    "        ['address', 'text'],\n",
    "        ['latitude', 'real'],\n",
    "        ['longitude', 'real'],\n",
    "        ]\n",
    "\n",
    "create_table(c, 'cam_locations', cols)"
   ]
  },
  {
   "cell_type": "code",
   "execution_count": 177,
   "metadata": {},
   "outputs": [],
   "source": [
    "\n",
    "cam_locs.to_sql('cam_locations', conn, if_exists='replace', index = False)\n"
   ]
  },
  {
   "cell_type": "code",
   "execution_count": 178,
   "metadata": {},
   "outputs": [
    {
     "name": "stdout",
     "output_type": "stream",
     "text": [
      "[('1002', 41.85198384, -87.685785704), ('1003', 41.852141307, -87.685752642), ('1011', 41.990586042, -87.689822473), ('1014', 41.99060901, -87.689735481), ('1023', 41.953024751, -87.786683238)]\n",
      "363\n"
     ]
    }
   ],
   "source": [
    "query = c.execute(\"SELECT camera_id, latitude, longitude FROM cam_locations;\").fetchall()\n",
    "print(query[:5])\n",
    "print(len(query))"
   ]
  },
  {
   "cell_type": "markdown",
   "metadata": {},
   "source": [
    "## Add a table of intersections with lat long\n",
    "This should help us later determine if crash is at intersection\n",
    "\n",
    "I chose to groupby the intersection and aggregate the most commonly occuring lat/long value"
   ]
  },
  {
   "cell_type": "code",
   "execution_count": 179,
   "metadata": {},
   "outputs": [],
   "source": [
    "#results_df.groupby(['intersection', 'latitude', 'longitude']).reset_index()\n",
    "intersection_df = results_df.groupby(['intersection']).agg({'latitude':pd.Series.mode,'longitude':pd.Series.mode,}).reset_index()\n"
   ]
  },
  {
   "cell_type": "code",
   "execution_count": 180,
   "metadata": {},
   "outputs": [
    {
     "data": {
      "text/html": [
       "<div>\n",
       "<style scoped>\n",
       "    .dataframe tbody tr th:only-of-type {\n",
       "        vertical-align: middle;\n",
       "    }\n",
       "\n",
       "    .dataframe tbody tr th {\n",
       "        vertical-align: top;\n",
       "    }\n",
       "\n",
       "    .dataframe thead th {\n",
       "        text-align: right;\n",
       "    }\n",
       "</style>\n",
       "<table border=\"1\" class=\"dataframe\">\n",
       "  <thead>\n",
       "    <tr style=\"text-align: right;\">\n",
       "      <th></th>\n",
       "      <th>intersection</th>\n",
       "      <th>latitude</th>\n",
       "      <th>longitude</th>\n",
       "    </tr>\n",
       "  </thead>\n",
       "  <tbody>\n",
       "    <tr>\n",
       "      <td>0</td>\n",
       "      <td>111TH AND HALSTED</td>\n",
       "      <td>41.6923</td>\n",
       "      <td>-87.6425</td>\n",
       "    </tr>\n",
       "    <tr>\n",
       "      <td>1</td>\n",
       "      <td>115TH AND HALSTED</td>\n",
       "      <td>41.6852</td>\n",
       "      <td>-87.6423</td>\n",
       "    </tr>\n",
       "    <tr>\n",
       "      <td>2</td>\n",
       "      <td>119TH AND HALSTED</td>\n",
       "      <td>41.6777</td>\n",
       "      <td>-87.6421</td>\n",
       "    </tr>\n",
       "    <tr>\n",
       "      <td>3</td>\n",
       "      <td>31ST AND CALIFORNIA</td>\n",
       "      <td>41.8373</td>\n",
       "      <td>-87.6952</td>\n",
       "    </tr>\n",
       "    <tr>\n",
       "      <td>4</td>\n",
       "      <td>31ST ST AND MARTIN LUTHER KING DRIVE</td>\n",
       "      <td>41.8385</td>\n",
       "      <td>-87.617</td>\n",
       "    </tr>\n",
       "  </tbody>\n",
       "</table>\n",
       "</div>"
      ],
      "text/plain": [
       "                           intersection latitude longitude\n",
       "0                     111TH AND HALSTED  41.6923  -87.6425\n",
       "1                     115TH AND HALSTED  41.6852  -87.6423\n",
       "2                     119TH AND HALSTED  41.6777  -87.6421\n",
       "3                   31ST AND CALIFORNIA  41.8373  -87.6952\n",
       "4  31ST ST AND MARTIN LUTHER KING DRIVE  41.8385   -87.617"
      ]
     },
     "execution_count": 180,
     "metadata": {},
     "output_type": "execute_result"
    }
   ],
   "source": [
    "intersection_df\n",
    "intersection_df.head()"
   ]
  },
  {
   "cell_type": "code",
   "execution_count": 181,
   "metadata": {},
   "outputs": [
    {
     "name": "stdout",
     "output_type": "stream",
     "text": [
      "CREATE TABLE intersection_locations (intersection text latitude real longitude real );\n"
     ]
    }
   ],
   "source": [
    "cols = [\n",
    "        ['intersection', 'text'],\n",
    "        ['latitude', 'real'], \n",
    "        ['longitude', 'real'],\n",
    "        ]\n",
    "\n",
    "create_table(c, 'intersection_locations', cols)"
   ]
  },
  {
   "cell_type": "code",
   "execution_count": 182,
   "metadata": {},
   "outputs": [
    {
     "name": "stdout",
     "output_type": "stream",
     "text": [
      "[('daily_violations',), ('cam_startend',), ('cam_locations',), ('intersection_locations',)]\n"
     ]
    }
   ],
   "source": [
    "sql_fetch_tables(c, conn)  # helper function in myfuncs\n",
    "#delete_all_entries(c, conn, 'intersection_locations')\n",
    "\n",
    "intersection_df.to_sql('intersection_locations', conn, if_exists='replace', index = False)\n"
   ]
  },
  {
   "cell_type": "code",
   "execution_count": 183,
   "metadata": {},
   "outputs": [
    {
     "name": "stdout",
     "output_type": "stream",
     "text": [
      "[('111TH AND HALSTED',), ('115TH AND HALSTED',), ('119TH AND HALSTED',), ('31ST AND CALIFORNIA',), ('31ST ST AND MARTIN LUTHER KING DRIVE',)]\n",
      "183\n"
     ]
    },
    {
     "data": {
      "text/html": [
       "<div>\n",
       "<style scoped>\n",
       "    .dataframe tbody tr th:only-of-type {\n",
       "        vertical-align: middle;\n",
       "    }\n",
       "\n",
       "    .dataframe tbody tr th {\n",
       "        vertical-align: top;\n",
       "    }\n",
       "\n",
       "    .dataframe thead th {\n",
       "        text-align: right;\n",
       "    }\n",
       "</style>\n",
       "<table border=\"1\" class=\"dataframe\">\n",
       "  <thead>\n",
       "    <tr style=\"text-align: right;\">\n",
       "      <th></th>\n",
       "      <th>intersection</th>\n",
       "      <th>latitude</th>\n",
       "      <th>longitude</th>\n",
       "    </tr>\n",
       "  </thead>\n",
       "  <tbody>\n",
       "    <tr>\n",
       "      <td>0</td>\n",
       "      <td>111TH AND HALSTED</td>\n",
       "      <td>41.6923</td>\n",
       "      <td>-87.6425</td>\n",
       "    </tr>\n",
       "    <tr>\n",
       "      <td>1</td>\n",
       "      <td>115TH AND HALSTED</td>\n",
       "      <td>41.6852</td>\n",
       "      <td>-87.6423</td>\n",
       "    </tr>\n",
       "    <tr>\n",
       "      <td>2</td>\n",
       "      <td>119TH AND HALSTED</td>\n",
       "      <td>41.6777</td>\n",
       "      <td>-87.6421</td>\n",
       "    </tr>\n",
       "    <tr>\n",
       "      <td>3</td>\n",
       "      <td>31ST AND CALIFORNIA</td>\n",
       "      <td>41.8373</td>\n",
       "      <td>-87.6952</td>\n",
       "    </tr>\n",
       "    <tr>\n",
       "      <td>4</td>\n",
       "      <td>31ST ST AND MARTIN LUTHER KING DRIVE</td>\n",
       "      <td>41.8385</td>\n",
       "      <td>-87.617</td>\n",
       "    </tr>\n",
       "  </tbody>\n",
       "</table>\n",
       "</div>"
      ],
      "text/plain": [
       "                           intersection latitude longitude\n",
       "0                     111TH AND HALSTED  41.6923  -87.6425\n",
       "1                     115TH AND HALSTED  41.6852  -87.6423\n",
       "2                     119TH AND HALSTED  41.6777  -87.6421\n",
       "3                   31ST AND CALIFORNIA  41.8373  -87.6952\n",
       "4  31ST ST AND MARTIN LUTHER KING DRIVE  41.8385   -87.617"
      ]
     },
     "execution_count": 183,
     "metadata": {},
     "output_type": "execute_result"
    }
   ],
   "source": [
    "query = c.execute(\"SELECT intersection FROM intersection_locations;\").fetchall()\n",
    "print(query[:5])\n",
    "print(len(query))\n",
    "intersection_df.head()\n"
   ]
  },
  {
   "cell_type": "code",
   "execution_count": null,
   "metadata": {},
   "outputs": [],
   "source": [
    "\n"
   ]
  },
  {
   "cell_type": "markdown",
   "metadata": {},
   "source": [
    "# Let's update our db once with new lat/long info\n",
    "\n",
    "\n",
    "This was moved to preprocessing from EDA.\n",
    "\n",
    "Should not have to do this again unless we reload the dataset.  May want to move this to bottom of the preprocessing section for organizational purposes."
   ]
  },
  {
   "cell_type": "code",
   "execution_count": 193,
   "metadata": {},
   "outputs": [],
   "source": [
    "# THIS TAKES SOME TIME (8min on macbook pro)\n",
    "\n",
    "def read_loc(camloc_df, lat, long, cam_id):\n",
    "    cam = camloc_df[camloc_df['camera_id']==cam_id]\n",
    "    return (float(cam['latitude']), float(cam['longitude']))\n",
    "        \n",
    "\n",
    "read_loc(cam_locs, 45, 87, '1002')  # testing purposes\n",
    "#results_df[:5].apply(lambda x: x.latitude, axis=1)  # tsting purpose\n",
    "\n",
    "results_df['location'] = results_df.apply(lambda x: read_loc(cam_locs, x.latitude, x.longitude, x.camera_id), axis=1)\n",
    "\n"
   ]
  },
  {
   "cell_type": "code",
   "execution_count": 194,
   "metadata": {},
   "outputs": [
    {
     "data": {
      "text/plain": [
       "0             (41.7802309, -87.6156396)\n",
       "2             (41.9538663, -87.7166086)\n",
       "3               (41.953838, -87.720427)\n",
       "4             (41.9538663, -87.7166086)\n",
       "5             (41.9538663, -87.7166086)\n",
       "                      ...              \n",
       "569823    (41.751611523, -87.585592284)\n",
       "569824     (41.90997501, -87.726480523)\n",
       "569825    (41.940241193, -87.639639114)\n",
       "569826    (41.946734755, -87.708609774)\n",
       "569827    (41.816729387, -87.743536712)\n",
       "Name: location, Length: 569593, dtype: object"
      ]
     },
     "execution_count": 194,
     "metadata": {},
     "output_type": "execute_result"
    }
   ],
   "source": [
    "results_df['location']"
   ]
  },
  {
   "cell_type": "code",
   "execution_count": 195,
   "metadata": {},
   "outputs": [],
   "source": [
    "results_df['latitude'] = results_df['location'].apply(lambda x: x[0])\n",
    "results_df['longitude'] = results_df['location'].apply(lambda x: x[1])\n",
    "\n"
   ]
  },
  {
   "cell_type": "code",
   "execution_count": 196,
   "metadata": {},
   "outputs": [],
   "source": [
    "if 'location' in results_df.columns:\n",
    "    results_df = results_df.drop(columns=['location'])"
   ]
  },
  {
   "cell_type": "code",
   "execution_count": 198,
   "metadata": {},
   "outputs": [
    {
     "name": "stdout",
     "output_type": "stream",
     "text": [
      "[('cam_startend',), ('cam_locations',), ('intersection_locations',), ('daily_violations',)]\n"
     ]
    }
   ],
   "source": [
    "# write to the db\n",
    "sql_fetch_tables(c, conn)  # helper function in myfuncs\n",
    "delete_all_entries(c, conn, 'daily_violations')\n",
    "results_df.to_sql('daily_violations', conn, if_exists='replace', index = False)\n"
   ]
  },
  {
   "cell_type": "markdown",
   "metadata": {},
   "source": [
    "Once run, we no longer need to revisit this notebook.  We have the dbs we wanted"
   ]
  },
  {
   "cell_type": "code",
   "execution_count": null,
   "metadata": {},
   "outputs": [],
   "source": []
  },
  {
   "cell_type": "code",
   "execution_count": null,
   "metadata": {},
   "outputs": [],
   "source": []
  },
  {
   "cell_type": "code",
   "execution_count": null,
   "metadata": {},
   "outputs": [],
   "source": []
  },
  {
   "cell_type": "code",
   "execution_count": null,
   "metadata": {},
   "outputs": [],
   "source": []
  },
  {
   "cell_type": "code",
   "execution_count": null,
   "metadata": {},
   "outputs": [],
   "source": []
  },
  {
   "cell_type": "code",
   "execution_count": null,
   "metadata": {},
   "outputs": [],
   "source": [
    "# also need to assign every rlc to a road segment\n",
    "# we can use this https://stackoverflow.com/questions/24415806/coordinates-of-the-closest-points-of-two-geometries-in-shapely\n",
    "# https://data.cityofchicago.org/Transportation/Chicago-Traffic-Tracker-Congestion-Estimates-by-Se/n4j6-wkkf\n",
    "# This has segment ID numbers 1250 of them.\n",
    "# Segments have start and end lon/lat, we can make into line.  \n",
    "# rlcs can be points, and shapely has a distance method for finding dist between. Point.distance(Linestring)\n",
    "# go through all of the Linestrings, then use the min to determine what segment it is on.  \n",
    "# The segments are more than 300 miles total and are all major surface streets in Chicago\n"
   ]
  }
 ],
 "metadata": {
  "kernelspec": {
   "display_name": "learn-env",
   "language": "python",
   "name": "learn-env"
  },
  "language_info": {
   "codemirror_mode": {
    "name": "ipython",
    "version": 3
   },
   "file_extension": ".py",
   "mimetype": "text/x-python",
   "name": "python",
   "nbconvert_exporter": "python",
   "pygments_lexer": "ipython3",
   "version": "3.6.9"
  }
 },
 "nbformat": 4,
 "nbformat_minor": 2
}
