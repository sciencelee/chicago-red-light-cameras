{
 "cells": [
  {
   "cell_type": "markdown",
   "metadata": {},
   "source": [
    "# Imports\n"
   ]
  },
  {
   "cell_type": "code",
   "execution_count": 151,
   "metadata": {},
   "outputs": [],
   "source": [
    "import pandas as pd\n",
    "from sodapy import Socrata\n",
    "import sqlite3\n",
    "from sqlite3 import Error\n"
   ]
  },
  {
   "cell_type": "markdown",
   "metadata": {},
   "source": [
    "# Create my database\n",
    " "
   ]
  },
  {
   "cell_type": "code",
   "execution_count": 170,
   "metadata": {},
   "outputs": [
    {
     "name": "stdout",
     "output_type": "stream",
     "text": [
      "sqlite3 version: 2.6.0\n",
      "connected to database/rlc.db\n"
     ]
    }
   ],
   "source": [
    "def create_connection(db_file):\n",
    "    \"\"\" create a database connection to a SQLite database \"\"\"\n",
    "    conn = None\n",
    "    try:\n",
    "        conn = sqlite3.connect(db_file)\n",
    "        print('sqlite3 version:', sqlite3.version)\n",
    "    except Error as e:\n",
    "        print(e)\n",
    "    finally:\n",
    "        if conn:\n",
    "            print('connected to', db_file)\n",
    "            return conn\n",
    "        else:\n",
    "            print(\"Failed\")\n",
    "            \n",
    "\n",
    "\n",
    "conn = create_connection('database/rlc.db')\n",
    "c = conn.cursor()\n",
    "#conn.close()"
   ]
  },
  {
   "cell_type": "markdown",
   "metadata": {},
   "source": [
    "## create sodapy client"
   ]
  },
  {
   "cell_type": "code",
   "execution_count": 171,
   "metadata": {},
   "outputs": [
    {
     "name": "stderr",
     "output_type": "stream",
     "text": [
      "WARNING:root:Requests made without an app_token will be subject to strict throttling limits.\n"
     ]
    }
   ],
   "source": [
    "## referenced example from https://github.com/xmunoz/sodapy/issues/52\n",
    "\n",
    "client = Socrata(\"data.cityofchicago.org\", None)  # starts up my client object\n",
    "data = client.get(\"spqx-js37\", #speed cams are at 'hhkd-xvj4' \n",
    "                     #where='violation_date BETWEEN \\'2015-01-01T00:00:00.000\\' AND \\'2020-12-20T00:00:00.000\\'',\n",
    "                     limit=100,\n",
    "                    )\n"
   ]
  },
  {
   "cell_type": "markdown",
   "metadata": {},
   "source": [
    "## Clunky, but I found easiest to go to df, then to db"
   ]
  },
  {
   "cell_type": "code",
   "execution_count": 172,
   "metadata": {},
   "outputs": [
    {
     "data": {
      "text/html": [
       "<div>\n",
       "<style scoped>\n",
       "    .dataframe tbody tr th:only-of-type {\n",
       "        vertical-align: middle;\n",
       "    }\n",
       "\n",
       "    .dataframe tbody tr th {\n",
       "        vertical-align: top;\n",
       "    }\n",
       "\n",
       "    .dataframe thead th {\n",
       "        text-align: right;\n",
       "    }\n",
       "</style>\n",
       "<table border=\"1\" class=\"dataframe\">\n",
       "  <thead>\n",
       "    <tr style=\"text-align: right;\">\n",
       "      <th></th>\n",
       "      <th>intersection</th>\n",
       "      <th>camera_id</th>\n",
       "      <th>address</th>\n",
       "      <th>violation_date</th>\n",
       "      <th>violations</th>\n",
       "      <th>x_coordinate</th>\n",
       "      <th>y_coordinate</th>\n",
       "      <th>latitude</th>\n",
       "      <th>longitude</th>\n",
       "      <th>location</th>\n",
       "      <th>:@computed_region_awaf_s7ux</th>\n",
       "      <th>:@computed_region_6mkv_f3dw</th>\n",
       "      <th>:@computed_region_vrxf_vc4k</th>\n",
       "      <th>:@computed_region_bdys_3d7i</th>\n",
       "      <th>:@computed_region_43wa_7qmu</th>\n",
       "    </tr>\n",
       "  </thead>\n",
       "  <tbody>\n",
       "    <tr>\n",
       "      <td>0</td>\n",
       "      <td>111TH AND HALSTED</td>\n",
       "      <td>2424</td>\n",
       "      <td>800 W 111TH ST</td>\n",
       "      <td>2020-12-16T00:00:00.000</td>\n",
       "      <td>3</td>\n",
       "      <td>1172945.404219168</td>\n",
       "      <td>1831282.917027882</td>\n",
       "      <td>41.692465363</td>\n",
       "      <td>-87.642440901</td>\n",
       "      <td>{'latitude': '41.692465363421874', 'longitude'...</td>\n",
       "      <td>45</td>\n",
       "      <td>21861</td>\n",
       "      <td>74</td>\n",
       "      <td>315</td>\n",
       "      <td>22</td>\n",
       "    </tr>\n",
       "    <tr>\n",
       "      <td>1</td>\n",
       "      <td>111TH AND HALSTED</td>\n",
       "      <td>2422</td>\n",
       "      <td>11100 S HALSTED ST</td>\n",
       "      <td>2020-12-16T00:00:00.000</td>\n",
       "      <td>13</td>\n",
       "      <td>1172923.657689312</td>\n",
       "      <td>1831209.044179248</td>\n",
       "      <td>41.692263123</td>\n",
       "      <td>-87.642522688</td>\n",
       "      <td>{'latitude': '41.692263123425136', 'longitude'...</td>\n",
       "      <td>45</td>\n",
       "      <td>21861</td>\n",
       "      <td>74</td>\n",
       "      <td>663</td>\n",
       "      <td>22</td>\n",
       "    </tr>\n",
       "    <tr>\n",
       "      <td>2</td>\n",
       "      <td>119TH AND HALSTED</td>\n",
       "      <td>2404</td>\n",
       "      <td>800 W 119TH STREET</td>\n",
       "      <td>2020-12-16T00:00:00.000</td>\n",
       "      <td>8</td>\n",
       "      <td>1173111.174088158</td>\n",
       "      <td>1825985.001014405</td>\n",
       "      <td>41.677923389</td>\n",
       "      <td>-87.641989646</td>\n",
       "      <td>{'latitude': '41.677923389134385', 'longitude'...</td>\n",
       "      <td>45</td>\n",
       "      <td>21861</td>\n",
       "      <td>50</td>\n",
       "      <td>642</td>\n",
       "      <td>22</td>\n",
       "    </tr>\n",
       "    <tr>\n",
       "      <td>3</td>\n",
       "      <td>119TH AND HALSTED</td>\n",
       "      <td>2402</td>\n",
       "      <td>11900 S HALSTED</td>\n",
       "      <td>2020-12-16T00:00:00.000</td>\n",
       "      <td>14</td>\n",
       "      <td>1173094.774616191</td>\n",
       "      <td>1825911.054609338</td>\n",
       "      <td>41.677720829</td>\n",
       "      <td>-87.642051845</td>\n",
       "      <td>{'latitude': '41.67772082924762', 'longitude':...</td>\n",
       "      <td>45</td>\n",
       "      <td>21861</td>\n",
       "      <td>50</td>\n",
       "      <td>662</td>\n",
       "      <td>22</td>\n",
       "    </tr>\n",
       "    <tr>\n",
       "      <td>4</td>\n",
       "      <td>31ST ST AND MARTIN LUTHER KING DRIVE</td>\n",
       "      <td>2121</td>\n",
       "      <td>3100 S DR MARTIN L KING</td>\n",
       "      <td>2020-12-16T00:00:00.000</td>\n",
       "      <td>13</td>\n",
       "      <td>NaN</td>\n",
       "      <td>NaN</td>\n",
       "      <td>NaN</td>\n",
       "      <td>NaN</td>\n",
       "      <td>NaN</td>\n",
       "      <td>NaN</td>\n",
       "      <td>NaN</td>\n",
       "      <td>NaN</td>\n",
       "      <td>NaN</td>\n",
       "      <td>NaN</td>\n",
       "    </tr>\n",
       "  </tbody>\n",
       "</table>\n",
       "</div>"
      ],
      "text/plain": [
       "                           intersection camera_id                  address  \\\n",
       "0                     111TH AND HALSTED      2424           800 W 111TH ST   \n",
       "1                     111TH AND HALSTED      2422       11100 S HALSTED ST   \n",
       "2                     119TH AND HALSTED      2404       800 W 119TH STREET   \n",
       "3                     119TH AND HALSTED      2402          11900 S HALSTED   \n",
       "4  31ST ST AND MARTIN LUTHER KING DRIVE      2121  3100 S DR MARTIN L KING   \n",
       "\n",
       "            violation_date violations       x_coordinate       y_coordinate  \\\n",
       "0  2020-12-16T00:00:00.000          3  1172945.404219168  1831282.917027882   \n",
       "1  2020-12-16T00:00:00.000         13  1172923.657689312  1831209.044179248   \n",
       "2  2020-12-16T00:00:00.000          8  1173111.174088158  1825985.001014405   \n",
       "3  2020-12-16T00:00:00.000         14  1173094.774616191  1825911.054609338   \n",
       "4  2020-12-16T00:00:00.000         13                NaN                NaN   \n",
       "\n",
       "       latitude      longitude  \\\n",
       "0  41.692465363  -87.642440901   \n",
       "1  41.692263123  -87.642522688   \n",
       "2  41.677923389  -87.641989646   \n",
       "3  41.677720829  -87.642051845   \n",
       "4           NaN            NaN   \n",
       "\n",
       "                                            location  \\\n",
       "0  {'latitude': '41.692465363421874', 'longitude'...   \n",
       "1  {'latitude': '41.692263123425136', 'longitude'...   \n",
       "2  {'latitude': '41.677923389134385', 'longitude'...   \n",
       "3  {'latitude': '41.67772082924762', 'longitude':...   \n",
       "4                                                NaN   \n",
       "\n",
       "  :@computed_region_awaf_s7ux :@computed_region_6mkv_f3dw  \\\n",
       "0                          45                       21861   \n",
       "1                          45                       21861   \n",
       "2                          45                       21861   \n",
       "3                          45                       21861   \n",
       "4                         NaN                         NaN   \n",
       "\n",
       "  :@computed_region_vrxf_vc4k :@computed_region_bdys_3d7i  \\\n",
       "0                          74                         315   \n",
       "1                          74                         663   \n",
       "2                          50                         642   \n",
       "3                          50                         662   \n",
       "4                         NaN                         NaN   \n",
       "\n",
       "  :@computed_region_43wa_7qmu  \n",
       "0                          22  \n",
       "1                          22  \n",
       "2                          22  \n",
       "3                          22  \n",
       "4                         NaN  "
      ]
     },
     "execution_count": 172,
     "metadata": {},
     "output_type": "execute_result"
    }
   ],
   "source": [
    "# Convert to pandas DataFrame\n",
    "results_df = pd.DataFrame.from_records(data)\n",
    "results_df.head()"
   ]
  },
  {
   "cell_type": "code",
   "execution_count": 173,
   "metadata": {},
   "outputs": [
    {
     "name": "stdout",
     "output_type": "stream",
     "text": [
      "<class 'pandas.core.frame.DataFrame'>\n",
      "RangeIndex: 100 entries, 0 to 99\n",
      "Data columns (total 10 columns):\n",
      "intersection      100 non-null object\n",
      "camera_id         100 non-null int64\n",
      "address           100 non-null object\n",
      "violation_date    100 non-null object\n",
      "violations        100 non-null object\n",
      "x_coordinate      98 non-null float64\n",
      "y_coordinate      98 non-null float64\n",
      "latitude          98 non-null float64\n",
      "longitude         98 non-null float64\n",
      "location          100 non-null object\n",
      "dtypes: float64(4), int64(1), object(5)\n",
      "memory usage: 7.9+ KB\n"
     ]
    }
   ],
   "source": [
    "# pare down the df to make suitable as db.  Remember only  allowable types TEXT.NUMERIC.INTEGER.REAL.BLOB.\n",
    "valid_cols = results_df.columns[:10]\n",
    "results_df = results_df[valid_cols]\n",
    "\n",
    "# coerce my data types\n",
    "results_df['camera_id'] = results_df['camera_id'].apply(int)\n",
    "results_df['x_coordinate'] = results_df['x_coordinate'].apply(float)\n",
    "results_df['y_coordinate'] = results_df['y_coordinate'].apply(float)\n",
    "results_df['latitude'] = results_df['latitude'].apply(float)\n",
    "results_df['longitude'] = results_df['longitude'].apply(float)\n",
    "results_df['location'] = results_df['location'].apply(str)\n",
    "\n",
    "\n",
    "results_df.head()\n",
    "results_df.info()"
   ]
  },
  {
   "cell_type": "markdown",
   "metadata": {},
   "source": [
    "## create a table if it doesn't exist"
   ]
  },
  {
   "cell_type": "code",
   "execution_count": 229,
   "metadata": {},
   "outputs": [],
   "source": [
    "d_types = ['text',\n",
    "         'integer',\n",
    "         'text',\n",
    "         'text',\n",
    "         'integer',\n",
    "         'real',\n",
    "         'real',\n",
    "         'real',\n",
    "         'real',\n",
    "         'text']\n",
    "\n",
    "\n",
    "\n",
    "#create_text = 'CREATE TABLE VIOLATIONS ({}, {}, {}, {}, {}, {}, {}, {}, {} ,{})'.format(*insert_values)"
   ]
  },
  {
   "cell_type": "markdown",
   "metadata": {},
   "source": [
    "## write data from query to sqlite db"
   ]
  },
  {
   "cell_type": "code",
   "execution_count": 238,
   "metadata": {},
   "outputs": [],
   "source": [
    "# def create_table(c, mytable, cols):\n",
    "#     print('anything')\n",
    "#     try:\n",
    "#         cols_str = \"(\"\n",
    "#         print(cols_str)\n",
    "        \n",
    "#         for col in cols: \n",
    "#             cols_str += col + ','\n",
    "#         else:\n",
    "#             cols_str += ')'\n",
    "        \n",
    "#         print(cols_str)\n",
    "#         print(\"CREATE TABLE {} {}\".format(mytable, cols)\n",
    "#         #c.execute(\"CREATE TABLE {} {}\".format(mytable, cols)\n",
    "#         #conn.commit()\n",
    "#     except:\n",
    "#         print('Failed to add', mytable)\n",
    "#         pass\n",
    "\n",
    "def create_table(c, mytable, cols, d_type):\n",
    "    \n",
    "    # make my columns into sql string compatible\n",
    "    cols_str = \"(\"\n",
    "    for i in range(len(cols)):\n",
    "        cols_str += cols[i] + ' ' + d_type[i] + ', '\n",
    "    else:\n",
    "        cols_str = cols_str[:-2] + ')'\n",
    "    \n",
    "    my_sql = \"CREATE TABLE {} {}\".format(mytable, cols_str)\n",
    "    print(my_sql) \n",
    "    \n",
    "    try:     \n",
    "        c.execute(my_sql)           \n",
    "    except Exception as e:\n",
    "        print('fail', e)\n",
    "        \n",
    "\n",
    "def insert_violation(c, col_names, new_data):\n",
    "    \"\"\"\n",
    "    Create a new task\n",
    "    :param conn:\n",
    "    :param new_data:\n",
    "    :return:\n",
    "    \"\"\"\n",
    "    \n",
    "    vals = ('('+'?,'*len(new_data))[:-1]+')'\n",
    "    cols = str(tuple([x for x in col_names])).replace(' ', '').replace(\"'\", \"\").replace(',', ', ')\n",
    "    sql = '''INSERT INTO violations{}VALUES{}'''.format(cols, vals)\n",
    "    # example from sql site \n",
    "    # sql = ''' INSERT INTO tasks(name,priority,status_id,project_id,begin_date,end_date)VALUES(?,?,?,?,?,?) '''\n",
    "    \n",
    "    #print(sql)\n",
    "    #print(tuple(new_data))\n",
    "    c.execute(sql, new_data)\n",
    "\n",
    "    return c.lastrowid\n",
    "\n",
    "\n",
    "# only do this once\n",
    "#create_table(c, 'violations', results_df.columns, d_types)\n",
    "#conn.commit()\n",
    "\n",
    "insert_violation(c, results_df.columns, results_df.iloc[1, :])\n",
    "conn.commit()\n",
    "\n",
    "\n",
    "#c.execute('CREATE TABLE CARS (Brand text, Price number)')   # this is example from sqlite website\n",
    "#c.execute(create_text)\n",
    "#conn.commit()\n"
   ]
  },
  {
   "cell_type": "code",
   "execution_count": 239,
   "metadata": {},
   "outputs": [
    {
     "name": "stdout",
     "output_type": "stream",
     "text": [
      "[('violations',)]\n"
     ]
    }
   ],
   "source": [
    "def sql_fetch(c):\n",
    "    c.execute('SELECT name from sqlite_master where type= \"table\"')\n",
    "    print(c.fetchall())\n",
    "\n",
    "sql_fetch(c)"
   ]
  },
  {
   "cell_type": "markdown",
   "metadata": {},
   "source": [
    "## Now let's see if our write to db worked as expected"
   ]
  },
  {
   "cell_type": "code",
   "execution_count": 241,
   "metadata": {},
   "outputs": [
    {
     "name": "stdout",
     "output_type": "stream",
     "text": [
      "[('111TH AND HALSTED',), ('111TH AND HALSTED',)]\n"
     ]
    }
   ],
   "source": [
    "c.execute(\"SELECT intersection FROM violations;\")\n",
    "print(c.fetchall())"
   ]
  },
  {
   "cell_type": "code",
   "execution_count": 242,
   "metadata": {},
   "outputs": [],
   "source": [
    "conn.close()"
   ]
  },
  {
   "cell_type": "code",
   "execution_count": 243,
   "metadata": {},
   "outputs": [
    {
     "data": {
      "text/plain": [
       "<sqlite3.Connection at 0x7f96eacf6730>"
      ]
     },
     "execution_count": 243,
     "metadata": {},
     "output_type": "execute_result"
    }
   ],
   "source": [
    "conn"
   ]
  },
  {
   "cell_type": "code",
   "execution_count": null,
   "metadata": {},
   "outputs": [],
   "source": []
  }
 ],
 "metadata": {
  "kernelspec": {
   "display_name": "learn-env",
   "language": "python",
   "name": "learn-env"
  },
  "language_info": {
   "codemirror_mode": {
    "name": "ipython",
    "version": 3
   },
   "file_extension": ".py",
   "mimetype": "text/x-python",
   "name": "python",
   "nbconvert_exporter": "python",
   "pygments_lexer": "ipython3",
   "version": "3.6.9"
  }
 },
 "nbformat": 4,
 "nbformat_minor": 4
}
