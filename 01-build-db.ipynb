{
 "cells": [
  {
   "cell_type": "markdown",
   "metadata": {},
   "source": [
    "# Building a SQL database\n",
    "This notebook builds the necessary db files for the project using SQLite3.\n",
    "\n",
    "Most data is taken from Chicago Data Portal https://data.cityofchicago.org/ using Socrata library.\n",
    "The API endpoints for the data are:\n",
    "- Red Light Violations: https://data.cityofchicago.org/resource/spqx-js37.json\n",
    "- Congestion by Region 2018-Present: https://data.cityofchicago.org/resource/kf7e-cur8.json\n",
    "- Congestion by Region 2013-2018: https://data.cityofchicago.org/resource/emtn-qqdi.json\n",
    "- Traffic Crashes: https://data.cityofchicago.org/resource/85ca-t3if.json\n",
    "\n",
    "Weather data is taken from https://openweathermap.org/weather-data and is saved as csv in data folder\n",
    "\n",
    "Tables to build:\n",
    "- daily_violations (one entry for each camera each day with total violations)\n",
    "- intersection_locations (one entry for each intersection with lat/long)\n",
    "- intersection_cams (one entry for each intersection with camera_ids)\n",
    "- signal_crashes (one entry for each intersection crash with many columns)\n",
    "- cam_locations (one entry for each cam, with lat/long)\n",
    "- cam_startend (one entry for each cam with start end dates for min/max dates active)\n",
    "- hourly_congestion (one entry per hour with bus speed averages for each region)\n",
    "- hourly_weather (one entry per hour with many weather cols)\n",
    "- region_data (one entry per region with locations and descriptions to place intersections)\n"
   ]
  },
  {
   "cell_type": "markdown",
   "metadata": {},
   "source": [
    "## Required Imports"
   ]
  },
  {
   "cell_type": "raw",
   "metadata": {},
   "source": [
    "#!pip install \"dask[complete]\"\n",
    "# from dask.distributed import Client, progress\n",
    "# client = Client(n_workers=2, threads_per_worker=2, memory_limit='1GB')\n",
    "# client"
   ]
  },
  {
   "cell_type": "code",
   "execution_count": 93,
   "metadata": {},
   "outputs": [],
   "source": [
    "import pandas as pd\n",
    "from sodapy import Socrata\n",
    "#import matplotlib.pyplot as plt\n",
    "from datetime import datetime\n",
    "from modules.myfuncs import *\n",
    "import warnings\n",
    "import numpy as np\n",
    "from geopy.geocoders import Nominatim\n",
    "# import dask\n",
    "# import dask.dataframe as dd\n",
    "import gc\n",
    "from scipy.stats import mode\n",
    "\n",
    "warnings.filterwarnings('ignore')"
   ]
  },
  {
   "cell_type": "markdown",
   "metadata": {},
   "source": [
    "## Create/connect to db and build the TABLEs"
   ]
  },
  {
   "cell_type": "code",
   "execution_count": 94,
   "metadata": {},
   "outputs": [
    {
     "name": "stdout",
     "output_type": "stream",
     "text": [
      "sqlite3 version: 2.6.0\n",
      "connected to database/rlc2.db\n"
     ]
    }
   ],
   "source": [
    "# Create a db file or open connection\n",
    "conn = create_connection('database/rlc2.db')  # function I created in myfuncs file\n",
    "c = conn.cursor()\n",
    "#conn.close()"
   ]
  },
  {
   "cell_type": "markdown",
   "metadata": {},
   "source": [
    "## Set up the Socrata client\n",
    "The Chicago Data Portal, which contains most of my data used in this project, uses the Socrata software which can be accessed through Python's sodapy library.\n",
    "Here we create a client, which we will use to query the data at the portal.\n"
   ]
  },
  {
   "cell_type": "code",
   "execution_count": 3,
   "metadata": {},
   "outputs": [
    {
     "name": "stderr",
     "output_type": "stream",
     "text": [
      "WARNING:root:Requests made without an app_token will be subject to strict throttling limits.\n"
     ]
    }
   ],
   "source": [
    "# Unauthenticated client only works with public data sets. Note 'None'\n",
    "# in place of application token, and no username or password:\n",
    "\n",
    "url = \"data.cityofchicago.org\"\n",
    "client = Socrata(url, None)\n",
    "\n",
    "# Example authenticated client (needed for non-public datasets):\n",
    "# client = Socrata(data.cityofchicago.org,\n",
    "#                  MyAppToken,\n",
    "#                  userame=\"user@example.com\",\n",
    "#                  password=\"AFakePassword\")"
   ]
  },
  {
   "cell_type": "markdown",
   "metadata": {},
   "source": [
    "# TABLE builds\n",
    "\n",
    "For every TABLE\n",
    "- Use a Socrata client query to get all relevant data\n",
    "- Preprocess data as needed\n",
    "- Create Table\n",
    "\n",
    "Our data\n",
    "- rlc_cam is up to 1M redlight cams from 2015 to 2020\n",
    "- crash_data is up to 1M crashes from 2015 to 2020\n",
    "- traffic_data is up to 10M from 2015 to 2020\n",
    "\n",
    "Weather data is taken from csv in data folder"
   ]
  },
  {
   "cell_type": "markdown",
   "metadata": {},
   "source": [
    "## 1) Build intersection_chars TABLE from int_df\n",
    "\n",
    "This data is created by me.  It is a dictionary contained in this repository under the file 'int_chars.py'.\n",
    "\n",
    "To create this file, I went through all 180+ intersections with red light cameras.  I cross referenced it with a map at https://data.cityofchicago.org/Transportation/Average-Daily-Traffic-Counts-Map/pf56-35rv and google maps to compile the following data.\n",
    "\n",
    "- roads (list): of road segments as identified in average-daily-traffic-counts db in link above.  Used to determine volume of traffic.\n",
    "- protected_turn (int): How any of the left turns are protected (left turn arrow).\n",
    "- total_lanes (int): Count of total lanes.  If a road has one lane for all directions N/E/S/W bound traffic, that counts as 4.  Rangees from 3 to 14 lanes.\n",
    "- medians (int): Count of physical median barriers that extend up to intersection.\n",
    "- exit (int): 0 if no exit.  1 if exit on/off ramp within 100m of center of intersection.  Traffic flow is affected by proximity to exit.\n",
    "- split (int): 1 if it is a divided boulevard (common in Chicago) where divided lanes are split by traffic signals in median. Look at examples on google map.\n",
    "- way (int): directions of traffic flow. A 4 way intersection might be NESW.\n",
    "- underpass (int): number of ways that have an underpass extending up to the intersection.  These are notoriously bad intersections in Chicago.\n",
    "- no_left (int): number of no left turn signs.  Usually with smaller streets onto larger roads or high volumne intersections.\n",
    "- angled (int): 1 if angle between two 2way roads is greater than 30 degrees (used 1/2/sqrt(3) rule to measure.\n",
    "- triangle (int): 1 if three 2way roads meet intersect or form a triangle where all 3 roads <50m\n",
    "- one_way (int): number of 1 way directions.\n",
    "- turn_lanes (int): how many directions have physical and identified turn lanes for left hand turns.\n",
    "- lat (float): latitude of center of inersection.  \n",
    "- long (float): longitude \n",
    "- rlc (int): 1 for red light camera is present\n",
    "- intersection (str): name of intersection as defined in signal_crashes table in db\n",
    "- daily_traffic (int): volume of daily traffic through intersection.  Sum of incoming roads from roads list."
   ]
  },
  {
   "cell_type": "markdown",
   "metadata": {},
   "source": [
    "### Import the dictionary and convert to DataFrame which will be written as Table in my db"
   ]
  },
  {
   "cell_type": "code",
   "execution_count": 4,
   "metadata": {},
   "outputs": [
    {
     "data": {
      "text/plain": [
       "roads             0\n",
       "protected_turn    0\n",
       "total_lanes       0\n",
       "medians           0\n",
       "exit              0\n",
       "split             0\n",
       "way               0\n",
       "underpass         0\n",
       "no_left           0\n",
       "angled            0\n",
       "triangle          0\n",
       "one_way           0\n",
       "turn_lanes        0\n",
       "lat               0\n",
       "long              0\n",
       "rlc               0\n",
       "intersection      0\n",
       "dtype: int64"
      ]
     },
     "execution_count": 4,
     "metadata": {},
     "output_type": "execute_result"
    }
   ],
   "source": [
    "from modules.int_chars import *\n",
    "import pandas as pd\n",
    "\n",
    "int_chars.keys()\n",
    "int_df = pd.DataFrame.from_dict(int_chars, orient='index')\n",
    "int_df['intersection'] = int_chars.keys()\n",
    "int_df.isna().sum()"
   ]
  },
  {
   "cell_type": "markdown",
   "metadata": {},
   "source": [
    "For now, we will only use intersections with rlc of 1.  I may later add intersections without rlc to identify crash characterisics."
   ]
  },
  {
   "cell_type": "code",
   "execution_count": 5,
   "metadata": {},
   "outputs": [
    {
     "data": {
      "text/plain": [
       "Index(['roads', 'protected_turn', 'total_lanes', 'medians', 'exit', 'split',\n",
       "       'way', 'underpass', 'no_left', 'angled', 'triangle', 'one_way',\n",
       "       'turn_lanes', 'lat', 'long', 'rlc', 'intersection'],\n",
       "      dtype='object')"
      ]
     },
     "execution_count": 5,
     "metadata": {},
     "output_type": "execute_result"
    }
   ],
   "source": [
    "int_df = int_df[int_df['rlc']==1]\n",
    "int_df.columns"
   ]
  },
  {
   "cell_type": "markdown",
   "metadata": {},
   "source": [
    "They were read in as non_null objects.  Would like to cast them before creating a table"
   ]
  },
  {
   "cell_type": "code",
   "execution_count": 6,
   "metadata": {},
   "outputs": [
    {
     "name": "stdout",
     "output_type": "stream",
     "text": [
      "<class 'pandas.core.frame.DataFrame'>\n",
      "Index: 183 entries, 111TH AND HALSTED to WESTERN AND TOUHY\n",
      "Data columns (total 17 columns):\n",
      "roads             183 non-null object\n",
      "protected_turn    183 non-null int64\n",
      "total_lanes       183 non-null int64\n",
      "medians           183 non-null int64\n",
      "exit              183 non-null int64\n",
      "split             183 non-null int64\n",
      "way               183 non-null int64\n",
      "underpass         183 non-null int64\n",
      "no_left           183 non-null int64\n",
      "angled            183 non-null int64\n",
      "triangle          183 non-null int64\n",
      "one_way           183 non-null int64\n",
      "turn_lanes        183 non-null int64\n",
      "lat               183 non-null float64\n",
      "long              183 non-null float64\n",
      "rlc               183 non-null int64\n",
      "intersection      183 non-null object\n",
      "dtypes: float64(2), int64(13), object(2)\n",
      "memory usage: 25.7+ KB\n"
     ]
    }
   ],
   "source": [
    "cols_toint = ['protected_turn', 'total_lanes', 'medians', 'exit', 'split',\n",
    "       'way', 'underpass', 'no_left', 'angled', 'triangle', 'one_way',\n",
    "       'turn_lanes', 'rlc']\n",
    "cols_tofloat = ['lat', 'long',]\n",
    "\n",
    "int_df[cols_toint] = int_df[cols_toint].astype(int)\n",
    "int_df[cols_tofloat] = int_df[cols_tofloat].astype(float)\n",
    "int_df.info()"
   ]
  },
  {
   "cell_type": "code",
   "execution_count": 7,
   "metadata": {},
   "outputs": [
    {
     "data": {
      "text/html": [
       "<div>\n",
       "<style scoped>\n",
       "    .dataframe tbody tr th:only-of-type {\n",
       "        vertical-align: middle;\n",
       "    }\n",
       "\n",
       "    .dataframe tbody tr th {\n",
       "        vertical-align: top;\n",
       "    }\n",
       "\n",
       "    .dataframe thead th {\n",
       "        text-align: right;\n",
       "    }\n",
       "</style>\n",
       "<table border=\"1\" class=\"dataframe\">\n",
       "  <thead>\n",
       "    <tr style=\"text-align: right;\">\n",
       "      <th></th>\n",
       "      <th>roads</th>\n",
       "      <th>protected_turn</th>\n",
       "      <th>total_lanes</th>\n",
       "      <th>medians</th>\n",
       "      <th>exit</th>\n",
       "      <th>split</th>\n",
       "      <th>way</th>\n",
       "      <th>underpass</th>\n",
       "      <th>no_left</th>\n",
       "      <th>angled</th>\n",
       "      <th>triangle</th>\n",
       "      <th>one_way</th>\n",
       "      <th>turn_lanes</th>\n",
       "      <th>lat</th>\n",
       "      <th>long</th>\n",
       "      <th>rlc</th>\n",
       "      <th>intersection</th>\n",
       "    </tr>\n",
       "  </thead>\n",
       "  <tbody>\n",
       "    <tr>\n",
       "      <td>111TH AND HALSTED</td>\n",
       "      <td>[28 West, 11600 South]</td>\n",
       "      <td>2</td>\n",
       "      <td>6</td>\n",
       "      <td>2</td>\n",
       "      <td>0</td>\n",
       "      <td>0</td>\n",
       "      <td>4</td>\n",
       "      <td>0</td>\n",
       "      <td>0</td>\n",
       "      <td>1</td>\n",
       "      <td>0</td>\n",
       "      <td>0</td>\n",
       "      <td>2</td>\n",
       "      <td>41.692362</td>\n",
       "      <td>-87.642423</td>\n",
       "      <td>1</td>\n",
       "      <td>111TH AND HALSTED</td>\n",
       "    </tr>\n",
       "    <tr>\n",
       "      <td>115TH AND HALSTED</td>\n",
       "      <td>[714 West, 11600 South]</td>\n",
       "      <td>4</td>\n",
       "      <td>6</td>\n",
       "      <td>2</td>\n",
       "      <td>0</td>\n",
       "      <td>0</td>\n",
       "      <td>4</td>\n",
       "      <td>0</td>\n",
       "      <td>0</td>\n",
       "      <td>0</td>\n",
       "      <td>0</td>\n",
       "      <td>0</td>\n",
       "      <td>4</td>\n",
       "      <td>41.685089</td>\n",
       "      <td>-87.642094</td>\n",
       "      <td>1</td>\n",
       "      <td>115TH AND HALSTED</td>\n",
       "    </tr>\n",
       "    <tr>\n",
       "      <td>119TH AND HALSTED</td>\n",
       "      <td>[446 West, 11600 South]</td>\n",
       "      <td>4</td>\n",
       "      <td>6</td>\n",
       "      <td>2</td>\n",
       "      <td>0</td>\n",
       "      <td>0</td>\n",
       "      <td>4</td>\n",
       "      <td>0</td>\n",
       "      <td>0</td>\n",
       "      <td>0</td>\n",
       "      <td>0</td>\n",
       "      <td>0</td>\n",
       "      <td>4</td>\n",
       "      <td>41.677774</td>\n",
       "      <td>-87.641930</td>\n",
       "      <td>1</td>\n",
       "      <td>119TH AND HALSTED</td>\n",
       "    </tr>\n",
       "    <tr>\n",
       "      <td>31ST AND CALIFORNIA</td>\n",
       "      <td>[2825 West, 3026 South]</td>\n",
       "      <td>2</td>\n",
       "      <td>6</td>\n",
       "      <td>0</td>\n",
       "      <td>0</td>\n",
       "      <td>0</td>\n",
       "      <td>4</td>\n",
       "      <td>0</td>\n",
       "      <td>0</td>\n",
       "      <td>0</td>\n",
       "      <td>0</td>\n",
       "      <td>0</td>\n",
       "      <td>4</td>\n",
       "      <td>41.837424</td>\n",
       "      <td>-87.695022</td>\n",
       "      <td>1</td>\n",
       "      <td>31ST AND CALIFORNIA</td>\n",
       "    </tr>\n",
       "    <tr>\n",
       "      <td>31ST ST AND MARTIN LUTHER KING DRIVE</td>\n",
       "      <td>[440 East, 3030 South]</td>\n",
       "      <td>2</td>\n",
       "      <td>10</td>\n",
       "      <td>2</td>\n",
       "      <td>0</td>\n",
       "      <td>1</td>\n",
       "      <td>4</td>\n",
       "      <td>0</td>\n",
       "      <td>2</td>\n",
       "      <td>0</td>\n",
       "      <td>0</td>\n",
       "      <td>0</td>\n",
       "      <td>0</td>\n",
       "      <td>41.838441</td>\n",
       "      <td>-87.617338</td>\n",
       "      <td>1</td>\n",
       "      <td>31ST ST AND MARTIN LUTHER KING DRIVE</td>\n",
       "    </tr>\n",
       "  </tbody>\n",
       "</table>\n",
       "</div>"
      ],
      "text/plain": [
       "                                                        roads  protected_turn  \\\n",
       "111TH AND HALSTED                      [28 West, 11600 South]               2   \n",
       "115TH AND HALSTED                     [714 West, 11600 South]               4   \n",
       "119TH AND HALSTED                     [446 West, 11600 South]               4   \n",
       "31ST AND CALIFORNIA                   [2825 West, 3026 South]               2   \n",
       "31ST ST AND MARTIN LUTHER KING DRIVE   [440 East, 3030 South]               2   \n",
       "\n",
       "                                      total_lanes  medians  exit  split  way  \\\n",
       "111TH AND HALSTED                               6        2     0      0    4   \n",
       "115TH AND HALSTED                               6        2     0      0    4   \n",
       "119TH AND HALSTED                               6        2     0      0    4   \n",
       "31ST AND CALIFORNIA                             6        0     0      0    4   \n",
       "31ST ST AND MARTIN LUTHER KING DRIVE           10        2     0      1    4   \n",
       "\n",
       "                                      underpass  no_left  angled  triangle  \\\n",
       "111TH AND HALSTED                             0        0       1         0   \n",
       "115TH AND HALSTED                             0        0       0         0   \n",
       "119TH AND HALSTED                             0        0       0         0   \n",
       "31ST AND CALIFORNIA                           0        0       0         0   \n",
       "31ST ST AND MARTIN LUTHER KING DRIVE          0        2       0         0   \n",
       "\n",
       "                                      one_way  turn_lanes        lat  \\\n",
       "111TH AND HALSTED                           0           2  41.692362   \n",
       "115TH AND HALSTED                           0           4  41.685089   \n",
       "119TH AND HALSTED                           0           4  41.677774   \n",
       "31ST AND CALIFORNIA                         0           4  41.837424   \n",
       "31ST ST AND MARTIN LUTHER KING DRIVE        0           0  41.838441   \n",
       "\n",
       "                                           long  rlc  \\\n",
       "111TH AND HALSTED                    -87.642423    1   \n",
       "115TH AND HALSTED                    -87.642094    1   \n",
       "119TH AND HALSTED                    -87.641930    1   \n",
       "31ST AND CALIFORNIA                  -87.695022    1   \n",
       "31ST ST AND MARTIN LUTHER KING DRIVE -87.617338    1   \n",
       "\n",
       "                                                              intersection  \n",
       "111TH AND HALSTED                                        111TH AND HALSTED  \n",
       "115TH AND HALSTED                                        115TH AND HALSTED  \n",
       "119TH AND HALSTED                                        119TH AND HALSTED  \n",
       "31ST AND CALIFORNIA                                    31ST AND CALIFORNIA  \n",
       "31ST ST AND MARTIN LUTHER KING DRIVE  31ST ST AND MARTIN LUTHER KING DRIVE  "
      ]
     },
     "execution_count": 7,
     "metadata": {},
     "output_type": "execute_result"
    }
   ],
   "source": [
    "int_df.head()"
   ]
  },
  {
   "cell_type": "markdown",
   "metadata": {},
   "source": [
    "#### Now bring in my count information using my roads list associated with each intersection"
   ]
  },
  {
   "cell_type": "code",
   "execution_count": 8,
   "metadata": {},
   "outputs": [],
   "source": [
    "daily_traffic = client.get(\"pfsx-4n4m\", \n",
    "                     limit=2000,\n",
    "                    )\n",
    "\n",
    "daily_traffic = pd.DataFrame.from_records(daily_traffic) # Convert to pandas DataFrame"
   ]
  },
  {
   "cell_type": "code",
   "execution_count": 9,
   "metadata": {},
   "outputs": [
    {
     "name": "stdout",
     "output_type": "stream",
     "text": [
      "<class 'pandas.core.frame.DataFrame'>\n",
      "RangeIndex: 1279 entries, 0 to 1278\n",
      "Data columns (total 15 columns):\n",
      "id                                             1279 non-null object\n",
      "traffic_volume_count_location_address          1279 non-null object\n",
      "street                                         1279 non-null object\n",
      "date_of_count                                  1279 non-null object\n",
      "total_passing_vehicle_volume                   1279 non-null object\n",
      "vehicle_volume_by_each_direction_of_traffic    1279 non-null object\n",
      "latitude                                       1279 non-null object\n",
      "longitude                                      1279 non-null object\n",
      "location                                       1279 non-null object\n",
      ":@computed_region_rpca_8um6                    1266 non-null object\n",
      ":@computed_region_vrxf_vc4k                    1266 non-null object\n",
      ":@computed_region_6mkv_f3dw                    1279 non-null object\n",
      ":@computed_region_bdys_3d7i                    1265 non-null object\n",
      ":@computed_region_43wa_7qmu                    1266 non-null object\n",
      ":@computed_region_awaf_s7ux                    1266 non-null object\n",
      "dtypes: object(15)\n",
      "memory usage: 150.0+ KB\n"
     ]
    },
    {
     "data": {
      "text/html": [
       "<div>\n",
       "<style scoped>\n",
       "    .dataframe tbody tr th:only-of-type {\n",
       "        vertical-align: middle;\n",
       "    }\n",
       "\n",
       "    .dataframe tbody tr th {\n",
       "        vertical-align: top;\n",
       "    }\n",
       "\n",
       "    .dataframe thead th {\n",
       "        text-align: right;\n",
       "    }\n",
       "</style>\n",
       "<table border=\"1\" class=\"dataframe\">\n",
       "  <thead>\n",
       "    <tr style=\"text-align: right;\">\n",
       "      <th></th>\n",
       "      <th>traffic_volume_count_location_address</th>\n",
       "      <th>total_passing_vehicle_volume</th>\n",
       "    </tr>\n",
       "  </thead>\n",
       "  <tbody>\n",
       "    <tr>\n",
       "      <td>0</td>\n",
       "      <td>5838 West</td>\n",
       "      <td>7100</td>\n",
       "    </tr>\n",
       "    <tr>\n",
       "      <td>1</td>\n",
       "      <td>320 East</td>\n",
       "      <td>8600</td>\n",
       "    </tr>\n",
       "    <tr>\n",
       "      <td>2</td>\n",
       "      <td>1730 East</td>\n",
       "      <td>53500</td>\n",
       "    </tr>\n",
       "    <tr>\n",
       "      <td>3</td>\n",
       "      <td>125 East</td>\n",
       "      <td>700</td>\n",
       "    </tr>\n",
       "    <tr>\n",
       "      <td>4</td>\n",
       "      <td>2924 East</td>\n",
       "      <td>4200</td>\n",
       "    </tr>\n",
       "  </tbody>\n",
       "</table>\n",
       "</div>"
      ],
      "text/plain": [
       "  traffic_volume_count_location_address total_passing_vehicle_volume\n",
       "0                             5838 West                         7100\n",
       "1                              320 East                         8600\n",
       "2                             1730 East                        53500\n",
       "3                              125 East                          700\n",
       "4                             2924 East                         4200"
      ]
     },
     "execution_count": 9,
     "metadata": {},
     "output_type": "execute_result"
    }
   ],
   "source": [
    "daily_traffic.info()\n",
    "cols_tokeep = ['traffic_volume_count_location_address', 'total_passing_vehicle_volume',]\n",
    "daily_traffic = daily_traffic[cols_tokeep]\n",
    "\n",
    "daily_traffic.head()\n"
   ]
  },
  {
   "cell_type": "code",
   "execution_count": 10,
   "metadata": {},
   "outputs": [
    {
     "name": "stdout",
     "output_type": "stream",
     "text": [
      "<class 'pandas.core.frame.DataFrame'>\n",
      "RangeIndex: 1279 entries, 0 to 1278\n",
      "Data columns (total 2 columns):\n",
      "traffic_volume_count_location_address    1279 non-null object\n",
      "total_passing_vehicle_volume             1279 non-null int64\n",
      "dtypes: int64(1), object(1)\n",
      "memory usage: 20.1+ KB\n"
     ]
    }
   ],
   "source": [
    "daily_traffic.total_passing_vehicle_volume = daily_traffic.total_passing_vehicle_volume.astype(int)\n",
    "\n",
    "daily_traffic.info()"
   ]
  },
  {
   "cell_type": "markdown",
   "metadata": {},
   "source": [
    "Combine my characteristics with my daily_traffic by looking up traffic volume from daily_traffic df."
   ]
  },
  {
   "cell_type": "code",
   "execution_count": 11,
   "metadata": {},
   "outputs": [
    {
     "data": {
      "text/plain": [
       "111TH AND HALSTED                        [28 West, 11600 South]\n",
       "115TH AND HALSTED                       [714 West, 11600 South]\n",
       "119TH AND HALSTED                       [446 West, 11600 South]\n",
       "31ST AND CALIFORNIA                     [2825 West, 3026 South]\n",
       "31ST ST AND MARTIN LUTHER KING DRIVE     [440 East, 3030 South]\n",
       "Name: roads, dtype: object"
      ]
     },
     "execution_count": 11,
     "metadata": {},
     "output_type": "execute_result"
    }
   ],
   "source": [
    "int_df.roads.head()"
   ]
  },
  {
   "cell_type": "code",
   "execution_count": 12,
   "metadata": {},
   "outputs": [],
   "source": [
    "def look_up_roads(road_list):\n",
    "    '''\n",
    "    Look up function to get the values and return the total\n",
    "            Parameters:\n",
    "                roads (list): road segment list for intersection\n",
    "            Returns:\n",
    "                total (int): combined traffic volume of every road in roads list.\n",
    "    '''\n",
    "    total = 0  \n",
    "    for road in road_list:\n",
    "        count = daily_traffic[daily_traffic['traffic_volume_count_location_address']==road]['total_passing_vehicle_volume'].values[0]\n",
    "        total += count\n",
    "    return total\n",
    "\n",
    "int_df['daily_traffic'] = int_df['roads'].apply(look_up_roads)\n",
    "int_df.drop(columns=['roads'], inplace=True)"
   ]
  },
  {
   "cell_type": "code",
   "execution_count": 13,
   "metadata": {},
   "outputs": [
    {
     "data": {
      "text/html": [
       "<div>\n",
       "<style scoped>\n",
       "    .dataframe tbody tr th:only-of-type {\n",
       "        vertical-align: middle;\n",
       "    }\n",
       "\n",
       "    .dataframe tbody tr th {\n",
       "        vertical-align: top;\n",
       "    }\n",
       "\n",
       "    .dataframe thead th {\n",
       "        text-align: right;\n",
       "    }\n",
       "</style>\n",
       "<table border=\"1\" class=\"dataframe\">\n",
       "  <thead>\n",
       "    <tr style=\"text-align: right;\">\n",
       "      <th></th>\n",
       "      <th>protected_turn</th>\n",
       "      <th>total_lanes</th>\n",
       "      <th>medians</th>\n",
       "      <th>exit</th>\n",
       "      <th>split</th>\n",
       "      <th>way</th>\n",
       "      <th>underpass</th>\n",
       "      <th>no_left</th>\n",
       "      <th>angled</th>\n",
       "      <th>triangle</th>\n",
       "      <th>one_way</th>\n",
       "      <th>turn_lanes</th>\n",
       "      <th>lat</th>\n",
       "      <th>long</th>\n",
       "      <th>rlc</th>\n",
       "      <th>intersection</th>\n",
       "      <th>daily_traffic</th>\n",
       "    </tr>\n",
       "  </thead>\n",
       "  <tbody>\n",
       "    <tr>\n",
       "      <td>111TH AND HALSTED</td>\n",
       "      <td>2</td>\n",
       "      <td>6</td>\n",
       "      <td>2</td>\n",
       "      <td>0</td>\n",
       "      <td>0</td>\n",
       "      <td>4</td>\n",
       "      <td>0</td>\n",
       "      <td>0</td>\n",
       "      <td>1</td>\n",
       "      <td>0</td>\n",
       "      <td>0</td>\n",
       "      <td>2</td>\n",
       "      <td>41.692362</td>\n",
       "      <td>-87.642423</td>\n",
       "      <td>1</td>\n",
       "      <td>111TH AND HALSTED</td>\n",
       "      <td>43100</td>\n",
       "    </tr>\n",
       "    <tr>\n",
       "      <td>115TH AND HALSTED</td>\n",
       "      <td>4</td>\n",
       "      <td>6</td>\n",
       "      <td>2</td>\n",
       "      <td>0</td>\n",
       "      <td>0</td>\n",
       "      <td>4</td>\n",
       "      <td>0</td>\n",
       "      <td>0</td>\n",
       "      <td>0</td>\n",
       "      <td>0</td>\n",
       "      <td>0</td>\n",
       "      <td>4</td>\n",
       "      <td>41.685089</td>\n",
       "      <td>-87.642094</td>\n",
       "      <td>1</td>\n",
       "      <td>115TH AND HALSTED</td>\n",
       "      <td>42500</td>\n",
       "    </tr>\n",
       "    <tr>\n",
       "      <td>119TH AND HALSTED</td>\n",
       "      <td>4</td>\n",
       "      <td>6</td>\n",
       "      <td>2</td>\n",
       "      <td>0</td>\n",
       "      <td>0</td>\n",
       "      <td>4</td>\n",
       "      <td>0</td>\n",
       "      <td>0</td>\n",
       "      <td>0</td>\n",
       "      <td>0</td>\n",
       "      <td>0</td>\n",
       "      <td>4</td>\n",
       "      <td>41.677774</td>\n",
       "      <td>-87.641930</td>\n",
       "      <td>1</td>\n",
       "      <td>119TH AND HALSTED</td>\n",
       "      <td>41800</td>\n",
       "    </tr>\n",
       "    <tr>\n",
       "      <td>31ST AND CALIFORNIA</td>\n",
       "      <td>2</td>\n",
       "      <td>6</td>\n",
       "      <td>0</td>\n",
       "      <td>0</td>\n",
       "      <td>0</td>\n",
       "      <td>4</td>\n",
       "      <td>0</td>\n",
       "      <td>0</td>\n",
       "      <td>0</td>\n",
       "      <td>0</td>\n",
       "      <td>0</td>\n",
       "      <td>4</td>\n",
       "      <td>41.837424</td>\n",
       "      <td>-87.695022</td>\n",
       "      <td>1</td>\n",
       "      <td>31ST AND CALIFORNIA</td>\n",
       "      <td>41100</td>\n",
       "    </tr>\n",
       "    <tr>\n",
       "      <td>31ST ST AND MARTIN LUTHER KING DRIVE</td>\n",
       "      <td>2</td>\n",
       "      <td>10</td>\n",
       "      <td>2</td>\n",
       "      <td>0</td>\n",
       "      <td>1</td>\n",
       "      <td>4</td>\n",
       "      <td>0</td>\n",
       "      <td>2</td>\n",
       "      <td>0</td>\n",
       "      <td>0</td>\n",
       "      <td>0</td>\n",
       "      <td>0</td>\n",
       "      <td>41.838441</td>\n",
       "      <td>-87.617338</td>\n",
       "      <td>1</td>\n",
       "      <td>31ST ST AND MARTIN LUTHER KING DRIVE</td>\n",
       "      <td>36500</td>\n",
       "    </tr>\n",
       "  </tbody>\n",
       "</table>\n",
       "</div>"
      ],
      "text/plain": [
       "                                      protected_turn  total_lanes  medians  \\\n",
       "111TH AND HALSTED                                  2            6        2   \n",
       "115TH AND HALSTED                                  4            6        2   \n",
       "119TH AND HALSTED                                  4            6        2   \n",
       "31ST AND CALIFORNIA                                2            6        0   \n",
       "31ST ST AND MARTIN LUTHER KING DRIVE               2           10        2   \n",
       "\n",
       "                                      exit  split  way  underpass  no_left  \\\n",
       "111TH AND HALSTED                        0      0    4          0        0   \n",
       "115TH AND HALSTED                        0      0    4          0        0   \n",
       "119TH AND HALSTED                        0      0    4          0        0   \n",
       "31ST AND CALIFORNIA                      0      0    4          0        0   \n",
       "31ST ST AND MARTIN LUTHER KING DRIVE     0      1    4          0        2   \n",
       "\n",
       "                                      angled  triangle  one_way  turn_lanes  \\\n",
       "111TH AND HALSTED                          1         0        0           2   \n",
       "115TH AND HALSTED                          0         0        0           4   \n",
       "119TH AND HALSTED                          0         0        0           4   \n",
       "31ST AND CALIFORNIA                        0         0        0           4   \n",
       "31ST ST AND MARTIN LUTHER KING DRIVE       0         0        0           0   \n",
       "\n",
       "                                            lat       long  rlc  \\\n",
       "111TH AND HALSTED                     41.692362 -87.642423    1   \n",
       "115TH AND HALSTED                     41.685089 -87.642094    1   \n",
       "119TH AND HALSTED                     41.677774 -87.641930    1   \n",
       "31ST AND CALIFORNIA                   41.837424 -87.695022    1   \n",
       "31ST ST AND MARTIN LUTHER KING DRIVE  41.838441 -87.617338    1   \n",
       "\n",
       "                                                              intersection  \\\n",
       "111TH AND HALSTED                                        111TH AND HALSTED   \n",
       "115TH AND HALSTED                                        115TH AND HALSTED   \n",
       "119TH AND HALSTED                                        119TH AND HALSTED   \n",
       "31ST AND CALIFORNIA                                    31ST AND CALIFORNIA   \n",
       "31ST ST AND MARTIN LUTHER KING DRIVE  31ST ST AND MARTIN LUTHER KING DRIVE   \n",
       "\n",
       "                                      daily_traffic  \n",
       "111TH AND HALSTED                             43100  \n",
       "115TH AND HALSTED                             42500  \n",
       "119TH AND HALSTED                             41800  \n",
       "31ST AND CALIFORNIA                           41100  \n",
       "31ST ST AND MARTIN LUTHER KING DRIVE          36500  "
      ]
     },
     "execution_count": 13,
     "metadata": {},
     "output_type": "execute_result"
    }
   ],
   "source": [
    "int_df.head()"
   ]
  },
  {
   "cell_type": "code",
   "execution_count": 14,
   "metadata": {
    "scrolled": true
   },
   "outputs": [],
   "source": [
    "# THIS WAS MOVED TO myfunc.  Test out with this deleted later.\n",
    "def make_table(df, table_name, c, conn):\n",
    "    '''\n",
    "    table_name string\n",
    "    c cursor object\n",
    "    conn sql connection object\n",
    "    '''\n",
    "    if table_name in sql_fetch_tables(c, conn):  # helper function in myfuncs\n",
    "        delete_all_entries(c, conn, table_name) # in myfuncs\n",
    "    \n",
    "    df.to_sql(table_name, conn, if_exists='replace', index = False)    \n",
    "    print(sql_fetch_tables(c, conn))\n",
    "    \n"
   ]
  },
  {
   "cell_type": "code",
   "execution_count": 15,
   "metadata": {},
   "outputs": [
    {
     "name": "stdout",
     "output_type": "stream",
     "text": [
      "[('hourly_congestion',), ('hourly_weather',), ('region_data',), ('all_hours',), ('int_startend',), ('cam_locations',), ('cam_startend',), ('daily_violations',), ('intersection_cams',), ('all_crashes',), ('signal_crashes',), ('intersection_chars',)]\n"
     ]
    }
   ],
   "source": [
    "make_table(int_df, 'intersection_chars', c, conn)"
   ]
  },
  {
   "cell_type": "markdown",
   "metadata": {},
   "source": [
    "## 2) Build daily_violations TABLE  from rlc_df\n",
    "\n",
    "This table will hold the red light camera violations data.  It will include daily violations of every red light camera.\n",
    "This is a large dataset.  (320 cameras"
   ]
  },
  {
   "cell_type": "markdown",
   "metadata": {},
   "source": [
    "### Get red light violation data from Socrata query"
   ]
  },
  {
   "cell_type": "code",
   "execution_count": 16,
   "metadata": {},
   "outputs": [],
   "source": [
    "# Red light violations\n",
    "# Takes several minutes to run and holds about 500mb in memory to build\n",
    "\n",
    "# First 1000000 results, returned as JSON from API / converted to Python list of dictionaries by sodapy\n",
    "rlc_df = client.get(\"spqx-js37\", #speed cams are at 'hhkd-xvj4' if you want to investigate?\n",
    "                     #where='violation_date > 01-01-2020',\n",
    "                     where='violation_date > \\'2016-01-01T00:00:00.000\\'',\n",
    "                     limit=10000000,\n",
    "                    )\n",
    "\n",
    "rlc_df = pd.DataFrame.from_records(rlc_df) # Convert to pandas DataFrame"
   ]
  },
  {
   "cell_type": "markdown",
   "metadata": {},
   "source": [
    "### Preprocess Red Light Camera Data\n",
    "\n",
    "Data Columns of interest:\n",
    "\n",
    "INTERSECTION -\n",
    "Intersection of the location of the red light enforcement camera(s). There may be more than one camera at each intersection. Plain Text\n",
    "\n",
    "CAMERA ID -\n",
    "A unique ID for each physical camera at an intersection, which may contain more than one camera. Plain Text\n",
    "\n",
    "ADDRESS\t-\n",
    "The address of the physical camera (CAMERA ID). The address may be the same for all cameras or different, based on the physical installation of each camera. Plain Text\n",
    "\n",
    "VIOLATION DATE -\n",
    "The date of when the violations occurred. NOTE: The citation may be issued on a different date. Date & Time\n",
    "\n",
    "VIOLATIONS - \n",
    "Number of violations for each camera on a particular day. Number\n",
    "\n",
    "LATITUDE -\n",
    "The latitude of the physical location of the camera(s) based on the ADDRESS column. Geocoded using the WGS84. Number\n",
    "\n",
    "LONGITUDE -\n",
    "The longitude of the physical location of the camera(s) based on the ADDRESS column. Geocoded using the WGS84.\n",
    "Number"
   ]
  },
  {
   "cell_type": "markdown",
   "metadata": {},
   "source": [
    "#### Investigate rlc_df"
   ]
  },
  {
   "cell_type": "code",
   "execution_count": 17,
   "metadata": {},
   "outputs": [
    {
     "name": "stdout",
     "output_type": "stream",
     "text": [
      "<class 'pandas.core.frame.DataFrame'>\n",
      "RangeIndex: 480825 entries, 0 to 480824\n",
      "Data columns (total 10 columns):\n",
      "intersection      480825 non-null object\n",
      "camera_id         480709 non-null object\n",
      "address           480825 non-null object\n",
      "violation_date    480825 non-null object\n",
      "violations        480825 non-null object\n",
      "x_coordinate      455746 non-null object\n",
      "y_coordinate      455746 non-null object\n",
      "latitude          455746 non-null object\n",
      "longitude         455746 non-null object\n",
      "location          455746 non-null object\n",
      "dtypes: object(10)\n",
      "memory usage: 36.7+ MB\n"
     ]
    },
    {
     "data": {
      "text/plain": [
       "intersection          0\n",
       "camera_id           116\n",
       "address               0\n",
       "violation_date        0\n",
       "violations            0\n",
       "x_coordinate      25079\n",
       "y_coordinate      25079\n",
       "latitude          25079\n",
       "longitude         25079\n",
       "location          25079\n",
       "dtype: int64"
      ]
     },
     "execution_count": 17,
     "metadata": {},
     "output_type": "execute_result"
    }
   ],
   "source": [
    "rlc_df.info()\n",
    "rlc_df.isna().sum()"
   ]
  },
  {
   "cell_type": "markdown",
   "metadata": {},
   "source": [
    "#### Drop nan values and unnecessary columns\n",
    "We see that we have all text/non-null objects.  Need to convert first before manipulating for preprocess.\n",
    "\n",
    "There are a fair number of missing locations/lat/long.  Hope to be able to replace those missing values.\n",
    "This represents a large enough portion of dataset that we should look them up.\n",
    "\n",
    "The na values for camera_id will have to be dropped, since we don't know what they are.\n",
    "\n",
    "We will not be using x andy y_coordinate, so we drop those.  We will also drop location.  We already have lat long in other columns."
   ]
  },
  {
   "cell_type": "code",
   "execution_count": 18,
   "metadata": {},
   "outputs": [
    {
     "data": {
      "text/plain": [
       "intersection          0\n",
       "camera_id             0\n",
       "address               0\n",
       "violation_date        0\n",
       "violations            0\n",
       "latitude          25074\n",
       "longitude         25074\n",
       "dtype: int64"
      ]
     },
     "execution_count": 18,
     "metadata": {},
     "output_type": "execute_result"
    }
   ],
   "source": [
    "#client_df.dropna(subset=['camera_id']).isna().sum()\n",
    "try:\n",
    "    # put this is a try in case we run it twice, it will skip it.\n",
    "    rlc_df.dropna(subset=['camera_id'], inplace=True)\n",
    "    \n",
    "    # drop xy coord and location columns\n",
    "    rlc_df = rlc_df.drop(columns=['x_coordinate', 'y_coordinate', 'location'], index=1)\n",
    "except:\n",
    "    pass\n",
    "\n",
    "\n",
    "\n",
    "rlc_df.isna().sum()"
   ]
  },
  {
   "cell_type": "markdown",
   "metadata": {},
   "source": [
    "#### Manipulate datatypes for preprocessing. "
   ]
  },
  {
   "cell_type": "code",
   "execution_count": 19,
   "metadata": {
    "scrolled": true
   },
   "outputs": [
    {
     "data": {
      "text/html": [
       "<div>\n",
       "<style scoped>\n",
       "    .dataframe tbody tr th:only-of-type {\n",
       "        vertical-align: middle;\n",
       "    }\n",
       "\n",
       "    .dataframe tbody tr th {\n",
       "        vertical-align: top;\n",
       "    }\n",
       "\n",
       "    .dataframe thead th {\n",
       "        text-align: right;\n",
       "    }\n",
       "</style>\n",
       "<table border=\"1\" class=\"dataframe\">\n",
       "  <thead>\n",
       "    <tr style=\"text-align: right;\">\n",
       "      <th></th>\n",
       "      <th>intersection</th>\n",
       "      <th>camera_id</th>\n",
       "      <th>address</th>\n",
       "      <th>violation_date</th>\n",
       "      <th>violations</th>\n",
       "      <th>latitude</th>\n",
       "      <th>longitude</th>\n",
       "      <th>month</th>\n",
       "      <th>day</th>\n",
       "      <th>weekday</th>\n",
       "      <th>year</th>\n",
       "    </tr>\n",
       "  </thead>\n",
       "  <tbody>\n",
       "    <tr>\n",
       "      <td>0</td>\n",
       "      <td>GRAND AND OAK PARK</td>\n",
       "      <td>1523</td>\n",
       "      <td>6800 W GRAND AVENUE</td>\n",
       "      <td>2016-01-02</td>\n",
       "      <td>5</td>\n",
       "      <td>41.923708</td>\n",
       "      <td>-87.795301</td>\n",
       "      <td>1</td>\n",
       "      <td>2</td>\n",
       "      <td>5</td>\n",
       "      <td>2016</td>\n",
       "    </tr>\n",
       "    <tr>\n",
       "      <td>2</td>\n",
       "      <td>RIDGE AND CLARK</td>\n",
       "      <td>1051</td>\n",
       "      <td>5930 N CLARK STREET</td>\n",
       "      <td>2016-01-02</td>\n",
       "      <td>4</td>\n",
       "      <td>41.989299</td>\n",
       "      <td>-87.670104</td>\n",
       "      <td>1</td>\n",
       "      <td>2</td>\n",
       "      <td>5</td>\n",
       "      <td>2016</td>\n",
       "    </tr>\n",
       "    <tr>\n",
       "      <td>3</td>\n",
       "      <td>SACRAMENTO AND CHICAGO</td>\n",
       "      <td>1812</td>\n",
       "      <td>800 N SACRAMENTO AVEN</td>\n",
       "      <td>2016-01-02</td>\n",
       "      <td>3</td>\n",
       "      <td>41.895641</td>\n",
       "      <td>-87.702352</td>\n",
       "      <td>1</td>\n",
       "      <td>2</td>\n",
       "      <td>5</td>\n",
       "      <td>2016</td>\n",
       "    </tr>\n",
       "    <tr>\n",
       "      <td>4</td>\n",
       "      <td>ARCHER AND CICERO</td>\n",
       "      <td>2084</td>\n",
       "      <td>5400 S ARCHER AVE</td>\n",
       "      <td>2016-01-02</td>\n",
       "      <td>3</td>\n",
       "      <td>41.798758</td>\n",
       "      <td>-87.743021</td>\n",
       "      <td>1</td>\n",
       "      <td>2</td>\n",
       "      <td>5</td>\n",
       "      <td>2016</td>\n",
       "    </tr>\n",
       "    <tr>\n",
       "      <td>5</td>\n",
       "      <td>WENTWORTH AND GARFIELD</td>\n",
       "      <td>2261</td>\n",
       "      <td>5500 S WENTWORTH AVEN</td>\n",
       "      <td>2016-01-02</td>\n",
       "      <td>19</td>\n",
       "      <td>NaN</td>\n",
       "      <td>NaN</td>\n",
       "      <td>1</td>\n",
       "      <td>2</td>\n",
       "      <td>5</td>\n",
       "      <td>2016</td>\n",
       "    </tr>\n",
       "  </tbody>\n",
       "</table>\n",
       "</div>"
      ],
      "text/plain": [
       "             intersection camera_id                address violation_date  \\\n",
       "0      GRAND AND OAK PARK      1523    6800 W GRAND AVENUE     2016-01-02   \n",
       "2         RIDGE AND CLARK      1051    5930 N CLARK STREET     2016-01-02   \n",
       "3  SACRAMENTO AND CHICAGO      1812  800 N SACRAMENTO AVEN     2016-01-02   \n",
       "4       ARCHER AND CICERO      2084      5400 S ARCHER AVE     2016-01-02   \n",
       "5  WENTWORTH AND GARFIELD      2261  5500 S WENTWORTH AVEN     2016-01-02   \n",
       "\n",
       "   violations   latitude  longitude  month  day  weekday  year  \n",
       "0           5  41.923708 -87.795301      1    2        5  2016  \n",
       "2           4  41.989299 -87.670104      1    2        5  2016  \n",
       "3           3  41.895641 -87.702352      1    2        5  2016  \n",
       "4           3  41.798758 -87.743021      1    2        5  2016  \n",
       "5          19        NaN        NaN      1    2        5  2016  "
      ]
     },
     "execution_count": 19,
     "metadata": {},
     "output_type": "execute_result"
    }
   ],
   "source": [
    "rlc_df['violations'] = rlc_df['violations'].astype(int)\n",
    "rlc_df['latitude'] = rlc_df['latitude'].astype(float)\n",
    "rlc_df['longitude'] = rlc_df['longitude'].astype(float)\n",
    "rlc_df['violation_date'] = pd.to_datetime(rlc_df['violation_date'])\n",
    "rlc_df['month'] = rlc_df['violation_date'].apply(lambda x: int(x.month))\n",
    "rlc_df['day'] = rlc_df['violation_date'].apply(lambda x: int(x.day))  # fixed from dat to day!\n",
    "\n",
    "rlc_df['weekday'] = rlc_df['violation_date'].apply(lambda x: int(datetime.weekday(x)))\n",
    "rlc_df['year'] = rlc_df['violation_date'].apply(lambda x: int(x.year))\n",
    "\n",
    "rlc_df.head()"
   ]
  },
  {
   "cell_type": "markdown",
   "metadata": {},
   "source": [
    "### Write the daily_violations TABLE - from rlc_df"
   ]
  },
  {
   "cell_type": "code",
   "execution_count": 20,
   "metadata": {},
   "outputs": [
    {
     "name": "stdout",
     "output_type": "stream",
     "text": [
      "[('hourly_congestion',), ('hourly_weather',), ('region_data',), ('all_hours',), ('int_startend',), ('cam_locations',), ('cam_startend',), ('intersection_cams',), ('all_crashes',), ('signal_crashes',), ('intersection_chars',), ('daily_violations',)]\n"
     ]
    }
   ],
   "source": [
    "make_table(rlc_df, 'daily_violations', c, conn)"
   ]
  },
  {
   "cell_type": "markdown",
   "metadata": {},
   "source": [
    "## 3) Build cam_locations TABLE - from cam_locs AND cam_startend TABLE from cam_startend"
   ]
  },
  {
   "cell_type": "markdown",
   "metadata": {},
   "source": [
    "#### Make a df with info for each camera\n",
    "Will contain the following:\n",
    "- camera_id\n",
    "- location\n",
    "- start date (when was the camera turned on)\n",
    "- end date (when was the camera turned off)"
   ]
  },
  {
   "cell_type": "code",
   "execution_count": 21,
   "metadata": {},
   "outputs": [],
   "source": [
    "cam_df = rlc_df.copy()\n",
    "cam_df['start'] = cam_df['camera_id'].apply(lambda x: None)\n",
    "cam_df['end'] = cam_df['camera_id'].apply(lambda x: None)"
   ]
  },
  {
   "cell_type": "code",
   "execution_count": 22,
   "metadata": {},
   "outputs": [
    {
     "name": "stdout",
     "output_type": "stream",
     "text": [
      "NA values in cam_startend:\n",
      "camera_id    0\n",
      "start        0\n",
      "end          0\n",
      "dtype: int64\n",
      "\n",
      "Describe cam_startend:\n",
      "       camera_id                start                  end\n",
      "count        316                  316                  316\n",
      "unique       316                   19                   18\n",
      "top         1491  2016-01-02 00:00:00  2021-01-19 00:00:00\n",
      "freq           1                  250                  244\n",
      "first        NaN  2016-01-02 00:00:00  2017-05-29 00:00:00\n",
      "last         NaN  2018-03-05 00:00:00  2021-01-19 00:00:00\n",
      "\n"
     ]
    }
   ],
   "source": [
    "cam_start = cam_df.groupby(['camera_id'])['violation_date'].min().reset_index()\n",
    "cam_end = cam_df.groupby(['camera_id'])['violation_date'].max().reset_index()\n",
    "\n",
    "cam_startend = cam_start.copy()\n",
    "\n",
    "#print(cam_end[cam_end['camera_id']=='1503'].values[0][1])  # for testing output\n",
    "cam_startend['end'] = cam_start['camera_id'].apply(lambda x: cam_end[cam_end['camera_id']==x].values[0][1])\n",
    "\n",
    "cam_startend.rename(columns={\"violation_date\": \"start\"}, inplace=True)\n",
    "                                                   \n",
    "print('NA values in cam_startend:', cam_startend.isna().sum(), end='\\n\\n', sep='\\n')\n",
    "\n",
    "print('Describe cam_startend:', cam_startend.describe(), end='\\n\\n', sep='\\n')\n",
    "\n"
   ]
  },
  {
   "cell_type": "markdown",
   "metadata": {},
   "source": [
    "## Make a db table that has camera locations and intersections\n",
    "Intersections are present (and addresses), but we do not have lat/long info for all cams"
   ]
  },
  {
   "cell_type": "code",
   "execution_count": 23,
   "metadata": {},
   "outputs": [
    {
     "name": "stdout",
     "output_type": "stream",
     "text": [
      "Two of them\n",
      "    camera_id           intersection                  address violation_date  \\\n",
      "75      1421     DAMEN AND DIVERSEY  2000 W DIVERSEY PARKWAY     2017-11-30   \n",
      "76      1421  LARAMIE AND FULLERTON    2400 N LARAMIE AVENUE     2021-01-18   \n",
      "\n",
      "    violations   latitude  longitude  month  day  weekday  year  \n",
      "75           1  41.932394 -87.678173     11   30        3  2017  \n",
      "76           6  41.924152 -87.756295     12   31        6  2021  \n",
      "\n",
      "Damen/Diversey 1\n",
      "Laramie/Fullerton: 1074\n",
      "Total cams 316\n"
     ]
    }
   ],
   "source": [
    "# we had some incorrect data in the code below, but have a creative fix.\n",
    "cam_locs = rlc_df.groupby(['camera_id', 'intersection']).max().reset_index()\n",
    "cam_locs.head()\n",
    "\n",
    "# we find there is a mismatch between lens, one of them is duplicated\n",
    "len(cam_locs)  # 364 total\n",
    "len(cam_locs['camera_id'].unique()) # 363\n",
    "\n",
    "cam_locs[cam_locs['camera_id'].duplicated()]  # 1421 is dupe\n",
    "print('Two of them\\n', cam_locs[cam_locs['camera_id'] == '1421'])  # we see two of them\n",
    "print()\n",
    "\n",
    "# Which one is it?\n",
    "print('Damen/Diversey', rlc_df[(rlc_df['camera_id']=='1421') & (rlc_df['intersection']=='DAMEN AND DIVERSEY')]['camera_id'].count())\n",
    "print('Laramie/Fullerton:', rlc_df[(rlc_df['camera_id']=='1421') & (rlc_df['intersection']=='LARAMIE AND FULLERTON')]['camera_id'].count())\n",
    "\n",
    "# Turns out that a camera has two locations. One was only used one time.  We drop it.\n",
    "cam_locs = cam_locs[(cam_locs['camera_id']!='1421') | (cam_locs['intersection']!='DAMEN AND DIVERSEY')]\n",
    "print(\"Total cams\", len(cam_locs))  # 363 total (got rid of the bad one)"
   ]
  },
  {
   "cell_type": "code",
   "execution_count": 24,
   "metadata": {},
   "outputs": [
    {
     "data": {
      "text/plain": [
       "camera_id          0\n",
       "intersection       0\n",
       "address            0\n",
       "violation_date     0\n",
       "violations         0\n",
       "latitude          17\n",
       "longitude         17\n",
       "month              0\n",
       "day                0\n",
       "weekday            0\n",
       "year               0\n",
       "dtype: int64"
      ]
     },
     "execution_count": 24,
     "metadata": {},
     "output_type": "execute_result"
    }
   ],
   "source": [
    "cam_locs.isna().sum()  # missing location for 19 cameras.  Let's fix it"
   ]
  },
  {
   "cell_type": "markdown",
   "metadata": {},
   "source": [
    "Looks like we also are missing 19 of the 363 cam locations.  Let's look it up!\n",
    "\n",
    "We actually changed this code.  We have gone to the maps to get intersection locations, but will leave old code in case we ever need exact location of cameras."
   ]
  },
  {
   "cell_type": "code",
   "execution_count": 25,
   "metadata": {},
   "outputs": [
    {
     "data": {
      "text/plain": [
       "'\\nThis section goes through all of the rlc and assigns latlong\\nMany lights are missing it.  \\nFor each light, there is an address though.\\nWe use geocoding to get the latlong\\n'"
      ]
     },
     "execution_count": 25,
     "metadata": {},
     "output_type": "execute_result"
    }
   ],
   "source": [
    "\n",
    "'''\n",
    "This section goes through all of the rlc and assigns latlong\n",
    "Many lights are missing it.  \n",
    "For each light, there is an address though.\n",
    "We use geocoding to get the latlong\n",
    "'''\n",
    "\n",
    "# let's get all of the red light cameras with their gps location.  \n",
    "# This will aid in placing the accidents at rlc intersections later (if closer than threshold point to point)\n",
    "# Some RLCs are missing location data,  but have addresses.  I can use geocoding I guess to look them up.\n",
    "\n",
    "\n",
    "# geolocator = Nominatim(user_agent=\"https://github.com/sciencelee/chicago_rlc\")  # please change to match repo\n",
    " \n",
    " \n",
    "# def get_geocode(lat, long, address):\n",
    "#     if lat > 0:  # it's a location\n",
    "#         return (lat, long)\n",
    "#     else: # it's a proper location tuple, and assumed to be correct latlong\n",
    "#         if address in address_fix.keys(): address = address_fix[address]  # errors in the dataset chars omitted\n",
    "#         # if we make it this far, we have no record of this cam_id yet, and it doesn't have a proper location\n",
    "#         location = geolocator.geocode(address + ', Chicago, IL')\n",
    "#         if location == None:\n",
    "#             print(address+':'+address+' : could not geolocate') # print it out if we can't find (address errors)\n",
    "#         else:\n",
    "#             return (location.latitude, location.longitude)\n",
    "\n",
    "        \n",
    "\n",
    "\n",
    "# Got it down to one-liner for this. Found out you can't extract and assign series like you can variables\n",
    "#cam_locs['location'] = cam_locs.apply(lambda x: get_geocode(x.latitude, x.longitude, x.address), axis=1)"
   ]
  },
  {
   "cell_type": "code",
   "execution_count": 26,
   "metadata": {},
   "outputs": [],
   "source": [
    "# cam_locs['location'].head()\n",
    "# cam_locs['latitude'] = cam_locs['location'].apply(lambda x: x[0])\n",
    "# cam_locs['longitude'] = cam_locs['location'].apply(lambda x: x[1])\n",
    "\n",
    "# cam_locs = cam_locs.drop(columns=['violation_date', 'violations', 'month', 'weekday', 'year', 'location'])"
   ]
  },
  {
   "cell_type": "code",
   "execution_count": 27,
   "metadata": {},
   "outputs": [
    {
     "name": "stdout",
     "output_type": "stream",
     "text": [
      "<class 'pandas.core.frame.DataFrame'>\n",
      "Int64Index: 316 entries, 0 to 316\n",
      "Data columns (total 11 columns):\n",
      "camera_id         316 non-null object\n",
      "intersection      316 non-null object\n",
      "address           316 non-null object\n",
      "violation_date    316 non-null datetime64[ns]\n",
      "violations        316 non-null int64\n",
      "latitude          299 non-null float64\n",
      "longitude         299 non-null float64\n",
      "month             316 non-null int64\n",
      "day               316 non-null int64\n",
      "weekday           316 non-null int64\n",
      "year              316 non-null int64\n",
      "dtypes: datetime64[ns](1), float64(2), int64(5), object(3)\n",
      "memory usage: 29.6+ KB\n"
     ]
    },
    {
     "data": {
      "text/plain": [
       "camera_id          0\n",
       "intersection       0\n",
       "address            0\n",
       "violation_date     0\n",
       "violations         0\n",
       "latitude          17\n",
       "longitude         17\n",
       "month              0\n",
       "day                0\n",
       "weekday            0\n",
       "year               0\n",
       "dtype: int64"
      ]
     },
     "execution_count": 27,
     "metadata": {},
     "output_type": "execute_result"
    }
   ],
   "source": [
    "cam_locs.info()\n",
    "cam_locs.isna().sum() # No longer missing location for 19 cameras."
   ]
  },
  {
   "cell_type": "markdown",
   "metadata": {},
   "source": [
    "### Lat long fixes\n",
    "During EDA, we found out that five cameras were in completely wrong lat/long location.  \n",
    "Several others were located a little too far from the intersection to work properly.  When we rebuild the db, we will use bigger number than 30 m.\n",
    "\n",
    "Here are the fixes I found easily."
   ]
  },
  {
   "cell_type": "code",
   "execution_count": 28,
   "metadata": {},
   "outputs": [
    {
     "data": {
      "text/html": [
       "<div>\n",
       "<style scoped>\n",
       "    .dataframe tbody tr th:only-of-type {\n",
       "        vertical-align: middle;\n",
       "    }\n",
       "\n",
       "    .dataframe tbody tr th {\n",
       "        vertical-align: top;\n",
       "    }\n",
       "\n",
       "    .dataframe thead th {\n",
       "        text-align: right;\n",
       "    }\n",
       "</style>\n",
       "<table border=\"1\" class=\"dataframe\">\n",
       "  <thead>\n",
       "    <tr style=\"text-align: right;\">\n",
       "      <th></th>\n",
       "      <th>camera_id</th>\n",
       "      <th>intersection</th>\n",
       "      <th>address</th>\n",
       "      <th>violation_date</th>\n",
       "      <th>violations</th>\n",
       "      <th>latitude</th>\n",
       "      <th>longitude</th>\n",
       "      <th>month</th>\n",
       "      <th>day</th>\n",
       "      <th>weekday</th>\n",
       "      <th>year</th>\n",
       "    </tr>\n",
       "  </thead>\n",
       "  <tbody>\n",
       "    <tr>\n",
       "      <td>0</td>\n",
       "      <td>1002</td>\n",
       "      <td>WESTERN AND CERMAK</td>\n",
       "      <td>2200 S WESTERN AVENUE</td>\n",
       "      <td>2021-01-19</td>\n",
       "      <td>33</td>\n",
       "      <td>41.851984</td>\n",
       "      <td>-87.685786</td>\n",
       "      <td>12</td>\n",
       "      <td>31</td>\n",
       "      <td>6</td>\n",
       "      <td>2021</td>\n",
       "    </tr>\n",
       "    <tr>\n",
       "      <td>1</td>\n",
       "      <td>1003</td>\n",
       "      <td>WESTERN AND CERMAK</td>\n",
       "      <td>2400 W CERMAK ROAD</td>\n",
       "      <td>2021-01-19</td>\n",
       "      <td>9</td>\n",
       "      <td>41.852141</td>\n",
       "      <td>-87.685753</td>\n",
       "      <td>12</td>\n",
       "      <td>31</td>\n",
       "      <td>6</td>\n",
       "      <td>2021</td>\n",
       "    </tr>\n",
       "    <tr>\n",
       "      <td>2</td>\n",
       "      <td>1011</td>\n",
       "      <td>PETERSON AND WESTERN</td>\n",
       "      <td>6000 N WESTERN AVE</td>\n",
       "      <td>2021-01-19</td>\n",
       "      <td>28</td>\n",
       "      <td>41.990586</td>\n",
       "      <td>-87.689822</td>\n",
       "      <td>12</td>\n",
       "      <td>31</td>\n",
       "      <td>6</td>\n",
       "      <td>2021</td>\n",
       "    </tr>\n",
       "    <tr>\n",
       "      <td>3</td>\n",
       "      <td>1014</td>\n",
       "      <td>PETERSON AND WESTERN</td>\n",
       "      <td>2400 W PETERSON</td>\n",
       "      <td>2021-01-19</td>\n",
       "      <td>22</td>\n",
       "      <td>41.990609</td>\n",
       "      <td>-87.689735</td>\n",
       "      <td>12</td>\n",
       "      <td>31</td>\n",
       "      <td>6</td>\n",
       "      <td>2021</td>\n",
       "    </tr>\n",
       "    <tr>\n",
       "      <td>4</td>\n",
       "      <td>1023</td>\n",
       "      <td>IRVING PARK AND NARRAGANSETT</td>\n",
       "      <td>6400 W IRVING PK</td>\n",
       "      <td>2021-01-18</td>\n",
       "      <td>11</td>\n",
       "      <td>41.953025</td>\n",
       "      <td>-87.786683</td>\n",
       "      <td>12</td>\n",
       "      <td>31</td>\n",
       "      <td>6</td>\n",
       "      <td>2021</td>\n",
       "    </tr>\n",
       "  </tbody>\n",
       "</table>\n",
       "</div>"
      ],
      "text/plain": [
       "  camera_id                  intersection                address  \\\n",
       "0      1002            WESTERN AND CERMAK  2200 S WESTERN AVENUE   \n",
       "1      1003            WESTERN AND CERMAK     2400 W CERMAK ROAD   \n",
       "2      1011          PETERSON AND WESTERN     6000 N WESTERN AVE   \n",
       "3      1014          PETERSON AND WESTERN        2400 W PETERSON   \n",
       "4      1023  IRVING PARK AND NARRAGANSETT       6400 W IRVING PK   \n",
       "\n",
       "  violation_date  violations   latitude  longitude  month  day  weekday  year  \n",
       "0     2021-01-19          33  41.851984 -87.685786     12   31        6  2021  \n",
       "1     2021-01-19           9  41.852141 -87.685753     12   31        6  2021  \n",
       "2     2021-01-19          28  41.990586 -87.689822     12   31        6  2021  \n",
       "3     2021-01-19          22  41.990609 -87.689735     12   31        6  2021  \n",
       "4     2021-01-18          11  41.953025 -87.786683     12   31        6  2021  "
      ]
     },
     "execution_count": 28,
     "metadata": {},
     "output_type": "execute_result"
    }
   ],
   "source": [
    "cam_locs.head()"
   ]
  },
  {
   "cell_type": "markdown",
   "metadata": {},
   "source": [
    "### Create cam_locations TABLE - from cam_locs AND cam_startend from cam_startend"
   ]
  },
  {
   "cell_type": "code",
   "execution_count": 29,
   "metadata": {},
   "outputs": [
    {
     "name": "stdout",
     "output_type": "stream",
     "text": [
      "[('hourly_congestion',), ('hourly_weather',), ('region_data',), ('all_hours',), ('int_startend',), ('cam_startend',), ('intersection_cams',), ('all_crashes',), ('signal_crashes',), ('intersection_chars',), ('daily_violations',), ('cam_locations',)]\n",
      "[('hourly_congestion',), ('hourly_weather',), ('region_data',), ('all_hours',), ('int_startend',), ('intersection_cams',), ('all_crashes',), ('signal_crashes',), ('intersection_chars',), ('daily_violations',), ('cam_locations',), ('cam_startend',)]\n"
     ]
    }
   ],
   "source": [
    "make_table(cam_locs, 'cam_locations', c, conn)\n",
    "make_table(cam_startend, 'cam_startend', c, conn)"
   ]
  },
  {
   "cell_type": "markdown",
   "metadata": {},
   "source": [
    "###  We still have missing lat/long info for our rlc_df.  Let's fix it\n",
    "Before moving on.  Now that we have cam_locs, we can fix our rlc_df"
   ]
  },
  {
   "cell_type": "code",
   "execution_count": 30,
   "metadata": {},
   "outputs": [
    {
     "data": {
      "text/plain": [
       "intersection          0\n",
       "camera_id             0\n",
       "address               0\n",
       "violation_date        0\n",
       "violations            0\n",
       "latitude          25074\n",
       "longitude         25074\n",
       "month                 0\n",
       "day                   0\n",
       "weekday               0\n",
       "year                  0\n",
       "dtype: int64"
      ]
     },
     "execution_count": 30,
     "metadata": {},
     "output_type": "execute_result"
    }
   ],
   "source": [
    "rlc_df.isna().sum()  \n"
   ]
  },
  {
   "cell_type": "markdown",
   "metadata": {},
   "source": [
    "## Decided to eliminate cam position in favor of intersection lat/long\n",
    "I hope this makes all of my position data consistent for gathering crash info.\n",
    "When using cam location, it is sometimes up to 35 m up road where cam position is.  This would cause us to misidentify crashes from other intersections or miss some in the intersection of interest.  R\n",
    "\n",
    "Remedy: Use center point of intersection for all cams.\n",
    "\n",
    "How to do it:  I will change cam_locs data to match intersection instead of individual camera."
   ]
  },
  {
   "cell_type": "code",
   "execution_count": 31,
   "metadata": {},
   "outputs": [
    {
     "data": {
      "text/plain": [
       "Index(['protected_turn', 'total_lanes', 'medians', 'exit', 'split', 'way',\n",
       "       'underpass', 'no_left', 'angled', 'triangle', 'one_way', 'turn_lanes',\n",
       "       'lat', 'long', 'rlc', 'intersection', 'daily_traffic'],\n",
       "      dtype='object')"
      ]
     },
     "execution_count": 31,
     "metadata": {},
     "output_type": "execute_result"
    }
   ],
   "source": [
    "int_df.columns\n"
   ]
  },
  {
   "cell_type": "code",
   "execution_count": 32,
   "metadata": {},
   "outputs": [],
   "source": [
    "def location_correction(int_df, intersect, latlong):\n",
    "    # lookup function from intersection df to get the lat long\n",
    "    # int_df is the intersection characteristic frame from 1) above\n",
    "    # intersect is the intersection name used to link tables/df\n",
    "    # latlong is either 'lat' or 'long'\n",
    "    if latlong == 'lat':\n",
    "        lat = int_df[int_df['intersection']==intersect]['lat'].values[0]\n",
    "        if lat==None: print(lat, intersect)\n",
    "        return lat\n",
    "    else:\n",
    "        long = int_df[int_df['intersection']==intersect]['long'].values[0]\n",
    "        return long\n",
    "\n",
    "cam_locs['latitude'] = cam_locs['intersection'].apply(lambda x: location_correction(int_df, x, 'lat'))\n",
    "cam_locs['longitude'] = cam_locs['intersection'].apply(lambda x: location_correction(int_df, x, 'long'))"
   ]
  },
  {
   "cell_type": "code",
   "execution_count": 33,
   "metadata": {},
   "outputs": [
    {
     "data": {
      "text/plain": [
       "0        GRAND AND OAK PARK\n",
       "2           RIDGE AND CLARK\n",
       "3    SACRAMENTO AND CHICAGO\n",
       "4         ARCHER AND CICERO\n",
       "5    WENTWORTH AND GARFIELD\n",
       "Name: intersection, dtype: object"
      ]
     },
     "execution_count": 33,
     "metadata": {},
     "output_type": "execute_result"
    }
   ],
   "source": [
    "rlc_df.intersection.head()"
   ]
  },
  {
   "cell_type": "code",
   "execution_count": 34,
   "metadata": {},
   "outputs": [
    {
     "data": {
      "text/html": [
       "<div>\n",
       "<style scoped>\n",
       "    .dataframe tbody tr th:only-of-type {\n",
       "        vertical-align: middle;\n",
       "    }\n",
       "\n",
       "    .dataframe tbody tr th {\n",
       "        vertical-align: top;\n",
       "    }\n",
       "\n",
       "    .dataframe thead th {\n",
       "        text-align: right;\n",
       "    }\n",
       "</style>\n",
       "<table border=\"1\" class=\"dataframe\">\n",
       "  <thead>\n",
       "    <tr style=\"text-align: right;\">\n",
       "      <th></th>\n",
       "      <th>protected_turn</th>\n",
       "      <th>total_lanes</th>\n",
       "      <th>medians</th>\n",
       "      <th>exit</th>\n",
       "      <th>split</th>\n",
       "      <th>way</th>\n",
       "      <th>underpass</th>\n",
       "      <th>no_left</th>\n",
       "      <th>angled</th>\n",
       "      <th>triangle</th>\n",
       "      <th>one_way</th>\n",
       "      <th>turn_lanes</th>\n",
       "      <th>lat</th>\n",
       "      <th>long</th>\n",
       "      <th>rlc</th>\n",
       "      <th>intersection</th>\n",
       "      <th>daily_traffic</th>\n",
       "    </tr>\n",
       "  </thead>\n",
       "  <tbody>\n",
       "    <tr>\n",
       "      <td>IRVING PARK AND KILPATRICK</td>\n",
       "      <td>1</td>\n",
       "      <td>6</td>\n",
       "      <td>0</td>\n",
       "      <td>0</td>\n",
       "      <td>0</td>\n",
       "      <td>4</td>\n",
       "      <td>0</td>\n",
       "      <td>0</td>\n",
       "      <td>0</td>\n",
       "      <td>0</td>\n",
       "      <td>1</td>\n",
       "      <td>3</td>\n",
       "      <td>41.953395</td>\n",
       "      <td>-87.744635</td>\n",
       "      <td>1</td>\n",
       "      <td>IRVING PARK AND KILPATRICK</td>\n",
       "      <td>37100</td>\n",
       "    </tr>\n",
       "  </tbody>\n",
       "</table>\n",
       "</div>"
      ],
      "text/plain": [
       "                            protected_turn  total_lanes  medians  exit  split  \\\n",
       "IRVING PARK AND KILPATRICK               1            6        0     0      0   \n",
       "\n",
       "                            way  underpass  no_left  angled  triangle  \\\n",
       "IRVING PARK AND KILPATRICK    4          0        0       0         0   \n",
       "\n",
       "                            one_way  turn_lanes        lat       long  rlc  \\\n",
       "IRVING PARK AND KILPATRICK        1           3  41.953395 -87.744635    1   \n",
       "\n",
       "                                          intersection  daily_traffic  \n",
       "IRVING PARK AND KILPATRICK  IRVING PARK AND KILPATRICK          37100  "
      ]
     },
     "execution_count": 34,
     "metadata": {},
     "output_type": "execute_result"
    }
   ],
   "source": [
    "int_df[int_df['intersection']=='IRVING PARK AND KILPATRICK']"
   ]
  },
  {
   "cell_type": "markdown",
   "metadata": {},
   "source": [
    "Make my cameras have a location that is center of intersection instead of exact cam location."
   ]
  },
  {
   "cell_type": "code",
   "execution_count": 35,
   "metadata": {},
   "outputs": [
    {
     "data": {
      "text/html": [
       "<div>\n",
       "<style scoped>\n",
       "    .dataframe tbody tr th:only-of-type {\n",
       "        vertical-align: middle;\n",
       "    }\n",
       "\n",
       "    .dataframe tbody tr th {\n",
       "        vertical-align: top;\n",
       "    }\n",
       "\n",
       "    .dataframe thead th {\n",
       "        text-align: right;\n",
       "    }\n",
       "</style>\n",
       "<table border=\"1\" class=\"dataframe\">\n",
       "  <thead>\n",
       "    <tr style=\"text-align: right;\">\n",
       "      <th></th>\n",
       "      <th>intersection</th>\n",
       "      <th>camera_id</th>\n",
       "      <th>address</th>\n",
       "      <th>violation_date</th>\n",
       "      <th>violations</th>\n",
       "      <th>latitude</th>\n",
       "      <th>longitude</th>\n",
       "      <th>month</th>\n",
       "      <th>day</th>\n",
       "      <th>weekday</th>\n",
       "      <th>year</th>\n",
       "      <th>location</th>\n",
       "    </tr>\n",
       "  </thead>\n",
       "  <tbody>\n",
       "    <tr>\n",
       "      <td>0</td>\n",
       "      <td>GRAND AND OAK PARK</td>\n",
       "      <td>1523</td>\n",
       "      <td>6800 W GRAND AVENUE</td>\n",
       "      <td>2016-01-02</td>\n",
       "      <td>5</td>\n",
       "      <td>41.923708</td>\n",
       "      <td>-87.795301</td>\n",
       "      <td>1</td>\n",
       "      <td>2</td>\n",
       "      <td>5</td>\n",
       "      <td>2016</td>\n",
       "      <td>(41.92359678755598, -87.79523664215334)</td>\n",
       "    </tr>\n",
       "    <tr>\n",
       "      <td>2</td>\n",
       "      <td>RIDGE AND CLARK</td>\n",
       "      <td>1051</td>\n",
       "      <td>5930 N CLARK STREET</td>\n",
       "      <td>2016-01-02</td>\n",
       "      <td>4</td>\n",
       "      <td>41.989299</td>\n",
       "      <td>-87.670104</td>\n",
       "      <td>1</td>\n",
       "      <td>2</td>\n",
       "      <td>5</td>\n",
       "      <td>2016</td>\n",
       "      <td>(41.98966718426217, -87.66998823909383)</td>\n",
       "    </tr>\n",
       "    <tr>\n",
       "      <td>3</td>\n",
       "      <td>SACRAMENTO AND CHICAGO</td>\n",
       "      <td>1812</td>\n",
       "      <td>800 N SACRAMENTO AVEN</td>\n",
       "      <td>2016-01-02</td>\n",
       "      <td>3</td>\n",
       "      <td>41.895641</td>\n",
       "      <td>-87.702352</td>\n",
       "      <td>1</td>\n",
       "      <td>2</td>\n",
       "      <td>5</td>\n",
       "      <td>2016</td>\n",
       "      <td>(41.89559271274954, -87.70223070169483)</td>\n",
       "    </tr>\n",
       "    <tr>\n",
       "      <td>4</td>\n",
       "      <td>ARCHER AND CICERO</td>\n",
       "      <td>2084</td>\n",
       "      <td>5400 S ARCHER AVE</td>\n",
       "      <td>2016-01-02</td>\n",
       "      <td>3</td>\n",
       "      <td>41.798758</td>\n",
       "      <td>-87.743021</td>\n",
       "      <td>1</td>\n",
       "      <td>2</td>\n",
       "      <td>5</td>\n",
       "      <td>2016</td>\n",
       "      <td>(41.798660621398106, -87.74286983575124)</td>\n",
       "    </tr>\n",
       "    <tr>\n",
       "      <td>5</td>\n",
       "      <td>WENTWORTH AND GARFIELD</td>\n",
       "      <td>2261</td>\n",
       "      <td>5500 S WENTWORTH AVEN</td>\n",
       "      <td>2016-01-02</td>\n",
       "      <td>19</td>\n",
       "      <td>NaN</td>\n",
       "      <td>NaN</td>\n",
       "      <td>1</td>\n",
       "      <td>2</td>\n",
       "      <td>5</td>\n",
       "      <td>2016</td>\n",
       "      <td>(41.794413041451094, -87.6305016931052)</td>\n",
       "    </tr>\n",
       "  </tbody>\n",
       "</table>\n",
       "</div>"
      ],
      "text/plain": [
       "             intersection camera_id                address violation_date  \\\n",
       "0      GRAND AND OAK PARK      1523    6800 W GRAND AVENUE     2016-01-02   \n",
       "2         RIDGE AND CLARK      1051    5930 N CLARK STREET     2016-01-02   \n",
       "3  SACRAMENTO AND CHICAGO      1812  800 N SACRAMENTO AVEN     2016-01-02   \n",
       "4       ARCHER AND CICERO      2084      5400 S ARCHER AVE     2016-01-02   \n",
       "5  WENTWORTH AND GARFIELD      2261  5500 S WENTWORTH AVEN     2016-01-02   \n",
       "\n",
       "   violations   latitude  longitude  month  day  weekday  year  \\\n",
       "0           5  41.923708 -87.795301      1    2        5  2016   \n",
       "2           4  41.989299 -87.670104      1    2        5  2016   \n",
       "3           3  41.895641 -87.702352      1    2        5  2016   \n",
       "4           3  41.798758 -87.743021      1    2        5  2016   \n",
       "5          19        NaN        NaN      1    2        5  2016   \n",
       "\n",
       "                                   location  \n",
       "0   (41.92359678755598, -87.79523664215334)  \n",
       "2   (41.98966718426217, -87.66998823909383)  \n",
       "3   (41.89559271274954, -87.70223070169483)  \n",
       "4  (41.798660621398106, -87.74286983575124)  \n",
       "5   (41.794413041451094, -87.6305016931052)  "
      ]
     },
     "execution_count": 35,
     "metadata": {},
     "output_type": "execute_result"
    }
   ],
   "source": [
    "#⏳⏳⏳⏳⏳⏳\n",
    "# THIS TAKES SOME TIME (8min on my macbook pro)\n",
    "def read_loc(int_df, intersection):\n",
    "    cam = int_df[int_df['intersection']==intersection]\n",
    "    #print(cam)\n",
    "    return (float(cam['lat']), float(cam['long']))\n",
    "        \n",
    "\n",
    "\n",
    "# create a location column so we only have to do it once\n",
    "rlc_df['location'] = rlc_df['intersection'].apply(lambda x: read_loc(int_df, x))\n",
    "rlc_df.head()"
   ]
  },
  {
   "cell_type": "code",
   "execution_count": 42,
   "metadata": {},
   "outputs": [
    {
     "name": "stdout",
     "output_type": "stream",
     "text": [
      "<class 'pandas.core.frame.DataFrame'>\n",
      "Int64Index: 480708 entries, 0 to 480824\n",
      "Data columns (total 11 columns):\n",
      "intersection      480708 non-null object\n",
      "camera_id         480708 non-null object\n",
      "address           480708 non-null object\n",
      "violation_date    480708 non-null datetime64[ns]\n",
      "violations        480708 non-null int64\n",
      "latitude          480708 non-null float64\n",
      "longitude         480708 non-null float64\n",
      "month             480708 non-null int64\n",
      "day               480708 non-null int64\n",
      "weekday           480708 non-null int64\n",
      "year              480708 non-null int64\n",
      "dtypes: datetime64[ns](1), float64(2), int64(5), object(3)\n",
      "memory usage: 44.0+ MB\n"
     ]
    }
   ],
   "source": [
    "rlc_df.info()"
   ]
  },
  {
   "cell_type": "code",
   "execution_count": 44,
   "metadata": {},
   "outputs": [],
   "source": [
    "# then add in the new lat longs to the df\n",
    "rlc_df['latitude'] = rlc_df['location'].apply(lambda x: x[0])\n",
    "rlc_df['longitude'] = rlc_df['location'].apply(lambda x: x[1])"
   ]
  },
  {
   "cell_type": "code",
   "execution_count": 45,
   "metadata": {},
   "outputs": [
    {
     "data": {
      "text/plain": [
       "array([], dtype=object)"
      ]
     },
     "execution_count": 45,
     "metadata": {},
     "output_type": "execute_result"
    }
   ],
   "source": [
    "rlc_df[rlc_df.latitude.isna()]['intersection'].unique()  # which intersections am I still missing"
   ]
  },
  {
   "cell_type": "code",
   "execution_count": 46,
   "metadata": {},
   "outputs": [
    {
     "data": {
      "text/html": [
       "<div>\n",
       "<style scoped>\n",
       "    .dataframe tbody tr th:only-of-type {\n",
       "        vertical-align: middle;\n",
       "    }\n",
       "\n",
       "    .dataframe tbody tr th {\n",
       "        vertical-align: top;\n",
       "    }\n",
       "\n",
       "    .dataframe thead th {\n",
       "        text-align: right;\n",
       "    }\n",
       "</style>\n",
       "<table border=\"1\" class=\"dataframe\">\n",
       "  <thead>\n",
       "    <tr style=\"text-align: right;\">\n",
       "      <th></th>\n",
       "      <th>intersection</th>\n",
       "      <th>camera_id</th>\n",
       "      <th>address</th>\n",
       "      <th>violation_date</th>\n",
       "      <th>violations</th>\n",
       "      <th>latitude</th>\n",
       "      <th>longitude</th>\n",
       "      <th>month</th>\n",
       "      <th>day</th>\n",
       "      <th>weekday</th>\n",
       "      <th>year</th>\n",
       "    </tr>\n",
       "  </thead>\n",
       "  <tbody>\n",
       "    <tr>\n",
       "      <td>0</td>\n",
       "      <td>GRAND AND OAK PARK</td>\n",
       "      <td>1523</td>\n",
       "      <td>6800 W GRAND AVENUE</td>\n",
       "      <td>2016-01-02</td>\n",
       "      <td>5</td>\n",
       "      <td>41.923597</td>\n",
       "      <td>-87.795237</td>\n",
       "      <td>1</td>\n",
       "      <td>2</td>\n",
       "      <td>5</td>\n",
       "      <td>2016</td>\n",
       "    </tr>\n",
       "    <tr>\n",
       "      <td>2</td>\n",
       "      <td>RIDGE AND CLARK</td>\n",
       "      <td>1051</td>\n",
       "      <td>5930 N CLARK STREET</td>\n",
       "      <td>2016-01-02</td>\n",
       "      <td>4</td>\n",
       "      <td>41.989667</td>\n",
       "      <td>-87.669988</td>\n",
       "      <td>1</td>\n",
       "      <td>2</td>\n",
       "      <td>5</td>\n",
       "      <td>2016</td>\n",
       "    </tr>\n",
       "    <tr>\n",
       "      <td>3</td>\n",
       "      <td>SACRAMENTO AND CHICAGO</td>\n",
       "      <td>1812</td>\n",
       "      <td>800 N SACRAMENTO AVEN</td>\n",
       "      <td>2016-01-02</td>\n",
       "      <td>3</td>\n",
       "      <td>41.895593</td>\n",
       "      <td>-87.702231</td>\n",
       "      <td>1</td>\n",
       "      <td>2</td>\n",
       "      <td>5</td>\n",
       "      <td>2016</td>\n",
       "    </tr>\n",
       "    <tr>\n",
       "      <td>4</td>\n",
       "      <td>ARCHER AND CICERO</td>\n",
       "      <td>2084</td>\n",
       "      <td>5400 S ARCHER AVE</td>\n",
       "      <td>2016-01-02</td>\n",
       "      <td>3</td>\n",
       "      <td>41.798661</td>\n",
       "      <td>-87.742870</td>\n",
       "      <td>1</td>\n",
       "      <td>2</td>\n",
       "      <td>5</td>\n",
       "      <td>2016</td>\n",
       "    </tr>\n",
       "    <tr>\n",
       "      <td>5</td>\n",
       "      <td>WENTWORTH AND GARFIELD</td>\n",
       "      <td>2261</td>\n",
       "      <td>5500 S WENTWORTH AVEN</td>\n",
       "      <td>2016-01-02</td>\n",
       "      <td>19</td>\n",
       "      <td>41.794413</td>\n",
       "      <td>-87.630502</td>\n",
       "      <td>1</td>\n",
       "      <td>2</td>\n",
       "      <td>5</td>\n",
       "      <td>2016</td>\n",
       "    </tr>\n",
       "  </tbody>\n",
       "</table>\n",
       "</div>"
      ],
      "text/plain": [
       "             intersection camera_id                address violation_date  \\\n",
       "0      GRAND AND OAK PARK      1523    6800 W GRAND AVENUE     2016-01-02   \n",
       "2         RIDGE AND CLARK      1051    5930 N CLARK STREET     2016-01-02   \n",
       "3  SACRAMENTO AND CHICAGO      1812  800 N SACRAMENTO AVEN     2016-01-02   \n",
       "4       ARCHER AND CICERO      2084      5400 S ARCHER AVE     2016-01-02   \n",
       "5  WENTWORTH AND GARFIELD      2261  5500 S WENTWORTH AVEN     2016-01-02   \n",
       "\n",
       "   violations   latitude  longitude  month  day  weekday  year  \n",
       "0           5  41.923597 -87.795237      1    2        5  2016  \n",
       "2           4  41.989667 -87.669988      1    2        5  2016  \n",
       "3           3  41.895593 -87.702231      1    2        5  2016  \n",
       "4           3  41.798661 -87.742870      1    2        5  2016  \n",
       "5          19  41.794413 -87.630502      1    2        5  2016  "
      ]
     },
     "execution_count": 46,
     "metadata": {},
     "output_type": "execute_result"
    }
   ],
   "source": [
    "rlc_df.head()"
   ]
  },
  {
   "cell_type": "code",
   "execution_count": 47,
   "metadata": {},
   "outputs": [],
   "source": [
    "if 'location' in rlc_df.columns:\n",
    "    rlc_df.drop(columns=['location'], inplace=True)"
   ]
  },
  {
   "cell_type": "code",
   "execution_count": 48,
   "metadata": {},
   "outputs": [
    {
     "name": "stdout",
     "output_type": "stream",
     "text": [
      "[('hourly_congestion',), ('hourly_weather',), ('region_data',), ('all_hours',), ('int_startend',), ('intersection_cams',), ('all_crashes',), ('signal_crashes',), ('intersection_chars',), ('cam_locations',), ('cam_startend',), ('daily_violations',)]\n"
     ]
    }
   ],
   "source": [
    "make_table(rlc_df, 'daily_violations', c, conn)"
   ]
  },
  {
   "cell_type": "markdown",
   "metadata": {},
   "source": [
    "## 4) Create intersection_cams TABLE - from int_cams"
   ]
  },
  {
   "cell_type": "markdown",
   "metadata": {},
   "source": [
    "### We will now focus on trying to bring rlc intersections to our crashes\n",
    "We find that we have 363 cameras at 183 intersections"
   ]
  },
  {
   "cell_type": "code",
   "execution_count": 49,
   "metadata": {},
   "outputs": [
    {
     "data": {
      "text/plain": [
       "159"
      ]
     },
     "execution_count": 49,
     "metadata": {},
     "output_type": "execute_result"
    }
   ],
   "source": [
    "len(cam_locs.latitude.unique())"
   ]
  },
  {
   "cell_type": "code",
   "execution_count": 50,
   "metadata": {},
   "outputs": [
    {
     "data": {
      "text/html": [
       "<div>\n",
       "<style scoped>\n",
       "    .dataframe tbody tr th:only-of-type {\n",
       "        vertical-align: middle;\n",
       "    }\n",
       "\n",
       "    .dataframe tbody tr th {\n",
       "        vertical-align: top;\n",
       "    }\n",
       "\n",
       "    .dataframe thead th {\n",
       "        text-align: right;\n",
       "    }\n",
       "</style>\n",
       "<table border=\"1\" class=\"dataframe\">\n",
       "  <thead>\n",
       "    <tr style=\"text-align: right;\">\n",
       "      <th></th>\n",
       "      <th>intersection</th>\n",
       "      <th>latitude</th>\n",
       "      <th>longitude</th>\n",
       "      <th>cam1</th>\n",
       "      <th>cam2</th>\n",
       "      <th>cam3</th>\n",
       "    </tr>\n",
       "  </thead>\n",
       "  <tbody>\n",
       "    <tr>\n",
       "      <td>0</td>\n",
       "      <td>111TH AND HALSTED</td>\n",
       "      <td>41.692362</td>\n",
       "      <td>-87.642423</td>\n",
       "      <td>2422</td>\n",
       "      <td>2424</td>\n",
       "      <td>None</td>\n",
       "    </tr>\n",
       "    <tr>\n",
       "      <td>1</td>\n",
       "      <td>115TH AND HALSTED</td>\n",
       "      <td>41.685089</td>\n",
       "      <td>-87.642094</td>\n",
       "      <td>2552</td>\n",
       "      <td>2553</td>\n",
       "      <td>None</td>\n",
       "    </tr>\n",
       "    <tr>\n",
       "      <td>2</td>\n",
       "      <td>119TH AND HALSTED</td>\n",
       "      <td>41.677774</td>\n",
       "      <td>-87.641930</td>\n",
       "      <td>2402</td>\n",
       "      <td>2404</td>\n",
       "      <td>None</td>\n",
       "    </tr>\n",
       "    <tr>\n",
       "      <td>3</td>\n",
       "      <td>31ST ST AND MARTIN LUTHER KING DRIVE</td>\n",
       "      <td>41.838441</td>\n",
       "      <td>-87.617338</td>\n",
       "      <td>2121</td>\n",
       "      <td>2123</td>\n",
       "      <td>None</td>\n",
       "    </tr>\n",
       "    <tr>\n",
       "      <td>4</td>\n",
       "      <td>35TH AND WESTERN</td>\n",
       "      <td>41.830281</td>\n",
       "      <td>-87.684775</td>\n",
       "      <td>2091</td>\n",
       "      <td>2092</td>\n",
       "      <td>None</td>\n",
       "    </tr>\n",
       "  </tbody>\n",
       "</table>\n",
       "</div>"
      ],
      "text/plain": [
       "                           intersection   latitude  longitude  cam1  cam2  \\\n",
       "0                     111TH AND HALSTED  41.692362 -87.642423  2422  2424   \n",
       "1                     115TH AND HALSTED  41.685089 -87.642094  2552  2553   \n",
       "2                     119TH AND HALSTED  41.677774 -87.641930  2402  2404   \n",
       "3  31ST ST AND MARTIN LUTHER KING DRIVE  41.838441 -87.617338  2121  2123   \n",
       "4                      35TH AND WESTERN  41.830281 -87.684775  2091  2092   \n",
       "\n",
       "   cam3  \n",
       "0  None  \n",
       "1  None  \n",
       "2  None  \n",
       "3  None  \n",
       "4  None  "
      ]
     },
     "execution_count": 50,
     "metadata": {},
     "output_type": "execute_result"
    }
   ],
   "source": [
    "int_cams = cam_locs.groupby(['intersection']) \\\n",
    "                    .agg({'latitude':pd.Series.max, 'longitude':pd.Series.max,}) \\\n",
    "                    .reset_index()\n",
    "\n",
    "int_cams['cam1'] = int_cams['intersection'] \\\n",
    "                            .apply(lambda x: cam_locs[cam_locs['intersection']==x]['camera_id'].iloc[0])\n",
    "\n",
    "int_cams['cam2'] = int_cams['intersection'].apply( \\\n",
    "                            lambda x: None if len(cam_locs[cam_locs['intersection']==x])==1 \\\n",
    "                            else cam_locs[cam_locs['intersection']==x]['camera_id'].iloc[1])\n",
    "\n",
    "int_cams['cam3'] = int_cams['intersection'].apply( \\\n",
    "                            lambda x: None if len(cam_locs[cam_locs['intersection']==x])<3 \\\n",
    "                            else cam_locs[cam_locs['intersection']==x]['camera_id'].iloc[2])                             \n",
    "\n",
    "int_cams.head()"
   ]
  },
  {
   "cell_type": "code",
   "execution_count": 51,
   "metadata": {},
   "outputs": [
    {
     "name": "stdout",
     "output_type": "stream",
     "text": [
      "Total Cameras 316\n",
      "Total Intersections 159\n"
     ]
    }
   ],
   "source": [
    "print('Total Cameras', len(cam_locs))\n",
    "print('Total Intersections', len(int_cams))"
   ]
  },
  {
   "cell_type": "markdown",
   "metadata": {},
   "source": [
    "### Create intersection_cams TABLE - from int_cams\n",
    "first we add a column for region to each of my intersections\n",
    "#### Should come back and add this later.  Need to also bring in congestion data though."
   ]
  },
  {
   "cell_type": "code",
   "execution_count": 52,
   "metadata": {},
   "outputs": [
    {
     "name": "stdout",
     "output_type": "stream",
     "text": [
      "[('hourly_congestion',), ('hourly_weather',), ('region_data',), ('all_hours',), ('int_startend',), ('all_crashes',), ('signal_crashes',), ('intersection_chars',), ('cam_locations',), ('cam_startend',), ('daily_violations',), ('intersection_cams',)]\n"
     ]
    }
   ],
   "source": [
    "make_table(int_cams, 'intersection_cams', c, conn)"
   ]
  },
  {
   "cell_type": "markdown",
   "metadata": {},
   "source": [
    "## 5) Create signal_crashes TABLE - from crash_df AND all_crashes - from crash_df (pre)"
   ]
  },
  {
   "cell_type": "code",
   "execution_count": 53,
   "metadata": {},
   "outputs": [],
   "source": [
    "# Crash Data\n",
    "crash_data = client.get(\"85ca-t3if\", \n",
    "                     where=\"crash_date > \\'2016-01-01T00:00:00.000\\'\",\n",
    "                     limit=1000000,\n",
    "                    )\n",
    "\n",
    "crash_df = pd.DataFrame.from_records(crash_data) # Convert to pandas DataFrame"
   ]
  },
  {
   "cell_type": "markdown",
   "metadata": {},
   "source": [
    "### Crash data preprocessing"
   ]
  },
  {
   "cell_type": "code",
   "execution_count": 54,
   "metadata": {},
   "outputs": [],
   "source": [
    "# drop a few columns we don't need, including location (we have lat/long)\n",
    "dropme = ['statements_taken_i', 'private_property_i', 'photos_taken_i', 'dooring_i', 'date_police_notified','location']\n",
    "\n",
    "crash_df.drop(columns=dropme, inplace=True)"
   ]
  },
  {
   "cell_type": "code",
   "execution_count": 55,
   "metadata": {},
   "outputs": [
    {
     "data": {
      "text/plain": [
       "crash_record_id                       0\n",
       "rd_no                              3289\n",
       "crash_date                            0\n",
       "posted_speed_limit                    0\n",
       "traffic_control_device                0\n",
       "device_condition                      0\n",
       "weather_condition                     0\n",
       "lighting_condition                    0\n",
       "first_crash_type                      0\n",
       "trafficway_type                       0\n",
       "alignment                             0\n",
       "roadway_surface_cond                  0\n",
       "road_defect                           0\n",
       "report_type                       11469\n",
       "crash_type                            0\n",
       "damage                                0\n",
       "prim_contributory_cause               0\n",
       "sec_contributory_cause                0\n",
       "street_no                             0\n",
       "street_direction                      3\n",
       "street_name                           1\n",
       "beat_of_occurrence                    5\n",
       "num_units                             0\n",
       "most_severe_injury                  951\n",
       "injuries_total                      940\n",
       "injuries_fatal                      940\n",
       "injuries_incapacitating             940\n",
       "injuries_non_incapacitating         940\n",
       "injuries_reported_not_evident       940\n",
       "injuries_no_indication              940\n",
       "injuries_unknown                    940\n",
       "crash_hour                            0\n",
       "crash_day_of_week                     0\n",
       "crash_month                           0\n",
       "latitude                           2555\n",
       "longitude                          2555\n",
       "lane_cnt                         273577\n",
       "intersection_related_i           358704\n",
       "hit_and_run_i                    327741\n",
       "crash_date_est_i                 429671\n",
       "work_zone_i                      460885\n",
       "work_zone_type                   461503\n",
       "workers_present_i                463156\n",
       "dtype: int64"
      ]
     },
     "execution_count": 55,
     "metadata": {},
     "output_type": "execute_result"
    }
   ],
   "source": [
    "crash_df.isna().sum()"
   ]
  },
  {
   "cell_type": "markdown",
   "metadata": {},
   "source": [
    "We have 2.5k entries that have no location.  Let's drop them"
   ]
  },
  {
   "cell_type": "code",
   "execution_count": 56,
   "metadata": {},
   "outputs": [],
   "source": [
    "crash_df.dropna(subset=['latitude',], inplace=True)  # get rid of na locations"
   ]
  },
  {
   "cell_type": "markdown",
   "metadata": {},
   "source": [
    "### Let's look at what is in the data   "
   ]
  },
  {
   "cell_type": "code",
   "execution_count": 57,
   "metadata": {},
   "outputs": [
    {
     "name": "stdout",
     "output_type": "stream",
     "text": [
      "traffic_control_device ['NO CONTROLS' 'STOP SIGN/FLASHER' 'TRAFFIC SIGNAL' 'UNKNOWN'\n",
      " 'OTHER WARNING SIGN' 'PEDESTRIAN CROSSING SIGN' 'OTHER' 'YIELD'\n",
      " 'OTHER REG. SIGN' 'LANE USE MARKING' 'DELINEATORS' 'POLICE/FLAGMAN'\n",
      " 'RAILROAD CROSSING GATE' 'FLASHING CONTROL SIGNAL' 'SCHOOL ZONE'\n",
      " 'OTHER RAILROAD CROSSING' 'RR CROSSING SIGN' 'NO PASSING'\n",
      " 'BICYCLE CROSSING SIGN']\n",
      "device_condition ['NO CONTROLS' 'FUNCTIONING PROPERLY' 'NOT FUNCTIONING' 'UNKNOWN' 'OTHER'\n",
      " 'FUNCTIONING IMPROPERLY' 'WORN REFLECTIVE MATERIAL' 'MISSING']\n",
      "weather_condition ['CLEAR' 'RAIN' 'UNKNOWN' 'SNOW' 'CLOUDY/OVERCAST' 'SLEET/HAIL'\n",
      " 'FREEZING RAIN/DRIZZLE' 'FOG/SMOKE/HAZE' 'OTHER' 'BLOWING SNOW'\n",
      " 'SEVERE CROSS WIND GATE' 'BLOWING SAND, SOIL, DIRT']\n",
      "lighting_condition ['DAYLIGHT' 'DARKNESS' 'DARKNESS, LIGHTED ROAD' 'UNKNOWN' 'DAWN' 'DUSK']\n",
      "first_crash_type ['TURNING' 'REAR END' 'PARKED MOTOR VEHICLE'\n",
      " 'SIDESWIPE OPPOSITE DIRECTION' 'ANGLE' 'SIDESWIPE SAME DIRECTION'\n",
      " 'OTHER OBJECT' 'HEAD ON' 'PEDESTRIAN' 'FIXED OBJECT' 'PEDALCYCLIST'\n",
      " 'REAR TO FRONT' 'REAR TO SIDE' 'REAR TO REAR' 'ANIMAL'\n",
      " 'OTHER NONCOLLISION' 'OVERTURNED' 'TRAIN']\n",
      "trafficway_type ['ONE-WAY' 'NOT DIVIDED' 'FOUR WAY' 'DIVIDED - W/MEDIAN (NOT RAISED)'\n",
      " 'DIVIDED - W/MEDIAN BARRIER' 'UNKNOWN' 'PARKING LOT' 'ALLEY'\n",
      " 'T-INTERSECTION' 'OTHER' 'CENTER TURN LANE' 'FIVE POINT, OR MORE'\n",
      " 'TRAFFIC ROUTE' 'NOT REPORTED' 'Y-INTERSECTION' 'RAMP' 'DRIVEWAY'\n",
      " 'UNKNOWN INTERSECTION TYPE' 'ROUNDABOUT' 'L-INTERSECTION']\n",
      "alignment ['STRAIGHT AND LEVEL' 'CURVE ON HILLCREST' 'STRAIGHT ON GRADE'\n",
      " 'CURVE, LEVEL' 'STRAIGHT ON HILLCREST' 'CURVE ON GRADE']\n",
      "roadway_surface_cond ['DRY' 'WET' 'UNKNOWN' 'SNOW OR SLUSH' 'ICE' 'OTHER' 'SAND, MUD, DIRT']\n",
      "road_defect ['NO DEFECTS' 'UNKNOWN' 'RUT, HOLES' 'SHOULDER DEFECT' 'OTHER'\n",
      " 'WORN SURFACE' 'DEBRIS ON ROADWAY']\n",
      "report_type ['ON SCENE' 'NOT ON SCENE (DESK REPORT)' nan 'AMENDED']\n",
      "crash_type ['NO INJURY / DRIVE AWAY' 'INJURY AND / OR TOW DUE TO CRASH']\n",
      "hit_and_run_i [nan 'Y' 'N']\n",
      "damage ['OVER $1,500' '$500 OR LESS' '$501 - $1,500']\n",
      "prim_contributory_cause ['IMPROPER BACKING' 'FAILING TO YIELD RIGHT-OF-WAY' 'UNABLE TO DETERMINE'\n",
      " 'OPERATING VEHICLE IN ERRATIC, RECKLESS, CARELESS, NEGLIGENT OR AGGRESSIVE MANNER'\n",
      " 'IMPROPER OVERTAKING/PASSING' 'IMPROPER LANE USAGE'\n",
      " 'IMPROPER TURNING/NO SIGNAL' 'EXCEEDING SAFE SPEED FOR CONDITIONS'\n",
      " 'FOLLOWING TOO CLOSELY' 'DISTRACTION - FROM INSIDE VEHICLE'\n",
      " 'DRIVING SKILLS/KNOWLEDGE/EXPERIENCE'\n",
      " 'FAILING TO REDUCE SPEED TO AVOID CRASH' 'DISREGARDING TRAFFIC SIGNALS'\n",
      " 'NOT APPLICABLE' 'EXCEEDING AUTHORIZED SPEED LIMIT'\n",
      " 'ROAD CONSTRUCTION/MAINTENANCE' 'WEATHER'\n",
      " 'DISTRACTION - FROM OUTSIDE VEHICLE' 'EQUIPMENT - VEHICLE CONDITION'\n",
      " 'DISREGARDING STOP SIGN'\n",
      " 'UNDER THE INFLUENCE OF ALCOHOL/DRUGS (USE WHEN ARREST IS EFFECTED)'\n",
      " 'VISION OBSCURED (SIGNS, TREE LIMBS, BUILDINGS, ETC.)'\n",
      " 'DRIVING ON WRONG SIDE/WRONG WAY' 'DISREGARDING OTHER TRAFFIC SIGNS'\n",
      " 'ROAD ENGINEERING/SURFACE/MARKING DEFECTS' 'PHYSICAL CONDITION OF DRIVER'\n",
      " 'HAD BEEN DRINKING (USE WHEN ARREST IS NOT MADE)' 'TEXTING'\n",
      " 'EVASIVE ACTION DUE TO ANIMAL, OBJECT, NONMOTORIST'\n",
      " 'DISREGARDING YIELD SIGN' 'CELL PHONE USE OTHER THAN TEXTING'\n",
      " 'DISREGARDING ROAD MARKINGS' 'BICYCLE ADVANCING LEGALLY ON RED LIGHT'\n",
      " 'ANIMAL'\n",
      " 'DISTRACTION - OTHER ELECTRONIC DEVICE (NAVIGATION DEVICE, DVD PLAYER, ETC.)'\n",
      " 'RELATED TO BUS STOP' 'TURNING RIGHT ON RED' 'PASSING STOPPED SCHOOL BUS'\n",
      " 'OBSTRUCTED CROSSWALKS' 'MOTORCYCLE ADVANCING LEGALLY ON RED LIGHT']\n",
      "sec_contributory_cause ['UNABLE TO DETERMINE' 'NOT APPLICABLE' 'FAILING TO YIELD RIGHT-OF-WAY'\n",
      " 'IMPROPER LANE USAGE' 'FOLLOWING TOO CLOSELY'\n",
      " 'DISTRACTION - FROM INSIDE VEHICLE'\n",
      " 'FAILING TO REDUCE SPEED TO AVOID CRASH' 'DISREGARDING STOP SIGN'\n",
      " 'EXCEEDING AUTHORIZED SPEED LIMIT' 'DRIVING SKILLS/KNOWLEDGE/EXPERIENCE'\n",
      " 'WEATHER' 'EQUIPMENT - VEHICLE CONDITION' 'PHYSICAL CONDITION OF DRIVER'\n",
      " 'DISREGARDING OTHER TRAFFIC SIGNS' 'IMPROPER BACKING'\n",
      " 'DISREGARDING TRAFFIC SIGNALS'\n",
      " 'HAD BEEN DRINKING (USE WHEN ARREST IS NOT MADE)'\n",
      " 'IMPROPER TURNING/NO SIGNAL' 'IMPROPER OVERTAKING/PASSING'\n",
      " 'ROAD CONSTRUCTION/MAINTENANCE'\n",
      " 'UNDER THE INFLUENCE OF ALCOHOL/DRUGS (USE WHEN ARREST IS EFFECTED)'\n",
      " 'OPERATING VEHICLE IN ERRATIC, RECKLESS, CARELESS, NEGLIGENT OR AGGRESSIVE MANNER'\n",
      " 'DISTRACTION - FROM OUTSIDE VEHICLE'\n",
      " 'VISION OBSCURED (SIGNS, TREE LIMBS, BUILDINGS, ETC.)'\n",
      " 'DRIVING ON WRONG SIDE/WRONG WAY' 'DISREGARDING ROAD MARKINGS'\n",
      " 'DISREGARDING YIELD SIGN' 'ROAD ENGINEERING/SURFACE/MARKING DEFECTS'\n",
      " 'EXCEEDING SAFE SPEED FOR CONDITIONS'\n",
      " 'EVASIVE ACTION DUE TO ANIMAL, OBJECT, NONMOTORIST'\n",
      " 'DISTRACTION - OTHER ELECTRONIC DEVICE (NAVIGATION DEVICE, DVD PLAYER, ETC.)'\n",
      " 'PASSING STOPPED SCHOOL BUS' 'MOTORCYCLE ADVANCING LEGALLY ON RED LIGHT'\n",
      " 'CELL PHONE USE OTHER THAN TEXTING' 'TURNING RIGHT ON RED' 'ANIMAL'\n",
      " 'RELATED TO BUS STOP' 'OBSTRUCTED CROSSWALKS'\n",
      " 'BICYCLE ADVANCING LEGALLY ON RED LIGHT' 'TEXTING']\n",
      "street_no ['2158' '8301' '1632' ... '12437' '11181' '11167']\n",
      "street_direction ['N' 'S' 'E' 'W']\n",
      "street_name ['MARMORA AVE' 'CICERO AVE' '67TH ST' ... 'CRESTLINE ST' 'PARK PL'\n",
      " 'BALDWIN AVE']\n",
      "beat_of_occurrence ['2515' '834' '331' '224' '1732' '1115' '1822' '225' '1034' '1113' '131'\n",
      " '511' '2511' '234' '623' '1011' '222' '612' '1412' '2411' '1821' '1654'\n",
      " '814' '524' '1922' '1414' '815' '1235' '1925' '1221' '411' '2223' '2412'\n",
      " '1111' '334' '523' '1911' '1832' '1611' '1513' '733' '1224' '1032' '413'\n",
      " '1214' '1431' '423' '1634' '2521' '1621' '114' '233' '2211' '1523' '324'\n",
      " '2212' '1921' '1724' '824' '2534' '1733' '1215' '1834' '911' '822' '611'\n",
      " '1713' '1622' '211' '2423' '823' '833' '1813' '1532' '1933' '724' '1934'\n",
      " '1935' '1135' '1031' '933' '614' '2531' '1233' '1234' '711' '1023' '2031'\n",
      " '1923' '923' '1012' '1824' '633' '1133' '1432' '2432' '111' '1711' '722'\n",
      " '1632' '1912' '1422' '1013' '2533' '1712' '533' '122' '212' '2032' '121'\n",
      " '1433' '1932' '2024' '1212' '725' '831' '1022' '2222' '1924' '1913' '714'\n",
      " '1222' '811' '432' '2433' '1424' '313' '1624' '422' '2022' '2512' '2233'\n",
      " '632' '1731' '2524' '2532' '2523' '622' '1522' '2535' '821' '912' '914'\n",
      " '932' '2213' '1121' '1124' '1434' '913' '412' '434' '1232' '123' '812'\n",
      " '431' '2424' '1411' '513' '532' '1814' '1211' '825' '634' '1531' '1631'\n",
      " '2525' '1722' '835' '915' '832' '1833' '2033' '1123' '924' '433' '221'\n",
      " '1223' '2012' '2011' '132' '323' '1524' '713' '1122' '1225' '1125' '1014'\n",
      " '214' '223' '1112' '935' '813' '732' '2013' '2522' '1723' '2413' '1623'\n",
      " '934' '1612' '322' '1511' '621' '2232' '1633' '1512' '726' '1131' '421'\n",
      " '1613' '1213' '1132' '1021' '922' '321' '624' '1811' '631' '1421' '1033'\n",
      " '231' '2514' '731' '734' '1914' '512' '931' '1931' '312' '925' '522'\n",
      " '735' '1413' '715' '2221' '2431' '124' '332' '1423' '1134' '235' '333'\n",
      " '2234' '414' '424' '1231' '921' '1533' '1024' '1823' '213' '112' '133'\n",
      " '712' '314' '1915' '1114' '1831' '2422' '311' '2513' '113' '1812' '215'\n",
      " '2023' '613' '232' '723' '1614' '531' '1651' nan]\n",
      "num_units ['2' '3' '1' '4' '5' '8' '7' '6' '9' '11' '10' '12' '14' '15' '18' '16']\n",
      "most_severe_injury ['NO INDICATION OF INJURY' 'NONINCAPACITATING INJURY'\n",
      " 'REPORTED, NOT EVIDENT' 'INCAPACITATING INJURY' 'FATAL' nan]\n",
      "injuries_fatal ['0' '1' nan '2' '3' '4']\n",
      "injuries_incapacitating ['0' '1' '2' nan '4' '3' '5' '6' '7']\n",
      "injuries_non_incapacitating ['0' '1' '2' '3' '4' '5' nan '6' '7' '8' '10' '21' '14' '18' '9' '12' '11'\n",
      " '16']\n",
      "injuries_reported_not_evident ['0' '1' '2' nan '3' '5' '4' '11' '8' '6' '7' '9' '10' '15']\n",
      "injuries_no_indication ['3' '2' '1' '5' '4' '0' '6' '8' '9' nan '7' '11' '10' '24' '12' '27' '19'\n",
      " '16' '13' '30' '50' '18' '21' '17' '14' '42' '46' '26' '15' '22' '61'\n",
      " '38' '20' '34' '29' '40' '37' '28' '31' '36' '33' '32' '25' '39']\n",
      "injuries_unknown ['0' nan]\n",
      "crash_hour ['17' '16' '10' '1' '22' '14' '8' '4' '12' '11' '18' '15' '7' '19' '6' '5'\n",
      " '20' '3' '21' '13' '9' '23' '2' '0']\n",
      "crash_day_of_week ['4' '6' '7' '5' '2' '3' '1']\n",
      "crash_month ['7' '6' '3' '8' '5' '1' '12' '2' '10' '11' '9' '4']\n",
      "latitude ['41.919663833' '41.741803599' '41.773455972' ... '41.794704397'\n",
      " '41.999599576' '41.92470866']\n",
      "longitude ['-87.773287883' '-87.740953582' '-87.585022352' ... '-87.663535609'\n",
      " '-87.681263763' '-87.717371333']\n",
      "lane_cnt [nan '4' '2' '6' '3' '0' '5' '1' '99' '8' '10' '7' '40' '9' '16' '12' '28'\n",
      " '20' '11' '14' '22' '15' '41' '433634' '25' '30' '35' '1191625' '60' '19'\n",
      " '400' '21' '902' '100' '299679' '17' '45' '218474' '80' '24' '44']\n",
      "intersection_related_i [nan 'Y' 'N']\n",
      "crash_date_est_i [nan 'Y' 'N']\n",
      "work_zone_i [nan 'Y' 'N']\n",
      "work_zone_type [nan 'MAINTENANCE' 'CONSTRUCTION' 'UTILITY' 'UNKNOWN']\n",
      "workers_present_i [nan 'Y' 'N']\n"
     ]
    }
   ],
   "source": [
    "# What's in this data?\n",
    "col_interest = ['traffic_control_device', 'device_condition', 'weather_condition',\n",
    "       'lighting_condition', 'first_crash_type', 'trafficway_type',\n",
    "       'alignment', 'roadway_surface_cond', 'road_defect', 'report_type',\n",
    "       'crash_type', 'hit_and_run_i', 'damage', 'prim_contributory_cause',\n",
    "       'sec_contributory_cause', 'street_no', 'street_direction',\n",
    "       'street_name', 'beat_of_occurrence', 'num_units', 'most_severe_injury', \n",
    "        'injuries_fatal', 'injuries_incapacitating',\n",
    "       'injuries_non_incapacitating', 'injuries_reported_not_evident',\n",
    "       'injuries_no_indication', 'injuries_unknown', 'crash_hour',\n",
    "       'crash_day_of_week', 'crash_month', 'latitude', 'longitude', 'lane_cnt',\n",
    "       'intersection_related_i', 'crash_date_est_i',\n",
    "       'work_zone_i', 'work_zone_type',\n",
    "       'workers_present_i']\n",
    "\n",
    "for col in col_interest:\n",
    "    print(col, crash_df[col].unique())"
   ]
  },
  {
   "cell_type": "markdown",
   "metadata": {},
   "source": [
    "### Filter for desired crashes (intersections with signal)\n",
    "This helps us.  \n",
    "We can filter 'traffic_control_device' == 'TRAFFIC SIGNAL'.  \n",
    "We can filter 'intersection_related_i' == 'Y'\n",
    "\n",
    "This will leave us with only crashes that occurred at/because of intersections, and with a signal at the intersection.\n",
    "\n",
    "intersection_related_i: A field observation by the police officer whether an intersection played a role in the crash. Does not represent whether or not the crash occurred within the intersection."
   ]
  },
  {
   "cell_type": "code",
   "execution_count": 58,
   "metadata": {},
   "outputs": [
    {
     "name": "stdout",
     "output_type": "stream",
     "text": [
      "[('hourly_congestion',), ('hourly_weather',), ('region_data',), ('all_hours',), ('int_startend',), ('signal_crashes',), ('intersection_chars',), ('cam_locations',), ('cam_startend',), ('daily_violations',), ('intersection_cams',), ('all_crashes',)]\n"
     ]
    }
   ],
   "source": [
    "make_table(crash_df, 'all_crashes', c, conn)\n",
    "\n",
    "crash_df = crash_df[(crash_df['traffic_control_device']=='TRAFFIC SIGNAL') & \\\n",
    "                    (crash_df['intersection_related_i']=='Y')]"
   ]
  },
  {
   "cell_type": "markdown",
   "metadata": {},
   "source": [
    "### Add the intersection to my crashes\n",
    "\n",
    "Will look up each lat long for crash and get the corresponding intersection if we have it.\n",
    "Look up using geo equations took forever.  Also slow using pythag thrm."
   ]
  },
  {
   "cell_type": "code",
   "execution_count": 59,
   "metadata": {},
   "outputs": [],
   "source": [
    "#⏳⏳⏳⏳⏳\n",
    "# This takes too long to process.  Let's simplify it and make it a box instead.\n",
    "box_side = 100  # effectively makes it check for crash being within 40m of intersection\n",
    "box_lat = box_side / 111070 / 2 # 111070 is meters in deg lat in Chicago\n",
    "box_long = box_side / 83000 / 2 # 83000 is meters in deg long in Chicago\n",
    "\n",
    "def box_check(lat, long, int_df):\n",
    "    answer = (int_df[  (int_df['lat'] > (lat - box_lat)) & \n",
    "                      (int_df['lat'] < (lat + box_lat)) &\n",
    "                      (int_df['long'] > (long - box_long)) &\n",
    "                      (int_df['long'] < (long + box_long))\n",
    "                     ])\n",
    "    if answer.empty: return None\n",
    "    return answer['intersection'].values[0]\n",
    "    \n",
    "# THIS SEEMS TO WORK WITH SPEED AND ELIMINATES MEMORY PROBLEM\n",
    "crash_df['intersection'] = crash_df.apply(lambda x: box_check(float(x.latitude), \n",
    "                                                              float(x.longitude), \n",
    "                                                              int_df), axis=1)"
   ]
  },
  {
   "cell_type": "code",
   "execution_count": 60,
   "metadata": {},
   "outputs": [],
   "source": [
    "# #Ex: df[['two', 'three']] = df[['two', 'three']].astype(float)\n",
    "crash_df['crash_date'] = pd.to_datetime(crash_df['crash_date'])\n",
    "crash_df['year'] = crash_df['crash_date'].apply(lambda x: int(x.year))\n",
    "crash_df['month'] = crash_df['crash_date'].apply(lambda x: int(x.month))\n",
    "crash_df['day'] = crash_df['crash_date'].apply(lambda x: int(x.day))\n",
    "crash_df['hour'] = crash_df['crash_date'].apply(lambda x: int(x.hour))"
   ]
  },
  {
   "cell_type": "code",
   "execution_count": 61,
   "metadata": {},
   "outputs": [
    {
     "name": "stdout",
     "output_type": "stream",
     "text": [
      "<class 'pandas.core.frame.DataFrame'>\n",
      "Int64Index: 60158 entries, 5 to 463869\n",
      "Data columns (total 48 columns):\n",
      "crash_record_id                  60158 non-null object\n",
      "rd_no                            59698 non-null object\n",
      "crash_date                       60158 non-null datetime64[ns]\n",
      "posted_speed_limit               60158 non-null object\n",
      "traffic_control_device           60158 non-null object\n",
      "device_condition                 60158 non-null object\n",
      "weather_condition                60158 non-null object\n",
      "lighting_condition               60158 non-null object\n",
      "first_crash_type                 60158 non-null object\n",
      "trafficway_type                  60158 non-null object\n",
      "alignment                        60158 non-null object\n",
      "roadway_surface_cond             60158 non-null object\n",
      "road_defect                      60158 non-null object\n",
      "report_type                      58343 non-null object\n",
      "crash_type                       60158 non-null object\n",
      "damage                           60158 non-null object\n",
      "prim_contributory_cause          60158 non-null object\n",
      "sec_contributory_cause           60158 non-null object\n",
      "street_no                        60158 non-null object\n",
      "street_direction                 60158 non-null object\n",
      "street_name                      60158 non-null object\n",
      "beat_of_occurrence               60158 non-null object\n",
      "num_units                        60158 non-null object\n",
      "most_severe_injury               60141 non-null object\n",
      "injuries_total                   60141 non-null object\n",
      "injuries_fatal                   60141 non-null object\n",
      "injuries_incapacitating          60141 non-null object\n",
      "injuries_non_incapacitating      60141 non-null object\n",
      "injuries_reported_not_evident    60141 non-null object\n",
      "injuries_no_indication           60141 non-null object\n",
      "injuries_unknown                 60141 non-null object\n",
      "crash_hour                       60158 non-null object\n",
      "crash_day_of_week                60158 non-null object\n",
      "crash_month                      60158 non-null object\n",
      "latitude                         60158 non-null object\n",
      "longitude                        60158 non-null object\n",
      "lane_cnt                         25965 non-null object\n",
      "intersection_related_i           60158 non-null object\n",
      "hit_and_run_i                    11475 non-null object\n",
      "crash_date_est_i                 2623 non-null object\n",
      "work_zone_i                      457 non-null object\n",
      "work_zone_type                   358 non-null object\n",
      "workers_present_i                98 non-null object\n",
      "intersection                     8661 non-null object\n",
      "year                             60158 non-null int64\n",
      "month                            60158 non-null int64\n",
      "day                              60158 non-null int64\n",
      "hour                             60158 non-null int64\n",
      "dtypes: datetime64[ns](1), int64(4), object(43)\n",
      "memory usage: 22.5+ MB\n"
     ]
    }
   ],
   "source": [
    "crash_df.info()"
   ]
  },
  {
   "cell_type": "markdown",
   "metadata": {},
   "source": [
    "### Create signal_crashes TABLE - from crash_df"
   ]
  },
  {
   "cell_type": "code",
   "execution_count": 62,
   "metadata": {},
   "outputs": [
    {
     "name": "stdout",
     "output_type": "stream",
     "text": [
      "[('hourly_congestion',), ('hourly_weather',), ('region_data',), ('all_hours',), ('int_startend',), ('intersection_chars',), ('cam_locations',), ('cam_startend',), ('daily_violations',), ('intersection_cams',), ('all_crashes',), ('signal_crashes',)]\n"
     ]
    }
   ],
   "source": [
    "make_table(crash_df, 'signal_crashes', c, conn)"
   ]
  },
  {
   "cell_type": "markdown",
   "metadata": {},
   "source": [
    "## 6) Create hourly_congestion TABLE from all_traffic\n",
    "For this one, we have to combine two different datasets.  Chicago changed the way data was recorded in 2018.  Columns are similar, but more data collected."
   ]
  },
  {
   "cell_type": "code",
   "execution_count": 63,
   "metadata": {},
   "outputs": [],
   "source": [
    "# Congestion Data\n",
    "traffic_df = client.get(\"emtn-qqdi\", \n",
    "                     #where=\"TIME > \\'2015-01-01T00:00:00.000\\'\",\n",
    "                     where='TIME > \\'2016-01-01T00:00:00.000\\'',\n",
    "                     limit=10000000,\n",
    "                    )\n",
    "\n",
    "traffic_df = pd.DataFrame.from_records(traffic_df) # Convert to pandas DataFrame"
   ]
  },
  {
   "cell_type": "markdown",
   "metadata": {},
   "source": [
    "### Clean up my datatypes before preprocessing\n",
    "Won't be able to table it until we get both datasets"
   ]
  },
  {
   "cell_type": "code",
   "execution_count": 64,
   "metadata": {},
   "outputs": [],
   "source": [
    "traffic_df.rename(columns={'number_of_reads':'num_reads'}, inplace=True)\n",
    "traffic_df['time'] = pd.to_datetime(traffic_df['time'])\n",
    "traffic_df['bus_count'] = traffic_df['bus_count'].astype(int)\n",
    "traffic_df['num_reads'] = traffic_df['num_reads'].astype(int)\n",
    "traffic_df['speed'] = traffic_df['speed'].astype(float)"
   ]
  },
  {
   "cell_type": "markdown",
   "metadata": {},
   "source": [
    "### On to the other dataset"
   ]
  },
  {
   "cell_type": "code",
   "execution_count": 65,
   "metadata": {},
   "outputs": [],
   "source": [
    "# Congestion data from later\n",
    "traffic_df2 = client.get(\"kf7e-cur8\", #2018 to present\n",
    "                     select='time, region_id, speed, bus_count, num_reads',  # this set is huge, so we won't get all       \n",
    "                     where=\"TIME < \\'2021-01-01T00:00:00.000\\'\",\n",
    "                     limit=10000000,\n",
    "                    )\n",
    "\n",
    "# Convert to pandas DataFrame\n",
    "traffic_df2 = pd.DataFrame.from_records(traffic_df2)\n"
   ]
  },
  {
   "cell_type": "code",
   "execution_count": 66,
   "metadata": {},
   "outputs": [],
   "source": [
    "#traffic2_df.rename(columns={'number_of_reads':'num_reads'}, inplace=True)\n",
    "traffic_df2['time'] = pd.to_datetime(traffic_df2['time'])\n",
    "traffic_df2['bus_count'] = traffic_df2['bus_count'].astype(int)\n",
    "traffic_df2['num_reads'] = traffic_df2['num_reads'].astype(int)\n",
    "traffic_df2['speed'] = traffic_df2['speed'].astype(float)"
   ]
  },
  {
   "cell_type": "markdown",
   "metadata": {},
   "source": [
    "## Now get the congestion data processed\n",
    "We have two separate traffic_dfs.  There is data prior to 2018 and after in two different api endpoints.\n"
   ]
  },
  {
   "cell_type": "code",
   "execution_count": 67,
   "metadata": {},
   "outputs": [
    {
     "name": "stdout",
     "output_type": "stream",
     "text": [
      "<class 'pandas.core.frame.DataFrame'>\n",
      "RangeIndex: 3959185 entries, 0 to 3959184\n",
      "Data columns (total 5 columns):\n",
      "time         datetime64[ns]\n",
      "region_id    object\n",
      "speed        float64\n",
      "bus_count    int64\n",
      "num_reads    int64\n",
      "dtypes: datetime64[ns](1), float64(1), int64(2), object(1)\n",
      "memory usage: 151.0+ MB\n",
      "\n",
      "<class 'pandas.core.frame.DataFrame'>\n",
      "RangeIndex: 3507463 entries, 0 to 3507462\n",
      "Data columns (total 5 columns):\n",
      "time         datetime64[ns]\n",
      "region_id    object\n",
      "bus_count    int64\n",
      "num_reads    int64\n",
      "speed        float64\n",
      "dtypes: datetime64[ns](1), float64(1), int64(2), object(1)\n",
      "memory usage: 133.8+ MB\n"
     ]
    }
   ],
   "source": [
    "traffic_df.head()\n",
    "traffic_df2.head()\n",
    "traffic_df2.info()\n",
    "print()\n",
    "traffic_df.info()"
   ]
  },
  {
   "cell_type": "code",
   "execution_count": 68,
   "metadata": {},
   "outputs": [
    {
     "name": "stdout",
     "output_type": "stream",
     "text": [
      "traffic dfs merged\n"
     ]
    }
   ],
   "source": [
    "# Merge my two data sets for congestion by region\n",
    "all_traffic = pd.merge(traffic_df, traffic_df2, how='outer')\n",
    "print('traffic dfs merged')"
   ]
  },
  {
   "cell_type": "code",
   "execution_count": 69,
   "metadata": {},
   "outputs": [
    {
     "name": "stdout",
     "output_type": "stream",
     "text": [
      "added hour column\n",
      "added day column\n",
      "added month column\n",
      "added year column\n",
      "added weekday column\n"
     ]
    }
   ],
   "source": [
    "all_traffic['hour'] = all_traffic['time'].dt.hour\n",
    "print('added hour column')\n",
    "\n",
    "all_traffic['day'] = all_traffic.time.dt.day\n",
    "print('added day column')\n",
    "\n",
    "all_traffic['month'] = all_traffic.time.dt.month\n",
    "print('added month column')\n",
    "\n",
    "all_traffic['year'] = all_traffic.time.dt.year\n",
    "print('added year column')\n",
    "\n",
    "all_traffic['weekday'] = all_traffic.time.dt.weekday\n",
    "print('added weekday column')"
   ]
  },
  {
   "cell_type": "code",
   "execution_count": 70,
   "metadata": {},
   "outputs": [
    {
     "name": "stdout",
     "output_type": "stream",
     "text": [
      "7256572\n",
      "<class 'pandas.core.frame.DataFrame'>\n",
      "RangeIndex: 1242940 entries, 0 to 1242939\n",
      "Data columns (total 9 columns):\n",
      "year         1242940 non-null int64\n",
      "month        1242940 non-null int64\n",
      "day          1242940 non-null int64\n",
      "hour         1242940 non-null int64\n",
      "region_id    1242940 non-null object\n",
      "bus_count    1242940 non-null float64\n",
      "num_reads    1242940 non-null float64\n",
      "speed        1242940 non-null float64\n",
      "weekday      1242940 non-null float64\n",
      "dtypes: float64(4), int64(4), object(1)\n",
      "memory usage: 85.3+ MB\n"
     ]
    }
   ],
   "source": [
    "print(len(all_traffic))  # lots of dupes \n",
    "all_traffic = all_traffic.groupby(['year', 'month', 'day', 'hour', 'region_id']).mean().reset_index()\n",
    "all_traffic.info()"
   ]
  },
  {
   "cell_type": "code",
   "execution_count": 71,
   "metadata": {},
   "outputs": [
    {
     "data": {
      "text/html": [
       "<div>\n",
       "<style scoped>\n",
       "    .dataframe tbody tr th:only-of-type {\n",
       "        vertical-align: middle;\n",
       "    }\n",
       "\n",
       "    .dataframe tbody tr th {\n",
       "        vertical-align: top;\n",
       "    }\n",
       "\n",
       "    .dataframe thead th {\n",
       "        text-align: right;\n",
       "    }\n",
       "</style>\n",
       "<table border=\"1\" class=\"dataframe\">\n",
       "  <thead>\n",
       "    <tr style=\"text-align: right;\">\n",
       "      <th></th>\n",
       "      <th>year</th>\n",
       "      <th>month</th>\n",
       "      <th>day</th>\n",
       "      <th>hour</th>\n",
       "      <th>region_id</th>\n",
       "      <th>bus_count</th>\n",
       "      <th>num_reads</th>\n",
       "      <th>speed</th>\n",
       "      <th>weekday</th>\n",
       "    </tr>\n",
       "  </thead>\n",
       "  <tbody>\n",
       "    <tr>\n",
       "      <td>0</td>\n",
       "      <td>2016</td>\n",
       "      <td>1</td>\n",
       "      <td>1</td>\n",
       "      <td>0</td>\n",
       "      <td>1</td>\n",
       "      <td>6.8</td>\n",
       "      <td>120.2</td>\n",
       "      <td>27.062</td>\n",
       "      <td>4.0</td>\n",
       "    </tr>\n",
       "    <tr>\n",
       "      <td>1</td>\n",
       "      <td>2016</td>\n",
       "      <td>1</td>\n",
       "      <td>1</td>\n",
       "      <td>0</td>\n",
       "      <td>10</td>\n",
       "      <td>34.0</td>\n",
       "      <td>390.8</td>\n",
       "      <td>24.834</td>\n",
       "      <td>4.0</td>\n",
       "    </tr>\n",
       "    <tr>\n",
       "      <td>2</td>\n",
       "      <td>2016</td>\n",
       "      <td>1</td>\n",
       "      <td>1</td>\n",
       "      <td>0</td>\n",
       "      <td>11</td>\n",
       "      <td>16.2</td>\n",
       "      <td>265.8</td>\n",
       "      <td>26.004</td>\n",
       "      <td>4.0</td>\n",
       "    </tr>\n",
       "    <tr>\n",
       "      <td>3</td>\n",
       "      <td>2016</td>\n",
       "      <td>1</td>\n",
       "      <td>1</td>\n",
       "      <td>0</td>\n",
       "      <td>12</td>\n",
       "      <td>25.0</td>\n",
       "      <td>350.8</td>\n",
       "      <td>16.526</td>\n",
       "      <td>4.0</td>\n",
       "    </tr>\n",
       "    <tr>\n",
       "      <td>4</td>\n",
       "      <td>2016</td>\n",
       "      <td>1</td>\n",
       "      <td>1</td>\n",
       "      <td>0</td>\n",
       "      <td>13</td>\n",
       "      <td>33.6</td>\n",
       "      <td>511.4</td>\n",
       "      <td>18.136</td>\n",
       "      <td>4.0</td>\n",
       "    </tr>\n",
       "  </tbody>\n",
       "</table>\n",
       "</div>"
      ],
      "text/plain": [
       "   year  month  day  hour region_id  bus_count  num_reads   speed  weekday\n",
       "0  2016      1    1     0         1        6.8      120.2  27.062      4.0\n",
       "1  2016      1    1     0        10       34.0      390.8  24.834      4.0\n",
       "2  2016      1    1     0        11       16.2      265.8  26.004      4.0\n",
       "3  2016      1    1     0        12       25.0      350.8  16.526      4.0\n",
       "4  2016      1    1     0        13       33.6      511.4  18.136      4.0"
      ]
     },
     "execution_count": 71,
     "metadata": {},
     "output_type": "execute_result"
    }
   ],
   "source": [
    "all_traffic.head()"
   ]
  },
  {
   "cell_type": "code",
   "execution_count": 72,
   "metadata": {},
   "outputs": [
    {
     "name": "stdout",
     "output_type": "stream",
     "text": [
      "[('hourly_weather',), ('region_data',), ('all_hours',), ('int_startend',), ('intersection_chars',), ('cam_locations',), ('cam_startend',), ('daily_violations',), ('intersection_cams',), ('all_crashes',), ('signal_crashes',), ('hourly_congestion',)]\n"
     ]
    }
   ],
   "source": [
    "# couple minutes\n",
    "make_table(all_traffic, 'hourly_congestion', c, conn)"
   ]
  },
  {
   "cell_type": "markdown",
   "metadata": {},
   "source": [
    "# Speed fix for congestion\n",
    "Congestion is measured by average bus speed.\n",
    "\n",
    "The problem:\n",
    "- Overnight (between 11 and 5am) we have few bus routes.\n",
    "- Some regions have no buses overnight\n",
    "- Some regions have only a few buses \n",
    "- Some buses are ending routes and have only a few reads\n",
    "- Some buses are stationary (next morning staging)\n",
    "\n",
    "The fix:\n",
    "- replace speed for few buses/reads if speed is low\n",
    "- we assume low buses/reads to be overnight when congestion is minimal\n",
    "- replacement speed is a low congestion quantile speed (90% or so)"
   ]
  },
  {
   "cell_type": "code",
   "execution_count": 73,
   "metadata": {},
   "outputs": [],
   "source": [
    "## Let's get the 0.90 quantile for every region, and then use that to fill in missing data\n",
    "\n",
    "regions_90 = all_traffic.groupby(['region_id'])['speed'].quantile(0.9).reset_index()\n"
   ]
  },
  {
   "cell_type": "code",
   "execution_count": 74,
   "metadata": {},
   "outputs": [
    {
     "data": {
      "text/html": [
       "<div>\n",
       "<style scoped>\n",
       "    .dataframe tbody tr th:only-of-type {\n",
       "        vertical-align: middle;\n",
       "    }\n",
       "\n",
       "    .dataframe tbody tr th {\n",
       "        vertical-align: top;\n",
       "    }\n",
       "\n",
       "    .dataframe thead th {\n",
       "        text-align: right;\n",
       "    }\n",
       "</style>\n",
       "<table border=\"1\" class=\"dataframe\">\n",
       "  <thead>\n",
       "    <tr style=\"text-align: right;\">\n",
       "      <th></th>\n",
       "      <th>region_id</th>\n",
       "      <th>speed</th>\n",
       "    </tr>\n",
       "  </thead>\n",
       "  <tbody>\n",
       "    <tr>\n",
       "      <td>0</td>\n",
       "      <td>1</td>\n",
       "      <td>25.068333</td>\n",
       "    </tr>\n",
       "    <tr>\n",
       "      <td>1</td>\n",
       "      <td>10</td>\n",
       "      <td>26.453400</td>\n",
       "    </tr>\n",
       "    <tr>\n",
       "      <td>2</td>\n",
       "      <td>11</td>\n",
       "      <td>26.808033</td>\n",
       "    </tr>\n",
       "    <tr>\n",
       "      <td>3</td>\n",
       "      <td>12</td>\n",
       "      <td>23.136667</td>\n",
       "    </tr>\n",
       "    <tr>\n",
       "      <td>4</td>\n",
       "      <td>13</td>\n",
       "      <td>24.143667</td>\n",
       "    </tr>\n",
       "  </tbody>\n",
       "</table>\n",
       "</div>"
      ],
      "text/plain": [
       "  region_id      speed\n",
       "0         1  25.068333\n",
       "1        10  26.453400\n",
       "2        11  26.808033\n",
       "3        12  23.136667\n",
       "4        13  24.143667"
      ]
     },
     "execution_count": 74,
     "metadata": {},
     "output_type": "execute_result"
    }
   ],
   "source": [
    "regions_90.head()\n"
   ]
  },
  {
   "cell_type": "code",
   "execution_count": 75,
   "metadata": {},
   "outputs": [],
   "source": [
    "#### 5 MINUTES OR SO\n",
    "\n",
    "#my read on this is that few buses run 24/7, so the data is unreliable.  \n",
    "# buses stage for next morning.  You can see them all along Clark, LSD etc.  \n",
    "# They have speed=0 and may be recording.  Could talk to owner of dataset.\n",
    "\n",
    "# I will draw the cutoff at 100 reads, 5 buses, speed < 10\n",
    "# in that case I will put in a quantile speed for the region\n",
    "\n",
    "\n",
    "def speed_check(bus, speed, reads, region_id, regions_90):\n",
    "    if (bus <= 5 or reads < 100) and speed < 25 or speed > 40:\n",
    "        return regions_90[regions_90['region_id']==region_id]['speed'].values[0]\n",
    "    else:\n",
    "        return speed\n",
    "    \n",
    "\n",
    "# apply is SLOOOOOOWWW, but not sure how else to accomplish this without iter\n",
    "all_traffic['speed'] = all_traffic.apply(lambda x: speed_check(x.bus_count, x.speed, x.num_reads, x.region_id, regions_90), axis=1)\n",
    "      \n"
   ]
  },
  {
   "cell_type": "code",
   "execution_count": 76,
   "metadata": {},
   "outputs": [
    {
     "name": "stdout",
     "output_type": "stream",
     "text": [
      "[('hourly_weather',), ('region_data',), ('all_hours',), ('int_startend',), ('intersection_chars',), ('cam_locations',), ('cam_startend',), ('daily_violations',), ('intersection_cams',), ('all_crashes',), ('signal_crashes',), ('hourly_congestion',)]\n"
     ]
    }
   ],
   "source": [
    "make_table(all_traffic, 'hourly_congestion', c, conn)"
   ]
  },
  {
   "cell_type": "markdown",
   "metadata": {},
   "source": [
    "## 7) Create hourly_weather from wx_df"
   ]
  },
  {
   "cell_type": "code",
   "execution_count": 77,
   "metadata": {},
   "outputs": [],
   "source": [
    "# Import weather data from csv\n",
    "wx_df = pd.read_csv('data/chi_wx.csv')"
   ]
  },
  {
   "cell_type": "code",
   "execution_count": 78,
   "metadata": {},
   "outputs": [
    {
     "data": {
      "text/html": [
       "<div>\n",
       "<style scoped>\n",
       "    .dataframe tbody tr th:only-of-type {\n",
       "        vertical-align: middle;\n",
       "    }\n",
       "\n",
       "    .dataframe tbody tr th {\n",
       "        vertical-align: top;\n",
       "    }\n",
       "\n",
       "    .dataframe thead th {\n",
       "        text-align: right;\n",
       "    }\n",
       "</style>\n",
       "<table border=\"1\" class=\"dataframe\">\n",
       "  <thead>\n",
       "    <tr style=\"text-align: right;\">\n",
       "      <th></th>\n",
       "      <th>dt</th>\n",
       "      <th>dt_iso</th>\n",
       "      <th>timezone</th>\n",
       "      <th>city_name</th>\n",
       "      <th>lat</th>\n",
       "      <th>lon</th>\n",
       "      <th>temp</th>\n",
       "      <th>feels_like</th>\n",
       "      <th>temp_min</th>\n",
       "      <th>temp_max</th>\n",
       "      <th>...</th>\n",
       "      <th>wind_deg</th>\n",
       "      <th>rain_1h</th>\n",
       "      <th>rain_3h</th>\n",
       "      <th>snow_1h</th>\n",
       "      <th>snow_3h</th>\n",
       "      <th>clouds_all</th>\n",
       "      <th>weather_id</th>\n",
       "      <th>weather_main</th>\n",
       "      <th>weather_description</th>\n",
       "      <th>weather_icon</th>\n",
       "    </tr>\n",
       "  </thead>\n",
       "  <tbody>\n",
       "    <tr>\n",
       "      <td>0</td>\n",
       "      <td>1420070400</td>\n",
       "      <td>2015-01-01 00:00:00 +0000 UTC</td>\n",
       "      <td>-21600</td>\n",
       "      <td>Chicago IL. USA</td>\n",
       "      <td>41.878114</td>\n",
       "      <td>-87.629798</td>\n",
       "      <td>265.96</td>\n",
       "      <td>258.16</td>\n",
       "      <td>264.85</td>\n",
       "      <td>267.708</td>\n",
       "      <td>...</td>\n",
       "      <td>230</td>\n",
       "      <td>NaN</td>\n",
       "      <td>NaN</td>\n",
       "      <td>NaN</td>\n",
       "      <td>NaN</td>\n",
       "      <td>1</td>\n",
       "      <td>800</td>\n",
       "      <td>Clear</td>\n",
       "      <td>sky is clear</td>\n",
       "      <td>01n</td>\n",
       "    </tr>\n",
       "    <tr>\n",
       "      <td>1</td>\n",
       "      <td>1420074000</td>\n",
       "      <td>2015-01-01 01:00:00 +0000 UTC</td>\n",
       "      <td>-21600</td>\n",
       "      <td>Chicago IL. USA</td>\n",
       "      <td>41.878114</td>\n",
       "      <td>-87.629798</td>\n",
       "      <td>266.13</td>\n",
       "      <td>256.52</td>\n",
       "      <td>265.35</td>\n",
       "      <td>267.926</td>\n",
       "      <td>...</td>\n",
       "      <td>230</td>\n",
       "      <td>NaN</td>\n",
       "      <td>NaN</td>\n",
       "      <td>NaN</td>\n",
       "      <td>NaN</td>\n",
       "      <td>20</td>\n",
       "      <td>801</td>\n",
       "      <td>Clouds</td>\n",
       "      <td>few clouds</td>\n",
       "      <td>02n</td>\n",
       "    </tr>\n",
       "    <tr>\n",
       "      <td>2</td>\n",
       "      <td>1420077600</td>\n",
       "      <td>2015-01-01 02:00:00 +0000 UTC</td>\n",
       "      <td>-21600</td>\n",
       "      <td>Chicago IL. USA</td>\n",
       "      <td>41.878114</td>\n",
       "      <td>-87.629798</td>\n",
       "      <td>266.17</td>\n",
       "      <td>257.70</td>\n",
       "      <td>265.35</td>\n",
       "      <td>268.098</td>\n",
       "      <td>...</td>\n",
       "      <td>230</td>\n",
       "      <td>NaN</td>\n",
       "      <td>NaN</td>\n",
       "      <td>NaN</td>\n",
       "      <td>NaN</td>\n",
       "      <td>20</td>\n",
       "      <td>801</td>\n",
       "      <td>Clouds</td>\n",
       "      <td>few clouds</td>\n",
       "      <td>02n</td>\n",
       "    </tr>\n",
       "    <tr>\n",
       "      <td>3</td>\n",
       "      <td>1420081200</td>\n",
       "      <td>2015-01-01 03:00:00 +0000 UTC</td>\n",
       "      <td>-21600</td>\n",
       "      <td>Chicago IL. USA</td>\n",
       "      <td>41.878114</td>\n",
       "      <td>-87.629798</td>\n",
       "      <td>266.39</td>\n",
       "      <td>257.56</td>\n",
       "      <td>265.35</td>\n",
       "      <td>268.157</td>\n",
       "      <td>...</td>\n",
       "      <td>240</td>\n",
       "      <td>NaN</td>\n",
       "      <td>NaN</td>\n",
       "      <td>NaN</td>\n",
       "      <td>NaN</td>\n",
       "      <td>1</td>\n",
       "      <td>800</td>\n",
       "      <td>Clear</td>\n",
       "      <td>sky is clear</td>\n",
       "      <td>01n</td>\n",
       "    </tr>\n",
       "    <tr>\n",
       "      <td>4</td>\n",
       "      <td>1420084800</td>\n",
       "      <td>2015-01-01 04:00:00 +0000 UTC</td>\n",
       "      <td>-21600</td>\n",
       "      <td>Chicago IL. USA</td>\n",
       "      <td>41.878114</td>\n",
       "      <td>-87.629798</td>\n",
       "      <td>266.47</td>\n",
       "      <td>256.50</td>\n",
       "      <td>265.35</td>\n",
       "      <td>268.121</td>\n",
       "      <td>...</td>\n",
       "      <td>240</td>\n",
       "      <td>NaN</td>\n",
       "      <td>NaN</td>\n",
       "      <td>NaN</td>\n",
       "      <td>NaN</td>\n",
       "      <td>1</td>\n",
       "      <td>800</td>\n",
       "      <td>Clear</td>\n",
       "      <td>sky is clear</td>\n",
       "      <td>01n</td>\n",
       "    </tr>\n",
       "  </tbody>\n",
       "</table>\n",
       "<p>5 rows × 25 columns</p>\n",
       "</div>"
      ],
      "text/plain": [
       "           dt                         dt_iso  timezone        city_name  \\\n",
       "0  1420070400  2015-01-01 00:00:00 +0000 UTC    -21600  Chicago IL. USA   \n",
       "1  1420074000  2015-01-01 01:00:00 +0000 UTC    -21600  Chicago IL. USA   \n",
       "2  1420077600  2015-01-01 02:00:00 +0000 UTC    -21600  Chicago IL. USA   \n",
       "3  1420081200  2015-01-01 03:00:00 +0000 UTC    -21600  Chicago IL. USA   \n",
       "4  1420084800  2015-01-01 04:00:00 +0000 UTC    -21600  Chicago IL. USA   \n",
       "\n",
       "         lat        lon    temp  feels_like  temp_min  temp_max  ...  \\\n",
       "0  41.878114 -87.629798  265.96      258.16    264.85   267.708  ...   \n",
       "1  41.878114 -87.629798  266.13      256.52    265.35   267.926  ...   \n",
       "2  41.878114 -87.629798  266.17      257.70    265.35   268.098  ...   \n",
       "3  41.878114 -87.629798  266.39      257.56    265.35   268.157  ...   \n",
       "4  41.878114 -87.629798  266.47      256.50    265.35   268.121  ...   \n",
       "\n",
       "   wind_deg  rain_1h  rain_3h  snow_1h  snow_3h  clouds_all  weather_id  \\\n",
       "0       230      NaN      NaN      NaN      NaN           1         800   \n",
       "1       230      NaN      NaN      NaN      NaN          20         801   \n",
       "2       230      NaN      NaN      NaN      NaN          20         801   \n",
       "3       240      NaN      NaN      NaN      NaN           1         800   \n",
       "4       240      NaN      NaN      NaN      NaN           1         800   \n",
       "\n",
       "   weather_main  weather_description  weather_icon  \n",
       "0         Clear         sky is clear           01n  \n",
       "1        Clouds           few clouds           02n  \n",
       "2        Clouds           few clouds           02n  \n",
       "3         Clear         sky is clear           01n  \n",
       "4         Clear         sky is clear           01n  \n",
       "\n",
       "[5 rows x 25 columns]"
      ]
     },
     "execution_count": 78,
     "metadata": {},
     "output_type": "execute_result"
    }
   ],
   "source": [
    "wx_df.head()"
   ]
  },
  {
   "cell_type": "code",
   "execution_count": 79,
   "metadata": {},
   "outputs": [
    {
     "name": "stdout",
     "output_type": "stream",
     "text": [
      "<class 'pandas.core.frame.DataFrame'>\n",
      "RangeIndex: 55219 entries, 0 to 55218\n",
      "Data columns (total 26 columns):\n",
      "dt                     55219 non-null int64\n",
      "dt_iso                 55219 non-null object\n",
      "timezone               55219 non-null int64\n",
      "city_name              55219 non-null object\n",
      "lat                    55219 non-null float64\n",
      "lon                    55219 non-null float64\n",
      "temp                   55219 non-null float64\n",
      "feels_like             55219 non-null float64\n",
      "temp_min               55219 non-null float64\n",
      "temp_max               55219 non-null float64\n",
      "pressure               55219 non-null int64\n",
      "sea_level              0 non-null float64\n",
      "grnd_level             0 non-null float64\n",
      "humidity               55219 non-null int64\n",
      "wind_speed             55219 non-null float64\n",
      "wind_deg               55219 non-null int64\n",
      "rain_1h                6587 non-null float64\n",
      "rain_3h                816 non-null float64\n",
      "snow_1h                1538 non-null float64\n",
      "snow_3h                91 non-null float64\n",
      "clouds_all             55219 non-null int64\n",
      "weather_id             55219 non-null int64\n",
      "weather_main           55219 non-null object\n",
      "weather_description    55219 non-null object\n",
      "weather_icon           55219 non-null object\n",
      "time                   55219 non-null datetime64[ns, UTC]\n",
      "dtypes: datetime64[ns, UTC](1), float64(13), int64(7), object(5)\n",
      "memory usage: 11.0+ MB\n"
     ]
    }
   ],
   "source": [
    "wx_df['time'] = pd.to_datetime(wx_df['dt_iso'].apply(lambda x: x[:-4]))\n",
    "wx_df.head()\n",
    "wx_df.info()"
   ]
  },
  {
   "cell_type": "code",
   "execution_count": 80,
   "metadata": {},
   "outputs": [],
   "source": [
    "wx_df['rain_3h'] = wx_df['rain_3h'].fillna(0)\n",
    "wx_df['rain_1h'] = wx_df['rain_1h'].fillna(0)\n",
    "wx_df['snow_3h'] = wx_df['snow_3h'].fillna(0)\n",
    "wx_df['snow_1h'] = wx_df['snow_1h'].fillna(0)\n",
    "wx_df['temp'] = wx_df['temp_max']\n",
    "wx_df['year'] = wx_df.time.dt.year\n",
    "wx_df['month'] = wx_df.time.dt.month\n",
    "wx_df['day'] = wx_df.time.dt.day\n",
    "wx_df['hour'] = wx_df.time.dt.hour\n",
    "wx_df['weekday'] = wx_df.time.dt.weekday"
   ]
  },
  {
   "cell_type": "code",
   "execution_count": 81,
   "metadata": {},
   "outputs": [
    {
     "data": {
      "text/html": [
       "<div>\n",
       "<style scoped>\n",
       "    .dataframe tbody tr th:only-of-type {\n",
       "        vertical-align: middle;\n",
       "    }\n",
       "\n",
       "    .dataframe tbody tr th {\n",
       "        vertical-align: top;\n",
       "    }\n",
       "\n",
       "    .dataframe thead th {\n",
       "        text-align: right;\n",
       "    }\n",
       "</style>\n",
       "<table border=\"1\" class=\"dataframe\">\n",
       "  <thead>\n",
       "    <tr style=\"text-align: right;\">\n",
       "      <th></th>\n",
       "      <th>dt</th>\n",
       "      <th>timezone</th>\n",
       "      <th>lat</th>\n",
       "      <th>lon</th>\n",
       "      <th>temp</th>\n",
       "      <th>feels_like</th>\n",
       "      <th>temp_min</th>\n",
       "      <th>temp_max</th>\n",
       "      <th>pressure</th>\n",
       "      <th>sea_level</th>\n",
       "      <th>...</th>\n",
       "      <th>rain_3h</th>\n",
       "      <th>snow_1h</th>\n",
       "      <th>snow_3h</th>\n",
       "      <th>clouds_all</th>\n",
       "      <th>weather_id</th>\n",
       "      <th>year</th>\n",
       "      <th>month</th>\n",
       "      <th>day</th>\n",
       "      <th>hour</th>\n",
       "      <th>weekday</th>\n",
       "    </tr>\n",
       "  </thead>\n",
       "  <tbody>\n",
       "    <tr>\n",
       "      <td>count</td>\n",
       "      <td>5.521900e+04</td>\n",
       "      <td>55219.000000</td>\n",
       "      <td>5.521900e+04</td>\n",
       "      <td>5.521900e+04</td>\n",
       "      <td>55219.000000</td>\n",
       "      <td>55219.000000</td>\n",
       "      <td>55219.000000</td>\n",
       "      <td>55219.000000</td>\n",
       "      <td>55219.000000</td>\n",
       "      <td>0.0</td>\n",
       "      <td>...</td>\n",
       "      <td>55219.000000</td>\n",
       "      <td>55219.000000</td>\n",
       "      <td>55219.000000</td>\n",
       "      <td>55219.000000</td>\n",
       "      <td>55219.000000</td>\n",
       "      <td>55219.000000</td>\n",
       "      <td>55219.000000</td>\n",
       "      <td>55219.000000</td>\n",
       "      <td>55219.000000</td>\n",
       "      <td>55219.000000</td>\n",
       "    </tr>\n",
       "    <tr>\n",
       "      <td>mean</td>\n",
       "      <td>1.513951e+09</td>\n",
       "      <td>-19252.525399</td>\n",
       "      <td>4.187811e+01</td>\n",
       "      <td>-8.762980e+01</td>\n",
       "      <td>285.518514</td>\n",
       "      <td>280.257647</td>\n",
       "      <td>281.898104</td>\n",
       "      <td>285.518514</td>\n",
       "      <td>1016.055542</td>\n",
       "      <td>NaN</td>\n",
       "      <td>...</td>\n",
       "      <td>0.047967</td>\n",
       "      <td>0.013533</td>\n",
       "      <td>0.001809</td>\n",
       "      <td>61.031294</td>\n",
       "      <td>750.721907</td>\n",
       "      <td>2017.485087</td>\n",
       "      <td>6.395969</td>\n",
       "      <td>15.782557</td>\n",
       "      <td>11.455894</td>\n",
       "      <td>2.998443</td>\n",
       "    </tr>\n",
       "    <tr>\n",
       "      <td>std</td>\n",
       "      <td>5.388285e+07</td>\n",
       "      <td>1714.737534</td>\n",
       "      <td>7.105492e-15</td>\n",
       "      <td>4.263295e-14</td>\n",
       "      <td>11.064564</td>\n",
       "      <td>13.182997</td>\n",
       "      <td>10.354815</td>\n",
       "      <td>11.064564</td>\n",
       "      <td>7.584028</td>\n",
       "      <td>NaN</td>\n",
       "      <td>...</td>\n",
       "      <td>0.708266</td>\n",
       "      <td>0.123137</td>\n",
       "      <td>0.066962</td>\n",
       "      <td>32.047140</td>\n",
       "      <td>112.093082</td>\n",
       "      <td>1.695629</td>\n",
       "      <td>3.444176</td>\n",
       "      <td>8.817962</td>\n",
       "      <td>6.908119</td>\n",
       "      <td>1.999746</td>\n",
       "    </tr>\n",
       "    <tr>\n",
       "      <td>min</td>\n",
       "      <td>1.420070e+09</td>\n",
       "      <td>-21600.000000</td>\n",
       "      <td>4.187811e+01</td>\n",
       "      <td>-8.762980e+01</td>\n",
       "      <td>245.370000</td>\n",
       "      <td>233.180000</td>\n",
       "      <td>242.150000</td>\n",
       "      <td>245.370000</td>\n",
       "      <td>965.000000</td>\n",
       "      <td>NaN</td>\n",
       "      <td>...</td>\n",
       "      <td>0.000000</td>\n",
       "      <td>0.000000</td>\n",
       "      <td>0.000000</td>\n",
       "      <td>0.000000</td>\n",
       "      <td>200.000000</td>\n",
       "      <td>2015.000000</td>\n",
       "      <td>1.000000</td>\n",
       "      <td>1.000000</td>\n",
       "      <td>0.000000</td>\n",
       "      <td>0.000000</td>\n",
       "    </tr>\n",
       "    <tr>\n",
       "      <td>25%</td>\n",
       "      <td>1.467211e+09</td>\n",
       "      <td>-21600.000000</td>\n",
       "      <td>4.187811e+01</td>\n",
       "      <td>-8.762980e+01</td>\n",
       "      <td>276.480000</td>\n",
       "      <td>269.890000</td>\n",
       "      <td>274.150000</td>\n",
       "      <td>276.480000</td>\n",
       "      <td>1011.000000</td>\n",
       "      <td>NaN</td>\n",
       "      <td>...</td>\n",
       "      <td>0.000000</td>\n",
       "      <td>0.000000</td>\n",
       "      <td>0.000000</td>\n",
       "      <td>40.000000</td>\n",
       "      <td>800.000000</td>\n",
       "      <td>2016.000000</td>\n",
       "      <td>3.000000</td>\n",
       "      <td>8.000000</td>\n",
       "      <td>5.000000</td>\n",
       "      <td>1.000000</td>\n",
       "    </tr>\n",
       "    <tr>\n",
       "      <td>50%</td>\n",
       "      <td>1.514524e+09</td>\n",
       "      <td>-18000.000000</td>\n",
       "      <td>4.187811e+01</td>\n",
       "      <td>-8.762980e+01</td>\n",
       "      <td>285.193000</td>\n",
       "      <td>279.250000</td>\n",
       "      <td>281.161000</td>\n",
       "      <td>285.193000</td>\n",
       "      <td>1016.000000</td>\n",
       "      <td>NaN</td>\n",
       "      <td>...</td>\n",
       "      <td>0.000000</td>\n",
       "      <td>0.000000</td>\n",
       "      <td>0.000000</td>\n",
       "      <td>75.000000</td>\n",
       "      <td>802.000000</td>\n",
       "      <td>2017.000000</td>\n",
       "      <td>6.000000</td>\n",
       "      <td>16.000000</td>\n",
       "      <td>11.000000</td>\n",
       "      <td>3.000000</td>\n",
       "    </tr>\n",
       "    <tr>\n",
       "      <td>75%</td>\n",
       "      <td>1.560530e+09</td>\n",
       "      <td>-18000.000000</td>\n",
       "      <td>4.187811e+01</td>\n",
       "      <td>-8.762980e+01</td>\n",
       "      <td>295.150000</td>\n",
       "      <td>291.900000</td>\n",
       "      <td>290.950000</td>\n",
       "      <td>295.150000</td>\n",
       "      <td>1021.000000</td>\n",
       "      <td>NaN</td>\n",
       "      <td>...</td>\n",
       "      <td>0.000000</td>\n",
       "      <td>0.000000</td>\n",
       "      <td>0.000000</td>\n",
       "      <td>90.000000</td>\n",
       "      <td>803.000000</td>\n",
       "      <td>2019.000000</td>\n",
       "      <td>9.000000</td>\n",
       "      <td>23.000000</td>\n",
       "      <td>17.000000</td>\n",
       "      <td>5.000000</td>\n",
       "    </tr>\n",
       "    <tr>\n",
       "      <td>max</td>\n",
       "      <td>1.606864e+09</td>\n",
       "      <td>-18000.000000</td>\n",
       "      <td>4.187811e+01</td>\n",
       "      <td>-8.762980e+01</td>\n",
       "      <td>311.480000</td>\n",
       "      <td>309.890000</td>\n",
       "      <td>306.132000</td>\n",
       "      <td>311.480000</td>\n",
       "      <td>1044.000000</td>\n",
       "      <td>NaN</td>\n",
       "      <td>...</td>\n",
       "      <td>35.000000</td>\n",
       "      <td>8.400000</td>\n",
       "      <td>6.000000</td>\n",
       "      <td>100.000000</td>\n",
       "      <td>804.000000</td>\n",
       "      <td>2020.000000</td>\n",
       "      <td>12.000000</td>\n",
       "      <td>31.000000</td>\n",
       "      <td>23.000000</td>\n",
       "      <td>6.000000</td>\n",
       "    </tr>\n",
       "  </tbody>\n",
       "</table>\n",
       "<p>8 rows × 25 columns</p>\n",
       "</div>"
      ],
      "text/plain": [
       "                 dt      timezone           lat           lon          temp  \\\n",
       "count  5.521900e+04  55219.000000  5.521900e+04  5.521900e+04  55219.000000   \n",
       "mean   1.513951e+09 -19252.525399  4.187811e+01 -8.762980e+01    285.518514   \n",
       "std    5.388285e+07   1714.737534  7.105492e-15  4.263295e-14     11.064564   \n",
       "min    1.420070e+09 -21600.000000  4.187811e+01 -8.762980e+01    245.370000   \n",
       "25%    1.467211e+09 -21600.000000  4.187811e+01 -8.762980e+01    276.480000   \n",
       "50%    1.514524e+09 -18000.000000  4.187811e+01 -8.762980e+01    285.193000   \n",
       "75%    1.560530e+09 -18000.000000  4.187811e+01 -8.762980e+01    295.150000   \n",
       "max    1.606864e+09 -18000.000000  4.187811e+01 -8.762980e+01    311.480000   \n",
       "\n",
       "         feels_like      temp_min      temp_max      pressure  sea_level  ...  \\\n",
       "count  55219.000000  55219.000000  55219.000000  55219.000000        0.0  ...   \n",
       "mean     280.257647    281.898104    285.518514   1016.055542        NaN  ...   \n",
       "std       13.182997     10.354815     11.064564      7.584028        NaN  ...   \n",
       "min      233.180000    242.150000    245.370000    965.000000        NaN  ...   \n",
       "25%      269.890000    274.150000    276.480000   1011.000000        NaN  ...   \n",
       "50%      279.250000    281.161000    285.193000   1016.000000        NaN  ...   \n",
       "75%      291.900000    290.950000    295.150000   1021.000000        NaN  ...   \n",
       "max      309.890000    306.132000    311.480000   1044.000000        NaN  ...   \n",
       "\n",
       "            rain_3h       snow_1h       snow_3h    clouds_all    weather_id  \\\n",
       "count  55219.000000  55219.000000  55219.000000  55219.000000  55219.000000   \n",
       "mean       0.047967      0.013533      0.001809     61.031294    750.721907   \n",
       "std        0.708266      0.123137      0.066962     32.047140    112.093082   \n",
       "min        0.000000      0.000000      0.000000      0.000000    200.000000   \n",
       "25%        0.000000      0.000000      0.000000     40.000000    800.000000   \n",
       "50%        0.000000      0.000000      0.000000     75.000000    802.000000   \n",
       "75%        0.000000      0.000000      0.000000     90.000000    803.000000   \n",
       "max       35.000000      8.400000      6.000000    100.000000    804.000000   \n",
       "\n",
       "               year         month           day          hour       weekday  \n",
       "count  55219.000000  55219.000000  55219.000000  55219.000000  55219.000000  \n",
       "mean    2017.485087      6.395969     15.782557     11.455894      2.998443  \n",
       "std        1.695629      3.444176      8.817962      6.908119      1.999746  \n",
       "min     2015.000000      1.000000      1.000000      0.000000      0.000000  \n",
       "25%     2016.000000      3.000000      8.000000      5.000000      1.000000  \n",
       "50%     2017.000000      6.000000     16.000000     11.000000      3.000000  \n",
       "75%     2019.000000      9.000000     23.000000     17.000000      5.000000  \n",
       "max     2020.000000     12.000000     31.000000     23.000000      6.000000  \n",
       "\n",
       "[8 rows x 25 columns]"
      ]
     },
     "execution_count": 81,
     "metadata": {},
     "output_type": "execute_result"
    }
   ],
   "source": [
    "wx_df.describe()"
   ]
  },
  {
   "cell_type": "code",
   "execution_count": 82,
   "metadata": {},
   "outputs": [],
   "source": [
    "try:\n",
    "    wx_df = wx_df.drop(columns=['dt', \n",
    "                        'dt_iso', \n",
    "                        'timezone', \n",
    "                        'city_name', \n",
    "                        'lat', \n",
    "                        'lon', \n",
    "                        'feels_like', \n",
    "                        'temp_min', \n",
    "                        'temp_max',\n",
    "                        'pressure',\n",
    "                        'sea_level',\n",
    "                        'grnd_level',\n",
    "                        'humidity',\n",
    "                        'wind_speed',\n",
    "                        'wind_deg',\n",
    "                        'clouds_all',\n",
    "                        'weather_description',\n",
    "                        'weather_icon',\n",
    "                        'weather_id',\n",
    "                        'weather_main',\n",
    "                       ], axis=1)\n",
    "except:\n",
    "    print('Failed')"
   ]
  },
  {
   "cell_type": "code",
   "execution_count": 83,
   "metadata": {},
   "outputs": [
    {
     "name": "stdout",
     "output_type": "stream",
     "text": [
      "55219\n",
      "3331\n",
      "Total hours in 6 years: 52596.0\n",
      "Unique entries: 51888\n",
      "\n",
      "2015-01-01 00:00:00+00:00 2020-12-01 23:00:00+00:00\n",
      "Total hours in 6 years (-1 mos): 51852.0\n"
     ]
    }
   ],
   "source": [
    "print(len(wx_df))\n",
    "print(wx_df.duplicated().sum())\n",
    "\n",
    "\n",
    "print('Total hours in 6 years:', 365.25 * 24 * 6)\n",
    "print('Unique entries:', len(wx_df.drop_duplicates()))  \n",
    "# missing a few entries (700+ out of 52k)  Am I missing a month??\n",
    "\n",
    "print()\n",
    "print(wx_df.time.min(), wx_df.time.max())  # OH!!!!  I am missin last month\n",
    "print('Total hours in 6 years (-1 mos):', 365.25 * 24 * 6 - 31 * 24)  # okay, we are only missing a few\n",
    "\n",
    "\n",
    "wx_df.drop_duplicates(inplace=True)"
   ]
  },
  {
   "cell_type": "code",
   "execution_count": 84,
   "metadata": {},
   "outputs": [
    {
     "name": "stdout",
     "output_type": "stream",
     "text": [
      "[('region_data',), ('all_hours',), ('int_startend',), ('intersection_chars',), ('cam_locations',), ('cam_startend',), ('daily_violations',), ('intersection_cams',), ('all_crashes',), ('signal_crashes',), ('hourly_congestion',), ('hourly_weather',)]\n"
     ]
    }
   ],
   "source": [
    "make_table(wx_df, 'hourly_weather', c, conn)"
   ]
  },
  {
   "cell_type": "markdown",
   "metadata": {},
   "source": [
    "## 8) Create TABLE region_data from region_df"
   ]
  },
  {
   "cell_type": "code",
   "execution_count": 85,
   "metadata": {},
   "outputs": [],
   "source": [
    "# THis time we only grab what we need\n",
    "\n",
    "region_df = client.get(\"kf7e-cur8\", # regional congestion current data\n",
    "                         select='region_id, region, description, north, south, east, west',\n",
    "                         limit=1000\n",
    "                    )\n",
    "\n",
    "# Convert to pandas DataFrame\n",
    "region_df = pd.DataFrame.from_records(region_df)  # should only return most recent for each region"
   ]
  },
  {
   "cell_type": "code",
   "execution_count": 86,
   "metadata": {},
   "outputs": [],
   "source": [
    "region_df = region_df.groupby('region_id').max().reset_index()"
   ]
  },
  {
   "cell_type": "code",
   "execution_count": 87,
   "metadata": {},
   "outputs": [
    {
     "name": "stdout",
     "output_type": "stream",
     "text": [
      "<class 'pandas.core.frame.DataFrame'>\n",
      "RangeIndex: 29 entries, 0 to 28\n",
      "Data columns (total 7 columns):\n",
      "region_id      29 non-null object\n",
      "region         29 non-null object\n",
      "description    29 non-null object\n",
      "north          29 non-null float64\n",
      "south          29 non-null float64\n",
      "east           29 non-null float64\n",
      "west           29 non-null float64\n",
      "dtypes: float64(4), object(3)\n",
      "memory usage: 1.7+ KB\n"
     ]
    }
   ],
   "source": [
    "# need these as floats so we can compare them\n",
    "region_df[['north', 'south', 'east', 'west']] = region_df[['north', 'south', 'east', 'west']].astype(float)\n",
    "region_df.info()\n"
   ]
  },
  {
   "cell_type": "markdown",
   "metadata": {},
   "source": [
    "### Add region to my crash df"
   ]
  },
  {
   "cell_type": "code",
   "execution_count": 88,
   "metadata": {},
   "outputs": [
    {
     "name": "stdout",
     "output_type": "stream",
     "text": [
      "<class 'pandas.core.frame.DataFrame'>\n",
      "Int64Index: 60158 entries, 5 to 463869\n",
      "Data columns (total 48 columns):\n",
      "crash_record_id                  60158 non-null object\n",
      "rd_no                            59698 non-null object\n",
      "crash_date                       60158 non-null datetime64[ns]\n",
      "posted_speed_limit               60158 non-null object\n",
      "traffic_control_device           60158 non-null object\n",
      "device_condition                 60158 non-null object\n",
      "weather_condition                60158 non-null object\n",
      "lighting_condition               60158 non-null object\n",
      "first_crash_type                 60158 non-null object\n",
      "trafficway_type                  60158 non-null object\n",
      "alignment                        60158 non-null object\n",
      "roadway_surface_cond             60158 non-null object\n",
      "road_defect                      60158 non-null object\n",
      "report_type                      58343 non-null object\n",
      "crash_type                       60158 non-null object\n",
      "damage                           60158 non-null object\n",
      "prim_contributory_cause          60158 non-null object\n",
      "sec_contributory_cause           60158 non-null object\n",
      "street_no                        60158 non-null object\n",
      "street_direction                 60158 non-null object\n",
      "street_name                      60158 non-null object\n",
      "beat_of_occurrence               60158 non-null object\n",
      "num_units                        60158 non-null object\n",
      "most_severe_injury               60141 non-null object\n",
      "injuries_total                   60141 non-null object\n",
      "injuries_fatal                   60141 non-null object\n",
      "injuries_incapacitating          60141 non-null object\n",
      "injuries_non_incapacitating      60141 non-null object\n",
      "injuries_reported_not_evident    60141 non-null object\n",
      "injuries_no_indication           60141 non-null object\n",
      "injuries_unknown                 60141 non-null object\n",
      "crash_hour                       60158 non-null object\n",
      "crash_day_of_week                60158 non-null object\n",
      "crash_month                      60158 non-null object\n",
      "latitude                         60158 non-null float64\n",
      "longitude                        60158 non-null float64\n",
      "lane_cnt                         25965 non-null object\n",
      "intersection_related_i           60158 non-null object\n",
      "hit_and_run_i                    11475 non-null object\n",
      "crash_date_est_i                 2623 non-null object\n",
      "work_zone_i                      457 non-null object\n",
      "work_zone_type                   358 non-null object\n",
      "workers_present_i                98 non-null object\n",
      "intersection                     8661 non-null object\n",
      "year                             60158 non-null int64\n",
      "month                            60158 non-null int64\n",
      "day                              60158 non-null int64\n",
      "hour                             60158 non-null int64\n",
      "dtypes: datetime64[ns](1), float64(2), int64(4), object(41)\n",
      "memory usage: 22.5+ MB\n"
     ]
    }
   ],
   "source": [
    "crash_df[['latitude', 'longitude']] = crash_df[['latitude', 'longitude']].astype(float)\n",
    "crash_df.info()"
   ]
  },
  {
   "cell_type": "code",
   "execution_count": 89,
   "metadata": {},
   "outputs": [],
   "source": [
    "# add in the region for my crashes\n",
    "# Resource hog\n",
    "crash_df.columns\n",
    "\n",
    "\n",
    "def which_region(lat, long, region_df):\n",
    "    #print(lat, long)\n",
    "    row = region_df[(region_df['east'] >= long) &\n",
    "                    (region_df['west'] < long) &\n",
    "                    (region_df['north'] >= lat) &\n",
    "                    (region_df['south'] < lat)]['region_id'].max()\n",
    "    return row\n",
    "\n",
    "#df.iloc[:5]\n",
    "# takes some 5min\n",
    "crash_df['region_id'] = crash_df.apply(lambda x: which_region(x.latitude, x.longitude, region_df), axis=1)"
   ]
  },
  {
   "cell_type": "code",
   "execution_count": 90,
   "metadata": {},
   "outputs": [],
   "source": [
    "len(crash_df)\n",
    "crash_df.columns\n",
    "\n",
    "crash_df['time'] = pd.to_datetime(crash_df.crash_date)\n",
    "crash_df['year'] = crash_df.time.dt.year\n",
    "crash_df['month'] = crash_df.time.dt.month\n",
    "crash_df['day'] = crash_df.time.dt.day\n",
    "crash_df['hour'] = crash_df.time.dt.hour\n",
    "crash_df['weekday'] = crash_df.time.dt.weekday"
   ]
  },
  {
   "cell_type": "code",
   "execution_count": 91,
   "metadata": {},
   "outputs": [
    {
     "name": "stdout",
     "output_type": "stream",
     "text": [
      "[('all_hours',), ('int_startend',), ('intersection_chars',), ('cam_locations',), ('cam_startend',), ('daily_violations',), ('intersection_cams',), ('all_crashes',), ('signal_crashes',), ('hourly_congestion',), ('hourly_weather',), ('region_data',)]\n",
      "\n",
      "[('all_hours',), ('int_startend',), ('intersection_chars',), ('cam_locations',), ('cam_startend',), ('daily_violations',), ('intersection_cams',), ('all_crashes',), ('hourly_congestion',), ('hourly_weather',), ('region_data',), ('signal_crashes',)]\n"
     ]
    }
   ],
   "source": [
    "make_table(region_df, 'region_data', c, conn)\n",
    "print()\n",
    "make_table(crash_df, 'signal_crashes', c, conn)  # also update my crash data"
   ]
  },
  {
   "cell_type": "markdown",
   "metadata": {},
   "source": [
    "### Add region_id to intersection_cams\n",
    "While I'm here and I have the function ready.\n",
    "I would like to add region_id number to my red light camera (daily_violations TABLE)\n",
    "The region there will help me link the daily_violations and hourly_congestion TABLEs\n",
    "\n",
    "*** NOTE: Makes more sense to come back and put the region into the intersection_cameras table to speed this up"
   ]
  },
  {
   "cell_type": "code",
   "execution_count": 92,
   "metadata": {},
   "outputs": [],
   "source": [
    "# 1 minutes\n",
    "#rlc['region_id'] = \n",
    "int_cams['region_id'] = int_cams.apply(lambda x: which_region(x.latitude, x.longitude, region_df), axis=1)\n"
   ]
  },
  {
   "cell_type": "code",
   "execution_count": 93,
   "metadata": {},
   "outputs": [
    {
     "name": "stdout",
     "output_type": "stream",
     "text": [
      "[('all_hours',), ('int_startend',), ('intersection_chars',), ('cam_locations',), ('cam_startend',), ('daily_violations',), ('all_crashes',), ('hourly_congestion',), ('hourly_weather',), ('region_data',), ('signal_crashes',), ('intersection_cams',)]\n"
     ]
    }
   ],
   "source": [
    "## commit my change\n",
    "make_table(int_cams, 'intersection_cams', c, conn)"
   ]
  },
  {
   "cell_type": "markdown",
   "metadata": {},
   "source": [
    "### Use this code to test any of your tables for proper data storage"
   ]
  },
  {
   "cell_type": "code",
   "execution_count": 94,
   "metadata": {},
   "outputs": [
    {
     "name": "stdout",
     "output_type": "stream",
     "text": [
      "[('1523', 5), ('1051', 4), ('1812', 3), ('2084', 3), ('2261', 19)]\n",
      "480708\n"
     ]
    }
   ],
   "source": [
    "query = c.execute(\"SELECT camera_id, violations FROM daily_violations;\").fetchall()\n",
    "print(query[:5])\n",
    "print(len(query))"
   ]
  },
  {
   "cell_type": "markdown",
   "metadata": {},
   "source": [
    "## Before I go, I want to add intersections to my crashes to link the db tables"
   ]
  },
  {
   "cell_type": "code",
   "execution_count": 95,
   "metadata": {},
   "outputs": [
    {
     "data": {
      "text/plain": [
       "[('all_hours',),\n",
       " ('int_startend',),\n",
       " ('intersection_chars',),\n",
       " ('cam_locations',),\n",
       " ('cam_startend',),\n",
       " ('daily_violations',),\n",
       " ('all_crashes',),\n",
       " ('hourly_congestion',),\n",
       " ('hourly_weather',),\n",
       " ('region_data',),\n",
       " ('signal_crashes',),\n",
       " ('intersection_cams',)]"
      ]
     },
     "execution_count": 95,
     "metadata": {},
     "output_type": "execute_result"
    }
   ],
   "source": [
    "sql_fetch_tables(c, conn)"
   ]
  },
  {
   "cell_type": "code",
   "execution_count": 96,
   "metadata": {},
   "outputs": [],
   "source": [
    "df = pd.read_sql_query(\"SELECT * FROM signal_crashes\", conn)\n",
    "camloc_df = pd.read_sql_query('SELECT * FROM cam_locations', conn)\n",
    "ints_df = pd.read_sql_query('SELECT * FROM intersection_cams', conn)\n"
   ]
  },
  {
   "cell_type": "code",
   "execution_count": 97,
   "metadata": {},
   "outputs": [],
   "source": [
    "#ints_df.astype({'longitude':float})\n",
    "pd.options.display.max_rows = 200\n"
   ]
  },
  {
   "cell_type": "code",
   "execution_count": 98,
   "metadata": {},
   "outputs": [
    {
     "name": "stdout",
     "output_type": "stream",
     "text": [
      "IRVING PARK AND KEDZIE\n",
      "CICERO AND CHICAGO\n",
      "STATE AND 79TH\n",
      "ASHLAND AND 63RD\n",
      "IRVING PARK AND NARRAGANSETT\n",
      "STATE AND 79TH\n",
      "KEDZIE AND 71ST\n",
      "BROADWAY/SHERIDAN AND DEVON\n",
      "ASHLAND AND IRVING PARK\n",
      "STONEY ISLAND AND 76TH\n",
      "GRAND AND OAK PARK\n",
      "111TH AND HALSTED\n",
      "PETERSON AND WESTERN\n",
      "CLARK AND FULLERTON\n",
      "CICERO AND FULLERTON\n",
      "KIMBALL AND DIVERSEY\n",
      "CICERO AND WASHINGTON\n",
      "KOSTNER AND NORTH\n",
      "COLUMBUS AND ILLINOIS\n",
      "WESTERN AND ARMITAGE\n",
      "MADISON AND CENTRAL\n",
      "BELMONT AND KEDZIE\n",
      "HALSTED AND FULLERTON\n",
      "RIDGE AND CLARK\n",
      "NORTHWEST HIGHWAY AND FOSTER\n",
      "55TH and PULASKI\n",
      "ELSTON AND IRVING PARK\n",
      "ROOSEVELT AND PULASKI\n",
      "WESTERN AND NORTH\n",
      "BELMONT AND KEDZIE\n"
     ]
    }
   ],
   "source": [
    "# Now I am desperate.  This takes too long to process.  Let's simplify it and make it a box instead.\n",
    "box_side = 100  # effectively makes it check for crash being within 25m of interscection\n",
    "box_lat = box_side / 111070 / 2 # 111070 is meters in deg lat in Chicago\n",
    "box_long = box_side / 83000 / 2 # 83000 is meters in deg long in Chicago\n",
    "\n",
    "def box_check(lat, long, int_df):\n",
    "    n = lat + box_lat\n",
    "    s = lat - box_lat\n",
    "    e = long + box_long\n",
    "    w = long - box_long\n",
    "    # print('n', n, 's', s, 'e', e, 'w', w, 'lat:', lat, 'long:', long)\n",
    "    answer = int_df[  (int_df['lat'] > s) &\n",
    "                      (int_df['lat'] < n) &\n",
    "                      (int_df['long'] > w) &\n",
    "                      (int_df['long'] < e)\n",
    "                      \n",
    "                     ]\n",
    "    if answer.empty: return None\n",
    "    return answer['intersection'].values[0]\n",
    "\n",
    "    \n",
    "# THIS SEEMS TO WORK AT SPEED AND ELIMINATES MEMORY PROBLEM\n",
    "for i in range(5000, 5200): \n",
    "    lat = float(df.iloc[i]['latitude'])\n",
    "    long = float(df.iloc[i]['longitude'])\n",
    "    n = lat + box_lat\n",
    "    s = lat - box_lat\n",
    "    e = long + box_long\n",
    "    w = long - box_long\n",
    "    answer = int_df[  (int_df['lat'] > s) &\n",
    "                      (int_df['lat'] < n) &\n",
    "                      (int_df['long'] > w) &\n",
    "                      (int_df['long'] < e)]['intersection'].values\n",
    "    if len(answer): print(answer[0])\n",
    "    \n",
    "# 99th Halsted: 41.714230\t-87.643043\n",
    "# MOMENT OF TRUTH\n",
    "df['intersection'] = df.apply(lambda x: box_check(float(x.latitude), float(x.longitude), int_df), axis=1)\n",
    "\n"
   ]
  },
  {
   "cell_type": "code",
   "execution_count": 99,
   "metadata": {},
   "outputs": [
    {
     "data": {
      "text/plain": [
       "182"
      ]
     },
     "execution_count": 99,
     "metadata": {},
     "output_type": "execute_result"
    }
   ],
   "source": [
    "df.intersection.count() / len(df)\n",
    "len(df.intersection.unique())"
   ]
  },
  {
   "cell_type": "code",
   "execution_count": 100,
   "metadata": {},
   "outputs": [
    {
     "name": "stdout",
     "output_type": "stream",
     "text": [
      "[('all_hours',), ('int_startend',), ('intersection_chars',), ('cam_locations',), ('cam_startend',), ('daily_violations',), ('all_crashes',), ('hourly_congestion',), ('hourly_weather',), ('region_data',), ('intersection_cams',), ('signal_crashes',)]\n"
     ]
    }
   ],
   "source": [
    "make_table(df, 'signal_crashes', c, conn)\n"
   ]
  },
  {
   "cell_type": "markdown",
   "metadata": {},
   "source": [
    "### Make a table that just has every date and hour for every intersection.  Will help out my queries"
   ]
  },
  {
   "cell_type": "code",
   "execution_count": 95,
   "metadata": {},
   "outputs": [],
   "source": [
    "int_chars = pd.read_sql_query(\"SELECT * FROM intersection_chars\", conn)\n",
    "wx_df = pd.read_sql_query(\"SELECT * FROM hourly_weather\", conn)"
   ]
  },
  {
   "cell_type": "code",
   "execution_count": 96,
   "metadata": {},
   "outputs": [],
   "source": [
    "my_ints = int_chars.intersection"
   ]
  },
  {
   "cell_type": "code",
   "execution_count": 99,
   "metadata": {},
   "outputs": [],
   "source": [
    "grouped_dates = wx_df.groupby(['year', 'month', 'day']).sum().reset_index()[['year', 'month', 'day']]\n",
    "grouped_dates = grouped_dates[grouped_dates['year']>2015]"
   ]
  },
  {
   "cell_type": "code",
   "execution_count": 100,
   "metadata": {},
   "outputs": [
    {
     "name": "stdout",
     "output_type": "stream",
     "text": [
      "<class 'pandas.core.frame.DataFrame'>\n",
      "Int64Index: 1797 entries, 365 to 2161\n",
      "Data columns (total 3 columns):\n",
      "year     1797 non-null int64\n",
      "month    1797 non-null int64\n",
      "day      1797 non-null int64\n",
      "dtypes: int64(3)\n",
      "memory usage: 56.2 KB\n"
     ]
    }
   ],
   "source": [
    "# didn't work \n",
    "grouped_dates.head()\n",
    "grouped_dates.info()"
   ]
  },
  {
   "cell_type": "code",
   "execution_count": 105,
   "metadata": {},
   "outputs": [
    {
     "name": "stdout",
     "output_type": "stream",
     "text": [
      "115TH AND HALSTED\n",
      "119TH AND HALSTED\n",
      "31ST AND CALIFORNIA\n",
      "31ST ST AND MARTIN LUTHER KING DRIVE\n",
      "35TH AND WESTERN\n",
      "4700 WESTERN\n",
      "55TH AND KEDZIE\n",
      "55TH AND WESTERN\n",
      "55TH and PULASKI\n",
      "63RD AND STATE\n",
      "71ST AND ASHLAND\n",
      "75TH AND STATE\n",
      "79TH AND HALSTED\n",
      "79TH AND KEDZIE\n",
      "83RD AND STONY ISLAND\n",
      "87TH AND VINCENNES\n",
      "95TH AND STONEY ISLAND\n",
      "99TH AND HALSTED\n",
      "ADDISON AND HARLEM\n",
      "ARCHER AND CICERO\n",
      "ARCHER/NARRAGANSETT AND 55TH\n",
      "ASHLAND AND 47TH\n",
      "ASHLAND AND 63RD\n",
      "ASHLAND AND 87TH\n",
      "ASHLAND AND 95TH\n",
      "ASHLAND AND ARCHER\n",
      "ASHLAND AND DIVERSEY\n",
      "ASHLAND AND DIVISION\n",
      "ASHLAND AND FULLERTON\n",
      "ASHLAND AND IRVING PARK\n",
      "ASHLAND AND LAWRENCE\n",
      "ASHLAND AND MADISON\n",
      "AUSTIN AND ADDISON\n",
      "AUSTIN AND IRVING PARK\n",
      "BELMONT AND KEDZIE\n",
      "BLUE ISLAND AND DAMEN\n",
      "BROADWAY/SHERIDAN AND DEVON\n",
      "CALIFORNIA AND DEVON\n",
      "CALIFORNIA AND DIVERSEY\n",
      "CALIFORNIA AND PETERSON\n",
      "CANAL AND ROOSEVELT\n",
      "CENTRAL AND ADDISON\n",
      "CENTRAL AND BELMONT\n",
      "CENTRAL AND CHICAGO\n",
      "CENTRAL AND DIVERSEY\n",
      "CENTRAL AND FULLERTON\n",
      "CENTRAL AND IRVING PARK\n",
      "CENTRAL AND LAKE\n",
      "CENTRAL AND MILWAUKEE\n",
      "CERMAK AND PULASKI\n",
      "CHICAGO AND CLARK\n",
      "CICERO AND 47TH\n",
      "CICERO AND ADDISON\n",
      "CICERO AND ARMITAGE\n",
      "CICERO AND CHICAGO\n",
      "CICERO AND DIVERSEY\n",
      "CICERO AND FULLERTON\n",
      "CICERO AND HARRISON\n",
      "CICERO AND I55\n",
      "CICERO AND NORTH\n",
      "CICERO AND PETERSON\n",
      "CICERO AND WASHINGTON\n",
      "CLARK AND FULLERTON\n",
      "CLARK AND IRVING PARK\n",
      "COLUMBUS AND ILLINOIS\n",
      "CORNELL DRIVE AND 57TH\n",
      "CORTLAND AND ASHLAND\n",
      "COTTAGE GROVE AND 71ST\n",
      "COTTAGE GROVE AND 95TH\n",
      "DAMEN AND 63RD\n",
      "DAMEN AND DIVERSEY\n",
      "DAMEN AND ELSTON\n",
      "DAMEN AND FULLERTON\n",
      "DIVERSEY AND AUSTIN\n",
      "DIVERSEY AND WESTERN\n",
      "DIVISION AND DAMEN\n",
      "ELSTON AND ADDISON\n",
      "ELSTON AND FOSTER\n",
      "ELSTON AND IRVING PARK\n",
      "ELSTON AND LAWRENCE\n",
      "FOSTER AND BROADWAY\n",
      "FOSTER AND NAGLE\n",
      "FOSTER AND NORTHWEST HIGHWAY\n",
      "FULLERTON AND NARRAGANSETT\n",
      "GARFIELD AND ASHLAND\n",
      "GRAND AND OAK PARK\n",
      "HALSTED AND 103RD\n",
      "HALSTED AND 63RD\n",
      "HALSTED AND 83RD\n",
      "HALSTED AND 95TH\n",
      "HALSTED AND DIVISION\n",
      "HALSTED AND FULLERTON\n",
      "HALSTED AND MADISON\n",
      "HALSTED AND NORTH\n",
      "HAMLIN AND LAKE\n",
      "HAMLIN AND MADISON\n",
      "HARLEM AND BELMONT\n",
      "HARLEM AND NORTHWEST HWY\n",
      "HOLLYWOOD AND SHERIDAN\n",
      "HOMAN/KIMBALL AND NORTH\n",
      "IRVING PARK AND CALIFORNIA\n",
      "IRVING PARK AND KEDZIE\n",
      "IRVING PARK AND KILPATRICK\n",
      "IRVING PARK AND LARAMIE\n",
      "IRVING PARK AND NARRAGANSETT\n",
      "JEFFERY AND 79TH\n",
      "JEFFERY AND 95TH\n",
      "KEDZIE AND 26TH\n",
      "KEDZIE AND 31ST\n",
      "KEDZIE AND 47TH\n",
      "KEDZIE AND 63RD\n",
      "KEDZIE AND 71ST\n",
      "KEDZIE AND ARMITAGE\n",
      "KIMBALL AND DIVERSEY\n",
      "KIMBALL AND LINCOLN\n",
      "KOSTNER AND NORTH\n",
      "LAFAYETTE AND 87TH\n",
      "LAKE AND UPPER WACKER\n",
      "LAKE SHORE DR AND BELMONT\n",
      "LARAMIE AND FULLERTON\n",
      "LARAMIE AND MADISON\n",
      "LASALLE AND KINZIE\n",
      "LAWRENCE AND CICERO\n",
      "LAWRENCE AND WESTERN\n",
      "LINCOLN AND MCCORMICK\n",
      "MADISON AND CENTRAL\n",
      "MADISON AND WESTERN\n",
      "MICHIGAN AND JACKSON\n",
      "MICHIGAN AND ONTARIO\n",
      "MILWAUKEE AND CENTRAL\n",
      "MILWAUKEE AND DEVON\n",
      "MILWAUKEE AND MONTROSE\n",
      "MONTROSE AND WESTERN\n",
      "NORTHWEST HIGHWAY AND FOSTER\n",
      "OGDEN AND KOSTNER\n",
      "PERSHING AND WESTERN\n",
      "PETERSON AND WESTERN\n",
      "PULASKI AND 63RD\n",
      "PULASKI AND 79TH\n",
      "PULASKI AND ARCHER\n",
      "PULASKI AND ARMITAGE\n",
      "PULASKI AND BELMONT\n",
      "PULASKI AND CHICAGO\n",
      "PULASKI AND DIVERSEY\n",
      "PULASKI AND DIVISION\n",
      "PULASKI AND FOSTER\n",
      "PULASKI AND FULLERTON\n",
      "PULASKI AND IRVING PARK\n",
      "PULASKI AND LAWRENCE\n",
      "PULASKI AND MONTROSE\n",
      "PULASKI AND NORTH\n",
      "PULASKI AND PETERSON\n",
      "RIDGE AND CLARK\n",
      "ROOSEVELT AND HALSTED\n",
      "ROOSEVELT AND KOSTNER\n",
      "ROOSEVELT AND PULASKI\n",
      "SACRAMENTO AND CHICAGO\n",
      "SACRAMENTO AND LAKE\n",
      "SHERIDAN AND FOSTER\n",
      "STATE AND 79TH\n",
      "STONEY ISLAND AND 76TH\n",
      "STONEY ISLAND AND 79TH\n",
      "STONY ISLAND/CORNELL AND 67TH\n",
      "TOUHY AND OSCEOLA\n",
      "VAN BUREN AND WESTERN\n",
      "VINCENNES AND 111TH\n",
      "WENTWORTH AND GARFIELD\n",
      "WESTERN AND 51ST\n",
      "WESTERN AND 63RD\n",
      "WESTERN AND 71ST\n",
      "WESTERN AND 79TH\n",
      "WESTERN AND ADDISON\n",
      "WESTERN AND ARMITAGE\n",
      "WESTERN AND CERMAK\n",
      "WESTERN AND CHICAGO\n",
      "WESTERN AND DEVON\n",
      "WESTERN AND FOSTER\n",
      "WESTERN AND FULLERTON\n",
      "WESTERN AND MARQUETTE\n",
      "WESTERN AND NORTH\n",
      "WESTERN AND PRATT\n",
      "WESTERN AND TOUHY\n"
     ]
    }
   ],
   "source": [
    "# Should only have to do this once\n",
    "#for i in range(len(wx_df)):\n",
    "big_df = grouped_dates.copy()\n",
    "big_df['intersection'] = int_chars.iloc[0,:]\n",
    "\n",
    "for i in range(1, len(int_chars)):\n",
    "    print(int_chars.iloc[i, :]['intersection'])\n",
    "    df = grouped_dates.copy()\n",
    "    df['intersection'] = int_chars.iloc[i,:]['intersection']\n",
    "    big_df = pd.concat([big_df, df])\n",
    "\n"
   ]
  },
  {
   "cell_type": "code",
   "execution_count": 106,
   "metadata": {},
   "outputs": [
    {
     "data": {
      "text/plain": [
       "1797"
      ]
     },
     "execution_count": 106,
     "metadata": {},
     "output_type": "execute_result"
    }
   ],
   "source": [
    "big_df.intersection.isna().sum()"
   ]
  },
  {
   "cell_type": "code",
   "execution_count": 107,
   "metadata": {},
   "outputs": [],
   "source": [
    "big_df.intersection.unique()\n",
    "big_df.dropna(subset=['intersection'], inplace=True)\n"
   ]
  },
  {
   "cell_type": "code",
   "execution_count": 108,
   "metadata": {},
   "outputs": [
    {
     "data": {
      "text/html": [
       "<div>\n",
       "<style scoped>\n",
       "    .dataframe tbody tr th:only-of-type {\n",
       "        vertical-align: middle;\n",
       "    }\n",
       "\n",
       "    .dataframe tbody tr th {\n",
       "        vertical-align: top;\n",
       "    }\n",
       "\n",
       "    .dataframe thead th {\n",
       "        text-align: right;\n",
       "    }\n",
       "</style>\n",
       "<table border=\"1\" class=\"dataframe\">\n",
       "  <thead>\n",
       "    <tr style=\"text-align: right;\">\n",
       "      <th></th>\n",
       "      <th>year</th>\n",
       "      <th>month</th>\n",
       "      <th>day</th>\n",
       "      <th>intersection</th>\n",
       "    </tr>\n",
       "  </thead>\n",
       "  <tbody>\n",
       "    <tr>\n",
       "      <td>365</td>\n",
       "      <td>2016</td>\n",
       "      <td>1</td>\n",
       "      <td>1</td>\n",
       "      <td>115TH AND HALSTED</td>\n",
       "    </tr>\n",
       "    <tr>\n",
       "      <td>366</td>\n",
       "      <td>2016</td>\n",
       "      <td>1</td>\n",
       "      <td>2</td>\n",
       "      <td>115TH AND HALSTED</td>\n",
       "    </tr>\n",
       "    <tr>\n",
       "      <td>367</td>\n",
       "      <td>2016</td>\n",
       "      <td>1</td>\n",
       "      <td>3</td>\n",
       "      <td>115TH AND HALSTED</td>\n",
       "    </tr>\n",
       "    <tr>\n",
       "      <td>368</td>\n",
       "      <td>2016</td>\n",
       "      <td>1</td>\n",
       "      <td>4</td>\n",
       "      <td>115TH AND HALSTED</td>\n",
       "    </tr>\n",
       "    <tr>\n",
       "      <td>369</td>\n",
       "      <td>2016</td>\n",
       "      <td>1</td>\n",
       "      <td>5</td>\n",
       "      <td>115TH AND HALSTED</td>\n",
       "    </tr>\n",
       "  </tbody>\n",
       "</table>\n",
       "</div>"
      ],
      "text/plain": [
       "     year  month  day       intersection\n",
       "365  2016      1    1  115TH AND HALSTED\n",
       "366  2016      1    2  115TH AND HALSTED\n",
       "367  2016      1    3  115TH AND HALSTED\n",
       "368  2016      1    4  115TH AND HALSTED\n",
       "369  2016      1    5  115TH AND HALSTED"
      ]
     },
     "execution_count": 108,
     "metadata": {},
     "output_type": "execute_result"
    }
   ],
   "source": [
    "big_df.head()"
   ]
  },
  {
   "cell_type": "code",
   "execution_count": 109,
   "metadata": {},
   "outputs": [],
   "source": [
    "pd.options.display.max_rows = 500\n"
   ]
  },
  {
   "cell_type": "code",
   "execution_count": 110,
   "metadata": {},
   "outputs": [
    {
     "name": "stdout",
     "output_type": "stream",
     "text": [
      "335299.5\n",
      "[('cam_locations',), ('cam_startend',), ('daily_violations',), ('all_crashes',), ('hourly_congestion',), ('hourly_weather',), ('region_data',), ('intersection_cams',), ('signal_crashes',), ('int_startend',), ('intersection_chars',), ('all_hours',)]\n"
     ]
    }
   ],
   "source": [
    "print(365.25 * 6 * 153)\n",
    "make_table(big_df, 'all_hours', c, conn)"
   ]
  },
  {
   "cell_type": "markdown",
   "metadata": {},
   "source": []
  },
  {
   "cell_type": "markdown",
   "metadata": {},
   "source": [
    "## FUTURE WORK? traffic_count TABLE from traffic_count\n",
    "Congestion did not work in the model.  It is by region, and the regions added very little.\n",
    "We have data from a traffic study that gives average volume of traffic by street segment.\n",
    "We will try to match up the segment(s) to the cameras.  This might be tricky."
   ]
  },
  {
   "cell_type": "markdown",
   "metadata": {},
   "source": [
    "Problem: I have start/end dates for all of my cams.\n",
    "I do not have start/end dates by intersection, and now all of my data is sorted by intersection."
   ]
  },
  {
   "cell_type": "code",
   "execution_count": 112,
   "metadata": {},
   "outputs": [
    {
     "data": {
      "text/html": [
       "<div>\n",
       "<style scoped>\n",
       "    .dataframe tbody tr th:only-of-type {\n",
       "        vertical-align: middle;\n",
       "    }\n",
       "\n",
       "    .dataframe tbody tr th {\n",
       "        vertical-align: top;\n",
       "    }\n",
       "\n",
       "    .dataframe thead th {\n",
       "        text-align: right;\n",
       "    }\n",
       "</style>\n",
       "<table border=\"1\" class=\"dataframe\">\n",
       "  <thead>\n",
       "    <tr style=\"text-align: right;\">\n",
       "      <th></th>\n",
       "      <th>intersection</th>\n",
       "      <th>latitude</th>\n",
       "      <th>longitude</th>\n",
       "      <th>cam1</th>\n",
       "      <th>cam2</th>\n",
       "      <th>cam3</th>\n",
       "      <th>region_id</th>\n",
       "    </tr>\n",
       "  </thead>\n",
       "  <tbody>\n",
       "    <tr>\n",
       "      <td>0</td>\n",
       "      <td>111TH AND HALSTED</td>\n",
       "      <td>41.692362</td>\n",
       "      <td>-87.642423</td>\n",
       "      <td>2422</td>\n",
       "      <td>2424</td>\n",
       "      <td>None</td>\n",
       "      <td>26</td>\n",
       "    </tr>\n",
       "    <tr>\n",
       "      <td>1</td>\n",
       "      <td>115TH AND HALSTED</td>\n",
       "      <td>41.685089</td>\n",
       "      <td>-87.642094</td>\n",
       "      <td>2552</td>\n",
       "      <td>2553</td>\n",
       "      <td>None</td>\n",
       "      <td>26</td>\n",
       "    </tr>\n",
       "    <tr>\n",
       "      <td>2</td>\n",
       "      <td>119TH AND HALSTED</td>\n",
       "      <td>41.677774</td>\n",
       "      <td>-87.641930</td>\n",
       "      <td>2402</td>\n",
       "      <td>2404</td>\n",
       "      <td>None</td>\n",
       "      <td>26</td>\n",
       "    </tr>\n",
       "    <tr>\n",
       "      <td>3</td>\n",
       "      <td>31ST ST AND MARTIN LUTHER KING DRIVE</td>\n",
       "      <td>41.838441</td>\n",
       "      <td>-87.617338</td>\n",
       "      <td>2121</td>\n",
       "      <td>2123</td>\n",
       "      <td>None</td>\n",
       "      <td>16</td>\n",
       "    </tr>\n",
       "    <tr>\n",
       "      <td>4</td>\n",
       "      <td>35TH AND WESTERN</td>\n",
       "      <td>41.830281</td>\n",
       "      <td>-87.684775</td>\n",
       "      <td>2091</td>\n",
       "      <td>2092</td>\n",
       "      <td>None</td>\n",
       "      <td>15</td>\n",
       "    </tr>\n",
       "  </tbody>\n",
       "</table>\n",
       "</div>"
      ],
      "text/plain": [
       "                           intersection   latitude  longitude  cam1  cam2  \\\n",
       "0                     111TH AND HALSTED  41.692362 -87.642423  2422  2424   \n",
       "1                     115TH AND HALSTED  41.685089 -87.642094  2552  2553   \n",
       "2                     119TH AND HALSTED  41.677774 -87.641930  2402  2404   \n",
       "3  31ST ST AND MARTIN LUTHER KING DRIVE  41.838441 -87.617338  2121  2123   \n",
       "4                      35TH AND WESTERN  41.830281 -87.684775  2091  2092   \n",
       "\n",
       "   cam3 region_id  \n",
       "0  None        26  \n",
       "1  None        26  \n",
       "2  None        26  \n",
       "3  None        16  \n",
       "4  None        15  "
      ]
     },
     "execution_count": 112,
     "metadata": {},
     "output_type": "execute_result"
    }
   ],
   "source": [
    "cam_startend\n",
    "int_cams.head()"
   ]
  },
  {
   "cell_type": "code",
   "execution_count": 113,
   "metadata": {},
   "outputs": [],
   "source": [
    "def find_int(cam_id, int_cams):\n",
    "    '''returns the intersection associated with the red light camera'''\n",
    "    my_int = int_cams[(int_cams['cam1']==cam_id) |\n",
    "                 (int_cams['cam2']==cam_id) |\n",
    "                 (int_cams['cam3']==cam_id)\n",
    "                    ]['intersection'].max()\n",
    "    return my_int\n",
    "\n",
    "int_startend = cam_startend.copy()\n",
    "int_startend.head()\n",
    "int_startend['intersection'] = int_startend['camera_id'].apply(lambda x: find_int(x, int_cams))"
   ]
  },
  {
   "cell_type": "code",
   "execution_count": 114,
   "metadata": {},
   "outputs": [],
   "source": [
    "int_startend = int_startend.groupby('intersection').agg({'start':'min', 'end':'max'}).reset_index()"
   ]
  },
  {
   "cell_type": "code",
   "execution_count": 115,
   "metadata": {},
   "outputs": [
    {
     "data": {
      "text/html": [
       "<div>\n",
       "<style scoped>\n",
       "    .dataframe tbody tr th:only-of-type {\n",
       "        vertical-align: middle;\n",
       "    }\n",
       "\n",
       "    .dataframe tbody tr th {\n",
       "        vertical-align: top;\n",
       "    }\n",
       "\n",
       "    .dataframe thead th {\n",
       "        text-align: right;\n",
       "    }\n",
       "</style>\n",
       "<table border=\"1\" class=\"dataframe\">\n",
       "  <thead>\n",
       "    <tr style=\"text-align: right;\">\n",
       "      <th></th>\n",
       "      <th>intersection</th>\n",
       "      <th>start</th>\n",
       "      <th>end</th>\n",
       "    </tr>\n",
       "  </thead>\n",
       "  <tbody>\n",
       "    <tr>\n",
       "      <td>0</td>\n",
       "      <td>111TH AND HALSTED</td>\n",
       "      <td>2016-01-02</td>\n",
       "      <td>2021-01-19</td>\n",
       "    </tr>\n",
       "    <tr>\n",
       "      <td>1</td>\n",
       "      <td>115TH AND HALSTED</td>\n",
       "      <td>2016-01-02</td>\n",
       "      <td>2017-10-26</td>\n",
       "    </tr>\n",
       "    <tr>\n",
       "      <td>2</td>\n",
       "      <td>119TH AND HALSTED</td>\n",
       "      <td>2016-01-02</td>\n",
       "      <td>2021-01-19</td>\n",
       "    </tr>\n",
       "    <tr>\n",
       "      <td>3</td>\n",
       "      <td>31ST ST AND MARTIN LUTHER KING DRIVE</td>\n",
       "      <td>2016-01-02</td>\n",
       "      <td>2021-01-19</td>\n",
       "    </tr>\n",
       "    <tr>\n",
       "      <td>4</td>\n",
       "      <td>35TH AND WESTERN</td>\n",
       "      <td>2016-01-02</td>\n",
       "      <td>2021-01-19</td>\n",
       "    </tr>\n",
       "  </tbody>\n",
       "</table>\n",
       "</div>"
      ],
      "text/plain": [
       "                           intersection      start        end\n",
       "0                     111TH AND HALSTED 2016-01-02 2021-01-19\n",
       "1                     115TH AND HALSTED 2016-01-02 2017-10-26\n",
       "2                     119TH AND HALSTED 2016-01-02 2021-01-19\n",
       "3  31ST ST AND MARTIN LUTHER KING DRIVE 2016-01-02 2021-01-19\n",
       "4                      35TH AND WESTERN 2016-01-02 2021-01-19"
      ]
     },
     "execution_count": 115,
     "metadata": {},
     "output_type": "execute_result"
    }
   ],
   "source": [
    "int_startend.head()"
   ]
  },
  {
   "cell_type": "code",
   "execution_count": 116,
   "metadata": {},
   "outputs": [
    {
     "name": "stdout",
     "output_type": "stream",
     "text": [
      "[('intersection_chars',), ('cam_locations',), ('cam_startend',), ('daily_violations',), ('all_crashes',), ('hourly_congestion',), ('hourly_weather',), ('region_data',), ('intersection_cams',), ('signal_crashes',), ('all_hours',), ('int_startend',)]\n"
     ]
    }
   ],
   "source": [
    "make_table(int_startend, 'int_startend', c, conn)"
   ]
  },
  {
   "cell_type": "markdown",
   "metadata": {},
   "source": [
    "# Add speed into my int_char\n",
    "Use the average (or mode speed) from crashes at intersection to add to my intersection charateristics."
   ]
  },
  {
   "cell_type": "code",
   "execution_count": 78,
   "metadata": {},
   "outputs": [],
   "source": [
    "speed_df = pd.read_sql_query(\"SELECT * FROM signal_crashes\", conn)\n",
    "int_char_df = pd.read_sql_query(\"SELECT * FROM intersection_chars\", conn)\n"
   ]
  },
  {
   "cell_type": "code",
   "execution_count": 79,
   "metadata": {},
   "outputs": [],
   "source": [
    "speed_df.posted_speed_limit = speed_df.posted_speed_limit.astype(int)"
   ]
  },
  {
   "cell_type": "code",
   "execution_count": 80,
   "metadata": {},
   "outputs": [],
   "source": [
    "speed_df = speed_df.groupby('intersection').agg({'posted_speed_limit':max}).reset_index()  # mode is from scipy"
   ]
  },
  {
   "cell_type": "code",
   "execution_count": 81,
   "metadata": {},
   "outputs": [
    {
     "data": {
      "text/html": [
       "<div>\n",
       "<style scoped>\n",
       "    .dataframe tbody tr th:only-of-type {\n",
       "        vertical-align: middle;\n",
       "    }\n",
       "\n",
       "    .dataframe tbody tr th {\n",
       "        vertical-align: top;\n",
       "    }\n",
       "\n",
       "    .dataframe thead th {\n",
       "        text-align: right;\n",
       "    }\n",
       "</style>\n",
       "<table border=\"1\" class=\"dataframe\">\n",
       "  <thead>\n",
       "    <tr style=\"text-align: right;\">\n",
       "      <th></th>\n",
       "      <th>intersection</th>\n",
       "      <th>posted_speed_limit</th>\n",
       "    </tr>\n",
       "  </thead>\n",
       "  <tbody>\n",
       "    <tr>\n",
       "      <td>0</td>\n",
       "      <td>111TH AND HALSTED</td>\n",
       "      <td>35</td>\n",
       "    </tr>\n",
       "    <tr>\n",
       "      <td>1</td>\n",
       "      <td>115TH AND HALSTED</td>\n",
       "      <td>35</td>\n",
       "    </tr>\n",
       "    <tr>\n",
       "      <td>2</td>\n",
       "      <td>119TH AND HALSTED</td>\n",
       "      <td>35</td>\n",
       "    </tr>\n",
       "    <tr>\n",
       "      <td>3</td>\n",
       "      <td>31ST AND CALIFORNIA</td>\n",
       "      <td>35</td>\n",
       "    </tr>\n",
       "    <tr>\n",
       "      <td>4</td>\n",
       "      <td>31ST ST AND MARTIN LUTHER KING DRIVE</td>\n",
       "      <td>35</td>\n",
       "    </tr>\n",
       "  </tbody>\n",
       "</table>\n",
       "</div>"
      ],
      "text/plain": [
       "                           intersection  posted_speed_limit\n",
       "0                     111TH AND HALSTED                  35\n",
       "1                     115TH AND HALSTED                  35\n",
       "2                     119TH AND HALSTED                  35\n",
       "3                   31ST AND CALIFORNIA                  35\n",
       "4  31ST ST AND MARTIN LUTHER KING DRIVE                  35"
      ]
     },
     "execution_count": 81,
     "metadata": {},
     "output_type": "execute_result"
    }
   ],
   "source": [
    "speed_df.posted_speed_limit.unique()\n",
    "speed_df.head()"
   ]
  },
  {
   "cell_type": "code",
   "execution_count": 85,
   "metadata": {},
   "outputs": [],
   "source": [
    "\n",
    "# df is defined globally\n",
    "def speed_lookup(intersection):\n",
    "    # needed to put a try in there because one intersection had no crashes over time period\n",
    "    try:\n",
    "        speed = speed_df[speed_df['intersection']==intersection]['posted_speed_limit'].values[0]\n",
    "    except:\n",
    "        speed=30\n",
    "    return speed\n",
    "    \n",
    "int_char_df['speed'] = int_char_df['intersection'].apply(speed_lookup)"
   ]
  },
  {
   "cell_type": "code",
   "execution_count": 86,
   "metadata": {},
   "outputs": [
    {
     "data": {
      "text/html": [
       "<div>\n",
       "<style scoped>\n",
       "    .dataframe tbody tr th:only-of-type {\n",
       "        vertical-align: middle;\n",
       "    }\n",
       "\n",
       "    .dataframe tbody tr th {\n",
       "        vertical-align: top;\n",
       "    }\n",
       "\n",
       "    .dataframe thead th {\n",
       "        text-align: right;\n",
       "    }\n",
       "</style>\n",
       "<table border=\"1\" class=\"dataframe\">\n",
       "  <thead>\n",
       "    <tr style=\"text-align: right;\">\n",
       "      <th></th>\n",
       "      <th>protected_turn</th>\n",
       "      <th>total_lanes</th>\n",
       "      <th>medians</th>\n",
       "      <th>exit</th>\n",
       "      <th>split</th>\n",
       "      <th>way</th>\n",
       "      <th>underpass</th>\n",
       "      <th>no_left</th>\n",
       "      <th>angled</th>\n",
       "      <th>triangle</th>\n",
       "      <th>one_way</th>\n",
       "      <th>turn_lanes</th>\n",
       "      <th>lat</th>\n",
       "      <th>long</th>\n",
       "      <th>rlc</th>\n",
       "      <th>intersection</th>\n",
       "      <th>daily_traffic</th>\n",
       "      <th>speed</th>\n",
       "    </tr>\n",
       "  </thead>\n",
       "  <tbody>\n",
       "    <tr>\n",
       "      <td>0</td>\n",
       "      <td>2</td>\n",
       "      <td>6</td>\n",
       "      <td>2</td>\n",
       "      <td>0</td>\n",
       "      <td>0</td>\n",
       "      <td>4</td>\n",
       "      <td>0</td>\n",
       "      <td>0</td>\n",
       "      <td>1</td>\n",
       "      <td>0</td>\n",
       "      <td>0</td>\n",
       "      <td>2</td>\n",
       "      <td>41.692362</td>\n",
       "      <td>-87.642423</td>\n",
       "      <td>1</td>\n",
       "      <td>111TH AND HALSTED</td>\n",
       "      <td>43100</td>\n",
       "      <td>35</td>\n",
       "    </tr>\n",
       "    <tr>\n",
       "      <td>1</td>\n",
       "      <td>4</td>\n",
       "      <td>6</td>\n",
       "      <td>2</td>\n",
       "      <td>0</td>\n",
       "      <td>0</td>\n",
       "      <td>4</td>\n",
       "      <td>0</td>\n",
       "      <td>0</td>\n",
       "      <td>0</td>\n",
       "      <td>0</td>\n",
       "      <td>0</td>\n",
       "      <td>4</td>\n",
       "      <td>41.685089</td>\n",
       "      <td>-87.642094</td>\n",
       "      <td>1</td>\n",
       "      <td>115TH AND HALSTED</td>\n",
       "      <td>42500</td>\n",
       "      <td>35</td>\n",
       "    </tr>\n",
       "    <tr>\n",
       "      <td>2</td>\n",
       "      <td>4</td>\n",
       "      <td>6</td>\n",
       "      <td>2</td>\n",
       "      <td>0</td>\n",
       "      <td>0</td>\n",
       "      <td>4</td>\n",
       "      <td>0</td>\n",
       "      <td>0</td>\n",
       "      <td>0</td>\n",
       "      <td>0</td>\n",
       "      <td>0</td>\n",
       "      <td>4</td>\n",
       "      <td>41.677774</td>\n",
       "      <td>-87.641930</td>\n",
       "      <td>1</td>\n",
       "      <td>119TH AND HALSTED</td>\n",
       "      <td>41800</td>\n",
       "      <td>35</td>\n",
       "    </tr>\n",
       "    <tr>\n",
       "      <td>3</td>\n",
       "      <td>2</td>\n",
       "      <td>6</td>\n",
       "      <td>0</td>\n",
       "      <td>0</td>\n",
       "      <td>0</td>\n",
       "      <td>4</td>\n",
       "      <td>0</td>\n",
       "      <td>0</td>\n",
       "      <td>0</td>\n",
       "      <td>0</td>\n",
       "      <td>0</td>\n",
       "      <td>4</td>\n",
       "      <td>41.837424</td>\n",
       "      <td>-87.695022</td>\n",
       "      <td>1</td>\n",
       "      <td>31ST AND CALIFORNIA</td>\n",
       "      <td>41100</td>\n",
       "      <td>35</td>\n",
       "    </tr>\n",
       "    <tr>\n",
       "      <td>4</td>\n",
       "      <td>2</td>\n",
       "      <td>10</td>\n",
       "      <td>2</td>\n",
       "      <td>0</td>\n",
       "      <td>1</td>\n",
       "      <td>4</td>\n",
       "      <td>0</td>\n",
       "      <td>2</td>\n",
       "      <td>0</td>\n",
       "      <td>0</td>\n",
       "      <td>0</td>\n",
       "      <td>0</td>\n",
       "      <td>41.838441</td>\n",
       "      <td>-87.617338</td>\n",
       "      <td>1</td>\n",
       "      <td>31ST ST AND MARTIN LUTHER KING DRIVE</td>\n",
       "      <td>36500</td>\n",
       "      <td>35</td>\n",
       "    </tr>\n",
       "  </tbody>\n",
       "</table>\n",
       "</div>"
      ],
      "text/plain": [
       "   protected_turn  total_lanes  medians  exit  split  way  underpass  no_left  \\\n",
       "0               2            6        2     0      0    4          0        0   \n",
       "1               4            6        2     0      0    4          0        0   \n",
       "2               4            6        2     0      0    4          0        0   \n",
       "3               2            6        0     0      0    4          0        0   \n",
       "4               2           10        2     0      1    4          0        2   \n",
       "\n",
       "   angled  triangle  one_way  turn_lanes        lat       long  rlc  \\\n",
       "0       1         0        0           2  41.692362 -87.642423    1   \n",
       "1       0         0        0           4  41.685089 -87.642094    1   \n",
       "2       0         0        0           4  41.677774 -87.641930    1   \n",
       "3       0         0        0           4  41.837424 -87.695022    1   \n",
       "4       0         0        0           0  41.838441 -87.617338    1   \n",
       "\n",
       "                           intersection  daily_traffic  speed  \n",
       "0                     111TH AND HALSTED          43100     35  \n",
       "1                     115TH AND HALSTED          42500     35  \n",
       "2                     119TH AND HALSTED          41800     35  \n",
       "3                   31ST AND CALIFORNIA          41100     35  \n",
       "4  31ST ST AND MARTIN LUTHER KING DRIVE          36500     35  "
      ]
     },
     "execution_count": 86,
     "metadata": {},
     "output_type": "execute_result"
    }
   ],
   "source": [
    "int_char_df.head()"
   ]
  },
  {
   "cell_type": "code",
   "execution_count": 92,
   "metadata": {},
   "outputs": [
    {
     "name": "stdout",
     "output_type": "stream",
     "text": [
      "[('cam_locations',), ('cam_startend',), ('daily_violations',), ('all_crashes',), ('hourly_congestion',), ('hourly_weather',), ('region_data',), ('intersection_cams',), ('signal_crashes',), ('all_hours',), ('int_startend',), ('intersection_chars',)]\n"
     ]
    }
   ],
   "source": [
    "make_table(int_char_df, 'intersection_chars', c, conn)"
   ]
  },
  {
   "cell_type": "code",
   "execution_count": null,
   "metadata": {},
   "outputs": [],
   "source": []
  }
 ],
 "metadata": {
  "kernelspec": {
   "display_name": "learn-env",
   "language": "python",
   "name": "learn-env"
  },
  "language_info": {
   "codemirror_mode": {
    "name": "ipython",
    "version": 3
   },
   "file_extension": ".py",
   "mimetype": "text/x-python",
   "name": "python",
   "nbconvert_exporter": "python",
   "pygments_lexer": "ipython3",
   "version": "3.6.9"
  }
 },
 "nbformat": 4,
 "nbformat_minor": 4
}
