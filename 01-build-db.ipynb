{
 "cells": [
  {
   "cell_type": "markdown",
   "metadata": {},
   "source": [
    "# Building a SQL database\n",
    "This notebook builds the necessary db files for the project using SQLite3.\n",
    "\n",
    "Most data is taken from Chicago Data Portal https://data.cityofchicago.org/ using Socrata library.\n",
    "The API endpoints for the data are:\n",
    "- Red Light Violations: https://data.cityofchicago.org/resource/spqx-js37.json\n",
    "- Congestion by Region 2018-Present: https://data.cityofchicago.org/resource/kf7e-cur8.json\n",
    "- Congestion by Region 2013-2018: https://data.cityofchicago.org/resource/emtn-qqdi.json\n",
    "- Traffic Crashes: https://data.cityofchicago.org/resource/85ca-t3if.json\n",
    "\n",
    "Weather data is taken from https://openweathermap.org/weather-data and is saved as csv in data folder\n",
    "\n",
    "Tables to build:\n",
    "- daily_violations (one entry for each camera each day with total violations)\n",
    "- intersection_locations (one entry for each intersection with lat/long)\n",
    "- intersection_cams (one entry for each intersection with camera_ids)\n",
    "- signal_crashes (one entry for each intersection crash with many columns)\n",
    "- cam_locations (one entry for each cam, with lat/long)\n",
    "- cam_startend (one entry for each cam with start end dates for min/max dates active)\n",
    "- hourly_congestion (one entry per hour with bus speed averages for each region)\n",
    "- hourly_weather (one entry per hour with many weather cols)\n",
    "- region_data (one entry per region with locations and descriptions to place intersections)\n"
   ]
  },
  {
   "cell_type": "markdown",
   "metadata": {},
   "source": [
    "## Required Imports"
   ]
  },
  {
   "cell_type": "code",
   "execution_count": 57,
   "metadata": {},
   "outputs": [],
   "source": [
    "#!pip install \"dask[complete]\"\n",
    "# from dask.distributed import Client, progress\n",
    "# client = Client(n_workers=2, threads_per_worker=2, memory_limit='1GB')\n",
    "# client"
   ]
  },
  {
   "cell_type": "code",
   "execution_count": 58,
   "metadata": {},
   "outputs": [],
   "source": [
    "import pandas as pd\n",
    "from sodapy import Socrata\n",
    "#import matplotlib.pyplot as plt\n",
    "from datetime import datetime\n",
    "from modules.myfuncs import *\n",
    "import warnings\n",
    "import numpy as np\n",
    "from geopy.geocoders import Nominatim\n",
    "# import dask\n",
    "# import dask.dataframe as dd\n",
    "import gc\n",
    "\n",
    "\n",
    "warnings.filterwarnings('ignore')"
   ]
  },
  {
   "cell_type": "markdown",
   "metadata": {},
   "source": [
    "## Create/connect to db and build the TABLEs"
   ]
  },
  {
   "cell_type": "code",
   "execution_count": 59,
   "metadata": {},
   "outputs": [
    {
     "name": "stdout",
     "output_type": "stream",
     "text": [
      "sqlite3 version: 2.6.0\n",
      "connected to database/rlc2.db\n"
     ]
    }
   ],
   "source": [
    "# Create a db\n",
    "conn = create_connection('database/rlc2.db')  # function I created in myfuncs file\n",
    "c = conn.cursor()\n",
    "#conn.close()"
   ]
  },
  {
   "cell_type": "markdown",
   "metadata": {},
   "source": [
    "## Set up the Socrata client\n"
   ]
  },
  {
   "cell_type": "code",
   "execution_count": 60,
   "metadata": {},
   "outputs": [
    {
     "name": "stderr",
     "output_type": "stream",
     "text": [
      "WARNING:root:Requests made without an app_token will be subject to strict throttling limits.\n"
     ]
    }
   ],
   "source": [
    "# Unauthenticated client only works with public data sets. Note 'None'\n",
    "# in place of application token, and no username or password:\n",
    "\n",
    "url = \"data.cityofchicago.org\"\n",
    "client = Socrata(url, None)\n",
    "\n",
    "# Example authenticated client (needed for non-public datasets):\n",
    "# client = Socrata(data.cityofchicago.org,\n",
    "#                  MyAppToken,\n",
    "#                  userame=\"user@example.com\",\n",
    "#                  password=\"AFakePassword\")"
   ]
  },
  {
   "cell_type": "markdown",
   "metadata": {},
   "source": [
    "# TABLE builds\n",
    "\n",
    "For every TABLE\n",
    "- Use a Socrata client query to get all relevant data\n",
    "- Preprocess data as needed\n",
    "- Create Table\n",
    "\n",
    "Our data\n",
    "- rlc_cam is up to 1M redlight cams from 2015 to 2020\n",
    "- crash_data is up to 1M crashes from 2015 to 2020\n",
    "- traffic_data is up to 10M from 2015 to 2020\n",
    "\n",
    "Weather data is taken from csv in data folder"
   ]
  },
  {
   "cell_type": "markdown",
   "metadata": {},
   "source": [
    "## 1) Build daily_violations TABLE  from rlc_df"
   ]
  },
  {
   "cell_type": "markdown",
   "metadata": {},
   "source": [
    "### Get red light violation data from Socrata query"
   ]
  },
  {
   "cell_type": "code",
   "execution_count": 61,
   "metadata": {},
   "outputs": [],
   "source": [
    "# Red light violations\n",
    "# Takes several minutes to run and holds about 500mb in memory to build\n",
    "\n",
    "# First 1000000 results, returned as JSON from API / converted to Python list of dictionaries by sodapy\n",
    "rlc_df = client.get(\"spqx-js37\", #speed cams are at 'hhkd-xvj4' if you want to investigate?\n",
    "                     #where='violation_date > 01-01-2020',\n",
    "                     where='violation_date BETWEEN \\'2015-01-01T00:00:00.000\\' AND \\'2020-12-31T00:00:00.000\\'',\n",
    "                     limit=1000000,\n",
    "                    )\n",
    "\n",
    "rlc_df = pd.DataFrame.from_records(rlc_df) # Convert to pandas DataFrame"
   ]
  },
  {
   "cell_type": "markdown",
   "metadata": {},
   "source": [
    "### Preprocess Red Light Camera Data\n",
    "\n",
    "Data Columns of interest:\n",
    "\n",
    "INTERSECTION -\n",
    "Intersection of the location of the red light enforcement camera(s). There may be more than one camera at each intersection. Plain Text\n",
    "\n",
    "CAMERA ID -\n",
    "A unique ID for each physical camera at an intersection, which may contain more than one camera. Plain Text\n",
    "\n",
    "ADDRESS\t-\n",
    "The address of the physical camera (CAMERA ID). The address may be the same for all cameras or different, based on the physical installation of each camera. Plain Text\n",
    "\n",
    "VIOLATION DATE -\n",
    "The date of when the violations occurred. NOTE: The citation may be issued on a different date. Date & Time\n",
    "\n",
    "VIOLATIONS - \n",
    "Number of violations for each camera on a particular day. Number\n",
    "\n",
    "LATITUDE -\n",
    "The latitude of the physical location of the camera(s) based on the ADDRESS column. Geocoded using the WGS84. Number\n",
    "\n",
    "LONGITUDE -\n",
    "The longitude of the physical location of the camera(s) based on the ADDRESS column. Geocoded using the WGS84.\n",
    "Number"
   ]
  },
  {
   "cell_type": "markdown",
   "metadata": {},
   "source": [
    "#### Investigate rlc_df"
   ]
  },
  {
   "cell_type": "code",
   "execution_count": 62,
   "metadata": {},
   "outputs": [
    {
     "name": "stdout",
     "output_type": "stream",
     "text": [
      "<class 'pandas.core.frame.DataFrame'>\n",
      "RangeIndex: 572558 entries, 0 to 572557\n",
      "Data columns (total 10 columns):\n",
      "intersection      572558 non-null object\n",
      "camera_id         572324 non-null object\n",
      "address           572558 non-null object\n",
      "violation_date    572558 non-null object\n",
      "violations        572558 non-null object\n",
      "x_coordinate      542736 non-null object\n",
      "y_coordinate      542736 non-null object\n",
      "latitude          542736 non-null object\n",
      "longitude         542736 non-null object\n",
      "location          542736 non-null object\n",
      "dtypes: object(10)\n",
      "memory usage: 43.7+ MB\n"
     ]
    },
    {
     "data": {
      "text/plain": [
       "intersection          0\n",
       "camera_id           234\n",
       "address               0\n",
       "violation_date        0\n",
       "violations            0\n",
       "x_coordinate      29822\n",
       "y_coordinate      29822\n",
       "latitude          29822\n",
       "longitude         29822\n",
       "location          29822\n",
       "dtype: int64"
      ]
     },
     "execution_count": 62,
     "metadata": {},
     "output_type": "execute_result"
    }
   ],
   "source": [
    "rlc_df.info()\n",
    "rlc_df.isna().sum()"
   ]
  },
  {
   "cell_type": "markdown",
   "metadata": {},
   "source": [
    "#### Drop nan values and unnecessary columns\n",
    "We see that we have all text/non-null objects.  Need to convert first before manipulating for preprocess.\n",
    "\n",
    "There are a fair number of missing locations/lat/long.  Hope to be able to replace those missing values.\n",
    "This represents a large enough portion of dataset that we should look them up.\n",
    "\n",
    "The na values for camera_id will have to be dropped, since we don't know what they are.\n",
    "\n",
    "We will not be using x andy y_coordinate, so we drop those.  We will also drop location.  We already have lat long in other columns."
   ]
  },
  {
   "cell_type": "code",
   "execution_count": 63,
   "metadata": {},
   "outputs": [
    {
     "data": {
      "text/plain": [
       "intersection          0\n",
       "camera_id             0\n",
       "address               0\n",
       "violation_date        0\n",
       "violations            0\n",
       "latitude          29808\n",
       "longitude         29808\n",
       "dtype: int64"
      ]
     },
     "execution_count": 63,
     "metadata": {},
     "output_type": "execute_result"
    }
   ],
   "source": [
    "#client_df.dropna(subset=['camera_id']).isna().sum()\n",
    "try:\n",
    "    # put this is a try in case we run it twice, it will skip it.\n",
    "    rlc_df.dropna(subset=['camera_id'], inplace=True)\n",
    "    \n",
    "    # drop xy coord and location columns\n",
    "    rlc_df = rlc_df.drop(columns=['x_coordinate', 'y_coordinate', 'location'], index=1)\n",
    "except:\n",
    "    pass\n",
    "\n",
    "\n",
    "\n",
    "rlc_df.isna().sum()"
   ]
  },
  {
   "cell_type": "markdown",
   "metadata": {},
   "source": [
    "#### Manipulate datatypes for preprocessing. "
   ]
  },
  {
   "cell_type": "code",
   "execution_count": 64,
   "metadata": {
    "scrolled": true
   },
   "outputs": [
    {
     "data": {
      "text/html": [
       "<div>\n",
       "<style scoped>\n",
       "    .dataframe tbody tr th:only-of-type {\n",
       "        vertical-align: middle;\n",
       "    }\n",
       "\n",
       "    .dataframe tbody tr th {\n",
       "        vertical-align: top;\n",
       "    }\n",
       "\n",
       "    .dataframe thead th {\n",
       "        text-align: right;\n",
       "    }\n",
       "</style>\n",
       "<table border=\"1\" class=\"dataframe\">\n",
       "  <thead>\n",
       "    <tr style=\"text-align: right;\">\n",
       "      <th></th>\n",
       "      <th>intersection</th>\n",
       "      <th>camera_id</th>\n",
       "      <th>address</th>\n",
       "      <th>violation_date</th>\n",
       "      <th>violations</th>\n",
       "      <th>latitude</th>\n",
       "      <th>longitude</th>\n",
       "      <th>month</th>\n",
       "      <th>dat</th>\n",
       "      <th>weekday</th>\n",
       "      <th>year</th>\n",
       "    </tr>\n",
       "  </thead>\n",
       "  <tbody>\n",
       "    <tr>\n",
       "      <td>0</td>\n",
       "      <td>31ST ST AND MARTIN LUTHER KING DRIVE</td>\n",
       "      <td>2121</td>\n",
       "      <td>3100 S DR MARTIN L KING</td>\n",
       "      <td>2015-01-01</td>\n",
       "      <td>19</td>\n",
       "      <td>NaN</td>\n",
       "      <td>NaN</td>\n",
       "      <td>1</td>\n",
       "      <td>1</td>\n",
       "      <td>3</td>\n",
       "      <td>2015</td>\n",
       "    </tr>\n",
       "    <tr>\n",
       "      <td>2</td>\n",
       "      <td>IRVING PARK AND LARAMIE</td>\n",
       "      <td>1533</td>\n",
       "      <td>5200 W IRVING PARK ROA</td>\n",
       "      <td>2015-01-01</td>\n",
       "      <td>2</td>\n",
       "      <td>NaN</td>\n",
       "      <td>NaN</td>\n",
       "      <td>1</td>\n",
       "      <td>1</td>\n",
       "      <td>3</td>\n",
       "      <td>2015</td>\n",
       "    </tr>\n",
       "    <tr>\n",
       "      <td>3</td>\n",
       "      <td>ELSTON AND IRVING PARK</td>\n",
       "      <td>1503</td>\n",
       "      <td>3700 W IRVING PARK ROA</td>\n",
       "      <td>2015-01-01</td>\n",
       "      <td>2</td>\n",
       "      <td>NaN</td>\n",
       "      <td>NaN</td>\n",
       "      <td>1</td>\n",
       "      <td>1</td>\n",
       "      <td>3</td>\n",
       "      <td>2015</td>\n",
       "    </tr>\n",
       "    <tr>\n",
       "      <td>4</td>\n",
       "      <td>IRVING PARK AND KILPATRICK</td>\n",
       "      <td>2764</td>\n",
       "      <td>4700 W IRVING PARK ROA</td>\n",
       "      <td>2015-01-01</td>\n",
       "      <td>3</td>\n",
       "      <td>NaN</td>\n",
       "      <td>NaN</td>\n",
       "      <td>1</td>\n",
       "      <td>1</td>\n",
       "      <td>3</td>\n",
       "      <td>2015</td>\n",
       "    </tr>\n",
       "    <tr>\n",
       "      <td>5</td>\n",
       "      <td>IRVING PARK AND CALIFORNIA</td>\n",
       "      <td>1234</td>\n",
       "      <td>2800 W IRVING PARK ROA</td>\n",
       "      <td>2015-01-01</td>\n",
       "      <td>1</td>\n",
       "      <td>NaN</td>\n",
       "      <td>NaN</td>\n",
       "      <td>1</td>\n",
       "      <td>1</td>\n",
       "      <td>3</td>\n",
       "      <td>2015</td>\n",
       "    </tr>\n",
       "  </tbody>\n",
       "</table>\n",
       "</div>"
      ],
      "text/plain": [
       "                           intersection camera_id                  address  \\\n",
       "0  31ST ST AND MARTIN LUTHER KING DRIVE      2121  3100 S DR MARTIN L KING   \n",
       "2               IRVING PARK AND LARAMIE      1533   5200 W IRVING PARK ROA   \n",
       "3                ELSTON AND IRVING PARK      1503   3700 W IRVING PARK ROA   \n",
       "4            IRVING PARK AND KILPATRICK      2764   4700 W IRVING PARK ROA   \n",
       "5            IRVING PARK AND CALIFORNIA      1234   2800 W IRVING PARK ROA   \n",
       "\n",
       "  violation_date  violations  latitude  longitude  month  dat  weekday  year  \n",
       "0     2015-01-01          19       NaN        NaN      1    1        3  2015  \n",
       "2     2015-01-01           2       NaN        NaN      1    1        3  2015  \n",
       "3     2015-01-01           2       NaN        NaN      1    1        3  2015  \n",
       "4     2015-01-01           3       NaN        NaN      1    1        3  2015  \n",
       "5     2015-01-01           1       NaN        NaN      1    1        3  2015  "
      ]
     },
     "execution_count": 64,
     "metadata": {},
     "output_type": "execute_result"
    }
   ],
   "source": [
    "rlc_df['violations'] = rlc_df['violations'].apply(int)\n",
    "rlc_df['latitude'] = rlc_df['latitude'].apply(float)\n",
    "rlc_df['longitude'] = rlc_df['longitude'].apply(float)\n",
    "rlc_df['violation_date'] = pd.to_datetime(rlc_df['violation_date'])\n",
    "rlc_df['month'] = rlc_df['violation_date'].apply(lambda x: int(x.month))\n",
    "rlc_df['dat'] = rlc_df['violation_date'].apply(lambda x: int(x.day))\n",
    "\n",
    "rlc_df['weekday'] = rlc_df['violation_date'].apply(lambda x: int(datetime.weekday(x)))\n",
    "rlc_df['year'] = rlc_df['violation_date'].apply(lambda x: int(x.year))\n",
    "\n",
    "rlc_df.head()"
   ]
  },
  {
   "cell_type": "markdown",
   "metadata": {},
   "source": [
    "### Write the daily_violations TABLE - from rlc_df"
   ]
  },
  {
   "cell_type": "code",
   "execution_count": 65,
   "metadata": {
    "scrolled": true
   },
   "outputs": [],
   "source": [
    "def make_table(df, table_name, c, conn):\n",
    "    '''\n",
    "    table_name string\n",
    "    c cursor object\n",
    "    conn sql connection object\n",
    "    '''\n",
    "    if table_name in sql_fetch_tables(c, conn):  # helper function in myfuncs\n",
    "        delete_all_entries(c, conn, table_name) # in myfuncs\n",
    "    \n",
    "    df.to_sql(table_name, conn, if_exists='replace', index = False)    \n",
    "    print(sql_fetch_tables(c, conn))\n",
    "    \n"
   ]
  },
  {
   "cell_type": "code",
   "execution_count": 66,
   "metadata": {},
   "outputs": [
    {
     "name": "stdout",
     "output_type": "stream",
     "text": [
      "[('intersction_locations',), ('intersection_cams',), ('cam_locations',), ('cam_startend',), ('hourly_congestion',), ('hourly_weather',), ('all_crashes',), ('region_data',), ('signal_crashes',), ('daily_violations',)]\n"
     ]
    }
   ],
   "source": [
    "make_table(rlc_df, 'daily_violations', c, conn)"
   ]
  },
  {
   "cell_type": "markdown",
   "metadata": {},
   "source": [
    "## 2) Build cam_locations TABLE - from cam_locs AND cam_startend TABLE from cam_startend"
   ]
  },
  {
   "cell_type": "markdown",
   "metadata": {},
   "source": [
    "#### Make a df with info for each camera\n",
    "Will contain the following:\n",
    "- camera_id\n",
    "- location\n",
    "- start date (when was the camera turned on)\n",
    "- end date (when was the camera turned off)"
   ]
  },
  {
   "cell_type": "code",
   "execution_count": 67,
   "metadata": {},
   "outputs": [],
   "source": [
    "cam_df = rlc_df.copy()\n",
    "cam_df['start'] = cam_df['camera_id'].apply(lambda x: None)\n",
    "cam_df['end'] = cam_df['camera_id'].apply(lambda x: None)"
   ]
  },
  {
   "cell_type": "code",
   "execution_count": 68,
   "metadata": {},
   "outputs": [
    {
     "name": "stdout",
     "output_type": "stream",
     "text": [
      "NA values in cam_startend:\n",
      "camera_id    0\n",
      "start        0\n",
      "end          0\n",
      "dtype: int64\n",
      "\n",
      "Describe cam_startend:\n",
      "       camera_id                start                  end\n",
      "count        363                  363                  363\n",
      "unique       363                   18                   19\n",
      "top         2281  2015-01-01 00:00:00  2020-12-31 00:00:00\n",
      "freq           1                  284                  243\n",
      "first        NaN  2015-01-01 00:00:00  2015-03-02 00:00:00\n",
      "last         NaN  2018-03-05 00:00:00  2020-12-31 00:00:00\n",
      "\n"
     ]
    },
    {
     "data": {
      "text/html": [
       "<div>\n",
       "<style scoped>\n",
       "    .dataframe tbody tr th:only-of-type {\n",
       "        vertical-align: middle;\n",
       "    }\n",
       "\n",
       "    .dataframe tbody tr th {\n",
       "        vertical-align: top;\n",
       "    }\n",
       "\n",
       "    .dataframe thead th {\n",
       "        text-align: right;\n",
       "    }\n",
       "</style>\n",
       "<table border=\"1\" class=\"dataframe\">\n",
       "  <thead>\n",
       "    <tr style=\"text-align: right;\">\n",
       "      <th></th>\n",
       "      <th>camera_id</th>\n",
       "      <th>start</th>\n",
       "      <th>end</th>\n",
       "    </tr>\n",
       "  </thead>\n",
       "  <tbody>\n",
       "    <tr>\n",
       "      <td>0</td>\n",
       "      <td>1002</td>\n",
       "      <td>2015-01-01</td>\n",
       "      <td>2020-12-31</td>\n",
       "    </tr>\n",
       "    <tr>\n",
       "      <td>1</td>\n",
       "      <td>1003</td>\n",
       "      <td>2015-01-01</td>\n",
       "      <td>2020-12-31</td>\n",
       "    </tr>\n",
       "    <tr>\n",
       "      <td>2</td>\n",
       "      <td>1011</td>\n",
       "      <td>2015-01-02</td>\n",
       "      <td>2020-12-31</td>\n",
       "    </tr>\n",
       "    <tr>\n",
       "      <td>3</td>\n",
       "      <td>1014</td>\n",
       "      <td>2015-01-01</td>\n",
       "      <td>2020-12-31</td>\n",
       "    </tr>\n",
       "    <tr>\n",
       "      <td>4</td>\n",
       "      <td>1023</td>\n",
       "      <td>2015-01-02</td>\n",
       "      <td>2020-12-31</td>\n",
       "    </tr>\n",
       "  </tbody>\n",
       "</table>\n",
       "</div>"
      ],
      "text/plain": [
       "  camera_id      start        end\n",
       "0      1002 2015-01-01 2020-12-31\n",
       "1      1003 2015-01-01 2020-12-31\n",
       "2      1011 2015-01-02 2020-12-31\n",
       "3      1014 2015-01-01 2020-12-31\n",
       "4      1023 2015-01-02 2020-12-31"
      ]
     },
     "execution_count": 68,
     "metadata": {},
     "output_type": "execute_result"
    }
   ],
   "source": [
    "cam_start = cam_df.groupby(['camera_id'])['violation_date'].min().reset_index()\n",
    "cam_end = cam_df.groupby(['camera_id'])['violation_date'].max().reset_index()\n",
    "\n",
    "cam_startend = cam_start.copy()\n",
    "\n",
    "#print(cam_end[cam_end['camera_id']=='1503'].values[0][1])  # for testing output\n",
    "cam_startend['end'] = cam_start['camera_id'].apply(lambda x: cam_end[cam_end['camera_id']==x].values[0][1])\n",
    "\n",
    "cam_startend.rename(columns={\"violation_date\": \"start\"}, inplace=True)\n",
    "                                                   \n",
    "print('NA values in cam_startend:', cam_startend.isna().sum(), end='\\n\\n', sep='\\n')\n",
    "\n",
    "print('Describe cam_startend:', cam_startend.describe(), end='\\n\\n', sep='\\n')\n",
    "\n",
    "cam_startend.head()"
   ]
  },
  {
   "cell_type": "markdown",
   "metadata": {},
   "source": [
    "## Make a db table that has camera locations and intersections\n",
    "Intersections are present (and addresses), but we do not have lat/long info for all cams"
   ]
  },
  {
   "cell_type": "code",
   "execution_count": 142,
   "metadata": {},
   "outputs": [],
   "source": [
    "rlc_df.groupby('camera_id')['latitude'].max()  # Some cams do not have any data for lat long at all\n",
    "\n",
    "\n",
    "# Some of the addresses are truncated and not able to lookup with geocode\n",
    "\n",
    "address_fix = {'2400 W VAN BUREN STREE': '2400 W VAN BUREN STREET',\n",
    "               '4700 W IRVING PARK ROA': '4700 W IRVING PARK ROAD',\n",
    "               '11500 S HALSTED STREE': '11500 S HALSTED STREET',\n",
    "               '5500 S WENTWORTH AVEN': '5500 S WENTWORTH AVENUE',\n",
    "                '10300 S HALSTED STREE': '10300 S HALSTED STREET',\n",
    "               '3700 W IRVING PARK ROA': '3700 W IRVING PARK ROAD',\n",
    "               '1600 W IRVING PARK ROA': '1600 W IRVING PARK ROAD',\n",
    "               '7900 S JEFFERY BOULEV': '7900 S JEFFERY BOULEVARD',\n",
    "               '2800 W IRVING PARK ROA': '2800 W IRVING PARK ROAD',\n",
    "               '5200 W IRVING PARK ROA': '5200 W IRVING PARK ROAD',\n",
    "               '3100 S DR MARTIN L KING': '3100 S MARTIN KING DRIVE',\n",
    "               '1600 W DIVERSEY PARKWA': '1600 W DIVERSEY PARKWAY',\n",
    "               '140 W KINZIE': '140 W Kinzie St',\n",
    "                '150 N SACRAMENTO BOUL': '150 N SACRAMENTO BOUL',\n",
    "               '800 N SACRAMENTO AVEN':'800 N SACRAMENTO AVENUE',\n",
    "               '3200 N LAKESHORE DRIV':'3200 N LAKE SHORE DRIVE',\n",
    "               '6400 W FULLERTON AVENU':'6400 W FULLERTON AVENUE',\n",
    "               '6400 N MILWAUKEE AVEN':'6400 N MILWAUKEE AVENUE',\n",
    "               '7900 S STONEY ISLAND':'7900 S Stony Island Ave',  \n",
    "               '150 N SACRAMENTO BOUL':'150 N SACRAMENTO BOULEVARD',\n",
    "                '3200 N LAKESHORE DRIVE':'3200 N Lake Shore Dr',\n",
    "               '7900 S STONEY ISLAND AVENUE':'7900 S Stony Island Ave',\n",
    "               '5600 W FULLERTON AVENU':'5600 W FULLERTON AVENUE',\n",
    "               '8700 S LAFAYETTE AVEN':'8700 S LAFAYETTE AVENUE',\n",
    "               '4400 N MILWAUKEE AVEN':'4400 N MILWAUKEE AVENUE',\n",
    "              }"
   ]
  },
  {
   "cell_type": "code",
   "execution_count": 143,
   "metadata": {},
   "outputs": [
    {
     "name": "stdout",
     "output_type": "stream",
     "text": [
      "Two of them\n",
      "    camera_id           intersection                  address violation_date  \\\n",
      "83      1421     DAMEN AND DIVERSEY  2000 W DIVERSEY PARKWAY     2017-11-30   \n",
      "84      1421  LARAMIE AND FULLERTON    2400 N LARAMIE AVENUE     2020-12-31   \n",
      "\n",
      "    violations   latitude  longitude  month  dat  weekday  year  \n",
      "83           1  41.932394 -87.678173     11   30        3  2017  \n",
      "84           6  41.924152 -87.756295     12   31        6  2020  \n",
      "\n",
      "Damen/Diversey 1\n",
      "Laramie/Fullerton: 1219\n",
      "Total cams 363\n"
     ]
    }
   ],
   "source": [
    "# we had some incorrect data in the code below, but have a creative fix.\n",
    "\n",
    "cam_locs = rlc_df.groupby(['camera_id', 'intersection']).max().reset_index()\n",
    "cam_locs.head()\n",
    "\n",
    "# we find there is a mismatch between lens, one of them is duplicated\n",
    "len(cam_locs)  # 364 total\n",
    "len(cam_locs['camera_id'].unique()) # 363\n",
    "\n",
    "cam_locs[cam_locs['camera_id'].duplicated()]  # 1421 is dupe\n",
    "print('Two of them\\n', cam_locs[cam_locs['camera_id'] == '1421'])  # we see two of them\n",
    "print()\n",
    "\n",
    "# Which one is it?\n",
    "print('Damen/Diversey', rlc_df[(rlc_df['camera_id']=='1421') & (rlc_df['intersection']=='DAMEN AND DIVERSEY')]['camera_id'].count())\n",
    "print('Laramie/Fullerton:', rlc_df[(rlc_df['camera_id']=='1421') & (rlc_df['intersection']=='LARAMIE AND FULLERTON')]['camera_id'].count())\n",
    "\n",
    "# Turns out that a camera has two locations. One was only used one time.  We drop it.\n",
    "cam_locs = cam_locs[(cam_locs['camera_id']!='1421') | (cam_locs['intersection']!='DAMEN AND DIVERSEY')]\n",
    "print(\"Total cams\", len(cam_locs))  # 363 total (got rid of the bad one)"
   ]
  },
  {
   "cell_type": "code",
   "execution_count": 144,
   "metadata": {},
   "outputs": [
    {
     "data": {
      "text/plain": [
       "camera_id          0\n",
       "intersection       0\n",
       "address            0\n",
       "violation_date     0\n",
       "violations         0\n",
       "latitude          19\n",
       "longitude         19\n",
       "month              0\n",
       "dat                0\n",
       "weekday            0\n",
       "year               0\n",
       "dtype: int64"
      ]
     },
     "execution_count": 144,
     "metadata": {},
     "output_type": "execute_result"
    }
   ],
   "source": [
    "cam_locs.isna().sum()  # missing location for 19 cameras.  Let's fix it"
   ]
  },
  {
   "cell_type": "markdown",
   "metadata": {},
   "source": [
    "Looks like we also are missing 19 of the 363 cam locations.  Let's look it up!"
   ]
  },
  {
   "cell_type": "code",
   "execution_count": 145,
   "metadata": {},
   "outputs": [],
   "source": [
    "\n",
    "'''\n",
    "This section goes through all of the rlc and assigns latlong\n",
    "Many lights are missing it.  \n",
    "For each light, there is an address though.\n",
    "We use geocoding to get the latlong\n",
    "'''\n",
    "\n",
    "# let's get all of the red light cameras with their gps location.  \n",
    "# This will aid in placing the accidents at rlc intersections later (if closer than threshold point to point)\n",
    "# Some RLCs are missing location data,  but have addresses.  I can use geocoding I guess to look them up.\n",
    "\n",
    "\n",
    "geolocator = Nominatim(user_agent=\"https://github.com/sciencelee/chicago_rlc\")  # please change to match repo\n",
    "\n",
    "# Some example code\n",
    "#location = geolocator.geocode(\"175 5th Avenue NYC\")\n",
    "#print(location.address)\n",
    "# out: Flatiron Building, 175, 5th Avenue, Flatiron, New York, NYC, New York, ...\n",
    "\n",
    "#print((location.latitude, location.longitude))\n",
    "# out: (40.7410861, -73.9896297241625)\n",
    "\n",
    "#print(location.raw)\n",
    "# out: {'place_id': '9167009604', 'type': 'attraction', ...}\n",
    "\n",
    "\n",
    "# CAN USE THIS TO FIGURE OUT MY LAT LONG FROM RLC ADDRESS (or crash later)   \n",
    " \n",
    "def get_geocode(lat, long, address):\n",
    "    if lat > 0:  # it's a location\n",
    "        return (lat, long)\n",
    "    else: # it's a proper location tuple, and assumed to be correct latlong\n",
    "        if address in address_fix.keys(): address = address_fix[address]  # errors in the dataset chars omitted\n",
    "        # if we make it this far, we have no record of this cam_id yet, and it doesn't have a proper location\n",
    "        location = geolocator.geocode(address + ', Chicago, IL')\n",
    "        if location == None:\n",
    "            print(address+':'+address+' : could not geolocate') # print it out if we can't find (address errors)\n",
    "        else:\n",
    "            return (location.latitude, location.longitude)\n",
    "\n",
    "        \n",
    "\n",
    "\n",
    "# Got it down to one-liner for this. Found out you can't extract and assign series like you can variables\n",
    "cam_locs['location'] = cam_locs.apply(lambda x: get_geocode(x.latitude, x.longitude, x.address), axis=1)"
   ]
  },
  {
   "cell_type": "code",
   "execution_count": 146,
   "metadata": {},
   "outputs": [],
   "source": [
    "cam_locs['location'].head()\n",
    "cam_locs['latitude'] = cam_locs['location'].apply(lambda x: x[0])\n",
    "cam_locs['longitude'] = cam_locs['location'].apply(lambda x: x[1])\n",
    "\n",
    "cam_locs = cam_locs.drop(columns=['violation_date', 'violations', 'month', 'weekday', 'year', 'location'])"
   ]
  },
  {
   "cell_type": "code",
   "execution_count": 147,
   "metadata": {},
   "outputs": [
    {
     "name": "stdout",
     "output_type": "stream",
     "text": [
      "<class 'pandas.core.frame.DataFrame'>\n",
      "Int64Index: 363 entries, 0 to 363\n",
      "Data columns (total 6 columns):\n",
      "camera_id       363 non-null object\n",
      "intersection    363 non-null object\n",
      "address         363 non-null object\n",
      "latitude        363 non-null float64\n",
      "longitude       363 non-null float64\n",
      "dat             363 non-null int64\n",
      "dtypes: float64(2), int64(1), object(3)\n",
      "memory usage: 19.9+ KB\n"
     ]
    },
    {
     "data": {
      "text/plain": [
       "camera_id       0\n",
       "intersection    0\n",
       "address         0\n",
       "latitude        0\n",
       "longitude       0\n",
       "dat             0\n",
       "dtype: int64"
      ]
     },
     "execution_count": 147,
     "metadata": {},
     "output_type": "execute_result"
    }
   ],
   "source": [
    "cam_locs.info()\n",
    "cam_locs.isna().sum() # No longer missing location for 19 cameras."
   ]
  },
  {
   "cell_type": "code",
   "execution_count": null,
   "metadata": {},
   "outputs": [],
   "source": []
  },
  {
   "cell_type": "markdown",
   "metadata": {},
   "source": [
    "### Lat long fixes\n",
    "During EDA, we found out that five cameras were in completely wrong lat/long location.  \n",
    "Several others were located a little too far from the intersection to work properly.  When we rebuild the db, we will use bigger number than 30 m.\n",
    "\n",
    "Here are the fixes I found easily."
   ]
  },
  {
   "cell_type": "code",
   "execution_count": 175,
   "metadata": {},
   "outputs": [],
   "source": [
    "correct_camlocs = {'WENTWORTH AND GARFIELD': (41.79435532184194, -87.63114616279303),\n",
    "                   'KIMBALL AND LINCOLN': (41.99454797825689, -87.71403619467101),\n",
    "                    'IRVING PARK AND LARAMIE': (41.95330280770521, -87.75714705140294),\n",
    "                   'IRVING PARK AND KILPATRICK': (41.953454972337305, -87.74460631799197),\n",
    "                   '31ST ST AND MARTIN LUTHER KING DRIVE':(41.838438059816816, -87.61731906497867),\n",
    "                   '31ST AND CALIFORNIA':(41.83743605501678, -87.6950324427879),\n",
    "                   'ELSTON AND LAWRENCE': (41.96809435761252, -87.74010862196117),\n",
    "                   'OGDEN AND KOSTNER':(41.84767736575193, -87.73437725628261),\n",
    "                    'IRVING PARK AND CALIFORNIA':(41.95399037931945, -87.69821479681646),\n",
    "                   'LAKE SHORE DR AND BELMONT': (41.940128786177176, -87.63954362976928),\n",
    "                     }\n",
    "\n",
    "\n"
   ]
  },
  {
   "cell_type": "code",
   "execution_count": 149,
   "metadata": {},
   "outputs": [
    {
     "data": {
      "text/html": [
       "<div>\n",
       "<style scoped>\n",
       "    .dataframe tbody tr th:only-of-type {\n",
       "        vertical-align: middle;\n",
       "    }\n",
       "\n",
       "    .dataframe tbody tr th {\n",
       "        vertical-align: top;\n",
       "    }\n",
       "\n",
       "    .dataframe thead th {\n",
       "        text-align: right;\n",
       "    }\n",
       "</style>\n",
       "<table border=\"1\" class=\"dataframe\">\n",
       "  <thead>\n",
       "    <tr style=\"text-align: right;\">\n",
       "      <th></th>\n",
       "      <th>camera_id</th>\n",
       "      <th>intersection</th>\n",
       "      <th>address</th>\n",
       "      <th>latitude</th>\n",
       "      <th>longitude</th>\n",
       "      <th>dat</th>\n",
       "    </tr>\n",
       "  </thead>\n",
       "  <tbody>\n",
       "    <tr>\n",
       "      <td>0</td>\n",
       "      <td>1002</td>\n",
       "      <td>WESTERN AND CERMAK</td>\n",
       "      <td>2200 S WESTERN AVENUE</td>\n",
       "      <td>41.851984</td>\n",
       "      <td>-87.685786</td>\n",
       "      <td>31</td>\n",
       "    </tr>\n",
       "    <tr>\n",
       "      <td>1</td>\n",
       "      <td>1003</td>\n",
       "      <td>WESTERN AND CERMAK</td>\n",
       "      <td>2400 W CERMAK ROAD</td>\n",
       "      <td>41.852141</td>\n",
       "      <td>-87.685753</td>\n",
       "      <td>31</td>\n",
       "    </tr>\n",
       "    <tr>\n",
       "      <td>2</td>\n",
       "      <td>1011</td>\n",
       "      <td>PETERSON AND WESTERN</td>\n",
       "      <td>6000 N WESTERN AVE</td>\n",
       "      <td>41.990586</td>\n",
       "      <td>-87.689822</td>\n",
       "      <td>31</td>\n",
       "    </tr>\n",
       "    <tr>\n",
       "      <td>3</td>\n",
       "      <td>1014</td>\n",
       "      <td>PETERSON AND WESTERN</td>\n",
       "      <td>2400 W PETERSON</td>\n",
       "      <td>41.990609</td>\n",
       "      <td>-87.689735</td>\n",
       "      <td>31</td>\n",
       "    </tr>\n",
       "    <tr>\n",
       "      <td>4</td>\n",
       "      <td>1023</td>\n",
       "      <td>IRVING PARK AND NARRAGANSETT</td>\n",
       "      <td>6400 W IRVING PK</td>\n",
       "      <td>41.953025</td>\n",
       "      <td>-87.786683</td>\n",
       "      <td>31</td>\n",
       "    </tr>\n",
       "  </tbody>\n",
       "</table>\n",
       "</div>"
      ],
      "text/plain": [
       "  camera_id                  intersection                address   latitude  \\\n",
       "0      1002            WESTERN AND CERMAK  2200 S WESTERN AVENUE  41.851984   \n",
       "1      1003            WESTERN AND CERMAK     2400 W CERMAK ROAD  41.852141   \n",
       "2      1011          PETERSON AND WESTERN     6000 N WESTERN AVE  41.990586   \n",
       "3      1014          PETERSON AND WESTERN        2400 W PETERSON  41.990609   \n",
       "4      1023  IRVING PARK AND NARRAGANSETT       6400 W IRVING PK  41.953025   \n",
       "\n",
       "   longitude  dat  \n",
       "0 -87.685786   31  \n",
       "1 -87.685753   31  \n",
       "2 -87.689822   31  \n",
       "3 -87.689735   31  \n",
       "4 -87.786683   31  "
      ]
     },
     "execution_count": 149,
     "metadata": {},
     "output_type": "execute_result"
    }
   ],
   "source": [
    "cam_locs.head()"
   ]
  },
  {
   "cell_type": "code",
   "execution_count": 151,
   "metadata": {},
   "outputs": [
    {
     "name": "stdout",
     "output_type": "stream",
     "text": [
      "Index(['camera_id', 'intersection', 'address', 'latitude', 'longitude', 'dat'], dtype='object')\n",
      "41.79435532184194\n",
      "dict_keys(['WENTWORTH AND GARFIELD', 'KIMBALL AND LINCOLN', 'IRVING PARK AND LARAMIE', 'IRVING PARK AND KILPATRICK', '31ST ST AND MARTIN LUTHER KING DRIVE', '31ST AND CALIFORNIA', 'ELSTON AND LAWRENCE', 'OGDEN AND KOSTNER', 'IRVING PARK AND CALIFORNIA', 'LAKE SHORE DR AND BELMONT'])\n",
      "True\n"
     ]
    },
    {
     "data": {
      "text/html": [
       "<div>\n",
       "<style scoped>\n",
       "    .dataframe tbody tr th:only-of-type {\n",
       "        vertical-align: middle;\n",
       "    }\n",
       "\n",
       "    .dataframe tbody tr th {\n",
       "        vertical-align: top;\n",
       "    }\n",
       "\n",
       "    .dataframe thead th {\n",
       "        text-align: right;\n",
       "    }\n",
       "</style>\n",
       "<table border=\"1\" class=\"dataframe\">\n",
       "  <thead>\n",
       "    <tr style=\"text-align: right;\">\n",
       "      <th></th>\n",
       "      <th>camera_id</th>\n",
       "      <th>intersection</th>\n",
       "      <th>address</th>\n",
       "      <th>latitude</th>\n",
       "      <th>longitude</th>\n",
       "    </tr>\n",
       "  </thead>\n",
       "  <tbody>\n",
       "    <tr>\n",
       "      <td>0</td>\n",
       "      <td>1002</td>\n",
       "      <td>WESTERN AND CERMAK</td>\n",
       "      <td>2200 S WESTERN AVENUE</td>\n",
       "      <td>41.851984</td>\n",
       "      <td>-87.685786</td>\n",
       "    </tr>\n",
       "    <tr>\n",
       "      <td>1</td>\n",
       "      <td>1003</td>\n",
       "      <td>WESTERN AND CERMAK</td>\n",
       "      <td>2400 W CERMAK ROAD</td>\n",
       "      <td>41.852141</td>\n",
       "      <td>-87.685753</td>\n",
       "    </tr>\n",
       "    <tr>\n",
       "      <td>2</td>\n",
       "      <td>1011</td>\n",
       "      <td>PETERSON AND WESTERN</td>\n",
       "      <td>6000 N WESTERN AVE</td>\n",
       "      <td>41.990586</td>\n",
       "      <td>-87.689822</td>\n",
       "    </tr>\n",
       "    <tr>\n",
       "      <td>3</td>\n",
       "      <td>1014</td>\n",
       "      <td>PETERSON AND WESTERN</td>\n",
       "      <td>2400 W PETERSON</td>\n",
       "      <td>41.990609</td>\n",
       "      <td>-87.689735</td>\n",
       "    </tr>\n",
       "    <tr>\n",
       "      <td>4</td>\n",
       "      <td>1023</td>\n",
       "      <td>IRVING PARK AND NARRAGANSETT</td>\n",
       "      <td>6400 W IRVING PK</td>\n",
       "      <td>41.953025</td>\n",
       "      <td>-87.786683</td>\n",
       "    </tr>\n",
       "  </tbody>\n",
       "</table>\n",
       "</div>"
      ],
      "text/plain": [
       "  camera_id                  intersection                address   latitude  \\\n",
       "0      1002            WESTERN AND CERMAK  2200 S WESTERN AVENUE  41.851984   \n",
       "1      1003            WESTERN AND CERMAK     2400 W CERMAK ROAD  41.852141   \n",
       "2      1011          PETERSON AND WESTERN     6000 N WESTERN AVE  41.990586   \n",
       "3      1014          PETERSON AND WESTERN        2400 W PETERSON  41.990609   \n",
       "4      1023  IRVING PARK AND NARRAGANSETT       6400 W IRVING PK  41.953025   \n",
       "\n",
       "   longitude  \n",
       "0 -87.685786  \n",
       "1 -87.685753  \n",
       "2 -87.689822  \n",
       "3 -87.689735  \n",
       "4 -87.786683  "
      ]
     },
     "execution_count": 151,
     "metadata": {},
     "output_type": "execute_result"
    }
   ],
   "source": [
    "print(cam_locs.columns)\n",
    "\n",
    "print(correct_camlocs['WENTWORTH AND GARFIELD'][0])\n",
    "print(correct_camlocs.keys())\n",
    "print('WENTWORTH AND GARFIELD' in correct_camlocs.keys())\n",
    "cam_locs['latitude'] = cam_locs.apply(lambda x: correct_camlocs[x['intersection']][0] if x['intersection'] in correct_camlocs.keys() else x['latitude'], axis=1)\n",
    "cam_locs['longitude'] = cam_locs.apply(lambda x: correct_camlocs[x['intersection']][1] if x['intersection'] in correct_camlocs.keys() else x['longitude'], axis=1)\n",
    "\n",
    "cam_locs.drop(columns=['dat'], inplace=True)\n",
    "cam_locs.head()"
   ]
  },
  {
   "cell_type": "markdown",
   "metadata": {},
   "source": [
    "### Create cam_locations TABLE - from cam_locs AND cam_startend from cam_startend"
   ]
  },
  {
   "cell_type": "code",
   "execution_count": 152,
   "metadata": {},
   "outputs": [
    {
     "name": "stdout",
     "output_type": "stream",
     "text": [
      "[('intersction_locations',), ('intersection_cams',), ('hourly_congestion',), ('hourly_weather',), ('all_crashes',), ('region_data',), ('signal_crashes',), ('daily_violations',), ('cam_startend',), ('cam_locations',)]\n",
      "[('intersction_locations',), ('intersection_cams',), ('hourly_congestion',), ('hourly_weather',), ('all_crashes',), ('region_data',), ('signal_crashes',), ('daily_violations',), ('cam_locations',), ('cam_startend',)]\n"
     ]
    }
   ],
   "source": [
    "make_table(cam_locs, 'cam_locations', c, conn)\n",
    "make_table(cam_startend, 'cam_startend', c, conn)"
   ]
  },
  {
   "cell_type": "markdown",
   "metadata": {},
   "source": [
    "###  We still have missing lat/long info for our rlc_df.  Let's fix it\n",
    "Before moving on.  Now that we have cam_locs, we can fix our rlc_df"
   ]
  },
  {
   "cell_type": "code",
   "execution_count": 153,
   "metadata": {},
   "outputs": [
    {
     "data": {
      "text/html": [
       "<div>\n",
       "<style scoped>\n",
       "    .dataframe tbody tr th:only-of-type {\n",
       "        vertical-align: middle;\n",
       "    }\n",
       "\n",
       "    .dataframe tbody tr th {\n",
       "        vertical-align: top;\n",
       "    }\n",
       "\n",
       "    .dataframe thead th {\n",
       "        text-align: right;\n",
       "    }\n",
       "</style>\n",
       "<table border=\"1\" class=\"dataframe\">\n",
       "  <thead>\n",
       "    <tr style=\"text-align: right;\">\n",
       "      <th></th>\n",
       "      <th>camera_id</th>\n",
       "      <th>intersection</th>\n",
       "      <th>address</th>\n",
       "      <th>latitude</th>\n",
       "      <th>longitude</th>\n",
       "    </tr>\n",
       "  </thead>\n",
       "  <tbody>\n",
       "    <tr>\n",
       "      <td>0</td>\n",
       "      <td>1002</td>\n",
       "      <td>WESTERN AND CERMAK</td>\n",
       "      <td>2200 S WESTERN AVENUE</td>\n",
       "      <td>41.851984</td>\n",
       "      <td>-87.685786</td>\n",
       "    </tr>\n",
       "    <tr>\n",
       "      <td>1</td>\n",
       "      <td>1003</td>\n",
       "      <td>WESTERN AND CERMAK</td>\n",
       "      <td>2400 W CERMAK ROAD</td>\n",
       "      <td>41.852141</td>\n",
       "      <td>-87.685753</td>\n",
       "    </tr>\n",
       "    <tr>\n",
       "      <td>2</td>\n",
       "      <td>1011</td>\n",
       "      <td>PETERSON AND WESTERN</td>\n",
       "      <td>6000 N WESTERN AVE</td>\n",
       "      <td>41.990586</td>\n",
       "      <td>-87.689822</td>\n",
       "    </tr>\n",
       "    <tr>\n",
       "      <td>3</td>\n",
       "      <td>1014</td>\n",
       "      <td>PETERSON AND WESTERN</td>\n",
       "      <td>2400 W PETERSON</td>\n",
       "      <td>41.990609</td>\n",
       "      <td>-87.689735</td>\n",
       "    </tr>\n",
       "    <tr>\n",
       "      <td>4</td>\n",
       "      <td>1023</td>\n",
       "      <td>IRVING PARK AND NARRAGANSETT</td>\n",
       "      <td>6400 W IRVING PK</td>\n",
       "      <td>41.953025</td>\n",
       "      <td>-87.786683</td>\n",
       "    </tr>\n",
       "  </tbody>\n",
       "</table>\n",
       "</div>"
      ],
      "text/plain": [
       "  camera_id                  intersection                address   latitude  \\\n",
       "0      1002            WESTERN AND CERMAK  2200 S WESTERN AVENUE  41.851984   \n",
       "1      1003            WESTERN AND CERMAK     2400 W CERMAK ROAD  41.852141   \n",
       "2      1011          PETERSON AND WESTERN     6000 N WESTERN AVE  41.990586   \n",
       "3      1014          PETERSON AND WESTERN        2400 W PETERSON  41.990609   \n",
       "4      1023  IRVING PARK AND NARRAGANSETT       6400 W IRVING PK  41.953025   \n",
       "\n",
       "   longitude  \n",
       "0 -87.685786  \n",
       "1 -87.685753  \n",
       "2 -87.689822  \n",
       "3 -87.689735  \n",
       "4 -87.786683  "
      ]
     },
     "execution_count": 153,
     "metadata": {},
     "output_type": "execute_result"
    }
   ],
   "source": [
    "rlc_df.isna().sum()  \n",
    "cam_locs.head()"
   ]
  },
  {
   "cell_type": "code",
   "execution_count": 154,
   "metadata": {},
   "outputs": [],
   "source": [
    "#⏳⏳⏳⏳⏳⏳\n",
    "# THIS TAKES SOME TIME (8min on my macbook pro)\n",
    "def read_loc(camloc_df, cam_id):\n",
    "    cam = camloc_df[camloc_df['camera_id']==cam_id]\n",
    "    return (float(cam['latitude']), float(cam['longitude']))\n",
    "        \n",
    "\n",
    "#read_loc(cam_locs, 45, 87, '1002')  # testing purposes\n",
    "#results_df[:5].apply(lambda x: x.latitude, axis=1)  # tsting purpose\n",
    "\n",
    "# create a location column so we only have to do it once\n",
    "rlc_df['location'] = rlc_df.apply(lambda x: read_loc(cam_locs, x.camera_id), axis=1)"
   ]
  },
  {
   "cell_type": "code",
   "execution_count": 155,
   "metadata": {},
   "outputs": [],
   "source": [
    "# then add in the new lat longs to the df\n",
    "rlc_df['latitude'] = rlc_df['location'].apply(lambda x: x[0])\n",
    "rlc_df['longitude'] = rlc_df['location'].apply(lambda x: x[1])"
   ]
  },
  {
   "cell_type": "code",
   "execution_count": 156,
   "metadata": {},
   "outputs": [],
   "source": [
    "if 'location' in rlc_df.columns:\n",
    "    rlc_df.drop(columns=['location'], inplace=True)"
   ]
  },
  {
   "cell_type": "code",
   "execution_count": 157,
   "metadata": {},
   "outputs": [
    {
     "name": "stdout",
     "output_type": "stream",
     "text": [
      "[('intersction_locations',), ('intersection_cams',), ('hourly_congestion',), ('hourly_weather',), ('all_crashes',), ('region_data',), ('signal_crashes',), ('cam_locations',), ('cam_startend',), ('daily_violations',)]\n"
     ]
    }
   ],
   "source": [
    "make_table(rlc_df, 'daily_violations', c, conn)"
   ]
  },
  {
   "cell_type": "markdown",
   "metadata": {},
   "source": [
    "## 3) intersection_locations TABLE - from intersection_df"
   ]
  },
  {
   "cell_type": "markdown",
   "metadata": {},
   "source": [
    "## Add a df of intersections with lat long\n",
    "This should help us later determine if crash is at intersection\n",
    "\n",
    "I chose to groupby the intersection and aggregate the most commonly occuring lat/long value"
   ]
  },
  {
   "cell_type": "code",
   "execution_count": 158,
   "metadata": {},
   "outputs": [],
   "source": [
    "#results_df.groupby(['intersection', 'latitude', 'longitude']).reset_index()\n",
    "intersection_df = rlc_df.groupby(['intersection']).agg({'latitude':pd.Series.mode,'longitude':pd.Series.mode,}).reset_index()"
   ]
  },
  {
   "cell_type": "code",
   "execution_count": 159,
   "metadata": {},
   "outputs": [
    {
     "name": "stdout",
     "output_type": "stream",
     "text": [
      "<class 'pandas.core.frame.DataFrame'>\n",
      "RangeIndex: 183 entries, 0 to 182\n",
      "Data columns (total 3 columns):\n",
      "intersection    183 non-null object\n",
      "latitude        183 non-null object\n",
      "longitude       183 non-null object\n",
      "dtypes: object(3)\n",
      "memory usage: 4.4+ KB\n"
     ]
    },
    {
     "data": {
      "text/html": [
       "<div>\n",
       "<style scoped>\n",
       "    .dataframe tbody tr th:only-of-type {\n",
       "        vertical-align: middle;\n",
       "    }\n",
       "\n",
       "    .dataframe tbody tr th {\n",
       "        vertical-align: top;\n",
       "    }\n",
       "\n",
       "    .dataframe thead th {\n",
       "        text-align: right;\n",
       "    }\n",
       "</style>\n",
       "<table border=\"1\" class=\"dataframe\">\n",
       "  <thead>\n",
       "    <tr style=\"text-align: right;\">\n",
       "      <th></th>\n",
       "      <th>intersection</th>\n",
       "      <th>latitude</th>\n",
       "      <th>longitude</th>\n",
       "    </tr>\n",
       "  </thead>\n",
       "  <tbody>\n",
       "    <tr>\n",
       "      <td>0</td>\n",
       "      <td>111TH AND HALSTED</td>\n",
       "      <td>41.6923</td>\n",
       "      <td>-87.6425</td>\n",
       "    </tr>\n",
       "    <tr>\n",
       "      <td>1</td>\n",
       "      <td>115TH AND HALSTED</td>\n",
       "      <td>41.6848</td>\n",
       "      <td>-87.6426</td>\n",
       "    </tr>\n",
       "    <tr>\n",
       "      <td>2</td>\n",
       "      <td>119TH AND HALSTED</td>\n",
       "      <td>41.6777</td>\n",
       "      <td>-87.6421</td>\n",
       "    </tr>\n",
       "    <tr>\n",
       "      <td>3</td>\n",
       "      <td>31ST AND CALIFORNIA</td>\n",
       "      <td>41.8374</td>\n",
       "      <td>-87.695</td>\n",
       "    </tr>\n",
       "    <tr>\n",
       "      <td>4</td>\n",
       "      <td>31ST ST AND MARTIN LUTHER KING DRIVE</td>\n",
       "      <td>41.8384</td>\n",
       "      <td>-87.6173</td>\n",
       "    </tr>\n",
       "  </tbody>\n",
       "</table>\n",
       "</div>"
      ],
      "text/plain": [
       "                           intersection latitude longitude\n",
       "0                     111TH AND HALSTED  41.6923  -87.6425\n",
       "1                     115TH AND HALSTED  41.6848  -87.6426\n",
       "2                     119TH AND HALSTED  41.6777  -87.6421\n",
       "3                   31ST AND CALIFORNIA  41.8374   -87.695\n",
       "4  31ST ST AND MARTIN LUTHER KING DRIVE  41.8384  -87.6173"
      ]
     },
     "execution_count": 159,
     "metadata": {},
     "output_type": "execute_result"
    }
   ],
   "source": [
    "intersection_df.info()\n",
    "intersection_df.head()  # that was easy!"
   ]
  },
  {
   "cell_type": "markdown",
   "metadata": {},
   "source": [
    "### Create intersection_locations TABLE - from intersection_df"
   ]
  },
  {
   "cell_type": "code",
   "execution_count": 160,
   "metadata": {},
   "outputs": [
    {
     "name": "stdout",
     "output_type": "stream",
     "text": [
      "[('intersection_cams',), ('hourly_congestion',), ('hourly_weather',), ('all_crashes',), ('region_data',), ('signal_crashes',), ('cam_locations',), ('cam_startend',), ('daily_violations',), ('intersction_locations',)]\n"
     ]
    }
   ],
   "source": [
    "make_table(intersection_df, 'intersction_locations', c, conn)"
   ]
  },
  {
   "cell_type": "markdown",
   "metadata": {},
   "source": [
    "## 4) Create intersection_cams TABLE - from int_cams"
   ]
  },
  {
   "cell_type": "markdown",
   "metadata": {},
   "source": [
    "### We will now focus on trying to bring rlc intersections to our crashes\n",
    "We find that we have 363 cameras at 183 intersections"
   ]
  },
  {
   "cell_type": "code",
   "execution_count": 161,
   "metadata": {},
   "outputs": [
    {
     "name": "stdout",
     "output_type": "stream",
     "text": [
      "<class 'pandas.core.frame.DataFrame'>\n",
      "Int64Index: 363 entries, 0 to 363\n",
      "Data columns (total 5 columns):\n",
      "camera_id       363 non-null object\n",
      "intersection    363 non-null object\n",
      "address         363 non-null object\n",
      "latitude        363 non-null float64\n",
      "longitude       363 non-null float64\n",
      "dtypes: float64(2), object(3)\n",
      "memory usage: 17.0+ KB\n"
     ]
    }
   ],
   "source": [
    "cam_locs.info()"
   ]
  },
  {
   "cell_type": "code",
   "execution_count": 162,
   "metadata": {},
   "outputs": [
    {
     "data": {
      "text/html": [
       "<div>\n",
       "<style scoped>\n",
       "    .dataframe tbody tr th:only-of-type {\n",
       "        vertical-align: middle;\n",
       "    }\n",
       "\n",
       "    .dataframe tbody tr th {\n",
       "        vertical-align: top;\n",
       "    }\n",
       "\n",
       "    .dataframe thead th {\n",
       "        text-align: right;\n",
       "    }\n",
       "</style>\n",
       "<table border=\"1\" class=\"dataframe\">\n",
       "  <thead>\n",
       "    <tr style=\"text-align: right;\">\n",
       "      <th></th>\n",
       "      <th>intersection</th>\n",
       "      <th>latitude</th>\n",
       "      <th>longitude</th>\n",
       "      <th>cam1</th>\n",
       "      <th>cam2</th>\n",
       "      <th>cam3</th>\n",
       "    </tr>\n",
       "  </thead>\n",
       "  <tbody>\n",
       "    <tr>\n",
       "      <td>0</td>\n",
       "      <td>111TH AND HALSTED</td>\n",
       "      <td>41.692465</td>\n",
       "      <td>-87.642441</td>\n",
       "      <td>2422</td>\n",
       "      <td>2424</td>\n",
       "      <td>None</td>\n",
       "    </tr>\n",
       "    <tr>\n",
       "      <td>1</td>\n",
       "      <td>115TH AND HALSTED</td>\n",
       "      <td>41.685190</td>\n",
       "      <td>-87.642280</td>\n",
       "      <td>2552</td>\n",
       "      <td>2553</td>\n",
       "      <td>None</td>\n",
       "    </tr>\n",
       "    <tr>\n",
       "      <td>2</td>\n",
       "      <td>119TH AND HALSTED</td>\n",
       "      <td>41.677923</td>\n",
       "      <td>-87.641990</td>\n",
       "      <td>2402</td>\n",
       "      <td>2404</td>\n",
       "      <td>None</td>\n",
       "    </tr>\n",
       "    <tr>\n",
       "      <td>3</td>\n",
       "      <td>31ST AND CALIFORNIA</td>\n",
       "      <td>41.837436</td>\n",
       "      <td>-87.695032</td>\n",
       "      <td>2061</td>\n",
       "      <td>2064</td>\n",
       "      <td>None</td>\n",
       "    </tr>\n",
       "    <tr>\n",
       "      <td>4</td>\n",
       "      <td>31ST ST AND MARTIN LUTHER KING DRIVE</td>\n",
       "      <td>41.838438</td>\n",
       "      <td>-87.617319</td>\n",
       "      <td>2121</td>\n",
       "      <td>2123</td>\n",
       "      <td>None</td>\n",
       "    </tr>\n",
       "  </tbody>\n",
       "</table>\n",
       "</div>"
      ],
      "text/plain": [
       "                           intersection   latitude  longitude  cam1  cam2  \\\n",
       "0                     111TH AND HALSTED  41.692465 -87.642441  2422  2424   \n",
       "1                     115TH AND HALSTED  41.685190 -87.642280  2552  2553   \n",
       "2                     119TH AND HALSTED  41.677923 -87.641990  2402  2404   \n",
       "3                   31ST AND CALIFORNIA  41.837436 -87.695032  2061  2064   \n",
       "4  31ST ST AND MARTIN LUTHER KING DRIVE  41.838438 -87.617319  2121  2123   \n",
       "\n",
       "   cam3  \n",
       "0  None  \n",
       "1  None  \n",
       "2  None  \n",
       "3  None  \n",
       "4  None  "
      ]
     },
     "execution_count": 162,
     "metadata": {},
     "output_type": "execute_result"
    }
   ],
   "source": [
    "int_cams = cam_locs.groupby(['intersection']) \\\n",
    "                    .agg({'latitude':pd.Series.max, 'longitude':pd.Series.max,}) \\\n",
    "                    .reset_index()\n",
    "\n",
    "int_cams['cam1'] = int_cams['intersection'] \\\n",
    "                            .apply(lambda x: cam_locs[cam_locs['intersection']==x]['camera_id'].iloc[0])\n",
    "\n",
    "int_cams['cam2'] = int_cams['intersection'].apply( \\\n",
    "                            lambda x: None if len(cam_locs[cam_locs['intersection']==x])==1 \\\n",
    "                            else cam_locs[cam_locs['intersection']==x]['camera_id'].iloc[1])\n",
    "\n",
    "int_cams['cam3'] = int_cams['intersection'].apply( \\\n",
    "                            lambda x: None if len(cam_locs[cam_locs['intersection']==x])<3 \\\n",
    "                            else cam_locs[cam_locs['intersection']==x]['camera_id'].iloc[2])                             \n",
    "\n",
    "int_cams.head()\n",
    "\n",
    "\n",
    "\n",
    "\n"
   ]
  },
  {
   "cell_type": "code",
   "execution_count": 163,
   "metadata": {},
   "outputs": [
    {
     "name": "stdout",
     "output_type": "stream",
     "text": [
      "Total Cameras 363\n",
      "Total Intersections 183\n"
     ]
    }
   ],
   "source": [
    "print('Total Cameras', len(cam_locs))\n",
    "print('Total Intersections', len(int_cams))"
   ]
  },
  {
   "cell_type": "markdown",
   "metadata": {},
   "source": [
    "### Create intersection_cams TABLE - from int_cams\n"
   ]
  },
  {
   "cell_type": "code",
   "execution_count": 164,
   "metadata": {},
   "outputs": [
    {
     "name": "stdout",
     "output_type": "stream",
     "text": [
      "[('hourly_congestion',), ('hourly_weather',), ('all_crashes',), ('region_data',), ('signal_crashes',), ('cam_locations',), ('cam_startend',), ('daily_violations',), ('intersction_locations',), ('intersection_cams',)]\n"
     ]
    }
   ],
   "source": [
    "make_table(int_cams, 'intersection_cams', c, conn)"
   ]
  },
  {
   "cell_type": "markdown",
   "metadata": {},
   "source": [
    "## 5) Create signal_crashes TABLE - from crash_df AND all_crashes - from crash_df (pre)"
   ]
  },
  {
   "cell_type": "code",
   "execution_count": 165,
   "metadata": {},
   "outputs": [],
   "source": [
    "# Crash Data\n",
    "crash_data = client.get(\"85ca-t3if\", \n",
    "                     where=\"crash_date BETWEEN \\'2015-01-01T00:00:00.000\\' AND \\'2020-12-31T00:00:00.000\\'\",\n",
    "                     limit=1000000,\n",
    "                    )\n",
    "\n",
    "crash_df = pd.DataFrame.from_records(crash_data) # Convert to pandas DataFrame"
   ]
  },
  {
   "cell_type": "markdown",
   "metadata": {},
   "source": [
    "### Crash data preprocessing"
   ]
  },
  {
   "cell_type": "code",
   "execution_count": 166,
   "metadata": {},
   "outputs": [],
   "source": [
    "# drop a few columns we don't need, including location (we have lat/long)\n",
    "dropme = ['statements_taken_i', 'private_property_i', 'photos_taken_i', 'dooring_i', 'date_police_notified','location']\n",
    "\n",
    "crash_df.drop(columns=dropme, inplace=True)"
   ]
  },
  {
   "cell_type": "code",
   "execution_count": 167,
   "metadata": {},
   "outputs": [
    {
     "data": {
      "text/plain": [
       "crash_record_id                       0\n",
       "rd_no                                 0\n",
       "crash_date                            0\n",
       "posted_speed_limit                    0\n",
       "traffic_control_device                0\n",
       "device_condition                      0\n",
       "weather_condition                     0\n",
       "lighting_condition                    0\n",
       "first_crash_type                      0\n",
       "trafficway_type                       0\n",
       "alignment                             0\n",
       "roadway_surface_cond                  0\n",
       "road_defect                           0\n",
       "report_type                       11261\n",
       "crash_type                            0\n",
       "hit_and_run_i                    330457\n",
       "damage                                0\n",
       "prim_contributory_cause               0\n",
       "sec_contributory_cause                0\n",
       "street_no                             0\n",
       "street_direction                      3\n",
       "street_name                           1\n",
       "beat_of_occurrence                    5\n",
       "num_units                             0\n",
       "most_severe_injury                  943\n",
       "injuries_total                      932\n",
       "injuries_fatal                      932\n",
       "injuries_incapacitating             932\n",
       "injuries_non_incapacitating         932\n",
       "injuries_reported_not_evident       932\n",
       "injuries_no_indication              932\n",
       "injuries_unknown                    932\n",
       "crash_hour                            0\n",
       "crash_day_of_week                     0\n",
       "crash_month                           0\n",
       "latitude                           2549\n",
       "longitude                          2549\n",
       "lane_cnt                         267405\n",
       "intersection_related_i           361053\n",
       "crash_date_est_i                 431596\n",
       "work_zone_i                      463292\n",
       "work_zone_type                   463935\n",
       "workers_present_i                465630\n",
       "dtype: int64"
      ]
     },
     "execution_count": 167,
     "metadata": {},
     "output_type": "execute_result"
    }
   ],
   "source": [
    "crash_df.isna().sum()"
   ]
  },
  {
   "cell_type": "markdown",
   "metadata": {},
   "source": [
    "We have 2.5k entries that have no location.  Let's drop them"
   ]
  },
  {
   "cell_type": "code",
   "execution_count": 168,
   "metadata": {},
   "outputs": [],
   "source": [
    "crash_df.dropna(subset=['latitude',], inplace=True)  # get rid of na locations"
   ]
  },
  {
   "cell_type": "markdown",
   "metadata": {},
   "source": [
    "### Let's look at what is in the data   "
   ]
  },
  {
   "cell_type": "code",
   "execution_count": 169,
   "metadata": {},
   "outputs": [
    {
     "name": "stdout",
     "output_type": "stream",
     "text": [
      "traffic_control_device ['UNKNOWN' 'NO CONTROLS' 'TRAFFIC SIGNAL' 'STOP SIGN/FLASHER'\n",
      " 'OTHER WARNING SIGN' 'LANE USE MARKING' 'OTHER' 'OTHER REG. SIGN'\n",
      " 'SCHOOL ZONE' 'PEDESTRIAN CROSSING SIGN' 'YIELD'\n",
      " 'FLASHING CONTROL SIGNAL' 'POLICE/FLAGMAN' 'RR CROSSING SIGN'\n",
      " 'RAILROAD CROSSING GATE' 'OTHER RAILROAD CROSSING' 'DELINEATORS'\n",
      " 'NO PASSING' 'BICYCLE CROSSING SIGN']\n",
      "device_condition ['UNKNOWN' 'NO CONTROLS' 'FUNCTIONING PROPERLY' 'OTHER'\n",
      " 'FUNCTIONING IMPROPERLY' 'NOT FUNCTIONING' 'WORN REFLECTIVE MATERIAL'\n",
      " 'MISSING']\n",
      "weather_condition ['UNKNOWN' 'CLEAR' 'SNOW' 'RAIN' 'CLOUDY/OVERCAST' 'FOG/SMOKE/HAZE'\n",
      " 'OTHER' 'FREEZING RAIN/DRIZZLE' 'SLEET/HAIL' 'SEVERE CROSS WIND GATE'\n",
      " 'BLOWING SNOW' 'BLOWING SAND, SOIL, DIRT']\n",
      "lighting_condition ['DARKNESS, LIGHTED ROAD' 'DAYLIGHT' 'DARKNESS' 'DUSK' 'DAWN' 'UNKNOWN']\n",
      "first_crash_type ['PARKED MOTOR VEHICLE' 'REAR END' 'ANGLE' 'SIDESWIPE SAME DIRECTION'\n",
      " 'TURNING' 'REAR TO FRONT' 'PEDESTRIAN' 'PEDALCYCLIST' 'FIXED OBJECT'\n",
      " 'SIDESWIPE OPPOSITE DIRECTION' 'OTHER NONCOLLISION' 'REAR TO SIDE'\n",
      " 'OTHER OBJECT' 'HEAD ON' 'REAR TO REAR' 'ANIMAL' 'TRAIN' 'OVERTURNED']\n",
      "trafficway_type ['NOT DIVIDED' 'PARKING LOT' 'FOUR WAY' 'DIVIDED - W/MEDIAN (NOT RAISED)'\n",
      " 'ONE-WAY' 'DIVIDED - W/MEDIAN BARRIER' 'OTHER' 'UNKNOWN'\n",
      " 'CENTER TURN LANE' 'T-INTERSECTION' 'ALLEY' 'ROUNDABOUT' 'RAMP'\n",
      " 'FIVE POINT, OR MORE' 'DRIVEWAY' 'TRAFFIC ROUTE' 'NOT REPORTED'\n",
      " 'UNKNOWN INTERSECTION TYPE' 'Y-INTERSECTION' 'L-INTERSECTION']\n",
      "alignment ['STRAIGHT AND LEVEL' 'CURVE, LEVEL' 'STRAIGHT ON GRADE'\n",
      " 'STRAIGHT ON HILLCREST' 'CURVE ON HILLCREST' 'CURVE ON GRADE']\n",
      "roadway_surface_cond ['UNKNOWN' 'DRY' 'SNOW OR SLUSH' 'WET' 'ICE' 'OTHER' 'SAND, MUD, DIRT']\n",
      "road_defect ['UNKNOWN' 'NO DEFECTS' 'WORN SURFACE' 'SHOULDER DEFECT'\n",
      " 'DEBRIS ON ROADWAY' 'OTHER' 'RUT, HOLES']\n",
      "report_type ['NOT ON SCENE (DESK REPORT)' nan 'ON SCENE' 'AMENDED']\n",
      "crash_type ['INJURY AND / OR TOW DUE TO CRASH' 'NO INJURY / DRIVE AWAY']\n",
      "hit_and_run_i ['Y' nan 'N']\n",
      "damage ['OVER $1,500' '$500 OR LESS' '$501 - $1,500']\n",
      "prim_contributory_cause ['UNABLE TO DETERMINE' 'FOLLOWING TOO CLOSELY'\n",
      " 'DISREGARDING TRAFFIC SIGNALS' 'FAILING TO YIELD RIGHT-OF-WAY'\n",
      " 'FAILING TO REDUCE SPEED TO AVOID CRASH' 'IMPROPER BACKING'\n",
      " 'IMPROPER OVERTAKING/PASSING' 'NOT APPLICABLE' 'DISREGARDING STOP SIGN'\n",
      " 'EVASIVE ACTION DUE TO ANIMAL, OBJECT, NONMOTORIST'\n",
      " 'IMPROPER TURNING/NO SIGNAL' 'DRIVING SKILLS/KNOWLEDGE/EXPERIENCE'\n",
      " 'IMPROPER LANE USAGE' 'DRIVING ON WRONG SIDE/WRONG WAY'\n",
      " 'DISREGARDING ROAD MARKINGS' 'DISTRACTION - FROM OUTSIDE VEHICLE'\n",
      " 'ANIMAL' 'ROAD CONSTRUCTION/MAINTENANCE'\n",
      " 'CELL PHONE USE OTHER THAN TEXTING' 'EXCEEDING SAFE SPEED FOR CONDITIONS'\n",
      " 'EQUIPMENT - VEHICLE CONDITION'\n",
      " 'OPERATING VEHICLE IN ERRATIC, RECKLESS, CARELESS, NEGLIGENT OR AGGRESSIVE MANNER'\n",
      " 'DISREGARDING OTHER TRAFFIC SIGNS' 'PHYSICAL CONDITION OF DRIVER'\n",
      " 'UNDER THE INFLUENCE OF ALCOHOL/DRUGS (USE WHEN ARREST IS EFFECTED)'\n",
      " 'WEATHER' 'EXCEEDING AUTHORIZED SPEED LIMIT'\n",
      " 'VISION OBSCURED (SIGNS, TREE LIMBS, BUILDINGS, ETC.)'\n",
      " 'ROAD ENGINEERING/SURFACE/MARKING DEFECTS'\n",
      " 'DISTRACTION - OTHER ELECTRONIC DEVICE (NAVIGATION DEVICE, DVD PLAYER, ETC.)'\n",
      " 'DISTRACTION - FROM INSIDE VEHICLE' 'PASSING STOPPED SCHOOL BUS'\n",
      " 'TURNING RIGHT ON RED' 'RELATED TO BUS STOP' 'DISREGARDING YIELD SIGN'\n",
      " 'HAD BEEN DRINKING (USE WHEN ARREST IS NOT MADE)'\n",
      " 'BICYCLE ADVANCING LEGALLY ON RED LIGHT' 'TEXTING'\n",
      " 'MOTORCYCLE ADVANCING LEGALLY ON RED LIGHT' 'OBSTRUCTED CROSSWALKS']\n",
      "sec_contributory_cause ['UNABLE TO DETERMINE' 'NOT APPLICABLE' 'FAILING TO YIELD RIGHT-OF-WAY'\n",
      " 'VISION OBSCURED (SIGNS, TREE LIMBS, BUILDINGS, ETC.)'\n",
      " 'IMPROPER LANE USAGE' 'DRIVING SKILLS/KNOWLEDGE/EXPERIENCE'\n",
      " 'IMPROPER BACKING' 'FAILING TO REDUCE SPEED TO AVOID CRASH'\n",
      " 'IMPROPER TURNING/NO SIGNAL' 'DISTRACTION - FROM INSIDE VEHICLE'\n",
      " 'WEATHER' 'EQUIPMENT - VEHICLE CONDITION' 'DISREGARDING STOP SIGN'\n",
      " 'FOLLOWING TOO CLOSELY' 'IMPROPER OVERTAKING/PASSING'\n",
      " 'OPERATING VEHICLE IN ERRATIC, RECKLESS, CARELESS, NEGLIGENT OR AGGRESSIVE MANNER'\n",
      " 'DISTRACTION - FROM OUTSIDE VEHICLE'\n",
      " 'EVASIVE ACTION DUE TO ANIMAL, OBJECT, NONMOTORIST'\n",
      " 'DISREGARDING TRAFFIC SIGNALS' 'EXCEEDING AUTHORIZED SPEED LIMIT'\n",
      " 'DRIVING ON WRONG SIDE/WRONG WAY' 'EXCEEDING SAFE SPEED FOR CONDITIONS'\n",
      " 'DISREGARDING ROAD MARKINGS' 'DISREGARDING YIELD SIGN'\n",
      " 'PASSING STOPPED SCHOOL BUS' 'DISREGARDING OTHER TRAFFIC SIGNS'\n",
      " 'ROAD ENGINEERING/SURFACE/MARKING DEFECTS' 'PHYSICAL CONDITION OF DRIVER'\n",
      " 'CELL PHONE USE OTHER THAN TEXTING'\n",
      " 'HAD BEEN DRINKING (USE WHEN ARREST IS NOT MADE)'\n",
      " 'MOTORCYCLE ADVANCING LEGALLY ON RED LIGHT'\n",
      " 'BICYCLE ADVANCING LEGALLY ON RED LIGHT' 'TURNING RIGHT ON RED'\n",
      " 'OBSTRUCTED CROSSWALKS' 'ROAD CONSTRUCTION/MAINTENANCE'\n",
      " 'UNDER THE INFLUENCE OF ALCOHOL/DRUGS (USE WHEN ARREST IS EFFECTED)'\n",
      " 'DISTRACTION - OTHER ELECTRONIC DEVICE (NAVIGATION DEVICE, DVD PLAYER, ETC.)'\n",
      " 'TEXTING' 'RELATED TO BUS STOP' 'ANIMAL']\n",
      "street_no ['370' '2341' '4700' ... '5993' '12353' '8289']\n",
      "street_direction ['N' 'S' 'W' 'E']\n",
      "street_name ['HAMLIN AVE' 'NARRAGANSETT AVE' 'HALSTED ST' ... 'ATTRILL ST'\n",
      " 'ELSTON PKWY' 'NASHOTAH AVE']\n",
      "beat_of_occurrence ['1122' '2512' '933' '1011' '114' '1822' '835' '834' '1813' '831' '911'\n",
      " '1922' '815' '1833' '2413' '1823' '821' '1712' '823' '2221' '2535' '1824'\n",
      " '922' '1722' '2211' '2232' '321' '1231' '931' '1034' '2532' '1133' '1411'\n",
      " '1911' '1711' '2031' '2233' '1934' '1232' '722' '1814' '322' '1214'\n",
      " '2423' '733' '2432' '132' '1422' '2522' '2412' '111' '614' '524' '2223'\n",
      " '712' '1834' '1233' '512' '433' '122' '1912' '612' '811' '1432' '1424'\n",
      " '532' '323' '632' '813' '1624' '1022' '1713' '833' '1935' '225' '213'\n",
      " '331' '1522' '1524' '1115' '624' '1621' '233' '131' '2411' '935' '1014'\n",
      " '224' '2534' '1634' '1932' '1511' '112' '2531' '613' '1113' '724' '1821'\n",
      " '915' '1811' '1623' '634' '2514' '513' '523' '825' '423' '2212' '2013'\n",
      " '533' '1215' '1223' '723' '1731' '434' '2033' '824' '1213' '113' '923'\n",
      " '1732' '1412' '1931' '1724' '2515' '1414' '2011' '1013' '735' '232' '222'\n",
      " '1033' '1124' '1631' '1024' '1531' '124' '611' '1513' '2511' '1433' '431'\n",
      " '1112' '1533' '622' '422' '511' '2213' '1131' '332' '1212' '814' '1923'\n",
      " '2234' '2525' '1434' '234' '1211' '1221' '2032' '631' '1031' '1224' '711'\n",
      " '432' '2433' '2022' '2513' '123' '2422' '1921' '2521' '1633' '1123' '413'\n",
      " '1111' '1831' '1924' '2523' '214' '1632' '312' '734' '912' '1622' '421'\n",
      " '1023' '1913' '221' '212' '623' '732' '1651' '812' '531' '314' '333'\n",
      " '1523' '412' '215' '1614' '925' '832' '1235' '1723' '2533' '1832' '924'\n",
      " '324' '411' '1925' '1915' '2024' '715' '1222' '1114' '121' '414' '334'\n",
      " '934' '822' '1121' '1933' '1225' '914' '1733' '1132' '1532' '1612' '235'\n",
      " '621' '713' '921' '1914' '2431' '1431' '2012' '1125' '1512' '1135' '1613'\n",
      " '1234' '726' '2524' '714' '2424' '133' '725' '1654' '1032' '932' '223'\n",
      " '211' '1423' '913' '424' '1611' '633' '2222' '1421' '311' '731' '1134'\n",
      " '1021' '2023' '231' '1413' '313' '522' '1012' '1812' nan]\n",
      "num_units ['2' '3' '1' '6' '4' '5' '8' '7' '9' '10' '11' '12' '14' '15' '18' '16']\n",
      "most_severe_injury ['NO INDICATION OF INJURY' 'NONINCAPACITATING INJURY'\n",
      " 'REPORTED, NOT EVIDENT' 'INCAPACITATING INJURY' 'FATAL' nan]\n",
      "injuries_fatal ['0' '1' nan '2' '4' '3']\n",
      "injuries_incapacitating ['0' '1' '2' nan '3' '4' '6' '5' '7']\n",
      "injuries_non_incapacitating ['0' '2' '1' '4' '3' nan '5' '21' '6' '7' '8' '18' '10' '9' '14' '12' '11'\n",
      " '16']\n",
      "injuries_reported_not_evident ['0' '1' '2' '5' '3' '4' nan '6' '9' '7' '10' '8' '15' '11']\n",
      "injuries_no_indication ['1' '2' '3' '4' '0' '6' '7' '5' '8' nan '9' '11' '10' '16' '12' '18' '21'\n",
      " '17' '14' '46' '13' '22' '26' '19' '27' '34' '29' '24' '61' '20' '30'\n",
      " '32' '42' '40' '15' '50' '37' '28' '31' '36' '33' '25' '38' '39']\n",
      "injuries_unknown ['0' nan]\n",
      "crash_hour ['3' '18' '17' '2' '5' '16' '14' '13' '7' '19' '20' '10' '23' '8' '22'\n",
      " '15' '12' '0' '9' '21' '4' '1' '11' '6']\n",
      "crash_day_of_week ['2' '1' '7' '4' '6' '5' '3']\n",
      "crash_month ['11' '7' '12' '2' '8' '9' '6' '3' '4' '1' '5' '10']\n",
      "latitude ['41.887233727' '41.923097678' '41.808815039' ... '41.820567285'\n",
      " '41.760711877' '41.874377906']\n",
      "longitude ['-87.721106404' '-87.785278659' '-87.645682953' ... '-87.640836198'\n",
      " '-87.564952225' '-87.634252025']\n",
      "lane_cnt [nan '2' '1' '4' '8' '0' '3' '6' '5' '10' '28' '7' '99' '11' '9' '12' '16'\n",
      " '20' '433634' '25' '15' '30' '60' '35' '1191625' '22' '19' '400' '21'\n",
      " '902' '14' '100' '41' '299679' '17' '40' '45' '218474' '80' '24' '44']\n",
      "intersection_related_i [nan 'Y' 'N']\n",
      "crash_date_est_i [nan 'Y' 'N']\n",
      "work_zone_i [nan 'Y' 'N']\n",
      "work_zone_type [nan 'UTILITY' 'CONSTRUCTION' 'MAINTENANCE' 'UNKNOWN']\n",
      "workers_present_i [nan 'Y' 'N']\n"
     ]
    }
   ],
   "source": [
    "# What's in this data?\n",
    "col_interest = ['traffic_control_device', 'device_condition', 'weather_condition',\n",
    "       'lighting_condition', 'first_crash_type', 'trafficway_type',\n",
    "       'alignment', 'roadway_surface_cond', 'road_defect', 'report_type',\n",
    "       'crash_type', 'hit_and_run_i', 'damage', 'prim_contributory_cause',\n",
    "       'sec_contributory_cause', 'street_no', 'street_direction',\n",
    "       'street_name', 'beat_of_occurrence', 'num_units', 'most_severe_injury', \n",
    "        'injuries_fatal', 'injuries_incapacitating',\n",
    "       'injuries_non_incapacitating', 'injuries_reported_not_evident',\n",
    "       'injuries_no_indication', 'injuries_unknown', 'crash_hour',\n",
    "       'crash_day_of_week', 'crash_month', 'latitude', 'longitude', 'lane_cnt',\n",
    "       'intersection_related_i', 'crash_date_est_i',\n",
    "       'work_zone_i', 'work_zone_type',\n",
    "       'workers_present_i']\n",
    "\n",
    "for col in col_interest:\n",
    "    print(col, crash_df[col].unique())"
   ]
  },
  {
   "cell_type": "markdown",
   "metadata": {},
   "source": [
    "### Filter for desired crashes (intersections with signal)\n",
    "This helps us.  \n",
    "We can filter 'traffic_control_device' == 'TRAFFIC SIGNAL'.  \n",
    "We can filter 'intersection_related_i' == 'Y'\n",
    "\n",
    "This will leave us with only crashes that occurred at/because of intersections, and with a signal at the intersection.\n",
    "\n",
    "intersection_related_i: A field observation by the police officer whether an intersection played a role in the crash. Does not represent whether or not the crash occurred within the intersection."
   ]
  },
  {
   "cell_type": "code",
   "execution_count": 170,
   "metadata": {},
   "outputs": [
    {
     "name": "stdout",
     "output_type": "stream",
     "text": [
      "[('hourly_congestion',), ('hourly_weather',), ('region_data',), ('signal_crashes',), ('cam_locations',), ('cam_startend',), ('daily_violations',), ('intersction_locations',), ('intersection_cams',), ('all_crashes',)]\n"
     ]
    }
   ],
   "source": [
    "make_table(crash_df, 'all_crashes', c, conn)\n",
    "\n",
    "crash_df = crash_df[(crash_df['traffic_control_device']=='TRAFFIC SIGNAL') & \\\n",
    "                    (crash_df['intersection_related_i']=='Y')]"
   ]
  },
  {
   "cell_type": "markdown",
   "metadata": {},
   "source": [
    "### Add the intersection to my crashes\n"
   ]
  },
  {
   "cell_type": "code",
   "execution_count": 171,
   "metadata": {},
   "outputs": [
    {
     "name": "stdout",
     "output_type": "stream",
     "text": [
      "WESTERN AND 79TH\n",
      "BLUE ISLAND AND DAMEN\n",
      "LAWRENCE AND WESTERN\n",
      "HALSTED AND 95TH\n",
      "WESTERN AND FULLERTON\n",
      "WESTERN AND ARMITAGE\n",
      "LAFAYETTE AND 87TH\n",
      "ASHLAND AND LAWRENCE\n",
      "WESTERN AND FULLERTON\n",
      "HOLLYWOOD AND SHERIDAN\n",
      "DIVERSEY AND WESTERN\n",
      "PULASKI AND MONTROSE\n",
      "BROADWAY/SHERIDAN AND DEVON\n",
      "CICERO AND 47TH\n",
      "PULASKI AND NORTH\n"
     ]
    }
   ],
   "source": [
    "#⏳⏳⏳⏳⏳\n",
    "# Now I am desperate.  This takes too long to process.  Let's simplify it and make it a box instead.\n",
    "box_side = 70  # effectively makes it check for crash being within 35m of interscection\n",
    "box_lat = box_side / 111070 / 2 # 111070 is meters in deg lat in Chicago\n",
    "box_long = box_side / 83000 / 2 # 83000 is meters in deg long in Chicago\n",
    "\n",
    "def box_check(lat, long, ints_df):\n",
    "    answer = (ints_df[  (ints_df['latitude'] > (lat - box_lat)) & \n",
    "                      (ints_df['latitude'] < (lat + box_lat)) &\n",
    "                      (ints_df['longitude'] > (long - box_long)) &\n",
    "                      (ints_df['longitude'] < (long + box_long))\n",
    "                     ])\n",
    "    if answer.empty: return None\n",
    "    return answer['intersection'].values[0]\n",
    "    \n",
    "# THIS SEEMS TO WORK WITH SPEED AND ELIMINATES MEMORY PROBLEM\n",
    "for i in range(100): #(len(df)):\n",
    "    intersect = box_check(float(crash_df.iloc[i]['latitude']), \n",
    "                          float(crash_df.iloc[i]['longitude']), \n",
    "                          int_cams)\n",
    "    if intersect: print(intersect)\n",
    "    \n",
    "    \n",
    "# MOMENT OF TRUTH (takes a few minutes, but at least it runs.  This caused me lots of trouble)\n",
    "crash_df['intersection'] = crash_df.apply(lambda x: box_check(float(x.latitude), \n",
    "                                                              float(x.longitude), \n",
    "                                                              int_cams), axis=1)"
   ]
  },
  {
   "cell_type": "code",
   "execution_count": 172,
   "metadata": {},
   "outputs": [],
   "source": [
    "# #Ex: df[['two', 'three']] = df[['two', 'three']].astype(float)\n",
    "crash_df['crash_date'] = pd.to_datetime(crash_df['crash_date'])\n",
    "crash_df['year'] = crash_df['crash_date'].apply(lambda x: int(x.year))\n",
    "crash_df['month'] = crash_df['crash_date'].apply(lambda x: int(x.month))\n",
    "crash_df['day'] = crash_df['crash_date'].apply(lambda x: int(x.day))\n",
    "crash_df['hour'] = crash_df['crash_date'].apply(lambda x: int(x.hour))"
   ]
  },
  {
   "cell_type": "code",
   "execution_count": 173,
   "metadata": {},
   "outputs": [
    {
     "name": "stdout",
     "output_type": "stream",
     "text": [
      "<class 'pandas.core.frame.DataFrame'>\n",
      "Int64Index: 60333 entries, 3 to 466352\n",
      "Data columns (total 48 columns):\n",
      "crash_record_id                  60333 non-null object\n",
      "rd_no                            60333 non-null object\n",
      "crash_date                       60333 non-null datetime64[ns]\n",
      "posted_speed_limit               60333 non-null object\n",
      "traffic_control_device           60333 non-null object\n",
      "device_condition                 60333 non-null object\n",
      "weather_condition                60333 non-null object\n",
      "lighting_condition               60333 non-null object\n",
      "first_crash_type                 60333 non-null object\n",
      "trafficway_type                  60333 non-null object\n",
      "alignment                        60333 non-null object\n",
      "roadway_surface_cond             60333 non-null object\n",
      "road_defect                      60333 non-null object\n",
      "report_type                      58550 non-null object\n",
      "crash_type                       60333 non-null object\n",
      "hit_and_run_i                    11420 non-null object\n",
      "damage                           60333 non-null object\n",
      "prim_contributory_cause          60333 non-null object\n",
      "sec_contributory_cause           60333 non-null object\n",
      "street_no                        60333 non-null object\n",
      "street_direction                 60333 non-null object\n",
      "street_name                      60333 non-null object\n",
      "beat_of_occurrence               60333 non-null object\n",
      "num_units                        60333 non-null object\n",
      "most_severe_injury               60317 non-null object\n",
      "injuries_total                   60317 non-null object\n",
      "injuries_fatal                   60317 non-null object\n",
      "injuries_incapacitating          60317 non-null object\n",
      "injuries_non_incapacitating      60317 non-null object\n",
      "injuries_reported_not_evident    60317 non-null object\n",
      "injuries_no_indication           60317 non-null object\n",
      "injuries_unknown                 60317 non-null object\n",
      "crash_hour                       60333 non-null object\n",
      "crash_day_of_week                60333 non-null object\n",
      "crash_month                      60333 non-null object\n",
      "latitude                         60333 non-null object\n",
      "longitude                        60333 non-null object\n",
      "lane_cnt                         27069 non-null object\n",
      "intersection_related_i           60333 non-null object\n",
      "crash_date_est_i                 2676 non-null object\n",
      "work_zone_i                      464 non-null object\n",
      "work_zone_type                   361 non-null object\n",
      "workers_present_i                97 non-null object\n",
      "intersection                     7705 non-null object\n",
      "year                             60333 non-null int64\n",
      "month                            60333 non-null int64\n",
      "day                              60333 non-null int64\n",
      "hour                             60333 non-null int64\n",
      "dtypes: datetime64[ns](1), int64(4), object(43)\n",
      "memory usage: 22.6+ MB\n"
     ]
    }
   ],
   "source": [
    "crash_df.info()"
   ]
  },
  {
   "cell_type": "markdown",
   "metadata": {},
   "source": [
    "### Create signal_crashes TABLE - from crash_df"
   ]
  },
  {
   "cell_type": "code",
   "execution_count": 174,
   "metadata": {},
   "outputs": [
    {
     "name": "stdout",
     "output_type": "stream",
     "text": [
      "[('hourly_congestion',), ('hourly_weather',), ('region_data',), ('cam_locations',), ('cam_startend',), ('daily_violations',), ('intersction_locations',), ('intersection_cams',), ('all_crashes',), ('signal_crashes',)]\n"
     ]
    }
   ],
   "source": [
    "make_table(crash_df, 'signal_crashes', c, conn)"
   ]
  },
  {
   "cell_type": "markdown",
   "metadata": {},
   "source": [
    "## 6) Create hourly_congestion TABLE from all_traffic\n",
    "For this one, we have to combine two different datasets.  Chicago changed the way data was recorded in 2018.  Columns are similar, but more data collected."
   ]
  },
  {
   "cell_type": "code",
   "execution_count": 63,
   "metadata": {},
   "outputs": [],
   "source": [
    "# Congestion Data\n",
    "traffic_df = client.get(\"emtn-qqdi\", \n",
    "                     #where=\"TIME > \\'2015-01-01T00:00:00.000\\'\",\n",
    "                     where='TIME BETWEEN \\'2015-01-01T00:00:00.000\\' AND \\'2020-12-31T00:00:00.000\\'',\n",
    "                     limit=10000000,\n",
    "                    )\n",
    "\n",
    "traffic_df = pd.DataFrame.from_records(traffic_df) # Convert to pandas DataFrame"
   ]
  },
  {
   "cell_type": "markdown",
   "metadata": {},
   "source": [
    "### Clean up my datatypes before preprocessing\n",
    "Won't be able to table it until we get both datasets"
   ]
  },
  {
   "cell_type": "code",
   "execution_count": 64,
   "metadata": {},
   "outputs": [],
   "source": [
    "traffic_df.rename(columns={'number_of_reads':'num_reads'}, inplace=True)\n",
    "traffic_df['time'] = pd.to_datetime(traffic_df['time'])\n",
    "traffic_df['bus_count'] = traffic_df['bus_count'].astype(int)\n",
    "traffic_df['num_reads'] = traffic_df['num_reads'].astype(int)\n",
    "traffic_df['speed'] = traffic_df['speed'].astype(float)"
   ]
  },
  {
   "cell_type": "markdown",
   "metadata": {},
   "source": [
    "### On to the other dataset"
   ]
  },
  {
   "cell_type": "code",
   "execution_count": 65,
   "metadata": {},
   "outputs": [],
   "source": [
    "# Congestion data from later\n",
    "traffic_df2 = client.get(\"kf7e-cur8\", #2018 to present\n",
    "                     select='time, region_id, speed, bus_count, num_reads',  # this set is huge, so we won't get all       \n",
    "                     where=\"TIME < \\'2021-01-01T00:00:00.000\\'\",\n",
    "                     limit=10000000,\n",
    "                    )\n",
    "\n",
    "# Convert to pandas DataFrame\n",
    "traffic_df2 = pd.DataFrame.from_records(traffic_df2)\n"
   ]
  },
  {
   "cell_type": "code",
   "execution_count": 67,
   "metadata": {},
   "outputs": [],
   "source": [
    "#traffic2_df.rename(columns={'number_of_reads':'num_reads'}, inplace=True)\n",
    "traffic_df2['time'] = pd.to_datetime(traffic_df2['time'])\n",
    "traffic_df2['bus_count'] = traffic_df2['bus_count'].astype(int)\n",
    "traffic_df2['num_reads'] = traffic_df2['num_reads'].astype(int)\n",
    "traffic_df2['speed'] = traffic_df2['speed'].astype(float)"
   ]
  },
  {
   "cell_type": "markdown",
   "metadata": {},
   "source": [
    "## Now get the congestion data processed\n",
    "We have two separate traffic_dfs.  There is data prior to 2018 and after in two different api endpoints.\n"
   ]
  },
  {
   "cell_type": "code",
   "execution_count": 71,
   "metadata": {},
   "outputs": [
    {
     "name": "stdout",
     "output_type": "stream",
     "text": [
      "<class 'pandas.core.frame.DataFrame'>\n",
      "RangeIndex: 3959185 entries, 0 to 3959184\n",
      "Data columns (total 5 columns):\n",
      " #   Column     Dtype         \n",
      "---  ------     -----         \n",
      " 0   time       datetime64[ns]\n",
      " 1   region_id  object        \n",
      " 2   speed      float64       \n",
      " 3   bus_count  int64         \n",
      " 4   num_reads  int64         \n",
      "dtypes: datetime64[ns](1), float64(1), int64(2), object(1)\n",
      "memory usage: 151.0+ MB\n",
      "\n",
      "<class 'pandas.core.frame.DataFrame'>\n",
      "RangeIndex: 4168199 entries, 0 to 4168198\n",
      "Data columns (total 5 columns):\n",
      " #   Column     Dtype         \n",
      "---  ------     -----         \n",
      " 0   time       datetime64[ns]\n",
      " 1   region_id  object        \n",
      " 2   bus_count  int64         \n",
      " 3   num_reads  int64         \n",
      " 4   speed      float64       \n",
      "dtypes: datetime64[ns](1), float64(1), int64(2), object(1)\n",
      "memory usage: 159.0+ MB\n"
     ]
    }
   ],
   "source": [
    "traffic_df.head()\n",
    "traffic_df2.head()\n",
    "traffic_df2.info()\n",
    "print()\n",
    "traffic_df.info()"
   ]
  },
  {
   "cell_type": "code",
   "execution_count": 81,
   "metadata": {},
   "outputs": [
    {
     "name": "stdout",
     "output_type": "stream",
     "text": [
      "traffic dfs merged\n"
     ]
    }
   ],
   "source": [
    "# Several (20) minutes to change data types\n",
    "\n",
    "all_traffic = pd.merge(traffic_df, traffic_df2, how='outer')\n",
    "print('traffic dfs merged')"
   ]
  },
  {
   "cell_type": "code",
   "execution_count": 82,
   "metadata": {},
   "outputs": [
    {
     "name": "stdout",
     "output_type": "stream",
     "text": [
      "added hour column\n",
      "added day column\n",
      "added month column\n",
      "added year column\n",
      "added weekday column\n"
     ]
    }
   ],
   "source": [
    "all_traffic['hour'] = all_traffic['time'].dt.hour\n",
    "print('added hour column')\n",
    "\n",
    "all_traffic['day'] = all_traffic.time.dt.day\n",
    "print('added day column')\n",
    "\n",
    "all_traffic['month'] = all_traffic.time.dt.month\n",
    "print('added month column')\n",
    "\n",
    "all_traffic['year'] = all_traffic.time.dt.year\n",
    "print('added year column')\n",
    "\n",
    "all_traffic['weekday'] = all_traffic.time.dt.weekday\n",
    "print('added weekday column')"
   ]
  },
  {
   "cell_type": "code",
   "execution_count": 79,
   "metadata": {},
   "outputs": [
    {
     "name": "stdout",
     "output_type": "stream",
     "text": [
      "1331680\n",
      "<class 'pandas.core.frame.DataFrame'>\n",
      "RangeIndex: 1331680 entries, 0 to 1331679\n",
      "Data columns (total 9 columns):\n",
      " #   Column     Non-Null Count    Dtype  \n",
      "---  ------     --------------    -----  \n",
      " 0   year       1331680 non-null  int64  \n",
      " 1   month      1331680 non-null  int64  \n",
      " 2   day        1331680 non-null  int64  \n",
      " 3   hour       1331680 non-null  int64  \n",
      " 4   region_id  1331680 non-null  object \n",
      " 5   bus_count  1331680 non-null  int64  \n",
      " 6   num_reads  1331680 non-null  int64  \n",
      " 7   speed      1331680 non-null  float64\n",
      " 8   weekday    1331680 non-null  int64  \n",
      "dtypes: float64(1), int64(7), object(1)\n",
      "memory usage: 91.4+ MB\n"
     ]
    }
   ],
   "source": [
    "print(len(all_traffic))  # lots of dupes \n",
    "all_traffic = all_traffic.groupby(['year', 'month', 'day', 'hour', 'region_id']).mean().reset_index()\n",
    "all_traffic.info()"
   ]
  },
  {
   "cell_type": "code",
   "execution_count": 98,
   "metadata": {},
   "outputs": [
    {
     "data": {
      "text/html": [
       "<div>\n",
       "<style scoped>\n",
       "    .dataframe tbody tr th:only-of-type {\n",
       "        vertical-align: middle;\n",
       "    }\n",
       "\n",
       "    .dataframe tbody tr th {\n",
       "        vertical-align: top;\n",
       "    }\n",
       "\n",
       "    .dataframe thead th {\n",
       "        text-align: right;\n",
       "    }\n",
       "</style>\n",
       "<table border=\"1\" class=\"dataframe\">\n",
       "  <thead>\n",
       "    <tr style=\"text-align: right;\">\n",
       "      <th></th>\n",
       "      <th>time</th>\n",
       "      <th>region_id</th>\n",
       "      <th>bus_count</th>\n",
       "      <th>num_reads</th>\n",
       "      <th>speed</th>\n",
       "      <th>hour</th>\n",
       "      <th>day</th>\n",
       "      <th>month</th>\n",
       "      <th>year</th>\n",
       "      <th>weekday</th>\n",
       "    </tr>\n",
       "  </thead>\n",
       "  <tbody>\n",
       "    <tr>\n",
       "      <th>0</th>\n",
       "      <td>2015-01-01 00:01:17</td>\n",
       "      <td>23</td>\n",
       "      <td>37</td>\n",
       "      <td>332</td>\n",
       "      <td>28.64</td>\n",
       "      <td>0</td>\n",
       "      <td>1</td>\n",
       "      <td>1</td>\n",
       "      <td>2015</td>\n",
       "      <td>3</td>\n",
       "    </tr>\n",
       "    <tr>\n",
       "      <th>1</th>\n",
       "      <td>2015-01-01 00:01:17</td>\n",
       "      <td>24</td>\n",
       "      <td>21</td>\n",
       "      <td>411</td>\n",
       "      <td>27.27</td>\n",
       "      <td>0</td>\n",
       "      <td>1</td>\n",
       "      <td>1</td>\n",
       "      <td>2015</td>\n",
       "      <td>3</td>\n",
       "    </tr>\n",
       "    <tr>\n",
       "      <th>2</th>\n",
       "      <td>2015-01-01 00:01:17</td>\n",
       "      <td>6</td>\n",
       "      <td>17</td>\n",
       "      <td>303</td>\n",
       "      <td>25.23</td>\n",
       "      <td>0</td>\n",
       "      <td>1</td>\n",
       "      <td>1</td>\n",
       "      <td>2015</td>\n",
       "      <td>3</td>\n",
       "    </tr>\n",
       "    <tr>\n",
       "      <th>3</th>\n",
       "      <td>2015-01-01 00:01:17</td>\n",
       "      <td>14</td>\n",
       "      <td>16</td>\n",
       "      <td>203</td>\n",
       "      <td>25.09</td>\n",
       "      <td>0</td>\n",
       "      <td>1</td>\n",
       "      <td>1</td>\n",
       "      <td>2015</td>\n",
       "      <td>3</td>\n",
       "    </tr>\n",
       "    <tr>\n",
       "      <th>4</th>\n",
       "      <td>2015-01-01 00:01:17</td>\n",
       "      <td>18</td>\n",
       "      <td>24</td>\n",
       "      <td>432</td>\n",
       "      <td>27.89</td>\n",
       "      <td>0</td>\n",
       "      <td>1</td>\n",
       "      <td>1</td>\n",
       "      <td>2015</td>\n",
       "      <td>3</td>\n",
       "    </tr>\n",
       "  </tbody>\n",
       "</table>\n",
       "</div>"
      ],
      "text/plain": [
       "                 time region_id  bus_count  num_reads  speed  hour  day  \\\n",
       "0 2015-01-01 00:01:17        23         37        332  28.64     0    1   \n",
       "1 2015-01-01 00:01:17        24         21        411  27.27     0    1   \n",
       "2 2015-01-01 00:01:17         6         17        303  25.23     0    1   \n",
       "3 2015-01-01 00:01:17        14         16        203  25.09     0    1   \n",
       "4 2015-01-01 00:01:17        18         24        432  27.89     0    1   \n",
       "\n",
       "   month  year  weekday  \n",
       "0      1  2015        3  \n",
       "1      1  2015        3  \n",
       "2      1  2015        3  \n",
       "3      1  2015        3  \n",
       "4      1  2015        3  "
      ]
     },
     "execution_count": 98,
     "metadata": {},
     "output_type": "execute_result"
    }
   ],
   "source": [
    "all_traffic.head()"
   ]
  },
  {
   "cell_type": "code",
   "execution_count": null,
   "metadata": {},
   "outputs": [],
   "source": [
    "\n"
   ]
  },
  {
   "cell_type": "code",
   "execution_count": 83,
   "metadata": {},
   "outputs": [
    {
     "name": "stdout",
     "output_type": "stream",
     "text": [
      "[('daily_violations',), ('intersction_locations',), ('intersection_cams',), ('signal_crashes',), ('cam_locations',), ('cam_startend',), ('hourly_congestion',)]\n"
     ]
    }
   ],
   "source": [
    "# couple minutes\n",
    "make_table(all_traffic, 'hourly_congestion', c, conn)"
   ]
  },
  {
   "cell_type": "markdown",
   "metadata": {},
   "source": [
    "# Speed fix for congestion\n",
    "Congestion is measured by average bus speed.\n",
    "\n",
    "The problem:\n",
    "- Overnight (between 11 and 5am) we have few bus routes.\n",
    "- Some regions have no buses overnight\n",
    "- Some regions have only a few buses \n",
    "- Some buses are ending routes and have only a few reads\n",
    "- Some buses are stationary (next morning staging)\n",
    "\n",
    "The fix:\n",
    "- replace speed for few buses/reads if speed is low\n",
    "- we assume low buses/reads to be overnight when congestion is minimal\n",
    "- replacement speed is a low congestion quantile speed (90% or so)"
   ]
  },
  {
   "cell_type": "code",
   "execution_count": 85,
   "metadata": {},
   "outputs": [
    {
     "name": "stdout",
     "output_type": "stream",
     "text": [
      "29.93\n"
     ]
    }
   ],
   "source": [
    "#### 15 MINUTES OR SO\n",
    "\n",
    "#my read on this is that few buses run 24/7, so the data is unreliable.  \n",
    "# buses stage for next morning.  You can see them all along Clark, LSD etc.  \n",
    "# They have speed=0 and may be recording.  Could talk to owner of dataset.\n",
    "\n",
    "# I will draw the cutoff at 100 reads, 5 buses, speed < 10\n",
    "# in that case I will put in a quantile speed\n",
    "\n",
    "speed90 = traffic_df['speed'].quantile(0.90)\n",
    "print(speed90)\n",
    "\n",
    "\n",
    "def speed_check(bus, speed, reads):\n",
    "    if (bus <= 5 or reads < 100) and speed < 25 or speed > 40:\n",
    "        return speed90\n",
    "    else:\n",
    "        return speed\n",
    "    \n",
    "\n",
    "# apply is SLOOOOOOWWW, but not sure how else to accomplish this without iter\n",
    "all_traffic['speed'] = all_traffic.apply(lambda x: speed_check(x.bus_count, x.speed, x.num_reads), axis=1)\n",
    "      \n"
   ]
  },
  {
   "cell_type": "code",
   "execution_count": 86,
   "metadata": {},
   "outputs": [
    {
     "name": "stdout",
     "output_type": "stream",
     "text": [
      "[('daily_violations',), ('intersction_locations',), ('intersection_cams',), ('signal_crashes',), ('cam_locations',), ('cam_startend',), ('hourly_congestion',)]\n"
     ]
    }
   ],
   "source": [
    "make_table(all_traffic, 'hourly_congestion', c, conn)"
   ]
  },
  {
   "cell_type": "markdown",
   "metadata": {},
   "source": [
    "## 7) Create hourly_weather from wx_df"
   ]
  },
  {
   "cell_type": "code",
   "execution_count": 100,
   "metadata": {},
   "outputs": [],
   "source": [
    "# Import weather data from csv\n",
    "wx_df = pd.read_csv('data/chi_wx.csv')"
   ]
  },
  {
   "cell_type": "code",
   "execution_count": 101,
   "metadata": {},
   "outputs": [
    {
     "data": {
      "text/html": [
       "<div>\n",
       "<style scoped>\n",
       "    .dataframe tbody tr th:only-of-type {\n",
       "        vertical-align: middle;\n",
       "    }\n",
       "\n",
       "    .dataframe tbody tr th {\n",
       "        vertical-align: top;\n",
       "    }\n",
       "\n",
       "    .dataframe thead th {\n",
       "        text-align: right;\n",
       "    }\n",
       "</style>\n",
       "<table border=\"1\" class=\"dataframe\">\n",
       "  <thead>\n",
       "    <tr style=\"text-align: right;\">\n",
       "      <th></th>\n",
       "      <th>dt</th>\n",
       "      <th>dt_iso</th>\n",
       "      <th>timezone</th>\n",
       "      <th>city_name</th>\n",
       "      <th>lat</th>\n",
       "      <th>lon</th>\n",
       "      <th>temp</th>\n",
       "      <th>feels_like</th>\n",
       "      <th>temp_min</th>\n",
       "      <th>temp_max</th>\n",
       "      <th>...</th>\n",
       "      <th>wind_deg</th>\n",
       "      <th>rain_1h</th>\n",
       "      <th>rain_3h</th>\n",
       "      <th>snow_1h</th>\n",
       "      <th>snow_3h</th>\n",
       "      <th>clouds_all</th>\n",
       "      <th>weather_id</th>\n",
       "      <th>weather_main</th>\n",
       "      <th>weather_description</th>\n",
       "      <th>weather_icon</th>\n",
       "    </tr>\n",
       "  </thead>\n",
       "  <tbody>\n",
       "    <tr>\n",
       "      <th>0</th>\n",
       "      <td>1420070400</td>\n",
       "      <td>2015-01-01 00:00:00 +0000 UTC</td>\n",
       "      <td>-21600</td>\n",
       "      <td>Chicago IL. USA</td>\n",
       "      <td>41.878114</td>\n",
       "      <td>-87.629798</td>\n",
       "      <td>265.96</td>\n",
       "      <td>258.16</td>\n",
       "      <td>264.85</td>\n",
       "      <td>267.708</td>\n",
       "      <td>...</td>\n",
       "      <td>230</td>\n",
       "      <td>NaN</td>\n",
       "      <td>NaN</td>\n",
       "      <td>NaN</td>\n",
       "      <td>NaN</td>\n",
       "      <td>1</td>\n",
       "      <td>800</td>\n",
       "      <td>Clear</td>\n",
       "      <td>sky is clear</td>\n",
       "      <td>01n</td>\n",
       "    </tr>\n",
       "    <tr>\n",
       "      <th>1</th>\n",
       "      <td>1420074000</td>\n",
       "      <td>2015-01-01 01:00:00 +0000 UTC</td>\n",
       "      <td>-21600</td>\n",
       "      <td>Chicago IL. USA</td>\n",
       "      <td>41.878114</td>\n",
       "      <td>-87.629798</td>\n",
       "      <td>266.13</td>\n",
       "      <td>256.52</td>\n",
       "      <td>265.35</td>\n",
       "      <td>267.926</td>\n",
       "      <td>...</td>\n",
       "      <td>230</td>\n",
       "      <td>NaN</td>\n",
       "      <td>NaN</td>\n",
       "      <td>NaN</td>\n",
       "      <td>NaN</td>\n",
       "      <td>20</td>\n",
       "      <td>801</td>\n",
       "      <td>Clouds</td>\n",
       "      <td>few clouds</td>\n",
       "      <td>02n</td>\n",
       "    </tr>\n",
       "    <tr>\n",
       "      <th>2</th>\n",
       "      <td>1420077600</td>\n",
       "      <td>2015-01-01 02:00:00 +0000 UTC</td>\n",
       "      <td>-21600</td>\n",
       "      <td>Chicago IL. USA</td>\n",
       "      <td>41.878114</td>\n",
       "      <td>-87.629798</td>\n",
       "      <td>266.17</td>\n",
       "      <td>257.70</td>\n",
       "      <td>265.35</td>\n",
       "      <td>268.098</td>\n",
       "      <td>...</td>\n",
       "      <td>230</td>\n",
       "      <td>NaN</td>\n",
       "      <td>NaN</td>\n",
       "      <td>NaN</td>\n",
       "      <td>NaN</td>\n",
       "      <td>20</td>\n",
       "      <td>801</td>\n",
       "      <td>Clouds</td>\n",
       "      <td>few clouds</td>\n",
       "      <td>02n</td>\n",
       "    </tr>\n",
       "    <tr>\n",
       "      <th>3</th>\n",
       "      <td>1420081200</td>\n",
       "      <td>2015-01-01 03:00:00 +0000 UTC</td>\n",
       "      <td>-21600</td>\n",
       "      <td>Chicago IL. USA</td>\n",
       "      <td>41.878114</td>\n",
       "      <td>-87.629798</td>\n",
       "      <td>266.39</td>\n",
       "      <td>257.56</td>\n",
       "      <td>265.35</td>\n",
       "      <td>268.157</td>\n",
       "      <td>...</td>\n",
       "      <td>240</td>\n",
       "      <td>NaN</td>\n",
       "      <td>NaN</td>\n",
       "      <td>NaN</td>\n",
       "      <td>NaN</td>\n",
       "      <td>1</td>\n",
       "      <td>800</td>\n",
       "      <td>Clear</td>\n",
       "      <td>sky is clear</td>\n",
       "      <td>01n</td>\n",
       "    </tr>\n",
       "    <tr>\n",
       "      <th>4</th>\n",
       "      <td>1420084800</td>\n",
       "      <td>2015-01-01 04:00:00 +0000 UTC</td>\n",
       "      <td>-21600</td>\n",
       "      <td>Chicago IL. USA</td>\n",
       "      <td>41.878114</td>\n",
       "      <td>-87.629798</td>\n",
       "      <td>266.47</td>\n",
       "      <td>256.50</td>\n",
       "      <td>265.35</td>\n",
       "      <td>268.121</td>\n",
       "      <td>...</td>\n",
       "      <td>240</td>\n",
       "      <td>NaN</td>\n",
       "      <td>NaN</td>\n",
       "      <td>NaN</td>\n",
       "      <td>NaN</td>\n",
       "      <td>1</td>\n",
       "      <td>800</td>\n",
       "      <td>Clear</td>\n",
       "      <td>sky is clear</td>\n",
       "      <td>01n</td>\n",
       "    </tr>\n",
       "  </tbody>\n",
       "</table>\n",
       "<p>5 rows × 25 columns</p>\n",
       "</div>"
      ],
      "text/plain": [
       "           dt                         dt_iso  timezone        city_name  \\\n",
       "0  1420070400  2015-01-01 00:00:00 +0000 UTC    -21600  Chicago IL. USA   \n",
       "1  1420074000  2015-01-01 01:00:00 +0000 UTC    -21600  Chicago IL. USA   \n",
       "2  1420077600  2015-01-01 02:00:00 +0000 UTC    -21600  Chicago IL. USA   \n",
       "3  1420081200  2015-01-01 03:00:00 +0000 UTC    -21600  Chicago IL. USA   \n",
       "4  1420084800  2015-01-01 04:00:00 +0000 UTC    -21600  Chicago IL. USA   \n",
       "\n",
       "         lat        lon    temp  feels_like  temp_min  temp_max  ...  \\\n",
       "0  41.878114 -87.629798  265.96      258.16    264.85   267.708  ...   \n",
       "1  41.878114 -87.629798  266.13      256.52    265.35   267.926  ...   \n",
       "2  41.878114 -87.629798  266.17      257.70    265.35   268.098  ...   \n",
       "3  41.878114 -87.629798  266.39      257.56    265.35   268.157  ...   \n",
       "4  41.878114 -87.629798  266.47      256.50    265.35   268.121  ...   \n",
       "\n",
       "   wind_deg  rain_1h  rain_3h  snow_1h  snow_3h  clouds_all  weather_id  \\\n",
       "0       230      NaN      NaN      NaN      NaN           1         800   \n",
       "1       230      NaN      NaN      NaN      NaN          20         801   \n",
       "2       230      NaN      NaN      NaN      NaN          20         801   \n",
       "3       240      NaN      NaN      NaN      NaN           1         800   \n",
       "4       240      NaN      NaN      NaN      NaN           1         800   \n",
       "\n",
       "   weather_main  weather_description  weather_icon  \n",
       "0         Clear         sky is clear           01n  \n",
       "1        Clouds           few clouds           02n  \n",
       "2        Clouds           few clouds           02n  \n",
       "3         Clear         sky is clear           01n  \n",
       "4         Clear         sky is clear           01n  \n",
       "\n",
       "[5 rows x 25 columns]"
      ]
     },
     "execution_count": 101,
     "metadata": {},
     "output_type": "execute_result"
    }
   ],
   "source": [
    "wx_df.head()"
   ]
  },
  {
   "cell_type": "code",
   "execution_count": 108,
   "metadata": {},
   "outputs": [
    {
     "name": "stdout",
     "output_type": "stream",
     "text": [
      "<class 'pandas.core.frame.DataFrame'>\n",
      "RangeIndex: 55219 entries, 0 to 55218\n",
      "Data columns (total 31 columns):\n",
      " #   Column               Non-Null Count  Dtype              \n",
      "---  ------               --------------  -----              \n",
      " 0   dt                   55219 non-null  int64              \n",
      " 1   dt_iso               55219 non-null  object             \n",
      " 2   timezone             55219 non-null  int64              \n",
      " 3   city_name            55219 non-null  object             \n",
      " 4   lat                  55219 non-null  float64            \n",
      " 5   lon                  55219 non-null  float64            \n",
      " 6   temp                 55219 non-null  float64            \n",
      " 7   feels_like           55219 non-null  float64            \n",
      " 8   temp_min             55219 non-null  float64            \n",
      " 9   temp_max             55219 non-null  float64            \n",
      " 10  pressure             55219 non-null  int64              \n",
      " 11  sea_level            0 non-null      float64            \n",
      " 12  grnd_level           0 non-null      float64            \n",
      " 13  humidity             55219 non-null  int64              \n",
      " 14  wind_speed           55219 non-null  float64            \n",
      " 15  wind_deg             55219 non-null  int64              \n",
      " 16  rain_1h              55219 non-null  float64            \n",
      " 17  rain_3h              55219 non-null  float64            \n",
      " 18  snow_1h              55219 non-null  float64            \n",
      " 19  snow_3h              55219 non-null  float64            \n",
      " 20  clouds_all           55219 non-null  int64              \n",
      " 21  weather_id           55219 non-null  int64              \n",
      " 22  weather_main         55219 non-null  object             \n",
      " 23  weather_description  55219 non-null  object             \n",
      " 24  weather_icon         55219 non-null  object             \n",
      " 25  time                 55219 non-null  datetime64[ns, UTC]\n",
      " 26  year                 0 non-null      float64            \n",
      " 27  month                0 non-null      float64            \n",
      " 28  day                  0 non-null      float64            \n",
      " 29  hour                 0 non-null      float64            \n",
      " 30  weekday              0 non-null      float64            \n",
      "dtypes: datetime64[ns, UTC](1), float64(18), int64(7), object(5)\n",
      "memory usage: 13.1+ MB\n"
     ]
    }
   ],
   "source": [
    "wx_df['time'] = pd.to_datetime(wx_df['dt_iso'].apply(lambda x: x[:-4]))\n",
    "wx_df.head()\n",
    "wx_df.info()"
   ]
  },
  {
   "cell_type": "code",
   "execution_count": 109,
   "metadata": {},
   "outputs": [],
   "source": [
    "wx_df['rain_3h'] = wx_df['rain_3h'].fillna(0)\n",
    "wx_df['rain_1h'] = wx_df['rain_1h'].fillna(0)\n",
    "wx_df['snow_3h'] = wx_df['snow_3h'].fillna(0)\n",
    "wx_df['snow_1h'] = wx_df['snow_1h'].fillna(0)\n",
    "wx_df['temp'] = wx_df['temp_max']\n",
    "wx_df['year'] = wx_df.time.dt.year\n",
    "wx_df['month'] = wx_df.time.dt.month\n",
    "wx_df['day'] = wx_df.time.dt.day\n",
    "wx_df['hour'] = wx_df.time.dt.hour\n",
    "wx_df['weekday'] = wx_df.time.dt.weekday"
   ]
  },
  {
   "cell_type": "code",
   "execution_count": 110,
   "metadata": {},
   "outputs": [
    {
     "data": {
      "text/html": [
       "<div>\n",
       "<style scoped>\n",
       "    .dataframe tbody tr th:only-of-type {\n",
       "        vertical-align: middle;\n",
       "    }\n",
       "\n",
       "    .dataframe tbody tr th {\n",
       "        vertical-align: top;\n",
       "    }\n",
       "\n",
       "    .dataframe thead th {\n",
       "        text-align: right;\n",
       "    }\n",
       "</style>\n",
       "<table border=\"1\" class=\"dataframe\">\n",
       "  <thead>\n",
       "    <tr style=\"text-align: right;\">\n",
       "      <th></th>\n",
       "      <th>dt</th>\n",
       "      <th>timezone</th>\n",
       "      <th>lat</th>\n",
       "      <th>lon</th>\n",
       "      <th>temp</th>\n",
       "      <th>feels_like</th>\n",
       "      <th>temp_min</th>\n",
       "      <th>temp_max</th>\n",
       "      <th>pressure</th>\n",
       "      <th>sea_level</th>\n",
       "      <th>...</th>\n",
       "      <th>rain_3h</th>\n",
       "      <th>snow_1h</th>\n",
       "      <th>snow_3h</th>\n",
       "      <th>clouds_all</th>\n",
       "      <th>weather_id</th>\n",
       "      <th>year</th>\n",
       "      <th>month</th>\n",
       "      <th>day</th>\n",
       "      <th>hour</th>\n",
       "      <th>weekday</th>\n",
       "    </tr>\n",
       "  </thead>\n",
       "  <tbody>\n",
       "    <tr>\n",
       "      <th>count</th>\n",
       "      <td>5.521900e+04</td>\n",
       "      <td>55219.000000</td>\n",
       "      <td>5.521900e+04</td>\n",
       "      <td>5.521900e+04</td>\n",
       "      <td>55219.000000</td>\n",
       "      <td>55219.000000</td>\n",
       "      <td>55219.000000</td>\n",
       "      <td>55219.000000</td>\n",
       "      <td>55219.000000</td>\n",
       "      <td>0.0</td>\n",
       "      <td>...</td>\n",
       "      <td>55219.000000</td>\n",
       "      <td>55219.000000</td>\n",
       "      <td>55219.000000</td>\n",
       "      <td>55219.000000</td>\n",
       "      <td>55219.000000</td>\n",
       "      <td>55219.000000</td>\n",
       "      <td>55219.000000</td>\n",
       "      <td>55219.000000</td>\n",
       "      <td>55219.000000</td>\n",
       "      <td>55219.000000</td>\n",
       "    </tr>\n",
       "    <tr>\n",
       "      <th>mean</th>\n",
       "      <td>1.513951e+09</td>\n",
       "      <td>-19252.525399</td>\n",
       "      <td>4.187811e+01</td>\n",
       "      <td>-8.762980e+01</td>\n",
       "      <td>285.518514</td>\n",
       "      <td>280.257647</td>\n",
       "      <td>281.898104</td>\n",
       "      <td>285.518514</td>\n",
       "      <td>1016.055542</td>\n",
       "      <td>NaN</td>\n",
       "      <td>...</td>\n",
       "      <td>0.047967</td>\n",
       "      <td>0.013533</td>\n",
       "      <td>0.001809</td>\n",
       "      <td>61.031294</td>\n",
       "      <td>750.721907</td>\n",
       "      <td>2017.485087</td>\n",
       "      <td>6.395969</td>\n",
       "      <td>15.782557</td>\n",
       "      <td>11.455894</td>\n",
       "      <td>2.998443</td>\n",
       "    </tr>\n",
       "    <tr>\n",
       "      <th>std</th>\n",
       "      <td>5.388285e+07</td>\n",
       "      <td>1714.737534</td>\n",
       "      <td>2.667402e-11</td>\n",
       "      <td>5.111691e-11</td>\n",
       "      <td>11.064564</td>\n",
       "      <td>13.182997</td>\n",
       "      <td>10.354815</td>\n",
       "      <td>11.064564</td>\n",
       "      <td>7.584028</td>\n",
       "      <td>NaN</td>\n",
       "      <td>...</td>\n",
       "      <td>0.708266</td>\n",
       "      <td>0.123137</td>\n",
       "      <td>0.066962</td>\n",
       "      <td>32.047140</td>\n",
       "      <td>112.093082</td>\n",
       "      <td>1.695629</td>\n",
       "      <td>3.444176</td>\n",
       "      <td>8.817962</td>\n",
       "      <td>6.908119</td>\n",
       "      <td>1.999746</td>\n",
       "    </tr>\n",
       "    <tr>\n",
       "      <th>min</th>\n",
       "      <td>1.420070e+09</td>\n",
       "      <td>-21600.000000</td>\n",
       "      <td>4.187811e+01</td>\n",
       "      <td>-8.762980e+01</td>\n",
       "      <td>245.370000</td>\n",
       "      <td>233.180000</td>\n",
       "      <td>242.150000</td>\n",
       "      <td>245.370000</td>\n",
       "      <td>965.000000</td>\n",
       "      <td>NaN</td>\n",
       "      <td>...</td>\n",
       "      <td>0.000000</td>\n",
       "      <td>0.000000</td>\n",
       "      <td>0.000000</td>\n",
       "      <td>0.000000</td>\n",
       "      <td>200.000000</td>\n",
       "      <td>2015.000000</td>\n",
       "      <td>1.000000</td>\n",
       "      <td>1.000000</td>\n",
       "      <td>0.000000</td>\n",
       "      <td>0.000000</td>\n",
       "    </tr>\n",
       "    <tr>\n",
       "      <th>25%</th>\n",
       "      <td>1.467211e+09</td>\n",
       "      <td>-21600.000000</td>\n",
       "      <td>4.187811e+01</td>\n",
       "      <td>-8.762980e+01</td>\n",
       "      <td>276.480000</td>\n",
       "      <td>269.890000</td>\n",
       "      <td>274.150000</td>\n",
       "      <td>276.480000</td>\n",
       "      <td>1011.000000</td>\n",
       "      <td>NaN</td>\n",
       "      <td>...</td>\n",
       "      <td>0.000000</td>\n",
       "      <td>0.000000</td>\n",
       "      <td>0.000000</td>\n",
       "      <td>40.000000</td>\n",
       "      <td>800.000000</td>\n",
       "      <td>2016.000000</td>\n",
       "      <td>3.000000</td>\n",
       "      <td>8.000000</td>\n",
       "      <td>5.000000</td>\n",
       "      <td>1.000000</td>\n",
       "    </tr>\n",
       "    <tr>\n",
       "      <th>50%</th>\n",
       "      <td>1.514524e+09</td>\n",
       "      <td>-18000.000000</td>\n",
       "      <td>4.187811e+01</td>\n",
       "      <td>-8.762980e+01</td>\n",
       "      <td>285.193000</td>\n",
       "      <td>279.250000</td>\n",
       "      <td>281.161000</td>\n",
       "      <td>285.193000</td>\n",
       "      <td>1016.000000</td>\n",
       "      <td>NaN</td>\n",
       "      <td>...</td>\n",
       "      <td>0.000000</td>\n",
       "      <td>0.000000</td>\n",
       "      <td>0.000000</td>\n",
       "      <td>75.000000</td>\n",
       "      <td>802.000000</td>\n",
       "      <td>2017.000000</td>\n",
       "      <td>6.000000</td>\n",
       "      <td>16.000000</td>\n",
       "      <td>11.000000</td>\n",
       "      <td>3.000000</td>\n",
       "    </tr>\n",
       "    <tr>\n",
       "      <th>75%</th>\n",
       "      <td>1.560530e+09</td>\n",
       "      <td>-18000.000000</td>\n",
       "      <td>4.187811e+01</td>\n",
       "      <td>-8.762980e+01</td>\n",
       "      <td>295.150000</td>\n",
       "      <td>291.900000</td>\n",
       "      <td>290.950000</td>\n",
       "      <td>295.150000</td>\n",
       "      <td>1021.000000</td>\n",
       "      <td>NaN</td>\n",
       "      <td>...</td>\n",
       "      <td>0.000000</td>\n",
       "      <td>0.000000</td>\n",
       "      <td>0.000000</td>\n",
       "      <td>90.000000</td>\n",
       "      <td>803.000000</td>\n",
       "      <td>2019.000000</td>\n",
       "      <td>9.000000</td>\n",
       "      <td>23.000000</td>\n",
       "      <td>17.000000</td>\n",
       "      <td>5.000000</td>\n",
       "    </tr>\n",
       "    <tr>\n",
       "      <th>max</th>\n",
       "      <td>1.606864e+09</td>\n",
       "      <td>-18000.000000</td>\n",
       "      <td>4.187811e+01</td>\n",
       "      <td>-8.762980e+01</td>\n",
       "      <td>311.480000</td>\n",
       "      <td>309.890000</td>\n",
       "      <td>306.132000</td>\n",
       "      <td>311.480000</td>\n",
       "      <td>1044.000000</td>\n",
       "      <td>NaN</td>\n",
       "      <td>...</td>\n",
       "      <td>35.000000</td>\n",
       "      <td>8.400000</td>\n",
       "      <td>6.000000</td>\n",
       "      <td>100.000000</td>\n",
       "      <td>804.000000</td>\n",
       "      <td>2020.000000</td>\n",
       "      <td>12.000000</td>\n",
       "      <td>31.000000</td>\n",
       "      <td>23.000000</td>\n",
       "      <td>6.000000</td>\n",
       "    </tr>\n",
       "  </tbody>\n",
       "</table>\n",
       "<p>8 rows × 25 columns</p>\n",
       "</div>"
      ],
      "text/plain": [
       "                 dt      timezone           lat           lon          temp  \\\n",
       "count  5.521900e+04  55219.000000  5.521900e+04  5.521900e+04  55219.000000   \n",
       "mean   1.513951e+09 -19252.525399  4.187811e+01 -8.762980e+01    285.518514   \n",
       "std    5.388285e+07   1714.737534  2.667402e-11  5.111691e-11     11.064564   \n",
       "min    1.420070e+09 -21600.000000  4.187811e+01 -8.762980e+01    245.370000   \n",
       "25%    1.467211e+09 -21600.000000  4.187811e+01 -8.762980e+01    276.480000   \n",
       "50%    1.514524e+09 -18000.000000  4.187811e+01 -8.762980e+01    285.193000   \n",
       "75%    1.560530e+09 -18000.000000  4.187811e+01 -8.762980e+01    295.150000   \n",
       "max    1.606864e+09 -18000.000000  4.187811e+01 -8.762980e+01    311.480000   \n",
       "\n",
       "         feels_like      temp_min      temp_max      pressure  sea_level  ...  \\\n",
       "count  55219.000000  55219.000000  55219.000000  55219.000000        0.0  ...   \n",
       "mean     280.257647    281.898104    285.518514   1016.055542        NaN  ...   \n",
       "std       13.182997     10.354815     11.064564      7.584028        NaN  ...   \n",
       "min      233.180000    242.150000    245.370000    965.000000        NaN  ...   \n",
       "25%      269.890000    274.150000    276.480000   1011.000000        NaN  ...   \n",
       "50%      279.250000    281.161000    285.193000   1016.000000        NaN  ...   \n",
       "75%      291.900000    290.950000    295.150000   1021.000000        NaN  ...   \n",
       "max      309.890000    306.132000    311.480000   1044.000000        NaN  ...   \n",
       "\n",
       "            rain_3h       snow_1h       snow_3h    clouds_all    weather_id  \\\n",
       "count  55219.000000  55219.000000  55219.000000  55219.000000  55219.000000   \n",
       "mean       0.047967      0.013533      0.001809     61.031294    750.721907   \n",
       "std        0.708266      0.123137      0.066962     32.047140    112.093082   \n",
       "min        0.000000      0.000000      0.000000      0.000000    200.000000   \n",
       "25%        0.000000      0.000000      0.000000     40.000000    800.000000   \n",
       "50%        0.000000      0.000000      0.000000     75.000000    802.000000   \n",
       "75%        0.000000      0.000000      0.000000     90.000000    803.000000   \n",
       "max       35.000000      8.400000      6.000000    100.000000    804.000000   \n",
       "\n",
       "               year         month           day          hour       weekday  \n",
       "count  55219.000000  55219.000000  55219.000000  55219.000000  55219.000000  \n",
       "mean    2017.485087      6.395969     15.782557     11.455894      2.998443  \n",
       "std        1.695629      3.444176      8.817962      6.908119      1.999746  \n",
       "min     2015.000000      1.000000      1.000000      0.000000      0.000000  \n",
       "25%     2016.000000      3.000000      8.000000      5.000000      1.000000  \n",
       "50%     2017.000000      6.000000     16.000000     11.000000      3.000000  \n",
       "75%     2019.000000      9.000000     23.000000     17.000000      5.000000  \n",
       "max     2020.000000     12.000000     31.000000     23.000000      6.000000  \n",
       "\n",
       "[8 rows x 25 columns]"
      ]
     },
     "execution_count": 110,
     "metadata": {},
     "output_type": "execute_result"
    }
   ],
   "source": [
    "wx_df.describe()"
   ]
  },
  {
   "cell_type": "code",
   "execution_count": 111,
   "metadata": {},
   "outputs": [],
   "source": [
    "try:\n",
    "    wx_df = wx_df.drop(columns=['dt', \n",
    "                        'dt_iso', \n",
    "                        'timezone', \n",
    "                        'city_name', \n",
    "                        'lat', \n",
    "                        'lon', \n",
    "                        'feels_like', \n",
    "                        'temp_min', \n",
    "                        'temp_max',\n",
    "                        'pressure',\n",
    "                        'sea_level',\n",
    "                        'grnd_level',\n",
    "                        'humidity',\n",
    "                        'wind_speed',\n",
    "                        'wind_deg',\n",
    "                        'clouds_all',\n",
    "                        'weather_description',\n",
    "                        'weather_icon',\n",
    "                        'weather_id',\n",
    "                        'weather_main',\n",
    "                       ], axis=1)\n",
    "except:\n",
    "    print('Failed')"
   ]
  },
  {
   "cell_type": "code",
   "execution_count": 135,
   "metadata": {},
   "outputs": [
    {
     "name": "stdout",
     "output_type": "stream",
     "text": [
      "51888\n",
      "0\n",
      "Total hours in 6 years: 52596.0\n",
      "Unique entries: 51888\n",
      "\n",
      "2015-01-01 00:00:00+00:00 2020-12-01 23:00:00+00:00\n",
      "Total hours in 6 years (-1 mos): 51852.0\n"
     ]
    }
   ],
   "source": [
    "print(len(wx_df))\n",
    "print(wx_df.duplicated().sum())\n",
    "\n",
    "\n",
    "print('Total hours in 6 years:', 365.25 * 24 * 6)\n",
    "print('Unique entries:', len(wx_df.drop_duplicates()))  \n",
    "# missing a few entries (700+ out of 52k)  Am I missing a month??\n",
    "\n",
    "print()\n",
    "print(wx_df.time.min(), wx_df.time.max())  # OH!!!!  I am missin last month\n",
    "print('Total hours in 6 years (-1 mos):', 365.25 * 24 * 6 - 31 * 24)  # okay, we are only missing a few\n",
    "\n",
    "\n",
    "wx_df.drop_duplicates(inplace=True)"
   ]
  },
  {
   "cell_type": "code",
   "execution_count": 136,
   "metadata": {},
   "outputs": [
    {
     "name": "stdout",
     "output_type": "stream",
     "text": [
      "[('daily_violations',), ('intersction_locations',), ('intersection_cams',), ('signal_crashes',), ('cam_locations',), ('cam_startend',), ('hourly_congestion',), ('hourly_weather',)]\n"
     ]
    }
   ],
   "source": [
    "make_table(wx_df, 'hourly_weather', c, conn)"
   ]
  },
  {
   "cell_type": "markdown",
   "metadata": {},
   "source": [
    "## 8) Create TABLE region_data from region_df"
   ]
  },
  {
   "cell_type": "code",
   "execution_count": 141,
   "metadata": {},
   "outputs": [],
   "source": [
    "# THis time we only grab what we need\n",
    "\n",
    "region_df = client.get(\"kf7e-cur8\", # regional congestion current data\n",
    "                         select='region_id, region, description, north, south, east, west',\n",
    "                         limit=1000\n",
    "                    )\n",
    "\n",
    "# Convert to pandas DataFrame\n",
    "region_df = pd.DataFrame.from_records(region_df)  # should only return most recent for each region"
   ]
  },
  {
   "cell_type": "code",
   "execution_count": 145,
   "metadata": {},
   "outputs": [],
   "source": [
    "region_df = region_df.groupby('region_id').max().reset_index()"
   ]
  },
  {
   "cell_type": "code",
   "execution_count": 146,
   "metadata": {},
   "outputs": [
    {
     "data": {
      "text/html": [
       "<div>\n",
       "<style scoped>\n",
       "    .dataframe tbody tr th:only-of-type {\n",
       "        vertical-align: middle;\n",
       "    }\n",
       "\n",
       "    .dataframe tbody tr th {\n",
       "        vertical-align: top;\n",
       "    }\n",
       "\n",
       "    .dataframe thead th {\n",
       "        text-align: right;\n",
       "    }\n",
       "</style>\n",
       "<table border=\"1\" class=\"dataframe\">\n",
       "  <thead>\n",
       "    <tr style=\"text-align: right;\">\n",
       "      <th></th>\n",
       "      <th>region_id</th>\n",
       "      <th>region</th>\n",
       "      <th>description</th>\n",
       "      <th>north</th>\n",
       "      <th>south</th>\n",
       "      <th>east</th>\n",
       "      <th>west</th>\n",
       "    </tr>\n",
       "  </thead>\n",
       "  <tbody>\n",
       "    <tr>\n",
       "      <th>0</th>\n",
       "      <td>1</td>\n",
       "      <td>Rogers Park - West Ridge</td>\n",
       "      <td>North of Devon. Kedzie to Lake Shore</td>\n",
       "      <td>42.026444</td>\n",
       "      <td>41.997946</td>\n",
       "      <td>-87.654561</td>\n",
       "      <td>-87.709645</td>\n",
       "    </tr>\n",
       "    <tr>\n",
       "      <th>1</th>\n",
       "      <td>10</td>\n",
       "      <td>Humboldt-Garfield Prk E/W</td>\n",
       "      <td>Roosevelt to North Ave. Cicero to Rockwell</td>\n",
       "      <td>41.909269</td>\n",
       "      <td>41.866129</td>\n",
       "      <td>-87.691617</td>\n",
       "      <td>-87.747456</td>\n",
       "    </tr>\n",
       "    <tr>\n",
       "      <th>2</th>\n",
       "      <td>11</td>\n",
       "      <td>West Town-Near West</td>\n",
       "      <td>Roosevelt to North. Rockwell to Halsted</td>\n",
       "      <td>41.910561</td>\n",
       "      <td>41.866129</td>\n",
       "      <td>-87.647208</td>\n",
       "      <td>-87.691617</td>\n",
       "    </tr>\n",
       "    <tr>\n",
       "      <th>3</th>\n",
       "      <td>12</td>\n",
       "      <td>Near North</td>\n",
       "      <td>Wacker to North. Halsted to  Michigan</td>\n",
       "      <td>41.911401</td>\n",
       "      <td>41.88886</td>\n",
       "      <td>-87.62308</td>\n",
       "      <td>-87.647208</td>\n",
       "    </tr>\n",
       "    <tr>\n",
       "      <th>4</th>\n",
       "      <td>13</td>\n",
       "      <td>Chicago Loop</td>\n",
       "      <td>Roosevelt to Wacker: Halsted to Michigan</td>\n",
       "      <td>41.88886</td>\n",
       "      <td>41.866129</td>\n",
       "      <td>-87.62308</td>\n",
       "      <td>-87.647208</td>\n",
       "    </tr>\n",
       "  </tbody>\n",
       "</table>\n",
       "</div>"
      ],
      "text/plain": [
       "  region_id                     region  \\\n",
       "0         1   Rogers Park - West Ridge   \n",
       "1        10  Humboldt-Garfield Prk E/W   \n",
       "2        11        West Town-Near West   \n",
       "3        12                 Near North   \n",
       "4        13               Chicago Loop   \n",
       "\n",
       "                                  description      north      south  \\\n",
       "0        North of Devon. Kedzie to Lake Shore  42.026444  41.997946   \n",
       "1  Roosevelt to North Ave. Cicero to Rockwell  41.909269  41.866129   \n",
       "2     Roosevelt to North. Rockwell to Halsted  41.910561  41.866129   \n",
       "3       Wacker to North. Halsted to  Michigan  41.911401   41.88886   \n",
       "4    Roosevelt to Wacker: Halsted to Michigan   41.88886  41.866129   \n",
       "\n",
       "         east        west  \n",
       "0  -87.654561  -87.709645  \n",
       "1  -87.691617  -87.747456  \n",
       "2  -87.647208  -87.691617  \n",
       "3   -87.62308  -87.647208  \n",
       "4   -87.62308  -87.647208  "
      ]
     },
     "execution_count": 146,
     "metadata": {},
     "output_type": "execute_result"
    }
   ],
   "source": [
    "region_df.head()"
   ]
  },
  {
   "cell_type": "markdown",
   "metadata": {},
   "source": [
    "### Add region to my crash df"
   ]
  },
  {
   "cell_type": "code",
   "execution_count": 158,
   "metadata": {},
   "outputs": [],
   "source": [
    "# add in the region for my crashes\n",
    "crash_df.columns\n",
    "\n",
    "\n",
    "def which_region(lat, long, region_df):\n",
    "    #print(lat, long)\n",
    "    row = region_df[(region_df['east'] >= long) &\n",
    "                    (region_df['west'] < long) &\n",
    "                    (region_df['north'] >= lat) &\n",
    "                    (region_df['south'] < lat)]['region_id'].max()\n",
    "    return row\n",
    "\n",
    "#df.iloc[:5]\n",
    "# takes some 5min\n",
    "crash_df['region_id'] = crash_df.apply(lambda x: which_region(x.latitude, x.longitude, region_df), axis=1)"
   ]
  },
  {
   "cell_type": "code",
   "execution_count": 162,
   "metadata": {},
   "outputs": [],
   "source": [
    "len(crash_df)\n",
    "crash_df.columns\n",
    "\n",
    "crash_df['time'] = pd.to_datetime(crash_df.crash_date)\n",
    "crash_df['year'] = crash_df.time.dt.year\n",
    "crash_df['month'] = crash_df.time.dt.month\n",
    "crash_df['day'] = crash_df.time.dt.day\n",
    "crash_df['hour'] = crash_df.time.dt.hour\n",
    "crash_df['weekday'] = crash_df.time.dt.weekday"
   ]
  },
  {
   "cell_type": "code",
   "execution_count": 163,
   "metadata": {},
   "outputs": [
    {
     "name": "stdout",
     "output_type": "stream",
     "text": [
      "[('daily_violations',), ('intersction_locations',), ('intersection_cams',), ('cam_locations',), ('cam_startend',), ('hourly_congestion',), ('hourly_weather',), ('all_crashes',), ('signal_crashes',), ('region_data',)]\n",
      "[('daily_violations',), ('intersction_locations',), ('intersection_cams',), ('cam_locations',), ('cam_startend',), ('hourly_congestion',), ('hourly_weather',), ('all_crashes',), ('region_data',), ('signal_crashes',)]\n"
     ]
    }
   ],
   "source": [
    "make_table(region_df, 'region_data', c, conn)\n",
    "make_table(crash_df, 'signal_crashes', c, conn)  # also update my crash data"
   ]
  },
  {
   "cell_type": "markdown",
   "metadata": {},
   "source": [
    "### Use this code to test any of your tables for proper data storage"
   ]
  },
  {
   "cell_type": "code",
   "execution_count": 137,
   "metadata": {},
   "outputs": [
    {
     "name": "stdout",
     "output_type": "stream",
     "text": [
      "[('2763', 4), ('2552', 5), ('2764', 4), ('1503', 3), ('2141', 3)]\n",
      "572318\n"
     ]
    }
   ],
   "source": [
    "query = c.execute(\"SELECT camera_id, violations FROM daily_violations;\").fetchall()\n",
    "print(query[:5])\n",
    "print(len(query))"
   ]
  },
  {
   "cell_type": "markdown",
   "metadata": {},
   "source": [
    "## Before I go, I want to add intersections to my crashes to link the db tables"
   ]
  },
  {
   "cell_type": "code",
   "execution_count": 7,
   "metadata": {},
   "outputs": [
    {
     "data": {
      "text/plain": [
       "[('daily_violations',),\n",
       " ('intersction_locations',),\n",
       " ('intersection_cams',),\n",
       " ('cam_locations',),\n",
       " ('cam_startend',),\n",
       " ('hourly_congestion',),\n",
       " ('hourly_weather',),\n",
       " ('all_crashes',),\n",
       " ('region_data',),\n",
       " ('signal_crashes',)]"
      ]
     },
     "execution_count": 7,
     "metadata": {},
     "output_type": "execute_result"
    }
   ],
   "source": [
    "sql_fetch_tables(c, conn)"
   ]
  },
  {
   "cell_type": "code",
   "execution_count": 35,
   "metadata": {},
   "outputs": [],
   "source": [
    "df = pd.read_sql_query(\"SELECT * FROM signal_crashes\", conn)\n",
    "camloc_df = pd.read_sql_query('SELECT * FROM cam_locations', conn)\n",
    "ints_df = pd.read_sql_query('SELECT * FROM intersection_cams', conn)\n"
   ]
  },
  {
   "cell_type": "code",
   "execution_count": 36,
   "metadata": {},
   "outputs": [
    {
     "data": {
      "text/plain": [
       "array([41.69246536, 41.68519006, 41.67792339, 41.8384384 , 41.83853402,\n",
       "       41.83018725, 41.80837841, 41.7936228 , 41.79398135, 41.79331333,\n",
       "       41.78000828, 41.76501831, 41.75809218, 41.75075116, 41.749952  ,\n",
       "       41.74431587, 41.73615755, 41.72244946, 41.71432334, 41.94537336,\n",
       "       41.79875821, 41.79245526, 41.8085116 , 41.77957044, 41.73589862,\n",
       "       41.72132441, 41.83773267, 41.932484  , 41.90345532, 41.92519389,\n",
       "       41.954491  , 41.96902343, 41.88156417, 41.94587968, 41.95316377,\n",
       "       41.93944056, 41.84845863, 41.99829823, 41.99766952, 41.93220539,\n",
       "       41.99055208, 41.86736269, 41.9459851 , 41.93868378, 41.89496229,\n",
       "       41.93138598, 41.9240902 , 41.95329285, 41.88783874, 41.97653221,\n",
       "       41.85165437, 41.89674435, 41.80772702, 41.94616352, 41.91704199,\n",
       "       41.89511222, 41.93164142, 41.92434704, 41.87324546, 41.81672939,\n",
       "       41.90973389, 41.99000801, 41.88187971, 41.92559762, 41.95448757,\n",
       "       41.89104457, 41.7915802 , 41.91623534, 41.76580035, 41.72215394,\n",
       "       41.77922692, 41.93239416, 41.92573171, 41.92513494, 41.93124862,\n",
       "       41.93228718, 41.90329879, 41.94673476, 41.97539461, 41.953838  ,\n",
       "       41.9682264 , 41.97643192, 41.97576257, 41.97579142, 41.92378619,\n",
       "       41.79413322, 41.92370819, 41.70702632, 41.7796575 , 41.74326449,\n",
       "       41.72136506, 41.90374556, 41.92556279, 41.88181563, 41.91102851,\n",
       "       41.88528264, 41.88089727, 41.93810548, 41.99701892, 41.9856498 ,\n",
       "       41.91016285, 41.9538663 , 41.95402905, 41.95302475, 41.75171656,\n",
       "       41.72257947, 41.84442483, 41.8373395 , 41.80822625, 41.77908151,\n",
       "       41.76449743, 41.91751102, 41.932106  , 41.99384144, 41.91018141,\n",
       "       41.73637604, 41.8869968 , 41.94090916, 41.9242158 , 41.88048075,\n",
       "       41.88929722, 41.96804801, 41.96872435, 41.99445   , 41.88035456,\n",
       "       41.8812705 , 41.87839012, 41.89343227, 41.97535027, 41.99746398,\n",
       "       41.96061723, 41.96142173, 41.97515372, 41.84806885, 41.82309676,\n",
       "       41.99060901, 41.77876739, 41.74967936, 41.80236597, 41.91727507,\n",
       "       41.93920375, 41.89547675, 41.93189772, 41.9027139 , 41.97564062,\n",
       "       41.92459302, 41.95375687, 41.96835128, 41.9610558 , 41.90999558,\n",
       "       41.99024419, 41.98929863, 41.8672631 , 41.86614087, 41.866281  ,\n",
       "       41.89570452, 41.88401218, 41.97650512, 41.75091814, 41.75689717,\n",
       "       41.75161152, 41.7732929 , 42.01166176, 41.87619197, 41.692161  ,\n",
       "       41.8398011 , 41.80125749, 41.77933184, 41.76481039, 41.75022017,\n",
       "       41.94683999, 41.91760382, 41.85214131, 41.89585104, 41.99781781,\n",
       "       41.97600019, 41.92493594, 41.77208621, 41.91042986, 42.00507612,\n",
       "       42.01237133])"
      ]
     },
     "execution_count": 36,
     "metadata": {},
     "output_type": "execute_result"
    }
   ],
   "source": [
    "#ints_df.astype({'longitude':float})\n"
   ]
  },
  {
   "cell_type": "code",
   "execution_count": 39,
   "metadata": {},
   "outputs": [
    {
     "name": "stdout",
     "output_type": "stream",
     "text": [
      "None\n",
      "WESTERN AND 79TH\n",
      "None\n",
      "None\n",
      "None\n"
     ]
    }
   ],
   "source": [
    "# Now I am desperate.  This takes too long to process.  Let's simplify it and make it a box instead.\n",
    "box_side = 50  # effectively makes it check for crash being within 25m of interscection\n",
    "box_lat = box_side / 111070 / 2 # 111070 is meters in deg lat in Chicago\n",
    "box_long = box_side / 83000 / 2 # 83000 is meters in deg long in Chicago\n",
    "\n",
    "def box_check(lat, long, ints_df):\n",
    "    answer = (ints_df[  (ints_df['latitude'] > (lat - box_lat)) & \n",
    "                      (ints_df['latitude'] < (lat + box_lat)) &\n",
    "                      (ints_df['longitude'] > (long - box_long)) &\n",
    "                      (ints_df['longitude'] < (long + box_long))\n",
    "                     ])\n",
    "    if answer.empty: return None\n",
    "    return answer['intersection'].values[0]\n",
    "    \n",
    "# THIS SEEMS TO WORK WITH SPEED AND ELIMINATES MEMORY PROBLEM\n",
    "for i in range(5): #(len(df)):\n",
    "    intersect = box_check(float(df.iloc[i]['latitude']), float(df.iloc[i]['longitude']), ints_df)\n",
    "    print(intersect)\n",
    "    \n",
    "    \n",
    "# MOMENT OF TRUTH\n",
    "#df['intersection'] = df.apply(lambda x: box_check(float(x.latitude), float(x.longitude), camloc_df), axis=1)\n",
    "\n",
    "df['intersection'] = df.apply(lambda x: box_check(float(x.latitude), float(x.longitude), ints_df), axis=1)\n"
   ]
  },
  {
   "cell_type": "code",
   "execution_count": 45,
   "metadata": {},
   "outputs": [
    {
     "name": "stdout",
     "output_type": "stream",
     "text": [
      "[('daily_violations',), ('intersction_locations',), ('intersection_cams',), ('cam_locations',), ('cam_startend',), ('hourly_congestion',), ('hourly_weather',), ('all_crashes',), ('region_data',), ('signal_crashes',)]\n"
     ]
    }
   ],
   "source": [
    "make_table(df, 'signal_crashes', c, conn)\n"
   ]
  },
  {
   "cell_type": "code",
   "execution_count": 44,
   "metadata": {},
   "outputs": [
    {
     "data": {
      "text/plain": [
       "Index(['crash_record_id', 'rd_no', 'crash_date', 'posted_speed_limit',\n",
       "       'traffic_control_device', 'device_condition', 'weather_condition',\n",
       "       'lighting_condition', 'first_crash_type', 'trafficway_type',\n",
       "       'alignment', 'roadway_surface_cond', 'road_defect', 'report_type',\n",
       "       'crash_type', 'hit_and_run_i', 'damage', 'prim_contributory_cause',\n",
       "       'sec_contributory_cause', 'street_no', 'street_direction',\n",
       "       'street_name', 'beat_of_occurrence', 'num_units', 'most_severe_injury',\n",
       "       'injuries_total', 'injuries_fatal', 'injuries_incapacitating',\n",
       "       'injuries_non_incapacitating', 'injuries_reported_not_evident',\n",
       "       'injuries_no_indication', 'injuries_unknown', 'crash_hour',\n",
       "       'crash_day_of_week', 'crash_month', 'latitude', 'longitude', 'lane_cnt',\n",
       "       'intersection_related_i', 'crash_date_est_i', 'work_zone_i',\n",
       "       'work_zone_type', 'workers_present_i', 'region_id', 'time', 'year',\n",
       "       'month', 'day', 'hour', 'weekday', 'intersection'],\n",
       "      dtype='object')"
      ]
     },
     "execution_count": 44,
     "metadata": {},
     "output_type": "execute_result"
    }
   ],
   "source": [
    "df.columns"
   ]
  },
  {
   "cell_type": "code",
   "execution_count": null,
   "metadata": {},
   "outputs": [],
   "source": []
  }
 ],
 "metadata": {
  "kernelspec": {
   "display_name": "Python 3",
   "language": "python",
   "name": "python3"
  },
  "language_info": {
   "codemirror_mode": {
    "name": "ipython",
    "version": 3
   },
   "file_extension": ".py",
   "mimetype": "text/x-python",
   "name": "python",
   "nbconvert_exporter": "python",
   "pygments_lexer": "ipython3",
   "version": "3.6.9"
  }
 },
 "nbformat": 4,
 "nbformat_minor": 4
}
